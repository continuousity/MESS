{
 "cells": [
  {
   "cell_type": "code",
   "execution_count": 46,
   "metadata": {},
   "outputs": [
    {
     "name": "stdout",
     "output_type": "stream",
     "text": [
      "The autoreload extension is already loaded. To reload it, use:\n",
      "  %reload_ext autoreload\n"
     ]
    }
   ],
   "source": [
    "%load_ext autoreload\n",
    "%autoreload 2\n",
    "\n",
    "import gimmeSAD\n",
    "import implicit_BI\n",
    "import pandas as pd\n",
    "import numpy as np"
   ]
  },
  {
   "cell_type": "code",
   "execution_count": 52,
   "metadata": {},
   "outputs": [
    {
     "name": "stdout",
     "output_type": "stream",
     "text": [
      "[10000000, 10000000, 10000000, 10000000, 10000000]\n",
      "[(0, 10000000), (1, 10000000), (2, 10000000), (3, 10000000), (4, 10000000)]\n",
      "[0.2, 0.2, 0.2, 0.2, 0.2]\n",
      "Initializing local community:\n",
      "N species = 5\n",
      "N individuals = 20\n",
      "[(0, True), (0, True), (0, True), (0, True), (0, True), (1, True), (1, True), (1, True), (1, True), (1, True), (1, True), (2, True), (2, True), (2, True), (2, True), (3, True), (3, True), (4, True), (4, True), (4, True)]\n",
      "[(2, True), (2, True), (2, True), (2, True), (2, True), (2, True), (2, True), (2, True), (2, True), (2, True), (0, False), (2, True), (2, True), (2, True), (2, True), (2, True), (2, True), (2, True), (2, True), (2, True)]\n",
      "{0: 0.62798919147399601, 1: 0.0080939620850977168, 2: 0.11359824203619218, 3: 0.74354966825930668, 4: 0.50940462275799248}\n",
      "{(0, True): 1, (0, False): 932, (3, False): 201, (3, True): 1, (2, True): 1, (1, False): 485, (4, True): 1, (1, True): 1}\n"
     ]
    }
   ],
   "source": [
    "data = implicit_BI.implicit_BI(K=20)\n",
    "data.uniform_species = 5\n",
    "data.set_metacommunity(\"uniform\", random=True)\n",
    "print(data.abundances)\n",
    "print(data.species)\n",
    "print(data.immigration_probabilities)\n",
    "data.prepopulate()\n",
    "print(data.local_community)\n",
    "data.allow_multiple_colonizations = True\n",
    "data.step(1000)\n",
    "print(data.local_community)\n",
    "print(data.species_trait_values)\n",
    "print(data.divergence_times)"
   ]
  },
  {
   "cell_type": "code",
   "execution_count": 58,
   "metadata": {},
   "outputs": [
    {
     "name": "stdout",
     "output_type": "stream",
     "text": [
      "1000 loops, best of 3: 504 µs per loop\n",
      "1000 loops, best of 3: 972 µs per loop\n"
     ]
    }
   ],
   "source": [
    "df = pd.DataFrame(np.random.randint(0,100,size=(4, 10000)))\n",
    "%timeit df.sample(1, axis=1)\n",
    "%timeit np.random.choice(list(df.iloc[1]))"
   ]
  },
  {
   "cell_type": "code",
   "execution_count": 59,
   "metadata": {},
   "outputs": [
    {
     "name": "stdout",
     "output_type": "stream",
     "text": [
      "1000 loops, best of 3: 499 µs per loop\n"
     ]
    }
   ],
   "source": [
    "tmplist = list(df.iloc[1])\n",
    "%timeit np.random.choice(tmplist, 1)"
   ]
  },
  {
   "cell_type": "code",
   "execution_count": 60,
   "metadata": {},
   "outputs": [
    {
     "name": "stdout",
     "output_type": "stream",
     "text": [
      "1000 loops, best of 3: 439 µs per loop\n"
     ]
    }
   ],
   "source": [
    "#np.zeros(len(data.abundances))\\\n",
    "tmplist = np.ones(10000)/10000\n",
    "%timeit np.random.multinomial(1, tmplist)"
   ]
  },
  {
   "cell_type": "code",
   "execution_count": 62,
   "metadata": {},
   "outputs": [
    {
     "data": {
      "text/plain": [
       "-2.287566600468023"
      ]
     },
     "execution_count": 62,
     "metadata": {},
     "output_type": "execute_result"
    }
   ],
   "source": [
    "np.sqrt(np.random.uniform(-4,4))"
   ]
  },
  {
   "cell_type": "code",
   "execution_count": 2,
   "metadata": {},
   "outputs": [
    {
     "name": "stdout",
     "output_type": "stream",
     "text": [
      "{0: 'a', 1: 'b', 2: 'c', 3: 'd'}\n"
     ]
    }
   ],
   "source": [
    "wat = {}\n",
    "wat = {x:y for x,y in enumerate(\"abcd\")}\n",
    "print(wat)"
   ]
  }
 ],
 "metadata": {
  "kernelspec": {
   "display_name": "Python 2",
   "language": "python",
   "name": "python2"
  },
  "language_info": {
   "codemirror_mode": {
    "name": "ipython",
    "version": 2
   },
   "file_extension": ".py",
   "mimetype": "text/x-python",
   "name": "python",
   "nbconvert_exporter": "python",
   "pygments_lexer": "ipython2",
   "version": "2.7.14"
  }
 },
 "nbformat": 4,
 "nbformat_minor": 2
}
