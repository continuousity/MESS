{
 "cells": [
  {
   "cell_type": "markdown",
   "metadata": {},
   "source": [
    "[FastAI Tabular data tutorial](https://docs.fast.ai/tabular.html#tabular)"
   ]
  },
  {
   "cell_type": "code",
   "execution_count": 10,
   "metadata": {},
   "outputs": [
    {
     "name": "stdout",
     "output_type": "stream",
     "text": [
      "3.6.2 |Continuum Analytics, Inc.| (default, Jul 20 2017, 13:51:32) \n",
      "[GCC 4.4.7 20120313 (Red Hat 4.4.7-1)]\n",
      "['', '/home/isaac/miniconda2/envs/momi-py36/lib/python36.zip', '/home/isaac/miniconda2/envs/momi-py36/lib/python3.6', '/home/isaac/miniconda2/envs/momi-py36/lib/python3.6/lib-dynload', '/home/isaac/miniconda2/envs/momi-py36/lib/python3.6/site-packages', '/home/isaac/miniconda2/envs/momi-py36/lib/python3.6/site-packages/IPython/extensions', '/home/isaac/.ipython']\n"
     ]
    }
   ],
   "source": [
    "%matplotlib inline\n",
    "from fastai.tabular import * \n",
    "import sys\n",
    "print(sys.version)\n",
    "print(sys.path)"
   ]
  },
  {
   "cell_type": "code",
   "execution_count": 14,
   "metadata": {},
   "outputs": [
    {
     "name": "stdout",
     "output_type": "stream",
     "text": [
      "nsims neutral 2996\n",
      "nsims filtering 2996\n",
      "nsims competition 2492\n"
     ]
    }
   ],
   "source": [
    "neut_df = pd.read_csv(\"neutral_MESS/SIMOUT.txt\", sep=\"\\t\", header=0)\n",
    "filt_df = pd.read_csv(\"filtering_MESS/SIMOUT.txt\", sep=\"\\t\", header=0)\n",
    "comp_df = pd.read_csv(\"competition_MESS/SIMOUT.txt\", sep=\"\\t\", header=0)\n",
    "\n",
    "## Label and merge the data frames of each model for classification\n",
    "neut_df = neut_df.assign(model=[\"neutral\"] * len(neut_df))\n",
    "filt_df = filt_df.assign(model=[\"filtering\"] * len(filt_df))\n",
    "comp_df = comp_df.assign(model=[\"competition\"] * len(comp_df))\n",
    "\n",
    "\n",
    "full_df = pd.concat([neut_df, filt_df, comp_df])\n",
    "df_dict = {\"neutral\":neut_df, \"filtering\":filt_df, \"competition\":comp_df}\n",
    "\n",
    "for lab, df in df_dict.items():\n",
    "    print(\"nsims {} {}\".format(lab, len(df)))"
   ]
  }
 ],
 "metadata": {
  "kernelspec": {
   "display_name": "Python 3",
   "language": "python",
   "name": "python3"
  },
  "language_info": {
   "codemirror_mode": {
    "name": "ipython",
    "version": 3
   },
   "file_extension": ".py",
   "mimetype": "text/x-python",
   "name": "python",
   "nbconvert_exporter": "python",
   "pygments_lexer": "ipython3",
   "version": "3.6.6"
  }
 },
 "nbformat": 4,
 "nbformat_minor": 2
}
