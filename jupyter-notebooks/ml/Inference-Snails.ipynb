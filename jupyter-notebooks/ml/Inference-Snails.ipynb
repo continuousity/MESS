{
 "cells": [
  {
   "cell_type": "code",
   "execution_count": 1,
   "metadata": {},
   "outputs": [],
   "source": [
    "%load_ext autoreload\n",
    "%autoreload 2\n",
    "%matplotlib inline\n",
    "import matplotlib.pyplot as plt\n",
    "import MESS\n",
    "import numpy as np\n",
    "import pandas as pd\n",
    "\n",
    "from IPython.display import display\n",
    "\n",
    "pd.set_option('display.max_rows', 500)\n",
    "pd.set_option('display.max_columns', 500)\n",
    "pd.set_option('display.width', 1000)"
   ]
  },
  {
   "cell_type": "markdown",
   "metadata": {},
   "source": [
    "## Load and curate the snail pi and trait data\n",
    "Takes a little bit of work since there are some mismatches between naming schemes and some samples in one set and not in the other, but eventually we get there."
   ]
  },
  {
   "cell_type": "code",
   "execution_count": 75,
   "metadata": {},
   "outputs": [
    {
     "data": {
      "text/html": [
       "<div>\n",
       "<style scoped>\n",
       "    .dataframe tbody tr th:only-of-type {\n",
       "        vertical-align: middle;\n",
       "    }\n",
       "\n",
       "    .dataframe tbody tr th {\n",
       "        vertical-align: top;\n",
       "    }\n",
       "\n",
       "    .dataframe thead th {\n",
       "        text-align: right;\n",
       "    }\n",
       "</style>\n",
       "<table border=\"1\" class=\"dataframe\">\n",
       "  <thead>\n",
       "    <tr style=\"text-align: right;\">\n",
       "      <th></th>\n",
       "      <th>pi</th>\n",
       "      <th>trait</th>\n",
       "    </tr>\n",
       "  </thead>\n",
       "  <tbody>\n",
       "    <tr>\n",
       "      <th>AL_N_sp1</th>\n",
       "      <td>0.008677</td>\n",
       "      <td>-0.754505</td>\n",
       "    </tr>\n",
       "    <tr>\n",
       "      <th>WF_N_elaeodes</th>\n",
       "      <td>0.010133</td>\n",
       "      <td>0.069074</td>\n",
       "    </tr>\n",
       "  </tbody>\n",
       "</table>\n",
       "</div>"
      ],
      "text/plain": [
       "                     pi     trait\n",
       "AL_N_sp1       0.008677 -0.754505\n",
       "WF_N_elaeodes  0.010133  0.069074"
      ]
     },
     "metadata": {},
     "output_type": "display_data"
    },
    {
     "data": {
      "image/png": "[encoded data removed]",
      "text/plain": [
       "<Figure size 432x288 with 1 Axes>"
      ]
     },
     "metadata": {
      "needs_background": "light"
     },
     "output_type": "display_data"
    }
   ],
   "source": [
    "sn_dir = \"/home/isaac/SGD_empirical/empirical_snails/\"\n",
    "sn_pis = pd.read_csv(sn_dir + \"snail.pis\", sep=\",\", header=0, index_col=0)\n",
    "sn_pis.columns = ['pi']\n",
    "\n",
    "## Insert the \"_N_\" in the species name for all species for agreement with\n",
    "## names in the trait table\n",
    "sn_pis.index = [x.replace(\"_\", \"_N_\") for x in sn_pis.index]\n",
    "\n",
    "sn_traits = pd.read_csv(sn_dir + \"Naesiotus_Shell_measurements.csv\", sep=\",\", index_col=0, header=0)\n",
    "## Convert width and height to volume of a cone (roughly) 1/3*pi*r^2*h\n",
    "sn_traits[\"ShellVolume\"] = (np.pi * (sn_traits[\"ShellWidth\"]/2)**2 * sn_traits[\"ShellHeight\"])/3\n",
    "\n",
    "## Fix names that don't agree between pis and traits\n",
    "sn_traits.rename(index={'PI_N_nov_sp':'PI_N_nov'},inplace=True)\n",
    "sn_traits.rename(index={'SC_N_cf_reibischi':'SC_N_reibischi'},inplace=True)\n",
    "sn_traits.rename(index={'FA_N_perrus_sp1':'FA_N_perrus'},inplace=True)\n",
    "\n",
    "## Finally drop a couple species that are in one and not the other\n",
    "sn_pis = sn_pis.drop(\"PI_N_pinzonopsis\")\n",
    "sn_traits = sn_traits.drop(['PI_N_pinzonensis', 'FA_N_perrus_sp2'])\n",
    "\n",
    "## And drop a duplicate species name from the trait index \"SC_N_reibischi\"\n",
    "sn_traits = sn_traits[sn_traits[\"ID on Phylo\"] != 'SC_N_cf_reibischi_SC14_141_5']\n",
    "\n",
    "## Join pi and trait DFs\n",
    "sn_df = pd.concat([sn_pis, sn_traits], axis=1, sort=False)\n",
    "sn_df = sn_df.drop([\"ID on Phylo\", \"ShellHeight\", \"ShellWidth\"], axis=1)\n",
    "\n",
    "## Log and zero center ShellVolume and rename the column as 'trait'\n",
    "sn_df[\"ShellVolume\"] = np.log(sn_df[\"ShellVolume\"])\n",
    "sn_df[\"ShellVolume\"] = sn_df[\"ShellVolume\"] - np.mean(sn_df[\"ShellVolume\"])\n",
    "sn_df.columns = [\"pi\", \"trait\"]\n",
    "\n",
    "## Verify roughly normally distributed\n",
    "plt.hist(sn_df[\"trait\"], bins=15)\n",
    "\n",
    "## Write to file to save\n",
    "sn_df.to_csv(sn_dir + \"snail_df.csv\")\n",
    "display(sn_df[:2])"
   ]
  },
  {
   "cell_type": "markdown",
   "metadata": {},
   "source": [
    "## Split the full data to dataframes per island\n",
    "We will split samples to 3 islands which have the most samples/species: Isabela (0.3-0.6My), San Cristobal (3.2My), and Santa Cruz (1.8My):\n",
    "\n",
    "    CA: Cerro Azul volcano on Isabela\n",
    "    SN: Sierra Negra volcano on Isabela\n",
    "    DA: Darwin volcano on Isabela\n",
    "    AL: Alcedo volcano on Isabela\n",
    "    WF: Wolf volcano on Isabela\n",
    "\n",
    "    SL: San Cristobal\n",
    "\n",
    "    SC: Santa Cruz\n"
   ]
  },
  {
   "cell_type": "code",
   "execution_count": 96,
   "metadata": {},
   "outputs": [
    {
     "name": "stdout",
     "output_type": "stream",
     "text": [
      "N species - \n",
      "\tSan Cristobal  \t7\n",
      "\tSanta Cruz  \t11\n",
      "\tIsabela  \t10\n"
     ]
    }
   ],
   "source": [
    "sl_species = [x for x in sn_df.index if \"SL\" in x]\n",
    "sc_species = [x for x in sn_df.index if \"SC\" in x]\n",
    "is_species = [x for x in sn_df.index if x.split(\"_\")[0] in [\"CA\", \"SN\", \"DA\", \"AL\", \"WF\"]]\n",
    "sl_df = sn_df.loc[sl_species, :]\n",
    "sc_df = sn_df.loc[sc_species, :]\n",
    "is_df = sn_df.loc[is_species, :]\n",
    "print(\"N species - \")\n",
    "for n, df in zip([\"San Cristobal\", \"Santa Cruz\", \"Isabela\"],\\\n",
    "                [sl_df, sc_df, is_df]):\n",
    "    print(\"\\t{}  \\t{}\".format(n, len(df)))\n"
   ]
  },
  {
   "cell_type": "markdown",
   "metadata": {},
   "source": [
    "## Estimate parameters combining all data at the archipelago scale"
   ]
  },
  {
   "cell_type": "code",
   "execution_count": 97,
   "metadata": {},
   "outputs": [
    {
     "name": "stdout",
     "output_type": "stream",
     "text": [
      "Finding best model parameters.\n",
      "Fitting 4 folds for each of 5 candidates, totalling 20 fits\n"
     ]
    },
    {
     "name": "stderr",
     "output_type": "stream",
     "text": [
      "[Parallel(n_jobs=-1)]: Using backend LokyBackend with 40 concurrent workers.\n",
      "[Parallel(n_jobs=-1)]: Done   4 out of  20 | elapsed:   11.9s remaining:   47.6s\n",
      "[Parallel(n_jobs=-1)]: Done  20 out of  20 | elapsed:   22.5s finished\n"
     ]
    },
    {
     "name": "stdout",
     "output_type": "stream",
     "text": [
      "{'n_estimators': 400, 'min_samples_split': 10, 'bootstrap': True, 'max_depth': 70, 'min_samples_leaf': 4}\n",
      "         alpha           J_m  ecological_strength         m  speciation_prob   _lambda\n",
      "0  3752.193178  2.753060e+06             5.993041  0.007367         0.000606  0.774739\n"
     ]
    }
   ],
   "source": [
    "simfile = \"/home/isaac/Continuosity/MESS/analysis/full-parameter-estimation/SIMOUT_small_speciation.txt\"\n",
    "\n",
    "rgr = MESS.inference.Regressor(empirical_df=sn_df, simfile=simfile, algorithm=\"rf\")\n",
    "rgr.predict(select_features=False, quick=True, verbose=True)"
   ]
  },
  {
   "cell_type": "markdown",
   "metadata": {},
   "source": [
    "## Estimate parameters for each of the 3 most speciose islands"
   ]
  },
  {
   "cell_type": "code",
   "execution_count": 99,
   "metadata": {},
   "outputs": [
    {
     "name": "stdout",
     "output_type": "stream",
     "text": [
      "Estimate params for San Cristobal\n",
      "Selecting features:\n",
      "  alpha\t['S', 'pi_h1', 'pi_h2', 'pi_h3', 'mean_pi', 'std_pi', 'skewness_pi', 'kurtosis_pi', 'median_pi', 'iqr_pi', 'SGD_0']\n",
      "  J_m\t['S', 'SGD_0']\n",
      "  ecological_strength\t[]\n",
      "  m\t['S', 'mean_pi', 'std_pi', 'SGD_0', 'SGD_5']\n",
      "  speciation_prob\t[]\n",
      "  _lambda\t['S', 'pi_h1', 'pi_h2', 'pi_h3', 'pi_h4', 'mean_pi', 'std_pi', 'kurtosis_pi', 'SGD_0']\n",
      "All selected features: S pi_h1 pi_h2 pi_h3 pi_h4 mean_pi std_pi skewness_pi kurtosis_pi median_pi iqr_pi SGD_0 SGD_5\n",
      "Finding best model parameters.\n",
      "Fitting 4 folds for each of 100 candidates, totalling 400 fits\n"
     ]
    },
    {
     "name": "stderr",
     "output_type": "stream",
     "text": [
      "[Parallel(n_jobs=-1)]: Using backend LokyBackend with 40 concurrent workers.\n",
      "[Parallel(n_jobs=-1)]: Done 120 tasks      | elapsed: 35.4min\n",
      "[Parallel(n_jobs=-1)]: Done 400 out of 400 | elapsed: 98.6min finished\n"
     ]
    },
    {
     "name": "stdout",
     "output_type": "stream",
     "text": [
      "{'n_estimators': 1600, 'min_samples_split': 10, 'bootstrap': True, 'max_depth': 10, 'min_samples_leaf': 2}\n",
      "         alpha           J_m  ecological_strength         m  speciation_prob   _lambda\n",
      "0  3547.472862  2.924522e+06             5.976448  0.002184         0.000331  0.633052\n",
      "Estimate params for Santa Cruz\n",
      "Selecting features:\n",
      "  alpha\t['S', 'pi_h1', 'pi_h2', 'pi_h3', 'mean_pi', 'std_pi', 'skewness_pi', 'kurtosis_pi', 'median_pi', 'iqr_pi', 'SGD_0']\n",
      "  J_m\t['S', 'SGD_0']\n",
      "  ecological_strength\t[]\n",
      "  m\t['S', 'mean_pi', 'std_pi', 'SGD_0', 'SGD_5']\n",
      "  speciation_prob\t[]\n",
      "  _lambda\t['S', 'pi_h1', 'pi_h2', 'pi_h3', 'pi_h4', 'mean_pi', 'std_pi', 'kurtosis_pi', 'SGD_0']\n",
      "All selected features: S pi_h1 pi_h2 pi_h3 pi_h4 mean_pi std_pi skewness_pi kurtosis_pi median_pi iqr_pi SGD_0 SGD_5\n",
      "Finding best model parameters.\n",
      "Fitting 4 folds for each of 100 candidates, totalling 400 fits\n"
     ]
    },
    {
     "name": "stderr",
     "output_type": "stream",
     "text": [
      "[Parallel(n_jobs=-1)]: Using backend LokyBackend with 40 concurrent workers.\n",
      "[Parallel(n_jobs=-1)]: Done 120 tasks      | elapsed: 16.9min\n",
      "[Parallel(n_jobs=-1)]: Done 400 out of 400 | elapsed: 50.0min finished\n"
     ]
    },
    {
     "name": "stdout",
     "output_type": "stream",
     "text": [
      "{'n_estimators': 2000, 'min_samples_split': 2, 'bootstrap': True, 'max_depth': 10, 'min_samples_leaf': 1}\n",
      "         alpha           J_m  ecological_strength         m  speciation_prob   _lambda\n",
      "0  3873.955585  2.531299e+06             6.243766  0.002489          0.00032  0.721951\n",
      "Estimate params for Isabela\n",
      "Selecting features:\n",
      "  alpha\t['S', 'pi_h1', 'pi_h2', 'pi_h3', 'mean_pi', 'std_pi', 'skewness_pi', 'kurtosis_pi', 'median_pi', 'iqr_pi', 'SGD_0']\n",
      "  J_m\t['S', 'SGD_0']\n",
      "  ecological_strength\t[]\n",
      "  m\t['S', 'mean_pi', 'std_pi', 'SGD_0', 'SGD_5']\n",
      "  speciation_prob\t[]\n",
      "  _lambda\t['S', 'pi_h1', 'pi_h2', 'pi_h3', 'pi_h4', 'mean_pi', 'std_pi', 'kurtosis_pi', 'SGD_0']\n",
      "All selected features: S pi_h1 pi_h2 pi_h3 pi_h4 mean_pi std_pi skewness_pi kurtosis_pi median_pi iqr_pi SGD_0 SGD_5\n",
      "Finding best model parameters.\n",
      "Fitting 4 folds for each of 100 candidates, totalling 400 fits\n"
     ]
    },
    {
     "name": "stderr",
     "output_type": "stream",
     "text": [
      "[Parallel(n_jobs=-1)]: Using backend LokyBackend with 40 concurrent workers.\n",
      "[Parallel(n_jobs=-1)]: Done 120 tasks      | elapsed: 14.8min\n",
      "[Parallel(n_jobs=-1)]: Done 400 out of 400 | elapsed: 50.6min finished\n"
     ]
    },
    {
     "name": "stdout",
     "output_type": "stream",
     "text": [
      "{'n_estimators': 800, 'min_samples_split': 2, 'bootstrap': True, 'max_depth': 10, 'min_samples_leaf': 2}\n",
      "         alpha           J_m  ecological_strength         m  speciation_prob   _lambda\n",
      "0  3795.216974  2.602775e+06             5.904545  0.002972         0.000334  0.736289\n"
     ]
    }
   ],
   "source": [
    "for n, df in zip([\"San Cristobal\", \"Santa Cruz\", \"Isabela\"],\\\n",
    "                [sl_df, sc_df, is_df]):\n",
    "    print(\"Estimate params for {}\".format(n))\n",
    "    rgr = MESS.inference.Regressor(empirical_df=df, simfile=simfile, algorithm=\"rf\")\n",
    "    rgr.predict(select_features=True, quick=False, verbose=True)"
   ]
  },
  {
   "cell_type": "code",
   "execution_count": null,
   "metadata": {},
   "outputs": [],
   "source": []
  }
 ],
 "metadata": {
  "kernelspec": {
   "display_name": "Python 2",
   "language": "python",
   "name": "python2"
  },
  "language_info": {
   "codemirror_mode": {
    "name": "ipython",
    "version": 2
   },
   "file_extension": ".py",
   "mimetype": "text/x-python",
   "name": "python",
   "nbconvert_exporter": "python",
   "pygments_lexer": "ipython2",
   "version": "2.7.15"
  }
 },
 "nbformat": 4,
 "nbformat_minor": 2
}
