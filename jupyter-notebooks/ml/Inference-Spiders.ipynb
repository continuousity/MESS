{
 "cells": [
  {
   "cell_type": "code",
   "execution_count": 1,
   "metadata": {},
   "outputs": [],
   "source": [
    "%load_ext autoreload\n",
    "%autoreload 2\n",
    "%matplotlib inline\n",
    "import matplotlib.pyplot as plt\n",
    "import MESS\n",
    "import numpy as np\n",
    "import pandas as pd\n",
    "\n",
    "from IPython.display import display\n",
    "\n",
    "pd.set_option('display.max_rows', 500)\n",
    "pd.set_option('display.max_columns', 500)\n",
    "pd.set_option('display.width', 1000)"
   ]
  },
  {
   "cell_type": "markdown",
   "metadata": {},
   "source": [
    "## Use the Reunion spider data for testing\n",
    "First quickly munge the spider data into the form we need."
   ]
  },
  {
   "cell_type": "code",
   "execution_count": 2,
   "metadata": {},
   "outputs": [
    {
     "data": {
      "text/html": [
       "<div>\n",
       "<style scoped>\n",
       "    .dataframe tbody tr th:only-of-type {\n",
       "        vertical-align: middle;\n",
       "    }\n",
       "\n",
       "    .dataframe tbody tr th {\n",
       "        vertical-align: top;\n",
       "    }\n",
       "\n",
       "    .dataframe thead th {\n",
       "        text-align: right;\n",
       "    }\n",
       "</style>\n",
       "<table border=\"1\" class=\"dataframe\">\n",
       "  <thead>\n",
       "    <tr style=\"text-align: right;\">\n",
       "      <th></th>\n",
       "      <th>abundance</th>\n",
       "      <th>pi</th>\n",
       "    </tr>\n",
       "  </thead>\n",
       "  <tbody>\n",
       "    <tr>\n",
       "      <th>GL-01a</th>\n",
       "      <td>150</td>\n",
       "      <td>0.011126</td>\n",
       "    </tr>\n",
       "    <tr>\n",
       "      <th>GL-01b</th>\n",
       "      <td>107</td>\n",
       "      <td>0.023247</td>\n",
       "    </tr>\n",
       "    <tr>\n",
       "      <th>GL-01c</th>\n",
       "      <td>32</td>\n",
       "      <td>0.000252</td>\n",
       "    </tr>\n",
       "    <tr>\n",
       "      <th>GL-02</th>\n",
       "      <td>2</td>\n",
       "      <td>0.000000</td>\n",
       "    </tr>\n",
       "    <tr>\n",
       "      <th>GL-03</th>\n",
       "      <td>200</td>\n",
       "      <td>0.028499</td>\n",
       "    </tr>\n",
       "  </tbody>\n",
       "</table>\n",
       "</div>"
      ],
      "text/plain": [
       "        abundance        pi\n",
       "GL-01a        150  0.011126\n",
       "GL-01b        107  0.023247\n",
       "GL-01c         32  0.000252\n",
       "GL-02           2  0.000000\n",
       "GL-03         200  0.028499"
      ]
     },
     "execution_count": 2,
     "metadata": {},
     "output_type": "execute_result"
    }
   ],
   "source": [
    "sp_dir = \"/home/isaac/SGD_empirical/empirical_reunion_spiders/\"\n",
    "sp_abunds = pd.read_csv(sp_dir + \"spider_abunds_df.txt\", index_col=0, header=0)\n",
    "sp_pis = pd.read_csv(sp_dir + \"spider.pis\", sep=\" \", index_col=1, header=None)\n",
    "sp_pis.index = [x.split(\"/\")[1].split(\".\")[0] for x in sp_pis.index]\n",
    "sp_df = pd.concat([sp_abunds, sp_pis], axis=1, sort=False)\n",
    "sp_df.columns = [\"abundance\", \"pi\"]\n",
    "sp_df.to_csv(sp_dir + \"spider.dat\", header=True)\n",
    "sp_df[:5]"
   ]
  },
  {
   "cell_type": "code",
   "execution_count": null,
   "metadata": {},
   "outputs": [
    {
     "name": "stdout",
     "output_type": "stream",
     "text": [
      "Selecting features:\n",
      "  alpha\t['S', 'abund_h1', 'abund_h2', 'abund_h3', 'abund_h4', 'pi_h1', 'pi_h2', 'pi_h3', 'pi_h4', 'mean_pi', 'std_pi', 'skewness_pi', 'kurtosis_pi', 'median_pi', 'iqr_pi', 'abundance_pi_cor', 'SGD_1', 'SGD_2']\n",
      "  J_m\t['S', 'SGD_0']\n",
      "  ecological_strength\t[]\n",
      "  m\t['S', 'abund_h1', 'abund_h2', 'abund_h3', 'abund_h4', 'mean_pi', 'std_pi', 'SGD_0', 'SGD_5']\n",
      "  speciation_prob\t[]\n",
      "  _lambda\t['S', 'abund_h1', 'abund_h2', 'abund_h3', 'abund_h4', 'mean_pi', 'std_pi', 'iqr_pi', 'abundance_pi_cor']\n",
      "All selected features: S abund_h1 abund_h2 abund_h3 abund_h4 pi_h1 pi_h2 pi_h3 pi_h4 mean_pi std_pi skewness_pi kurtosis_pi median_pi iqr_pi abundance_pi_cor SGD_0 SGD_1 SGD_2 SGD_5\n",
      "Finding best model parameters.\n",
      "Fitting 4 folds for each of 100 candidates, totalling 400 fits\n"
     ]
    },
    {
     "name": "stderr",
     "output_type": "stream",
     "text": [
      "[Parallel(n_jobs=-1)]: Using backend LokyBackend with 40 concurrent workers.\n",
      "[Parallel(n_jobs=-1)]: Done 120 tasks      | elapsed: 22.5min\n"
     ]
    }
   ],
   "source": [
    "simfile = \"/home/isaac/Continuosity/MESS/analysis/full-parameter-estimation/SIMOUT.txt\"\n",
    "\n",
    "rgr = MESS.inference.Regressor(empirical_df=sp_df, simfile=simfile, algorithm=\"rf\")\n",
    "#rgr.set_targets(target_list=\"_lambda\")\n",
    "rgr.predict(select_features=True, quick=False, verbose=True)"
   ]
  },
  {
   "cell_type": "code",
   "execution_count": 26,
   "metadata": {},
   "outputs": [
    {
     "data": {
      "text/plain": [
       "RandomForestRegressor(bootstrap=True, criterion='mse', max_depth=None,\n",
       "           max_features='auto', max_leaf_nodes=None,\n",
       "           min_impurity_decrease=0.0, min_impurity_split=None,\n",
       "           min_samples_leaf=1, min_samples_split=2,\n",
       "           min_weight_fraction_leaf=0.0, n_estimators='warn', n_jobs=None,\n",
       "           oob_score=False, random_state=None, verbose=0, warm_start=False)"
      ]
     },
     "execution_count": 26,
     "metadata": {},
     "output_type": "execute_result"
    }
   ],
   "source": [
    "rgr._cvsearch.\n",
    "\n"
   ]
  },
  {
   "cell_type": "markdown",
   "metadata": {},
   "source": [
    "# Developing some kind of prediction uncertainty"
   ]
  },
  {
   "cell_type": "markdown",
   "metadata": {},
   "source": [
    "## Predicting error with another ML model\n",
    "This is a clever idea, not sure how kosher it is: https://qucit.com/a-simple-technique-to-estimate-prediction-intervals-for-any-regression-model_en/. Here's the gist: \n",
    "\n",
    "    # split the data in train a validation set\n",
    "    X1, X2, y1, y2 = train_test_split(X, y, test_size=0.5)\n",
    "    # base_model can be any regression model, a  \n",
    "    # sklearn.ensemble.GradientBoostingRegressor for instance\n",
    "    base_model.fit(X1, y1)\n",
    "    base_prediction = base_model.predict(X2)\n",
    "    # compute the prediction error vector on the validation set\n",
    "    validation_error = (base_prediction - y2) ** 2\n",
    "    error_model.fit(X2, validation_error)\n",
    "\n",
    "    # compute the mean and standard deviation of the distribution\n",
    "    mean = base_model.predict(X_test)\n",
    "    st_dev = error_model.predict(X_test)"
   ]
  },
  {
   "cell_type": "code",
   "execution_count": null,
   "metadata": {},
   "outputs": [],
   "source": []
  },
  {
   "cell_type": "markdown",
   "metadata": {},
   "source": [
    "## skgarden.RandomForestQuantileRegressor\n",
    "https://github.com/scikit-garden/scikit-garden\n",
    "https://scikit-garden.github.io/examples/QuantileRegressionForests/"
   ]
  },
  {
   "cell_type": "code",
   "execution_count": null,
   "metadata": {},
   "outputs": [],
   "source": [
    "### Use QuantileForests for quantile estimation\n",
    "from skgarden import RandomForestQuantileRegressor\n",
    "rfqr = RandomForestQuantileRegressor(random_state=0)\n",
    "rfqr.fit(X, y)\n",
    "y_mean = rfqr.predict(X)\n",
    "y_median = rfqr.predict(X, 50)"
   ]
  },
  {
   "cell_type": "markdown",
   "metadata": {},
   "source": [
    "## sklearn GB has quantile regression built in (sort of)\n",
    "This works okay for GB, I guess."
   ]
  },
  {
   "cell_type": "code",
   "execution_count": 24,
   "metadata": {},
   "outputs": [
    {
     "name": "stdout",
     "output_type": "stream",
     "text": [
      "(array([0.99383061]), array([0.87963315]), array([1.03449941]))\n"
     ]
    }
   ],
   "source": [
    "from sklearn.ensemble import GradientBoostingRegressor\n",
    "\n",
    "alpha = 0.95\n",
    "\n",
    "clf = GradientBoostingRegressor(loss='quantile', alpha=alpha,\n",
    "                                n_estimators=1000, max_depth=5,\n",
    "                                learning_rate=.1, min_samples_leaf=9,\n",
    "                                min_samples_split=9)\n",
    "\n",
    "clf.fit(rgr.X, rgr.y)\n",
    "\n",
    "# Make the prediction on the meshed x-axis\n",
    "y_upper = clf.predict(rgr.empirical_sumstats)\n",
    "\n",
    "clf.set_params(alpha=1.0 - alpha)\n",
    "clf.fit(rgr.X, rgr.y)\n",
    "\n",
    "# Make the prediction on the meshed x-axis\n",
    "y_lower = clf.predict(rgr.empirical_sumstats)\n",
    "\n",
    "clf.set_params(loss='ls')\n",
    "clf.fit(rgr.X, rgr.y)\n",
    "\n",
    "# Make the prediction on the meshed x-axis\n",
    "y_pred = clf.predict(rgr.empirical_sumstats)\n",
    "\n",
    "print(y_upper, y_lower, y_pred)"
   ]
  },
  {
   "cell_type": "markdown",
   "metadata": {},
   "source": [
    "## forestci: Again, not sure if this is useful"
   ]
  },
  {
   "cell_type": "markdown",
   "metadata": {},
   "source": [
    "\n",
    "cd /home/isaac/Continuosity/MESS/util\n",
    "git clone https://github.com/scikit-learn-contrib/forest-confidence-interval.git\n",
    "cd forest-confidence-interval\n",
    "python setup.py install"
   ]
  },
  {
   "cell_type": "code",
   "execution_count": 14,
   "metadata": {},
   "outputs": [
    {
     "data": {
      "text/plain": [
       "array([0.01132867, 0.00425331, 0.01679821, ..., 0.00617017, 0.01379471,\n",
       "       0.00411115])"
      ]
     },
     "execution_count": 14,
     "metadata": {},
     "output_type": "execute_result"
    }
   ],
   "source": [
    "import forestci as fci\n",
    "import sklearn.model_selection\n",
    "X_train, X_test, y_train, y_test = sklearn.model_selection.train_test_split(rgr.X, rgr.y)\n",
    "v = fci.random_forest_error(rgr.best_model, X_train, X_test)\n",
    "v"
   ]
  },
  {
   "cell_type": "code",
   "execution_count": 20,
   "metadata": {},
   "outputs": [
    {
     "data": {
      "text/plain": [
       "(2994, 27)"
      ]
     },
     "execution_count": 20,
     "metadata": {},
     "output_type": "execute_result"
    }
   ],
   "source": [
    "v.shape\n",
    "X_test.shape"
   ]
  }
 ],
 "metadata": {
  "kernelspec": {
   "display_name": "Python 2",
   "language": "python",
   "name": "python2"
  },
  "language_info": {
   "codemirror_mode": {
    "name": "ipython",
    "version": 2
   },
   "file_extension": ".py",
   "mimetype": "text/x-python",
   "name": "python",
   "nbconvert_exporter": "python",
   "pygments_lexer": "ipython2",
   "version": "2.7.15"
  }
 },
 "nbformat": 4,
 "nbformat_minor": 2
}
