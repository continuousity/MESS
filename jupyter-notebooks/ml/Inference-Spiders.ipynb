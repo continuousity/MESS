{
 "cells": [
  {
   "cell_type": "code",
   "execution_count": 1,
   "metadata": {},
   "outputs": [],
   "source": [
    "%load_ext autoreload\n",
    "%autoreload 2\n",
    "%matplotlib inline\n",
    "import matplotlib.pyplot as plt\n",
    "import MESS\n",
    "import numpy as np\n",
    "import pandas as pd\n",
    "\n",
    "from IPython.display import display\n",
    "\n",
    "pd.set_option('display.max_rows', 500)\n",
    "pd.set_option('display.max_columns', 500)\n",
    "pd.set_option('display.width', 1000)\n"
   ]
  },
  {
   "cell_type": "markdown",
   "metadata": {},
   "source": [
    "## Use the Reunion spider data for testing\n",
    "First quickly munge the spider data into the form we need."
   ]
  },
  {
   "cell_type": "code",
   "execution_count": 2,
   "metadata": {},
   "outputs": [
    {
     "data": {
      "text/html": [
       "<div>\n",
       "<style scoped>\n",
       "    .dataframe tbody tr th:only-of-type {\n",
       "        vertical-align: middle;\n",
       "    }\n",
       "\n",
       "    .dataframe tbody tr th {\n",
       "        vertical-align: top;\n",
       "    }\n",
       "\n",
       "    .dataframe thead th {\n",
       "        text-align: right;\n",
       "    }\n",
       "</style>\n",
       "<table border=\"1\" class=\"dataframe\">\n",
       "  <thead>\n",
       "    <tr style=\"text-align: right;\">\n",
       "      <th></th>\n",
       "      <th>abundance</th>\n",
       "      <th>pi</th>\n",
       "    </tr>\n",
       "  </thead>\n",
       "  <tbody>\n",
       "    <tr>\n",
       "      <th>GL-01a</th>\n",
       "      <td>150</td>\n",
       "      <td>0.011126</td>\n",
       "    </tr>\n",
       "    <tr>\n",
       "      <th>GL-01b</th>\n",
       "      <td>107</td>\n",
       "      <td>0.023247</td>\n",
       "    </tr>\n",
       "    <tr>\n",
       "      <th>GL-01c</th>\n",
       "      <td>32</td>\n",
       "      <td>0.000252</td>\n",
       "    </tr>\n",
       "    <tr>\n",
       "      <th>GL-02</th>\n",
       "      <td>2</td>\n",
       "      <td>0.000000</td>\n",
       "    </tr>\n",
       "    <tr>\n",
       "      <th>GL-03</th>\n",
       "      <td>200</td>\n",
       "      <td>0.028499</td>\n",
       "    </tr>\n",
       "  </tbody>\n",
       "</table>\n",
       "</div>"
      ],
      "text/plain": [
       "        abundance        pi\n",
       "GL-01a        150  0.011126\n",
       "GL-01b        107  0.023247\n",
       "GL-01c         32  0.000252\n",
       "GL-02           2  0.000000\n",
       "GL-03         200  0.028499"
      ]
     },
     "execution_count": 2,
     "metadata": {},
     "output_type": "execute_result"
    }
   ],
   "source": [
    "sp_dir = \"/home/isaac/SGD_empirical/empirical_reunion_spiders/\"\n",
    "sp_abunds = pd.read_csv(sp_dir + \"spider_abunds_df.txt\", index_col=0, header=0)\n",
    "sp_pis = pd.read_csv(sp_dir + \"spider.pis\", sep=\" \", index_col=1, header=None)\n",
    "sp_pis.index = [x.split(\"/\")[1].split(\".\")[0] for x in sp_pis.index]\n",
    "sp_df = pd.concat([sp_abunds, sp_pis], axis=1, sort=False)\n",
    "sp_df.columns = [\"abundance\", \"pi\"]\n",
    "sp_df.to_csv(sp_dir + \"spider.dat\", header=True)\n",
    "sp_df[:5]"
   ]
  },
  {
   "cell_type": "markdown",
   "metadata": {},
   "source": [
    "# Select the best model"
   ]
  },
  {
   "cell_type": "code",
   "execution_count": 194,
   "metadata": {},
   "outputs": [
    {
     "data": {
      "text/html": [
       "<div>\n",
       "<style scoped>\n",
       "    .dataframe tbody tr th:only-of-type {\n",
       "        vertical-align: middle;\n",
       "    }\n",
       "\n",
       "    .dataframe tbody tr th {\n",
       "        vertical-align: top;\n",
       "    }\n",
       "\n",
       "    .dataframe thead th {\n",
       "        text-align: right;\n",
       "    }\n",
       "</style>\n",
       "<table border=\"1\" class=\"dataframe\">\n",
       "  <thead>\n",
       "    <tr style=\"text-align: right;\">\n",
       "      <th></th>\n",
       "      <th>community_assembly_model</th>\n",
       "    </tr>\n",
       "  </thead>\n",
       "  <tbody>\n",
       "    <tr>\n",
       "      <th>estimate</th>\n",
       "      <td>neutral</td>\n",
       "    </tr>\n",
       "  </tbody>\n",
       "</table>\n",
       "</div>"
      ],
      "text/plain": [
       "         community_assembly_model\n",
       "estimate                  neutral"
      ]
     },
     "metadata": {},
     "output_type": "display_data"
    },
    {
     "data": {
      "text/html": [
       "<div>\n",
       "<style scoped>\n",
       "    .dataframe tbody tr th:only-of-type {\n",
       "        vertical-align: middle;\n",
       "    }\n",
       "\n",
       "    .dataframe tbody tr th {\n",
       "        vertical-align: top;\n",
       "    }\n",
       "\n",
       "    .dataframe thead th {\n",
       "        text-align: right;\n",
       "    }\n",
       "</style>\n",
       "<table border=\"1\" class=\"dataframe\">\n",
       "  <thead>\n",
       "    <tr style=\"text-align: right;\">\n",
       "      <th></th>\n",
       "      <th>filtering</th>\n",
       "      <th>neutral</th>\n",
       "    </tr>\n",
       "  </thead>\n",
       "  <tbody>\n",
       "    <tr>\n",
       "      <th>community_assembly_model</th>\n",
       "      <td>0.29316</td>\n",
       "      <td>0.70684</td>\n",
       "    </tr>\n",
       "  </tbody>\n",
       "</table>\n",
       "</div>"
      ],
      "text/plain": [
       "                          filtering  neutral\n",
       "community_assembly_model    0.29316  0.70684"
      ]
     },
     "metadata": {},
     "output_type": "display_data"
    },
    {
     "data": {
      "text/html": [
       "<div>\n",
       "<style scoped>\n",
       "    .dataframe tbody tr th:only-of-type {\n",
       "        vertical-align: middle;\n",
       "    }\n",
       "\n",
       "    .dataframe tbody tr th {\n",
       "        vertical-align: top;\n",
       "    }\n",
       "\n",
       "    .dataframe thead th {\n",
       "        text-align: right;\n",
       "    }\n",
       "</style>\n",
       "<table border=\"1\" class=\"dataframe\">\n",
       "  <thead>\n",
       "    <tr style=\"text-align: right;\">\n",
       "      <th></th>\n",
       "      <th>S</th>\n",
       "      <th>abund_h1</th>\n",
       "      <th>abund_h2</th>\n",
       "      <th>abund_h3</th>\n",
       "      <th>abund_h4</th>\n",
       "      <th>pi_h1</th>\n",
       "      <th>pi_h2</th>\n",
       "      <th>pi_h3</th>\n",
       "      <th>pi_h4</th>\n",
       "      <th>mean_pi</th>\n",
       "      <th>std_pi</th>\n",
       "      <th>skewness_pi</th>\n",
       "      <th>kurtosis_pi</th>\n",
       "      <th>iqr_pi</th>\n",
       "      <th>SGD_0</th>\n",
       "      <th>SGD_1</th>\n",
       "      <th>SGD_2</th>\n",
       "      <th>SGD_3</th>\n",
       "    </tr>\n",
       "  </thead>\n",
       "  <tbody>\n",
       "    <tr>\n",
       "      <th>Feature importance</th>\n",
       "      <td>0.118627</td>\n",
       "      <td>0.208496</td>\n",
       "      <td>0.072976</td>\n",
       "      <td>0.061479</td>\n",
       "      <td>0.063611</td>\n",
       "      <td>0.056024</td>\n",
       "      <td>0.044238</td>\n",
       "      <td>0.035198</td>\n",
       "      <td>0.031519</td>\n",
       "      <td>0.046397</td>\n",
       "      <td>0.053783</td>\n",
       "      <td>0.028997</td>\n",
       "      <td>0.023547</td>\n",
       "      <td>0.027168</td>\n",
       "      <td>0.083716</td>\n",
       "      <td>0.012203</td>\n",
       "      <td>0.009674</td>\n",
       "      <td>0.022347</td>\n",
       "    </tr>\n",
       "  </tbody>\n",
       "</table>\n",
       "</div>"
      ],
      "text/plain": [
       "                           S  abund_h1  abund_h2  abund_h3  abund_h4     pi_h1     pi_h2     pi_h3     pi_h4   mean_pi    std_pi  skewness_pi  kurtosis_pi    iqr_pi     SGD_0     SGD_1     SGD_2     SGD_3\n",
       "Feature importance  0.118627  0.208496  0.072976  0.061479  0.063611  0.056024  0.044238  0.035198  0.031519  0.046397  0.053783     0.028997     0.023547  0.027168  0.083716  0.012203  0.009674  0.022347"
      ]
     },
     "metadata": {},
     "output_type": "display_data"
    }
   ],
   "source": [
    "simfile = \"/home/isaac/Continuosity/MESS/analysis/full-parameter-estimation/SIMOUT.txt\"\n",
    "\n",
    "cla = MESS.inference.Classifier(empirical_df=sp_df, simfile=simfile, algorithm=\"rf\")\n",
    "est, proba = cla.predict(select_features=True, param_search=True, quick=True, verbose=False)\n",
    "display(est, proba)\n",
    "display(cla.feature_importances())"
   ]
  },
  {
   "cell_type": "code",
   "execution_count": null,
   "metadata": {},
   "outputs": [],
   "source": []
  },
  {
   "cell_type": "markdown",
   "metadata": {},
   "source": [
    "# Estimate parameters"
   ]
  },
  {
   "cell_type": "code",
   "execution_count": 196,
   "metadata": {},
   "outputs": [
    {
     "name": "stdout",
     "output_type": "stream",
     "text": [
      "Selecting features:\n",
      "  alpha\t['abund_h1', 'mean_pi', 'iqr_pi', 'abundance_pi_cor', 'SGD_0']\n",
      "  _lambda\t['abund_h1', 'abund_h2', 'abund_h3', 'abund_h4', 'median_pi', 'SGD_0']\n",
      "All selected features: abund_h1 abund_h2 abund_h3 abund_h4 mean_pi median_pi iqr_pi abundance_pi_cor SGD_0\n",
      "Calculating prediction interval(s)\n"
     ]
    },
    {
     "data": {
      "text/html": [
       "<div>\n",
       "<style scoped>\n",
       "    .dataframe tbody tr th:only-of-type {\n",
       "        vertical-align: middle;\n",
       "    }\n",
       "\n",
       "    .dataframe tbody tr th {\n",
       "        vertical-align: top;\n",
       "    }\n",
       "\n",
       "    .dataframe thead th {\n",
       "        text-align: right;\n",
       "    }\n",
       "</style>\n",
       "<table border=\"1\" class=\"dataframe\">\n",
       "  <thead>\n",
       "    <tr style=\"text-align: right;\">\n",
       "      <th></th>\n",
       "      <th>alpha</th>\n",
       "      <th>_lambda</th>\n",
       "    </tr>\n",
       "  </thead>\n",
       "  <tbody>\n",
       "    <tr>\n",
       "      <th>estimate</th>\n",
       "      <td>4301.3</td>\n",
       "      <td>0.92206</td>\n",
       "    </tr>\n",
       "    <tr>\n",
       "      <th>lower 0.025</th>\n",
       "      <td>2801.0</td>\n",
       "      <td>0.83700</td>\n",
       "    </tr>\n",
       "    <tr>\n",
       "      <th>upper 0.975</th>\n",
       "      <td>4803.0</td>\n",
       "      <td>0.95500</td>\n",
       "    </tr>\n",
       "  </tbody>\n",
       "</table>\n",
       "</div>"
      ],
      "text/plain": [
       "              alpha  _lambda\n",
       "estimate     4301.3  0.92206\n",
       "lower 0.025  2801.0  0.83700\n",
       "upper 0.975  4803.0  0.95500"
      ]
     },
     "metadata": {},
     "output_type": "display_data"
    },
    {
     "data": {
      "text/html": [
       "<div>\n",
       "<style scoped>\n",
       "    .dataframe tbody tr th:only-of-type {\n",
       "        vertical-align: middle;\n",
       "    }\n",
       "\n",
       "    .dataframe tbody tr th {\n",
       "        vertical-align: top;\n",
       "    }\n",
       "\n",
       "    .dataframe thead th {\n",
       "        text-align: right;\n",
       "    }\n",
       "</style>\n",
       "<table border=\"1\" class=\"dataframe\">\n",
       "  <thead>\n",
       "    <tr style=\"text-align: right;\">\n",
       "      <th></th>\n",
       "      <th>SGD_0</th>\n",
       "      <th>abund_h1</th>\n",
       "      <th>abund_h2</th>\n",
       "      <th>abund_h3</th>\n",
       "      <th>abund_h4</th>\n",
       "      <th>abundance_pi_cor</th>\n",
       "      <th>iqr_pi</th>\n",
       "      <th>mean_pi</th>\n",
       "      <th>median_pi</th>\n",
       "    </tr>\n",
       "  </thead>\n",
       "  <tbody>\n",
       "    <tr>\n",
       "      <th>alpha</th>\n",
       "      <td>0.131318</td>\n",
       "      <td>0.200917</td>\n",
       "      <td>NaN</td>\n",
       "      <td>NaN</td>\n",
       "      <td>NaN</td>\n",
       "      <td>0.1669</td>\n",
       "      <td>0.323787</td>\n",
       "      <td>0.177077</td>\n",
       "      <td>NaN</td>\n",
       "    </tr>\n",
       "    <tr>\n",
       "      <th>_lambda</th>\n",
       "      <td>0.038867</td>\n",
       "      <td>0.072530</td>\n",
       "      <td>0.033238</td>\n",
       "      <td>0.045122</td>\n",
       "      <td>0.802928</td>\n",
       "      <td>NaN</td>\n",
       "      <td>NaN</td>\n",
       "      <td>NaN</td>\n",
       "      <td>0.007314</td>\n",
       "    </tr>\n",
       "  </tbody>\n",
       "</table>\n",
       "</div>"
      ],
      "text/plain": [
       "            SGD_0  abund_h1  abund_h2  abund_h3  abund_h4  abundance_pi_cor    iqr_pi   mean_pi  median_pi\n",
       "alpha    0.131318  0.200917       NaN       NaN       NaN            0.1669  0.323787  0.177077        NaN\n",
       "_lambda  0.038867  0.072530  0.033238  0.045122  0.802928               NaN       NaN       NaN   0.007314"
      ]
     },
     "metadata": {},
     "output_type": "display_data"
    }
   ],
   "source": [
    "simfile = \"/home/isaac/Continuosity/MESS/analysis/full-parameter-estimation/SIMOUT.txt\"\n",
    "\n",
    "rgr = MESS.inference.Regressor(empirical_df=sp_df, simfile=simfile, algorithm=\"rfq\")\n",
    "rgr.set_targets(target_list=[\"alpha\", \"_lambda\"])\n",
    "\n",
    "est = rgr.predict(select_features=True, param_search=False, quick=True, verbose=True)\n",
    "display(est, rgr.feature_importances())"
   ]
  },
  {
   "cell_type": "code",
   "execution_count": 191,
   "metadata": {},
   "outputs": [
    {
     "data": {
      "text/html": [
       "<div>\n",
       "<style scoped>\n",
       "    .dataframe tbody tr th:only-of-type {\n",
       "        vertical-align: middle;\n",
       "    }\n",
       "\n",
       "    .dataframe tbody tr th {\n",
       "        vertical-align: top;\n",
       "    }\n",
       "\n",
       "    .dataframe thead th {\n",
       "        text-align: right;\n",
       "    }\n",
       "</style>\n",
       "<table border=\"1\" class=\"dataframe\">\n",
       "  <thead>\n",
       "    <tr style=\"text-align: right;\">\n",
       "      <th></th>\n",
       "      <th>abund_h1</th>\n",
       "      <th>abund_h2</th>\n",
       "      <th>abund_h3</th>\n",
       "      <th>abund_h4</th>\n",
       "      <th>abundance_pi_cor</th>\n",
       "      <th>iqr_pi</th>\n",
       "      <th>mean_pi</th>\n",
       "      <th>skewness_pi</th>\n",
       "    </tr>\n",
       "  </thead>\n",
       "  <tbody>\n",
       "    <tr>\n",
       "      <th>alpha</th>\n",
       "      <td>NaN</td>\n",
       "      <td>NaN</td>\n",
       "      <td>NaN</td>\n",
       "      <td>0.185144</td>\n",
       "      <td>0.169929</td>\n",
       "      <td>0.276145</td>\n",
       "      <td>0.216505</td>\n",
       "      <td>0.152277</td>\n",
       "    </tr>\n",
       "    <tr>\n",
       "      <th>_lambda</th>\n",
       "      <td>0.080334</td>\n",
       "      <td>0.051802</td>\n",
       "      <td>0.046576</td>\n",
       "      <td>0.821288</td>\n",
       "      <td>NaN</td>\n",
       "      <td>NaN</td>\n",
       "      <td>NaN</td>\n",
       "      <td>NaN</td>\n",
       "    </tr>\n",
       "  </tbody>\n",
       "</table>\n",
       "</div>"
      ],
      "text/plain": [
       "         abund_h1  abund_h2  abund_h3  abund_h4  abundance_pi_cor    iqr_pi   mean_pi  skewness_pi\n",
       "alpha         NaN       NaN       NaN  0.185144          0.169929  0.276145  0.216505     0.152277\n",
       "_lambda  0.080334  0.051802  0.046576  0.821288               NaN       NaN       NaN          NaN"
      ]
     },
     "execution_count": 191,
     "metadata": {},
     "output_type": "execute_result"
    }
   ],
   "source": []
  },
  {
   "cell_type": "markdown",
   "metadata": {},
   "source": [
    "## Save regressor to file/model to file"
   ]
  },
  {
   "cell_type": "code",
   "execution_count": 150,
   "metadata": {},
   "outputs": [
    {
     "data": {
      "text/html": [
       "<div>\n",
       "<style scoped>\n",
       "    .dataframe tbody tr th:only-of-type {\n",
       "        vertical-align: middle;\n",
       "    }\n",
       "\n",
       "    .dataframe tbody tr th {\n",
       "        vertical-align: top;\n",
       "    }\n",
       "\n",
       "    .dataframe thead th {\n",
       "        text-align: right;\n",
       "    }\n",
       "</style>\n",
       "<table border=\"1\" class=\"dataframe\">\n",
       "  <thead>\n",
       "    <tr style=\"text-align: right;\">\n",
       "      <th></th>\n",
       "      <th>S</th>\n",
       "      <th>abund_h1</th>\n",
       "      <th>abund_h2</th>\n",
       "      <th>abund_h3</th>\n",
       "      <th>abund_h4</th>\n",
       "      <th>pi_h1</th>\n",
       "      <th>pi_h2</th>\n",
       "      <th>pi_h3</th>\n",
       "      <th>pi_h4</th>\n",
       "      <th>mean_pi</th>\n",
       "      <th>std_pi</th>\n",
       "      <th>skewness_pi</th>\n",
       "      <th>kurtosis_pi</th>\n",
       "      <th>median_pi</th>\n",
       "      <th>iqr_pi</th>\n",
       "      <th>trees</th>\n",
       "      <th>abundance_pi_cor</th>\n",
       "      <th>SGD_0</th>\n",
       "      <th>SGD_1</th>\n",
       "      <th>SGD_2</th>\n",
       "      <th>SGD_3</th>\n",
       "      <th>SGD_4</th>\n",
       "      <th>SGD_5</th>\n",
       "      <th>SGD_6</th>\n",
       "      <th>SGD_7</th>\n",
       "      <th>SGD_8</th>\n",
       "      <th>SGD_9</th>\n",
       "    </tr>\n",
       "  </thead>\n",
       "  <tbody>\n",
       "    <tr>\n",
       "      <th>alpha</th>\n",
       "      <td>0.015795</td>\n",
       "      <td>0.066961</td>\n",
       "      <td>0.018036</td>\n",
       "      <td>0.012658</td>\n",
       "      <td>0.025727</td>\n",
       "      <td>0.027068</td>\n",
       "      <td>0.009332</td>\n",
       "      <td>0.002480</td>\n",
       "      <td>0.002773</td>\n",
       "      <td>0.275834</td>\n",
       "      <td>0.008189</td>\n",
       "      <td>0.022957</td>\n",
       "      <td>0.010469</td>\n",
       "      <td>0.004996</td>\n",
       "      <td>0.369852</td>\n",
       "      <td>0.0</td>\n",
       "      <td>0.059932</td>\n",
       "      <td>0.050365</td>\n",
       "      <td>0.001897</td>\n",
       "      <td>0.001806</td>\n",
       "      <td>0.002297</td>\n",
       "      <td>0.002108</td>\n",
       "      <td>0.004731</td>\n",
       "      <td>0.002443</td>\n",
       "      <td>0.000570</td>\n",
       "      <td>0.000000</td>\n",
       "      <td>0.000721</td>\n",
       "    </tr>\n",
       "    <tr>\n",
       "      <th>_lambda</th>\n",
       "      <td>0.006080</td>\n",
       "      <td>0.018718</td>\n",
       "      <td>0.006266</td>\n",
       "      <td>0.040721</td>\n",
       "      <td>0.859859</td>\n",
       "      <td>0.003194</td>\n",
       "      <td>0.001113</td>\n",
       "      <td>0.004015</td>\n",
       "      <td>0.001348</td>\n",
       "      <td>0.009954</td>\n",
       "      <td>0.010465</td>\n",
       "      <td>0.003409</td>\n",
       "      <td>0.005999</td>\n",
       "      <td>0.001550</td>\n",
       "      <td>0.002724</td>\n",
       "      <td>0.0</td>\n",
       "      <td>0.006535</td>\n",
       "      <td>0.013376</td>\n",
       "      <td>0.001096</td>\n",
       "      <td>0.000300</td>\n",
       "      <td>0.000758</td>\n",
       "      <td>0.000035</td>\n",
       "      <td>0.000916</td>\n",
       "      <td>0.000294</td>\n",
       "      <td>0.000857</td>\n",
       "      <td>0.000169</td>\n",
       "      <td>0.000251</td>\n",
       "    </tr>\n",
       "  </tbody>\n",
       "</table>\n",
       "</div>"
      ],
      "text/plain": [
       "                S  abund_h1  abund_h2  abund_h3  abund_h4     pi_h1     pi_h2     pi_h3     pi_h4   mean_pi    std_pi  skewness_pi  kurtosis_pi  median_pi    iqr_pi  trees  abundance_pi_cor     SGD_0     SGD_1     SGD_2     SGD_3     SGD_4     SGD_5     SGD_6     SGD_7     SGD_8     SGD_9\n",
       "alpha    0.015795  0.066961  0.018036  0.012658  0.025727  0.027068  0.009332  0.002480  0.002773  0.275834  0.008189     0.022957     0.010469   0.004996  0.369852    0.0          0.059932  0.050365  0.001897  0.001806  0.002297  0.002108  0.004731  0.002443  0.000570  0.000000  0.000721\n",
       "_lambda  0.006080  0.018718  0.006266  0.040721  0.859859  0.003194  0.001113  0.004015  0.001348  0.009954  0.010465     0.003409     0.005999   0.001550  0.002724    0.0          0.006535  0.013376  0.001096  0.000300  0.000758  0.000035  0.000916  0.000294  0.000857  0.000169  0.000251"
      ]
     },
     "execution_count": 150,
     "metadata": {},
     "output_type": "execute_result"
    }
   ],
   "source": [
    "rgr.feature_importances()\n",
    "#rgr.model_by_target"
   ]
  },
  {
   "cell_type": "markdown",
   "metadata": {},
   "source": [
    "# Trash below here"
   ]
  },
  {
   "cell_type": "code",
   "execution_count": 56,
   "metadata": {},
   "outputs": [
    {
     "name": "stdout",
     "output_type": "stream",
     "text": [
      "Got empirical summary statistics:     S   abund_h1   abund_h2   abund_h3  abund_h4      pi_h1      pi_h2      pi_h3      pi_h4   mean_pi    std_pi  skewness_pi  kurtosis_pi  median_pi   iqr_pi  trees  abundance_pi_cor  SGD_0  SGD_1  SGD_2  SGD_3  SGD_4  SGD_5  SGD_6  SGD_7  SGD_8  SGD_9\n",
      "0  57  22.334174  14.092503  10.622744  8.877024  27.956422  21.660417  19.178423  17.853145  0.008283  0.010581      1.41016     0.756963   0.003258  0.01004      0          0.413119     32      7      5      0      2      4      1      3      1      2\n"
     ]
    },
    {
     "data": {
      "text/html": [
       "<div>\n",
       "<style scoped>\n",
       "    .dataframe tbody tr th:only-of-type {\n",
       "        vertical-align: middle;\n",
       "    }\n",
       "\n",
       "    .dataframe tbody tr th {\n",
       "        vertical-align: top;\n",
       "    }\n",
       "\n",
       "    .dataframe thead th {\n",
       "        text-align: right;\n",
       "    }\n",
       "</style>\n",
       "<table border=\"1\" class=\"dataframe\">\n",
       "  <thead>\n",
       "    <tr style=\"text-align: right;\">\n",
       "      <th></th>\n",
       "      <th>community_assembly_model</th>\n",
       "    </tr>\n",
       "  </thead>\n",
       "  <tbody>\n",
       "    <tr>\n",
       "      <th>0</th>\n",
       "      <td>neutral</td>\n",
       "    </tr>\n",
       "    <tr>\n",
       "      <th>1</th>\n",
       "      <td>neutral</td>\n",
       "    </tr>\n",
       "  </tbody>\n",
       "</table>\n",
       "</div>"
      ],
      "text/plain": [
       "  community_assembly_model\n",
       "0                  neutral\n",
       "1                  neutral"
      ]
     },
     "execution_count": 56,
     "metadata": {},
     "output_type": "execute_result"
    }
   ],
   "source": [
    "simfile = \"/home/isaac/Continuosity/MESS/analysis/full-parameter-estimation/SIMOUT.txt\"\n",
    "\n",
    "cla = MESS.inference.Classifier(empirical_df=sp_df, simfile=simfile, algorithm=\"rf\", verbose=True)\n",
    "cla._base_model\n",
    "cla.y[:2]\n",
    "#rgr.set_targets(target_list=\"_lambda\")\n",
    "#rgr.predict(select_features=True, quick=False, verbose=True)"
   ]
  },
  {
   "cell_type": "code",
   "execution_count": 51,
   "metadata": {},
   "outputs": [
    {
     "data": {
      "text/plain": [
       "Index([u'S', u'abund_h1', u'abund_h2', u'abund_h3', u'abund_h4', u'pi_h1', u'pi_h2', u'pi_h3', u'pi_h4', u'mean_pi', u'std_pi', u'skewness_pi', u'kurtosis_pi', u'median_pi', u'iqr_pi', u'trees', u'abundance_pi_cor', u'SGD_0', u'SGD_1', u'SGD_2', u'SGD_3', u'SGD_4', u'SGD_5', u'SGD_6', u'SGD_7', u'SGD_8', u'SGD_9'], dtype='object')"
      ]
     },
     "execution_count": 51,
     "metadata": {},
     "output_type": "execute_result"
    }
   ],
   "source": [
    "cla.features"
   ]
  }
 ],
 "metadata": {
  "kernelspec": {
   "display_name": "Python 2",
   "language": "python",
   "name": "python2"
  },
  "language_info": {
   "codemirror_mode": {
    "name": "ipython",
    "version": 2
   },
   "file_extension": ".py",
   "mimetype": "text/x-python",
   "name": "python",
   "nbconvert_exporter": "python",
   "pygments_lexer": "ipython2",
   "version": "2.7.15"
  }
 },
 "nbformat": 4,
 "nbformat_minor": 2
}
