{
 "cells": [
  {
   "cell_type": "markdown",
   "metadata": {},
   "source": [
    "## Prerequisite: Install BorutaPy by hand\n",
    "Otherwise the conda packages out there want to install py3.6, which MESS isn't ready for yet :("
   ]
  },
  {
   "cell_type": "code",
   "execution_count": 3,
   "metadata": {},
   "outputs": [],
   "source": [
    "%%bash\n",
    "cd /home/isaac/Continuosity/MESS/util/\n",
    "git clone https://github.com/scikit-learn-contrib/boruta_py\n",
    "cd boruta_py\n",
    "pip install .\n"
   ]
  },
  {
   "cell_type": "code",
   "execution_count": 1,
   "metadata": {},
   "outputs": [
    {
     "name": "stdout",
     "output_type": "stream",
     "text": [
      "2983\n"
     ]
    }
   ],
   "source": [
    "%load_ext autoreload\n",
    "%autoreload 2\n",
    "#%matplotlib inline\n",
    "import ipyparallel as ipp\n",
    "import matplotlib.pyplot as plt\n",
    "import numpy as np\n",
    "import os\n",
    "import pandas as pd\n",
    "import itertools\n",
    "\n",
    "import MESS\n",
    "\n",
    "from boruta import BorutaPy\n",
    "from sklearn import metrics\n",
    "from sklearn.ensemble import RandomForestRegressor, RandomForestClassifier\n",
    "from sklearn.model_selection import train_test_split, cross_val_score, RandomizedSearchCV, GridSearchCV\n",
    "from sklearn.decomposition import PCA\n",
    "from sklearn.datasets import make_regression\n",
    "from sklearn.pipeline import Pipeline\n",
    "from IPython.display import display\n",
    "\n",
    "\n",
    "## Set some pandas options to show the full rows and columns of a DF\n",
    "pd.set_option('display.max_columns', 500)\n",
    "pd.set_option('display.max_rows', 100)\n",
    "pd.set_option('display.width', 1000)\n",
    "\n",
    "## Where do the simulation outputs live. Load them and look at a couple\n",
    "analysis_dir = \"/home/isaac/Continuosity/MESS/analysis/full-parameter-estimation/\"\n",
    "sim_df = pd.read_csv(\"{}/SIMOUT.txt\".format(analysis_dir), sep=\"\\t\", header=0)\n",
    "## Legacy code. Drop in case any values are nan or inf\n",
    "print(len(sim_df))"
   ]
  },
  {
   "cell_type": "markdown",
   "metadata": {},
   "source": [
    "## Load weevil data for mauritius and reunion and get summary stats"
   ]
  },
  {
   "cell_type": "code",
   "execution_count": 2,
   "metadata": {},
   "outputs": [
    {
     "name": "stdout",
     "output_type": "stream",
     "text": [
      "(26, 27)\n",
      "343.0\n",
      "539.0\n"
     ]
    },
    {
     "data": {
      "text/html": [
       "<div>\n",
       "<style scoped>\n",
       "    .dataframe tbody tr th:only-of-type {\n",
       "        vertical-align: middle;\n",
       "    }\n",
       "\n",
       "    .dataframe tbody tr th {\n",
       "        vertical-align: top;\n",
       "    }\n",
       "\n",
       "    .dataframe thead th {\n",
       "        text-align: right;\n",
       "    }\n",
       "</style>\n",
       "<table border=\"1\" class=\"dataframe\">\n",
       "  <thead>\n",
       "    <tr style=\"text-align: right;\">\n",
       "      <th></th>\n",
       "      <th>pi</th>\n",
       "      <th>abundance</th>\n",
       "    </tr>\n",
       "  </thead>\n",
       "  <tbody>\n",
       "    <tr>\n",
       "      <th>Cratopopsis_impressus</th>\n",
       "      <td>0.043741</td>\n",
       "      <td>4.0</td>\n",
       "    </tr>\n",
       "    <tr>\n",
       "      <th>Cratopopsis_mauritianus</th>\n",
       "      <td>0.002413</td>\n",
       "      <td>5.0</td>\n",
       "    </tr>\n",
       "  </tbody>\n",
       "</table>\n",
       "</div>"
      ],
      "text/plain": [
       "                               pi  abundance\n",
       "Cratopopsis_impressus    0.043741        4.0\n",
       "Cratopopsis_mauritianus  0.002413        5.0"
      ]
     },
     "metadata": {},
     "output_type": "display_data"
    },
    {
     "data": {
      "text/html": [
       "<div>\n",
       "<style scoped>\n",
       "    .dataframe tbody tr th:only-of-type {\n",
       "        vertical-align: middle;\n",
       "    }\n",
       "\n",
       "    .dataframe tbody tr th {\n",
       "        vertical-align: top;\n",
       "    }\n",
       "\n",
       "    .dataframe thead th {\n",
       "        text-align: right;\n",
       "    }\n",
       "</style>\n",
       "<table border=\"1\" class=\"dataframe\">\n",
       "  <thead>\n",
       "    <tr style=\"text-align: right;\">\n",
       "      <th></th>\n",
       "      <th>Unnamed: 0</th>\n",
       "      <th>pi</th>\n",
       "      <th>abundance</th>\n",
       "    </tr>\n",
       "  </thead>\n",
       "  <tbody>\n",
       "    <tr>\n",
       "      <th>0</th>\n",
       "      <td>Cratopopsis_alluaudi</td>\n",
       "      <td>0.019174</td>\n",
       "      <td>12.0</td>\n",
       "    </tr>\n",
       "    <tr>\n",
       "      <th>1</th>\n",
       "      <td>Cratopopsis_antiquus</td>\n",
       "      <td>0.017928</td>\n",
       "      <td>11.0</td>\n",
       "    </tr>\n",
       "  </tbody>\n",
       "</table>\n",
       "</div>"
      ],
      "text/plain": [
       "             Unnamed: 0        pi  abundance\n",
       "0  Cratopopsis_alluaudi  0.019174       12.0\n",
       "1  Cratopopsis_antiquus  0.017928       11.0"
      ]
     },
     "metadata": {},
     "output_type": "display_data"
    },
    {
     "data": {
      "text/html": [
       "<div>\n",
       "<style scoped>\n",
       "    .dataframe tbody tr th:only-of-type {\n",
       "        vertical-align: middle;\n",
       "    }\n",
       "\n",
       "    .dataframe tbody tr th {\n",
       "        vertical-align: top;\n",
       "    }\n",
       "\n",
       "    .dataframe thead th {\n",
       "        text-align: right;\n",
       "    }\n",
       "</style>\n",
       "<table border=\"1\" class=\"dataframe\">\n",
       "  <thead>\n",
       "    <tr style=\"text-align: right;\">\n",
       "      <th></th>\n",
       "      <th>S</th>\n",
       "      <th>abund_h1</th>\n",
       "      <th>abund_h2</th>\n",
       "      <th>abund_h3</th>\n",
       "      <th>abund_h4</th>\n",
       "      <th>pi_h1</th>\n",
       "      <th>pi_h2</th>\n",
       "      <th>pi_h3</th>\n",
       "      <th>pi_h4</th>\n",
       "      <th>mean_pi</th>\n",
       "      <th>std_pi</th>\n",
       "      <th>skewness_pi</th>\n",
       "      <th>kurtosis_pi</th>\n",
       "      <th>median_pi</th>\n",
       "      <th>iqr_pi</th>\n",
       "      <th>trees</th>\n",
       "      <th>abundance_pi_cor</th>\n",
       "      <th>SGD_0</th>\n",
       "      <th>SGD_1</th>\n",
       "      <th>SGD_2</th>\n",
       "      <th>SGD_3</th>\n",
       "      <th>SGD_4</th>\n",
       "      <th>SGD_5</th>\n",
       "      <th>SGD_6</th>\n",
       "      <th>SGD_7</th>\n",
       "      <th>SGD_8</th>\n",
       "      <th>SGD_9</th>\n",
       "    </tr>\n",
       "  </thead>\n",
       "  <tbody>\n",
       "    <tr>\n",
       "      <th>0</th>\n",
       "      <td>26</td>\n",
       "      <td>15.551964</td>\n",
       "      <td>11.553471</td>\n",
       "      <td>9.749593</td>\n",
       "      <td>8.776689</td>\n",
       "      <td>16.525113</td>\n",
       "      <td>13.293617</td>\n",
       "      <td>11.35714</td>\n",
       "      <td>10.189882</td>\n",
       "      <td>0.022862</td>\n",
       "      <td>0.022351</td>\n",
       "      <td>1.469762</td>\n",
       "      <td>1.797334</td>\n",
       "      <td>0.020936</td>\n",
       "      <td>0.019995</td>\n",
       "      <td>0</td>\n",
       "      <td>0.503694</td>\n",
       "      <td>10</td>\n",
       "      <td>2</td>\n",
       "      <td>6</td>\n",
       "      <td>4</td>\n",
       "      <td>1</td>\n",
       "      <td>0</td>\n",
       "      <td>1</td>\n",
       "      <td>0</td>\n",
       "      <td>1</td>\n",
       "      <td>1</td>\n",
       "    </tr>\n",
       "  </tbody>\n",
       "</table>\n",
       "</div>"
      ],
      "text/plain": [
       "    S   abund_h1   abund_h2  abund_h3  abund_h4      pi_h1      pi_h2     pi_h3      pi_h4   mean_pi    std_pi  skewness_pi  kurtosis_pi  median_pi    iqr_pi  trees  abundance_pi_cor  SGD_0  SGD_1  SGD_2  SGD_3  SGD_4  SGD_5  SGD_6  SGD_7  SGD_8  SGD_9\n",
       "0  26  15.551964  11.553471  9.749593  8.776689  16.525113  13.293617  11.35714  10.189882  0.022862  0.022351     1.469762     1.797334   0.020936  0.019995      0          0.503694     10      2      6      4      1      0      1      0      1      1"
      ]
     },
     "metadata": {},
     "output_type": "display_data"
    },
    {
     "data": {
      "text/html": [
       "<div>\n",
       "<style scoped>\n",
       "    .dataframe tbody tr th:only-of-type {\n",
       "        vertical-align: middle;\n",
       "    }\n",
       "\n",
       "    .dataframe tbody tr th {\n",
       "        vertical-align: top;\n",
       "    }\n",
       "\n",
       "    .dataframe thead th {\n",
       "        text-align: right;\n",
       "    }\n",
       "</style>\n",
       "<table border=\"1\" class=\"dataframe\">\n",
       "  <thead>\n",
       "    <tr style=\"text-align: right;\">\n",
       "      <th></th>\n",
       "      <th>S</th>\n",
       "      <th>abund_h1</th>\n",
       "      <th>abund_h2</th>\n",
       "      <th>abund_h3</th>\n",
       "      <th>abund_h4</th>\n",
       "      <th>pi_h1</th>\n",
       "      <th>pi_h2</th>\n",
       "      <th>pi_h3</th>\n",
       "      <th>pi_h4</th>\n",
       "      <th>mean_pi</th>\n",
       "      <th>std_pi</th>\n",
       "      <th>skewness_pi</th>\n",
       "      <th>kurtosis_pi</th>\n",
       "      <th>median_pi</th>\n",
       "      <th>iqr_pi</th>\n",
       "      <th>trees</th>\n",
       "      <th>abundance_pi_cor</th>\n",
       "      <th>SGD_0</th>\n",
       "      <th>SGD_1</th>\n",
       "      <th>SGD_2</th>\n",
       "      <th>SGD_3</th>\n",
       "      <th>SGD_4</th>\n",
       "      <th>SGD_5</th>\n",
       "      <th>SGD_6</th>\n",
       "      <th>SGD_7</th>\n",
       "      <th>SGD_8</th>\n",
       "      <th>SGD_9</th>\n",
       "    </tr>\n",
       "  </thead>\n",
       "  <tbody>\n",
       "    <tr>\n",
       "      <th>0</th>\n",
       "      <td>27</td>\n",
       "      <td>12.342967</td>\n",
       "      <td>8.390983</td>\n",
       "      <td>7.234338</td>\n",
       "      <td>6.756258</td>\n",
       "      <td>17.708787</td>\n",
       "      <td>14.927681</td>\n",
       "      <td>13.310007</td>\n",
       "      <td>12.280974</td>\n",
       "      <td>0.025299</td>\n",
       "      <td>0.022751</td>\n",
       "      <td>0.947168</td>\n",
       "      <td>0.086781</td>\n",
       "      <td>0.019174</td>\n",
       "      <td>0.028364</td>\n",
       "      <td>0</td>\n",
       "      <td>0.638078</td>\n",
       "      <td>7</td>\n",
       "      <td>4</td>\n",
       "      <td>3</td>\n",
       "      <td>3</td>\n",
       "      <td>4</td>\n",
       "      <td>2</td>\n",
       "      <td>1</td>\n",
       "      <td>0</td>\n",
       "      <td>0</td>\n",
       "      <td>3</td>\n",
       "    </tr>\n",
       "  </tbody>\n",
       "</table>\n",
       "</div>"
      ],
      "text/plain": [
       "    S   abund_h1  abund_h2  abund_h3  abund_h4      pi_h1      pi_h2      pi_h3      pi_h4   mean_pi    std_pi  skewness_pi  kurtosis_pi  median_pi    iqr_pi  trees  abundance_pi_cor  SGD_0  SGD_1  SGD_2  SGD_3  SGD_4  SGD_5  SGD_6  SGD_7  SGD_8  SGD_9\n",
       "0  27  12.342967  8.390983  7.234338  6.756258  17.708787  14.927681  13.310007  12.280974  0.025299  0.022751     0.947168     0.086781   0.019174  0.028364      0          0.638078      7      4      3      3      4      2      1      0      0      3"
      ]
     },
     "metadata": {},
     "output_type": "display_data"
    }
   ],
   "source": [
    "m_df = pd.read_csv(\"/home/isaac/SGD_empirical/empirical_weevils/mauritius.dat\", header=0, index_col=0)\n",
    "r_df = pd.read_csv(\"/home/isaac/SGD_empirical/empirical_weevils/reunion.dat\", header=0)\n",
    "print(len(m_df), len(r_df))\n",
    "print(np.sum(m_df[\"abundance\"]))\n",
    "print(np.sum(r_df[\"abundance\"]))\n",
    "display(m_df[:2])\n",
    "display(r_df[:2])\n",
    "m_ss = MESS.stats.calculate_sumstats(diversity_df=m_df)\n",
    "r_ss = MESS.stats.calculate_sumstats(diversity_df=r_df)\n",
    "display(m_ss)\n",
    "display(r_ss)\n"
   ]
  },
  {
   "cell_type": "markdown",
   "metadata": {},
   "source": [
    "## Select simulation features to correspond to empirical data"
   ]
  },
  {
   "cell_type": "code",
   "execution_count": 45,
   "metadata": {},
   "outputs": [
    {
     "data": {
      "text/html": [
       "<div>\n",
       "<style scoped>\n",
       "    .dataframe tbody tr th:only-of-type {\n",
       "        vertical-align: middle;\n",
       "    }\n",
       "\n",
       "    .dataframe tbody tr th {\n",
       "        vertical-align: top;\n",
       "    }\n",
       "\n",
       "    .dataframe thead th {\n",
       "        text-align: right;\n",
       "    }\n",
       "</style>\n",
       "<table border=\"1\" class=\"dataframe\">\n",
       "  <thead>\n",
       "    <tr style=\"text-align: right;\">\n",
       "      <th></th>\n",
       "      <th>alpha</th>\n",
       "      <th>J_m</th>\n",
       "      <th>ecological_strength</th>\n",
       "      <th>m</th>\n",
       "      <th>speciation_prob</th>\n",
       "      <th>_lambda</th>\n",
       "    </tr>\n",
       "  </thead>\n",
       "  <tbody>\n",
       "    <tr>\n",
       "      <th>0</th>\n",
       "      <td>2167</td>\n",
       "      <td>1194608</td>\n",
       "      <td>1.90849</td>\n",
       "      <td>0.00391</td>\n",
       "      <td>0.00096</td>\n",
       "      <td>0.764</td>\n",
       "    </tr>\n",
       "    <tr>\n",
       "      <th>1</th>\n",
       "      <td>1338</td>\n",
       "      <td>2535024</td>\n",
       "      <td>5.44232</td>\n",
       "      <td>0.00922</td>\n",
       "      <td>0.00075</td>\n",
       "      <td>0.207</td>\n",
       "    </tr>\n",
       "    <tr>\n",
       "      <th>2</th>\n",
       "      <td>1497</td>\n",
       "      <td>2524185</td>\n",
       "      <td>8.82816</td>\n",
       "      <td>0.00120</td>\n",
       "      <td>0.00046</td>\n",
       "      <td>0.299</td>\n",
       "    </tr>\n",
       "    <tr>\n",
       "      <th>3</th>\n",
       "      <td>2278</td>\n",
       "      <td>4892071</td>\n",
       "      <td>8.94387</td>\n",
       "      <td>0.00583</td>\n",
       "      <td>0.00058</td>\n",
       "      <td>0.326</td>\n",
       "    </tr>\n",
       "    <tr>\n",
       "      <th>4</th>\n",
       "      <td>4907</td>\n",
       "      <td>1318554</td>\n",
       "      <td>7.11186</td>\n",
       "      <td>0.00235</td>\n",
       "      <td>0.00099</td>\n",
       "      <td>0.980</td>\n",
       "    </tr>\n",
       "    <tr>\n",
       "      <th>5</th>\n",
       "      <td>875</td>\n",
       "      <td>1754213</td>\n",
       "      <td>6.58295</td>\n",
       "      <td>0.00990</td>\n",
       "      <td>0.00065</td>\n",
       "      <td>0.605</td>\n",
       "    </tr>\n",
       "    <tr>\n",
       "      <th>6</th>\n",
       "      <td>3740</td>\n",
       "      <td>4548798</td>\n",
       "      <td>6.16385</td>\n",
       "      <td>0.00880</td>\n",
       "      <td>0.00055</td>\n",
       "      <td>0.484</td>\n",
       "    </tr>\n",
       "    <tr>\n",
       "      <th>7</th>\n",
       "      <td>1145</td>\n",
       "      <td>4743747</td>\n",
       "      <td>8.52638</td>\n",
       "      <td>0.00134</td>\n",
       "      <td>0.00029</td>\n",
       "      <td>0.551</td>\n",
       "    </tr>\n",
       "    <tr>\n",
       "      <th>8</th>\n",
       "      <td>4895</td>\n",
       "      <td>3618925</td>\n",
       "      <td>3.96957</td>\n",
       "      <td>0.00602</td>\n",
       "      <td>0.00018</td>\n",
       "      <td>0.629</td>\n",
       "    </tr>\n",
       "    <tr>\n",
       "      <th>9</th>\n",
       "      <td>2639</td>\n",
       "      <td>4331250</td>\n",
       "      <td>4.14036</td>\n",
       "      <td>0.00494</td>\n",
       "      <td>0.00033</td>\n",
       "      <td>0.751</td>\n",
       "    </tr>\n",
       "    <tr>\n",
       "      <th>10</th>\n",
       "      <td>3071</td>\n",
       "      <td>127019</td>\n",
       "      <td>5.64051</td>\n",
       "      <td>0.00900</td>\n",
       "      <td>0.00052</td>\n",
       "      <td>0.760</td>\n",
       "    </tr>\n",
       "    <tr>\n",
       "      <th>11</th>\n",
       "      <td>3320</td>\n",
       "      <td>3900290</td>\n",
       "      <td>5.85599</td>\n",
       "      <td>0.00617</td>\n",
       "      <td>0.00089</td>\n",
       "      <td>0.214</td>\n",
       "    </tr>\n",
       "    <tr>\n",
       "      <th>12</th>\n",
       "      <td>3310</td>\n",
       "      <td>2506162</td>\n",
       "      <td>5.85137</td>\n",
       "      <td>0.00472</td>\n",
       "      <td>0.00013</td>\n",
       "      <td>0.145</td>\n",
       "    </tr>\n",
       "    <tr>\n",
       "      <th>13</th>\n",
       "      <td>2488</td>\n",
       "      <td>3595391</td>\n",
       "      <td>2.15228</td>\n",
       "      <td>0.00666</td>\n",
       "      <td>0.00080</td>\n",
       "      <td>0.782</td>\n",
       "    </tr>\n",
       "    <tr>\n",
       "      <th>14</th>\n",
       "      <td>1702</td>\n",
       "      <td>3160203</td>\n",
       "      <td>3.78565</td>\n",
       "      <td>0.00348</td>\n",
       "      <td>0.00071</td>\n",
       "      <td>0.864</td>\n",
       "    </tr>\n",
       "    <tr>\n",
       "      <th>15</th>\n",
       "      <td>2638</td>\n",
       "      <td>2439260</td>\n",
       "      <td>5.11384</td>\n",
       "      <td>0.00445</td>\n",
       "      <td>0.00044</td>\n",
       "      <td>0.039</td>\n",
       "    </tr>\n",
       "    <tr>\n",
       "      <th>16</th>\n",
       "      <td>3961</td>\n",
       "      <td>1227035</td>\n",
       "      <td>1.35268</td>\n",
       "      <td>0.00824</td>\n",
       "      <td>0.00026</td>\n",
       "      <td>0.197</td>\n",
       "    </tr>\n",
       "    <tr>\n",
       "      <th>17</th>\n",
       "      <td>1484</td>\n",
       "      <td>2168225</td>\n",
       "      <td>6.06824</td>\n",
       "      <td>0.00973</td>\n",
       "      <td>0.00018</td>\n",
       "      <td>0.584</td>\n",
       "    </tr>\n",
       "    <tr>\n",
       "      <th>18</th>\n",
       "      <td>1757</td>\n",
       "      <td>3461399</td>\n",
       "      <td>3.97219</td>\n",
       "      <td>0.00692</td>\n",
       "      <td>0.00040</td>\n",
       "      <td>0.631</td>\n",
       "    </tr>\n",
       "    <tr>\n",
       "      <th>19</th>\n",
       "      <td>3969</td>\n",
       "      <td>195445</td>\n",
       "      <td>5.26781</td>\n",
       "      <td>0.00776</td>\n",
       "      <td>0.00087</td>\n",
       "      <td>0.461</td>\n",
       "    </tr>\n",
       "  </tbody>\n",
       "</table>\n",
       "</div>"
      ],
      "text/plain": [
       "    alpha      J_m  ecological_strength        m  speciation_prob  _lambda\n",
       "0    2167  1194608              1.90849  0.00391          0.00096    0.764\n",
       "1    1338  2535024              5.44232  0.00922          0.00075    0.207\n",
       "2    1497  2524185              8.82816  0.00120          0.00046    0.299\n",
       "3    2278  4892071              8.94387  0.00583          0.00058    0.326\n",
       "4    4907  1318554              7.11186  0.00235          0.00099    0.980\n",
       "5     875  1754213              6.58295  0.00990          0.00065    0.605\n",
       "6    3740  4548798              6.16385  0.00880          0.00055    0.484\n",
       "7    1145  4743747              8.52638  0.00134          0.00029    0.551\n",
       "8    4895  3618925              3.96957  0.00602          0.00018    0.629\n",
       "9    2639  4331250              4.14036  0.00494          0.00033    0.751\n",
       "10   3071   127019              5.64051  0.00900          0.00052    0.760\n",
       "11   3320  3900290              5.85599  0.00617          0.00089    0.214\n",
       "12   3310  2506162              5.85137  0.00472          0.00013    0.145\n",
       "13   2488  3595391              2.15228  0.00666          0.00080    0.782\n",
       "14   1702  3160203              3.78565  0.00348          0.00071    0.864\n",
       "15   2638  2439260              5.11384  0.00445          0.00044    0.039\n",
       "16   3961  1227035              1.35268  0.00824          0.00026    0.197\n",
       "17   1484  2168225              6.06824  0.00973          0.00018    0.584\n",
       "18   1757  3461399              3.97219  0.00692          0.00040    0.631\n",
       "19   3969   195445              5.26781  0.00776          0.00087    0.461"
      ]
     },
     "execution_count": 45,
     "metadata": {},
     "output_type": "execute_result"
    }
   ],
   "source": [
    "## Parameters to estimate\n",
    "features = m_ss.columns\n",
    "targets = [\"alpha\", \"J_m\", \"ecological_strength\", \"m\", \"speciation_prob\", \"_lambda\"]\n",
    "\n",
    "X = sim_df[features]\n",
    "y = sim_df[targets]\n",
    "y[:20]"
   ]
  },
  {
   "cell_type": "markdown",
   "metadata": {},
   "source": [
    "## Select only relevant features\n",
    "[Boruta all relevant feature selection](http://danielhomola.com/2015/05/08/borutapy-an-all-relevant-feature-selection-method/) [(Github)](https://github.com/scikit-learn-contrib/boruta_py)"
   ]
  },
  {
   "cell_type": "code",
   "execution_count": 41,
   "metadata": {},
   "outputs": [
    {
     "ename": "NameError",
     "evalue": "name 'feat_selector' is not defined",
     "output_type": "error",
     "traceback": [
      "\u001b[0;31m---------------------------------------------------------------------------\u001b[0m",
      "\u001b[0;31mNameError\u001b[0m                                 Traceback (most recent call last)",
      "\u001b[0;32m<ipython-input-41-a60adfe7c3eb>\u001b[0m in \u001b[0;36m<module>\u001b[0;34m()\u001b[0m\n\u001b[1;32m     20\u001b[0m \u001b[0;31m#    X_filtered = feature_selection(X, y[target])\u001b[0m\u001b[0;34m\u001b[0m\u001b[0;34m\u001b[0m\u001b[0m\n\u001b[1;32m     21\u001b[0m \u001b[0;31m#    print(target, X_filtered.columns)\u001b[0m\u001b[0;34m\u001b[0m\u001b[0;34m\u001b[0m\u001b[0m\n\u001b[0;32m---> 22\u001b[0;31m \u001b[0mfeat_selector\u001b[0m\u001b[0;34m.\u001b[0m\u001b[0msupport_\u001b[0m\u001b[0;34m\u001b[0m\u001b[0m\n\u001b[0m",
      "\u001b[0;31mNameError\u001b[0m: name 'feat_selector' is not defined"
     ]
    }
   ],
   "source": [
    "def feature_selection(X, y, verbose=False):\n",
    "    tmpX = X.values\n",
    "    tmpy = y.values\n",
    "    #rf = RandomForestRegressor(*{'warm_start': False, 'oob_score': False, 'n_jobs': -1, 'min_impurity_decrease': 0.0, 'verbose': 0, 'max_leaf_nodes': None, 'bootstrap': False, 'min_samples_leaf': 4, 'n_estimators': 600, 'min_samples_split': 2, 'min_weight_fraction_leaf': 0.0, 'criterion': 'mse', 'random_state': None, 'min_impurity_split': None, 'max_features': 'auto', 'max_depth': 60})\n",
    "    rf = RandomForestRegressor(n_jobs=-1, n_estimators=600, max_depth=5)\n",
    "\n",
    "    # define Boruta feature selection method\n",
    "    feat_selector = BorutaPy(rf, n_estimators='auto', verbose=0, random_state=1)\n",
    "    np.warnings.filterwarnings('ignore')\n",
    "    feat_selector.fit(tmpX, tmpy)\n",
    "\n",
    "    # check ranking of features\n",
    "    if verbose: print(feat_selector.ranking_)\n",
    "    X_filtered = feat_selector.transform(tmpX)\n",
    "    ## Use feat_selector.support_weak_ to include more variables\n",
    "    X_filtered = pd.DataFrame(X_filtered, columns = X.columns[feat_selector.support_])\n",
    "    return X_filtered\n",
    "\n",
    "for target in [\"_lambda\"]:#targets:\n",
    "    X_filtered = feature_selection(X, y[target])\n",
    "    print(target, X_filtered.columns)\n"
   ]
  },
  {
   "cell_type": "code",
   "execution_count": 6,
   "metadata": {},
   "outputs": [
    {
     "name": "stdout",
     "output_type": "stream",
     "text": [
      "((11974, 27), (11974, 9), (11974, 6))\n"
     ]
    },
    {
     "data": {
      "text/html": [
       "<div>\n",
       "<style scoped>\n",
       "    .dataframe tbody tr th:only-of-type {\n",
       "        vertical-align: middle;\n",
       "    }\n",
       "\n",
       "    .dataframe tbody tr th {\n",
       "        vertical-align: top;\n",
       "    }\n",
       "\n",
       "    .dataframe thead th {\n",
       "        text-align: right;\n",
       "    }\n",
       "</style>\n",
       "<table border=\"1\" class=\"dataframe\">\n",
       "  <thead>\n",
       "    <tr style=\"text-align: right;\">\n",
       "      <th></th>\n",
       "      <th>S</th>\n",
       "      <th>abund_h1</th>\n",
       "      <th>abund_h2</th>\n",
       "      <th>abund_h3</th>\n",
       "      <th>abund_h4</th>\n",
       "      <th>mean_pi</th>\n",
       "      <th>std_pi</th>\n",
       "      <th>iqr_pi</th>\n",
       "      <th>abundance_pi_cor</th>\n",
       "    </tr>\n",
       "  </thead>\n",
       "  <tbody>\n",
       "    <tr>\n",
       "      <th>10070</th>\n",
       "      <td>22.0</td>\n",
       "      <td>9.28963</td>\n",
       "      <td>7.29799</td>\n",
       "      <td>6.48516</td>\n",
       "      <td>6.00599</td>\n",
       "      <td>0.00065</td>\n",
       "      <td>0.00094</td>\n",
       "      <td>0.00105</td>\n",
       "      <td>0.51113</td>\n",
       "    </tr>\n",
       "    <tr>\n",
       "      <th>285</th>\n",
       "      <td>16.0</td>\n",
       "      <td>3.28456</td>\n",
       "      <td>2.04127</td>\n",
       "      <td>1.76550</td>\n",
       "      <td>1.66198</td>\n",
       "      <td>0.00007</td>\n",
       "      <td>0.00014</td>\n",
       "      <td>0.00000</td>\n",
       "      <td>0.68445</td>\n",
       "    </tr>\n",
       "  </tbody>\n",
       "</table>\n",
       "</div>"
      ],
      "text/plain": [
       "          S  abund_h1  abund_h2  abund_h3  abund_h4  mean_pi   std_pi   iqr_pi  abundance_pi_cor\n",
       "10070  22.0   9.28963   7.29799   6.48516   6.00599  0.00065  0.00094  0.00105           0.51113\n",
       "285    16.0   3.28456   2.04127   1.76550   1.66198  0.00007  0.00014  0.00000           0.68445"
      ]
     },
     "execution_count": 6,
     "metadata": {},
     "output_type": "execute_result"
    }
   ],
   "source": [
    "## Split the data\n",
    "print(X.shape, X_filtered.shape, y.shape)\n",
    "Xtrain, Xtest, ytrain, ytest = train_test_split(X_filtered, y)\n",
    "Xtrain[:2]"
   ]
  },
  {
   "cell_type": "markdown",
   "metadata": {},
   "source": [
    "## Find best RF parameter values given our data"
   ]
  },
  {
   "cell_type": "code",
   "execution_count": 46,
   "metadata": {},
   "outputs": [
    {
     "data": {
      "text/plain": [
       "RandomizedSearchCV(cv=3, error_score='raise-deprecating',\n",
       "          estimator=RandomForestRegressor(bootstrap=True, criterion='mse', max_depth=None,\n",
       "           max_features='auto', max_leaf_nodes=None,\n",
       "           min_impurity_decrease=0.0, min_impurity_split=None,\n",
       "           min_samples_leaf=1, min_samples_split=2,\n",
       "           min_weight_fraction_leaf=0.0, n_estimators='warn', n_jobs=None,\n",
       "           oob_score=False, random_state=None, verbose=0, warm_start=False),\n",
       "          fit_params=None, iid='warn', n_iter=100, n_jobs=-1,\n",
       "          param_distributions={'n_estimators': [200, 400, 600, 800, 1000, 1200, 1400, 1600, 1800, 2000], 'min_samples_split': [2, 5, 10], 'bootstrap': [True, False], 'max_depth': [10, 20, 30, 40, 50, 60, 70, 80, 90, 100, 110, None], 'min_samples_leaf': [1, 2, 4]},\n",
       "          pre_dispatch='2*n_jobs', random_state=None, refit=True,\n",
       "          return_train_score='warn', scoring=None, verbose=0)"
      ]
     },
     "execution_count": 46,
     "metadata": {},
     "output_type": "execute_result"
    }
   ],
   "source": [
    "n_estimators = [int(x) for x in np.linspace(start = 200, stop = 2000, num = 10)]\n",
    "max_depth = [int(x) for x in np.linspace(10, 110, num = 11)]\n",
    "max_depth.append(None)\n",
    "min_samples_split = [2, 5, 10]\n",
    "min_samples_leaf = [1, 2, 4]\n",
    "bootstrap = [True, False]\n",
    "random_grid = {'n_estimators': n_estimators,\n",
    "               'max_depth': max_depth,\n",
    "               'min_samples_split': min_samples_split,\n",
    "               'min_samples_leaf': min_samples_leaf,\n",
    "               'bootstrap': bootstrap}\n",
    "\n",
    "## Randomly search 100 different parameter combinations and take the\n",
    "## one that reduces CV error\n",
    "rf_random = RandomizedSearchCV(estimator = RandomForestRegressor(),\\\n",
    "                               param_distributions = random_grid,\n",
    "                               n_iter = 100, cv = 3, verbose=0, n_jobs = -1)\n",
    "rf_random.fit(Xtrain, ytrain)"
   ]
  },
  {
   "cell_type": "markdown",
   "metadata": {},
   "source": [
    "## How good is our model on simulated data?\n",
    "It's okay actually."
   ]
  },
  {
   "cell_type": "code",
   "execution_count": 47,
   "metadata": {},
   "outputs": [
    {
     "data": {
      "text/plain": [
       "array([ 0.00263291, -0.00120313, -0.00191964, -0.00244868, -0.00646401])"
      ]
     },
     "execution_count": 47,
     "metadata": {},
     "output_type": "execute_result"
    }
   ],
   "source": [
    "model = rf_random.best_estimator_\n",
    "scores = cross_val_score(model, X, y, cv=5)\n",
    "scores"
   ]
  },
  {
   "cell_type": "markdown",
   "metadata": {},
   "source": [
    "## Train model on full simulated data (maybe this is unnecessary)\n",
    "Doesn't change the outcome much to retrain the model using all the simulated data.\n",
    "```\n",
    "## Mauritius ypred w/o retraining on the full data\n",
    "array([[6.53216976e+03, 2.41468557e-04, 3.74642894e-03]])\n",
    "\n",
    "## Mauritius ypred after retraining on the full data\n",
    "array([[6.50993991e+03, 2.40522839e-04, 3.98148285e-03]])\n",
    "```"
   ]
  },
  {
   "cell_type": "markdown",
   "metadata": {},
   "source": [
    "## Use the trained model to predict the params for the real data"
   ]
  },
  {
   "cell_type": "code",
   "execution_count": 52,
   "metadata": {},
   "outputs": [
    {
     "ename": "ValueError",
     "evalue": "Number of features of the model must match the input. Model n_features is 9 and input n_features is 18 ",
     "output_type": "error",
     "traceback": [
      "\u001b[0;31m---------------------------------------------------------------------------\u001b[0m",
      "\u001b[0;31mValueError\u001b[0m                                Traceback (most recent call last)",
      "\u001b[0;32m<ipython-input-52-18b225832259>\u001b[0m in \u001b[0;36m<module>\u001b[0;34m()\u001b[0m\n\u001b[1;32m      3\u001b[0m \u001b[0;34m\u001b[0m\u001b[0m\n\u001b[1;32m      4\u001b[0m \u001b[0;31m#display(pd.DataFrame(model.feature_importances_, index=X_filtered.columns).T)\u001b[0m\u001b[0;34m\u001b[0m\u001b[0;34m\u001b[0m\u001b[0m\n\u001b[0;32m----> 5\u001b[0;31m \u001b[0mm_ypred\u001b[0m \u001b[0;34m=\u001b[0m \u001b[0mmodel\u001b[0m\u001b[0;34m.\u001b[0m\u001b[0mpredict\u001b[0m\u001b[0;34m(\u001b[0m\u001b[0mm_ss\u001b[0m\u001b[0;34m)\u001b[0m\u001b[0;34m\u001b[0m\u001b[0m\n\u001b[0m\u001b[1;32m      6\u001b[0m \u001b[0mr_ypred\u001b[0m \u001b[0;34m=\u001b[0m \u001b[0mmodel\u001b[0m\u001b[0;34m.\u001b[0m\u001b[0mpredict\u001b[0m\u001b[0;34m(\u001b[0m\u001b[0mr_ss\u001b[0m\u001b[0;34m)\u001b[0m\u001b[0;34m\u001b[0m\u001b[0m\n\u001b[1;32m      7\u001b[0m \u001b[0mdisplay\u001b[0m\u001b[0;34m(\u001b[0m\u001b[0mpd\u001b[0m\u001b[0;34m.\u001b[0m\u001b[0mDataFrame\u001b[0m\u001b[0;34m(\u001b[0m\u001b[0mm_ypred\u001b[0m\u001b[0;34m,\u001b[0m \u001b[0mcolumns\u001b[0m\u001b[0;34m=\u001b[0m\u001b[0mtargets\u001b[0m\u001b[0;34m)\u001b[0m\u001b[0;34m)\u001b[0m\u001b[0;34m\u001b[0m\u001b[0m\n",
      "\u001b[0;32m/home/isaac/miniconda2/envs/MESS/lib/python2.7/site-packages/sklearn/ensemble/forest.pyc\u001b[0m in \u001b[0;36mpredict\u001b[0;34m(self, X)\u001b[0m\n\u001b[1;32m    686\u001b[0m         \u001b[0mcheck_is_fitted\u001b[0m\u001b[0;34m(\u001b[0m\u001b[0mself\u001b[0m\u001b[0;34m,\u001b[0m \u001b[0;34m'estimators_'\u001b[0m\u001b[0;34m)\u001b[0m\u001b[0;34m\u001b[0m\u001b[0m\n\u001b[1;32m    687\u001b[0m         \u001b[0;31m# Check data\u001b[0m\u001b[0;34m\u001b[0m\u001b[0;34m\u001b[0m\u001b[0m\n\u001b[0;32m--> 688\u001b[0;31m         \u001b[0mX\u001b[0m \u001b[0;34m=\u001b[0m \u001b[0mself\u001b[0m\u001b[0;34m.\u001b[0m\u001b[0m_validate_X_predict\u001b[0m\u001b[0;34m(\u001b[0m\u001b[0mX\u001b[0m\u001b[0;34m)\u001b[0m\u001b[0;34m\u001b[0m\u001b[0m\n\u001b[0m\u001b[1;32m    689\u001b[0m \u001b[0;34m\u001b[0m\u001b[0m\n\u001b[1;32m    690\u001b[0m         \u001b[0;31m# Assign chunk of trees to jobs\u001b[0m\u001b[0;34m\u001b[0m\u001b[0;34m\u001b[0m\u001b[0m\n",
      "\u001b[0;32m/home/isaac/miniconda2/envs/MESS/lib/python2.7/site-packages/sklearn/ensemble/forest.pyc\u001b[0m in \u001b[0;36m_validate_X_predict\u001b[0;34m(self, X)\u001b[0m\n\u001b[1;32m    360\u001b[0m                                  \"call `fit` before exploiting the model.\")\n\u001b[1;32m    361\u001b[0m \u001b[0;34m\u001b[0m\u001b[0m\n\u001b[0;32m--> 362\u001b[0;31m         \u001b[0;32mreturn\u001b[0m \u001b[0mself\u001b[0m\u001b[0;34m.\u001b[0m\u001b[0mestimators_\u001b[0m\u001b[0;34m[\u001b[0m\u001b[0;36m0\u001b[0m\u001b[0;34m]\u001b[0m\u001b[0;34m.\u001b[0m\u001b[0m_validate_X_predict\u001b[0m\u001b[0;34m(\u001b[0m\u001b[0mX\u001b[0m\u001b[0;34m,\u001b[0m \u001b[0mcheck_input\u001b[0m\u001b[0;34m=\u001b[0m\u001b[0mTrue\u001b[0m\u001b[0;34m)\u001b[0m\u001b[0;34m\u001b[0m\u001b[0m\n\u001b[0m\u001b[1;32m    363\u001b[0m \u001b[0;34m\u001b[0m\u001b[0m\n\u001b[1;32m    364\u001b[0m     \u001b[0;34m@\u001b[0m\u001b[0mproperty\u001b[0m\u001b[0;34m\u001b[0m\u001b[0m\n",
      "\u001b[0;32m/home/isaac/miniconda2/envs/MESS/lib/python2.7/site-packages/sklearn/tree/tree.pyc\u001b[0m in \u001b[0;36m_validate_X_predict\u001b[0;34m(self, X, check_input)\u001b[0m\n\u001b[1;32m    386\u001b[0m                              \u001b[0;34m\"match the input. Model n_features is %s and \"\u001b[0m\u001b[0;34m\u001b[0m\u001b[0m\n\u001b[1;32m    387\u001b[0m                              \u001b[0;34m\"input n_features is %s \"\u001b[0m\u001b[0;34m\u001b[0m\u001b[0m\n\u001b[0;32m--> 388\u001b[0;31m                              % (self.n_features_, n_features))\n\u001b[0m\u001b[1;32m    389\u001b[0m \u001b[0;34m\u001b[0m\u001b[0m\n\u001b[1;32m    390\u001b[0m         \u001b[0;32mreturn\u001b[0m \u001b[0mX\u001b[0m\u001b[0;34m\u001b[0m\u001b[0m\n",
      "\u001b[0;31mValueError\u001b[0m: Number of features of the model must match the input. Model n_features is 9 and input n_features is 18 "
     ]
    }
   ],
   "source": [
    "m_ss = m_ss[X_filtered.columns]\n",
    "r_ss = r_ss[X_filtered.columns]\n",
    "\n",
    "#display(pd.DataFrame(model.feature_importances_, index=X_filtered.columns).T)\n",
    "m_ypred = model.predict(m_ss)\n",
    "r_ypred = model.predict(r_ss)\n",
    "display(pd.DataFrame(m_ypred, columns=targets))\n",
    "display(pd.DataFrame(r_ypred, columns=targets))"
   ]
  },
  {
   "cell_type": "markdown",
   "metadata": {},
   "source": [
    "## Get fancy. Get predictions from each of the trees in the forest.\n",
    "This is an effort to try to obtain some kind of CI on the estimates. I guess the logic here is you're using all the trees including the good ones and the crappy ones, so looking at the distribution of estimates isn't really informative. The rf.predict() function just returns the mean of all these."
   ]
  },
  {
   "cell_type": "code",
   "execution_count": 22,
   "metadata": {},
   "outputs": [],
   "source": [
    "m_predictions = np.array([x.predict(m_ss)[0] for x in model.estimators_])\n",
    "r_predictions = np.array([x.predict(r_ss)[0] for x in model.estimators_])"
   ]
  },
  {
   "cell_type": "code",
   "execution_count": 25,
   "metadata": {},
   "outputs": [
    {
     "data": {
      "image/png": "[encoded data removed]",
      "text/plain": [
       "<Figure size 432x288 with 1 Axes>"
      ]
     },
     "metadata": {
      "needs_background": "light"
     },
     "output_type": "display_data"
    },
    {
     "data": {
      "image/png": "[encoded data removed]",
      "text/plain": [
       "<Figure size 432x288 with 1 Axes>"
      ]
     },
     "metadata": {
      "needs_background": "light"
     },
     "output_type": "display_data"
    },
    {
     "data": {
      "image/png": "[encoded data removed]",
      "text/plain": [
       "<Figure size 432x288 with 1 Axes>"
      ]
     },
     "metadata": {
      "needs_background": "light"
     },
     "output_type": "display_data"
    },
    {
     "data": {
      "image/png": "[encoded data removed]",
      "text/plain": [
       "<Figure size 432x288 with 1 Axes>"
      ]
     },
     "metadata": {
      "needs_background": "light"
     },
     "output_type": "display_data"
    },
    {
     "data": {
      "image/png": "[encoded data removed]",
      "text/plain": [
       "<Figure size 432x288 with 1 Axes>"
      ]
     },
     "metadata": {
      "needs_background": "light"
     },
     "output_type": "display_data"
    },
    {
     "data": {
      "image/png": "[encoded data removed]",
      "text/plain": [
       "<Figure size 432x288 with 1 Axes>"
      ]
     },
     "metadata": {
      "needs_background": "light"
     },
     "output_type": "display_data"
    }
   ],
   "source": [
    "for i, t in enumerate(targets):\n",
    "    fig, ax = plt.subplots()\n",
    "    #print(np.mean(m_predictions[:, i]))\n",
    "    _, _, _ = ax.hist(m_predictions[:, i], alpha=0.6, bins=20)\n",
    "    #print(np.mean(r_predictions[:, i]))\n",
    "    _, _, _ = ax.hist(r_predictions[:, i], alpha=0.6, bins=20)\n",
    "    ax.set_title(t)"
   ]
  }
 ],
 "metadata": {
  "kernelspec": {
   "display_name": "Python 2",
   "language": "python",
   "name": "python2"
  },
  "language_info": {
   "codemirror_mode": {
    "name": "ipython",
    "version": 2
   },
   "file_extension": ".py",
   "mimetype": "text/x-python",
   "name": "python",
   "nbconvert_exporter": "python",
   "pygments_lexer": "ipython2",
   "version": "2.7.15"
  }
 },
 "nbformat": 4,
 "nbformat_minor": 2
}
