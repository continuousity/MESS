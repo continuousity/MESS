{
 "cells": [
  {
   "cell_type": "code",
   "execution_count": 3,
   "metadata": {},
   "outputs": [],
   "source": [
    "%load_ext autoreload\n",
    "%autoreload 2\n",
    "%matplotlib inline\n",
    "import matplotlib.pyplot as plt\n",
    "import MESS\n",
    "import numpy as np\n",
    "import pandas as pd\n",
    "\n",
    "from collections import OrderedDict\n",
    "from itertools import combinations\n",
    "from scipy.stats import spearmanr\n",
    "\n",
    "pd.set_option('display.max_rows', 500)\n",
    "pd.set_option('display.max_columns', 500)\n",
    "pd.set_option('display.width', 1000)"
   ]
  },
  {
   "cell_type": "markdown",
   "metadata": {},
   "source": [
    "## Generate a small fake community dataset including pi, dxy, abund, & traits"
   ]
  },
  {
   "cell_type": "code",
   "execution_count": 3,
   "metadata": {},
   "outputs": [
    {
     "data": {
      "text/html": [
       "<div>\n",
       "<style scoped>\n",
       "    .dataframe tbody tr th:only-of-type {\n",
       "        vertical-align: middle;\n",
       "    }\n",
       "\n",
       "    .dataframe tbody tr th {\n",
       "        vertical-align: top;\n",
       "    }\n",
       "\n",
       "    .dataframe thead th {\n",
       "        text-align: right;\n",
       "    }\n",
       "</style>\n",
       "<table border=\"1\" class=\"dataframe\">\n",
       "  <thead>\n",
       "    <tr style=\"text-align: right;\">\n",
       "      <th></th>\n",
       "      <th>pi</th>\n",
       "      <th>dxy</th>\n",
       "      <th>abundance</th>\n",
       "      <th>trait</th>\n",
       "    </tr>\n",
       "  </thead>\n",
       "  <tbody>\n",
       "    <tr>\n",
       "      <th>0</th>\n",
       "      <td>0.066124</td>\n",
       "      <td>0.074111</td>\n",
       "      <td>8</td>\n",
       "      <td>0.185415</td>\n",
       "    </tr>\n",
       "    <tr>\n",
       "      <th>1</th>\n",
       "      <td>0.012453</td>\n",
       "      <td>0.037473</td>\n",
       "      <td>30</td>\n",
       "      <td>0.057128</td>\n",
       "    </tr>\n",
       "    <tr>\n",
       "      <th>2</th>\n",
       "      <td>0.057139</td>\n",
       "      <td>0.057638</td>\n",
       "      <td>38</td>\n",
       "      <td>0.297253</td>\n",
       "    </tr>\n",
       "    <tr>\n",
       "      <th>3</th>\n",
       "      <td>0.088717</td>\n",
       "      <td>0.003544</td>\n",
       "      <td>64</td>\n",
       "      <td>1.981273</td>\n",
       "    </tr>\n",
       "    <tr>\n",
       "      <th>4</th>\n",
       "      <td>0.055737</td>\n",
       "      <td>0.028951</td>\n",
       "      <td>67</td>\n",
       "      <td>2.523354</td>\n",
       "    </tr>\n",
       "    <tr>\n",
       "      <th>5</th>\n",
       "      <td>0.098679</td>\n",
       "      <td>0.037067</td>\n",
       "      <td>71</td>\n",
       "      <td>5.835256</td>\n",
       "    </tr>\n",
       "    <tr>\n",
       "      <th>6</th>\n",
       "      <td>0.039732</td>\n",
       "      <td>0.062204</td>\n",
       "      <td>20</td>\n",
       "      <td>9.482491</td>\n",
       "    </tr>\n",
       "    <tr>\n",
       "      <th>7</th>\n",
       "      <td>0.060277</td>\n",
       "      <td>0.019458</td>\n",
       "      <td>62</td>\n",
       "      <td>4.047420</td>\n",
       "    </tr>\n",
       "    <tr>\n",
       "      <th>8</th>\n",
       "      <td>0.065151</td>\n",
       "      <td>0.079931</td>\n",
       "      <td>10</td>\n",
       "      <td>6.109432</td>\n",
       "    </tr>\n",
       "    <tr>\n",
       "      <th>9</th>\n",
       "      <td>0.001932</td>\n",
       "      <td>0.011662</td>\n",
       "      <td>3</td>\n",
       "      <td>3.510000</td>\n",
       "    </tr>\n",
       "  </tbody>\n",
       "</table>\n",
       "</div>"
      ],
      "text/plain": [
       "         pi       dxy  abundance     trait\n",
       "0  0.066124  0.074111          8  0.185415\n",
       "1  0.012453  0.037473         30  0.057128\n",
       "2  0.057139  0.057638         38  0.297253\n",
       "3  0.088717  0.003544         64  1.981273\n",
       "4  0.055737  0.028951         67  2.523354\n",
       "5  0.098679  0.037067         71  5.835256\n",
       "6  0.039732  0.062204         20  9.482491\n",
       "7  0.060277  0.019458         62  4.047420\n",
       "8  0.065151  0.079931         10  6.109432\n",
       "9  0.001932  0.011662          3  3.510000"
      ]
     },
     "metadata": {},
     "output_type": "display_data"
    },
    {
     "name": "stdout",
     "output_type": "stream",
     "text": [
      "0.054594088125007476\n"
     ]
    }
   ],
   "source": [
    "pis = np.random.random(10)/10\n",
    "dxys = np.random.random(10)/10\n",
    "abunds = np.random.randint(1, 100, 10)\n",
    "trts = np.random.random(10)*10\n",
    "\n",
    "dat = pd.DataFrame([], columns=[\"pi\", \"dxy\", \"abundance\", \"trait\"])\n",
    "dat[\"pi\"] = pis\n",
    "dat[\"dxy\"] = dxys\n",
    "dat[\"abundance\"] = abunds\n",
    "dat[\"trait\"] = trts\n",
    "display(dat)\n",
    "print(np.mean(dat[\"pi\"]))"
   ]
  },
  {
   "cell_type": "markdown",
   "metadata": {},
   "source": [
    "## Correlations between datatypes\n"
   ]
  },
  {
   "cell_type": "code",
   "execution_count": 4,
   "metadata": {},
   "outputs": [
    {
     "name": "stdout",
     "output_type": "stream",
     "text": [
      "(('pi', 'dxy'), 0.06666666666666665)\n",
      "(('pi', 'abundance'), 0.4545454545454545)\n",
      "(('pi', 'trait'), 0.09090909090909088)\n",
      "(('dxy', 'abundance'), -0.406060606060606)\n",
      "(('dxy', 'trait'), 0.11515151515151514)\n",
      "(('abundance', 'trait'), 0.04242424242424241)\n"
     ]
    }
   ],
   "source": [
    "for pair in combinations(dat.columns, r=2):\n",
    "    print(pair, spearmanr(dat[pair[0]], dat[pair[1]])[0])"
   ]
  },
  {
   "cell_type": "markdown",
   "metadata": {},
   "source": [
    "## Calculate generalized hill numbers for abundance and pi for the test data"
   ]
  },
  {
   "cell_type": "code",
   "execution_count": 11,
   "metadata": {},
   "outputs": [
    {
     "name": "stdout",
     "output_type": "stream",
     "text": [
      "('abundance', 0, 0.02680965147453083)\n",
      "('abundance', 1, 0.020523241887415097)\n",
      "('abundance', 2, 0.01829597292392211)\n",
      "('abundance', 3, 0.017270410886360606)\n",
      "('abundance', 4, 0.016693114101585506)\n",
      "('pi', 0, 0.022119496006088184)\n",
      "('pi', 1, 0.01828988845523972)\n",
      "('pi', 2, 0.01686920857774611)\n",
      "('pi', 3, 0.01623919273621736)\n",
      "('pi', 4, 0.01589464371780899)\n",
      "('trait', 0, 10.965485946779129)\n",
      "('trait', 1, 8.561483809888323)\n",
      "('trait', 2, 7.507472667546)\n",
      "('trait', 3, 6.945980372494117)\n",
      "('trait', 4, 6.608012875040912)\n",
      "[[1.5]]\n"
     ]
    },
    {
     "data": {
      "text/plain": [
       "array([[0.]])"
      ]
     },
     "execution_count": 11,
     "metadata": {},
     "output_type": "execute_result"
    }
   ],
   "source": [
    "np.array(np.ones(10))\n",
    "for p in [\"abundance\", \"pi\"]:\n",
    "    if p == \"abundance\":\n",
    "        vals = None\n",
    "    else:\n",
    "        vals = dat[p]\n",
    "    for i in range(0, 5):\n",
    "        hval = MESS.stats.generalized_hill_number(abunds=dat[\"abundance\"], vals=vals, order=i)\n",
    "        print(p, i, hval)\n",
    "for i in range(0, 5):\n",
    "    hval = MESS.stats.trait_hill_number(abunds=dat[\"abundance\"], traits=dat[\"trait\"], order=i)\n",
    "    print(\"trait\", i, hval)\n",
    "traits = pd.DataFrame([1.5])\n",
    "MESS.stats.trait_hill_number(abunds=pd.DataFrame([100]), traits=traits)\n",
    "from sklearn.metrics import pairwise_distances\n",
    "traits = traits.values.reshape(-1, 1)\n",
    "print(traits)\n",
    "pairwise_distances(traits)"
   ]
  },
  {
   "cell_type": "markdown",
   "metadata": {},
   "source": [
    "## How do even vs uneven abundances interact with even and uneven pi distributions in the generalized hill framework?"
   ]
  },
  {
   "cell_type": "code",
   "execution_count": 34,
   "metadata": {},
   "outputs": [
    {
     "data": {
      "text/plain": [
       "[<matplotlib.lines.Line2D at 0x7f32be335b10>]"
      ]
     },
     "execution_count": 34,
     "metadata": {},
     "output_type": "execute_result"
    },
    {
     "data": {
      "image/png": "[encoded data removed]",
      "text/plain": [
       "<Figure size 360x360 with 1 Axes>"
      ]
     },
     "metadata": {
      "needs_background": "light"
     },
     "output_type": "display_data"
    }
   ],
   "source": [
    "watdo = MESS.stats.generalized_hill_number\n",
    "fig, ax = plt.subplots(figsize=(5, 5))\n",
    "xs = list(range(0,7))\n",
    "\n",
    "## Rand abund even pi\n",
    "abunds = dat[\"abundance\"]\n",
    "even_pi = np.array([0.04] * 10)\n",
    "ys = [watdo(abunds, even_pi, i) for i in xs]\n",
    "ax.plot(xs, ys, c='b')\n",
    "\n",
    "## Even abund even pi\n",
    "abunds = np.array([10] * 10)\n",
    "even_pi = np.array([0.04] * 10)\n",
    "ys = [watdo(abunds, even_pi, i) for i in xs]\n",
    "ax.plot(xs, ys, c='r')\n",
    "#vals = np.ones(len(dat[\"abundance\"]))\n",
    "\n",
    "## Rand abund rand pi\n",
    "abunds = dat[\"abundance\"]\n",
    "vals = dat[\"pi\"]\n",
    "ys = [watdo(abunds, vals, i) for i in xs]\n",
    "ax.plot(xs, ys, c='g')\n",
    "\n",
    "## even abund rand pi\n",
    "abunds = np.array([10] * 10)\n",
    "vals = dat[\"pi\"]\n",
    "ys = [watdo(abunds, vals, i) for i in xs]\n",
    "ax.plot(xs, ys, c='orange')\n"
   ]
  },
  {
   "cell_type": "markdown",
   "metadata": {},
   "source": [
    "## Formulate hill # for traits"
   ]
  },
  {
   "cell_type": "code",
   "execution_count": 50,
   "metadata": {},
   "outputs": [
    {
     "data": {
      "text/plain": [
       "[<matplotlib.lines.Line2D at 0x7f32b184bd10>]"
      ]
     },
     "execution_count": 50,
     "metadata": {},
     "output_type": "execute_result"
    },
    {
     "data": {
      "image/png": "[encoded data removed]",
      "text/plain": [
       "<Figure size 432x288 with 1 Axes>"
      ]
     },
     "metadata": {
      "needs_background": "light"
     },
     "output_type": "display_data"
    }
   ],
   "source": [
    "xs = list(range(0,7))\n",
    "ys = [MESS.stats.trait_hill_number(abunds=dat[\"abundance\"], traits=dat[\"trait\"], order=i) for i in xs]\n",
    "plt.plot(xs, ys)"
   ]
  },
  {
   "cell_type": "code",
   "execution_count": 139,
   "metadata": {},
   "outputs": [
    {
     "data": {
      "text/html": [
       "<div>\n",
       "<style scoped>\n",
       "    .dataframe tbody tr th:only-of-type {\n",
       "        vertical-align: middle;\n",
       "    }\n",
       "\n",
       "    .dataframe tbody tr th {\n",
       "        vertical-align: top;\n",
       "    }\n",
       "\n",
       "    .dataframe thead th {\n",
       "        text-align: right;\n",
       "    }\n",
       "</style>\n",
       "<table border=\"1\" class=\"dataframe\">\n",
       "  <thead>\n",
       "    <tr style=\"text-align: right;\">\n",
       "      <th></th>\n",
       "      <th>S</th>\n",
       "      <th>abund_h1</th>\n",
       "      <th>abund_h2</th>\n",
       "      <th>abund_h3</th>\n",
       "      <th>abund_h4</th>\n",
       "      <th>pi_h1</th>\n",
       "      <th>pi_h2</th>\n",
       "      <th>pi_h3</th>\n",
       "      <th>pi_h4</th>\n",
       "      <th>mean_pi</th>\n",
       "      <th>std_pi</th>\n",
       "      <th>skewness_pi</th>\n",
       "      <th>kurtosis_pi</th>\n",
       "      <th>median_pi</th>\n",
       "      <th>iqr_pi</th>\n",
       "      <th>mean_dxys</th>\n",
       "      <th>std_dxys</th>\n",
       "      <th>skewness_dxys</th>\n",
       "      <th>kurtosis_dxys</th>\n",
       "      <th>median_dxys</th>\n",
       "      <th>iqr_dxys</th>\n",
       "      <th>trees</th>\n",
       "      <th>trait_h1</th>\n",
       "      <th>trait_h2</th>\n",
       "      <th>trait_h3</th>\n",
       "      <th>trait_h4</th>\n",
       "      <th>mean_local_traits</th>\n",
       "      <th>std_local_traits</th>\n",
       "      <th>skewness_local_traits</th>\n",
       "      <th>kurtosis_local_traits</th>\n",
       "      <th>median_local_traits</th>\n",
       "      <th>iqr_local_traits</th>\n",
       "      <th>SGD_0_0</th>\n",
       "      <th>SGD_0_1</th>\n",
       "      <th>SGD_0_2</th>\n",
       "      <th>SGD_0_3</th>\n",
       "      <th>SGD_0_4</th>\n",
       "      <th>SGD_0_5</th>\n",
       "      <th>SGD_0_6</th>\n",
       "      <th>SGD_0_7</th>\n",
       "      <th>SGD_0_8</th>\n",
       "      <th>SGD_0_9</th>\n",
       "      <th>SGD_1_0</th>\n",
       "      <th>SGD_1_1</th>\n",
       "      <th>SGD_1_2</th>\n",
       "      <th>SGD_1_3</th>\n",
       "      <th>SGD_1_4</th>\n",
       "      <th>SGD_1_5</th>\n",
       "      <th>SGD_1_6</th>\n",
       "      <th>SGD_1_7</th>\n",
       "      <th>SGD_1_8</th>\n",
       "      <th>SGD_1_9</th>\n",
       "      <th>SGD_2_0</th>\n",
       "      <th>SGD_2_1</th>\n",
       "      <th>SGD_2_2</th>\n",
       "      <th>SGD_2_3</th>\n",
       "      <th>SGD_2_4</th>\n",
       "      <th>SGD_2_5</th>\n",
       "      <th>SGD_2_6</th>\n",
       "      <th>SGD_2_7</th>\n",
       "      <th>SGD_2_8</th>\n",
       "      <th>SGD_2_9</th>\n",
       "      <th>SGD_3_0</th>\n",
       "      <th>SGD_3_1</th>\n",
       "      <th>SGD_3_2</th>\n",
       "      <th>SGD_3_3</th>\n",
       "      <th>SGD_3_4</th>\n",
       "      <th>SGD_3_5</th>\n",
       "      <th>SGD_3_6</th>\n",
       "      <th>SGD_3_7</th>\n",
       "      <th>SGD_3_8</th>\n",
       "      <th>SGD_3_9</th>\n",
       "      <th>SGD_4_0</th>\n",
       "      <th>SGD_4_1</th>\n",
       "      <th>SGD_4_2</th>\n",
       "      <th>SGD_4_3</th>\n",
       "      <th>SGD_4_4</th>\n",
       "      <th>SGD_4_5</th>\n",
       "      <th>SGD_4_6</th>\n",
       "      <th>SGD_4_7</th>\n",
       "      <th>SGD_4_8</th>\n",
       "      <th>SGD_4_9</th>\n",
       "      <th>SGD_5_0</th>\n",
       "      <th>SGD_5_1</th>\n",
       "      <th>SGD_5_2</th>\n",
       "      <th>SGD_5_3</th>\n",
       "      <th>SGD_5_4</th>\n",
       "      <th>SGD_5_5</th>\n",
       "      <th>SGD_5_6</th>\n",
       "      <th>SGD_5_7</th>\n",
       "      <th>SGD_5_8</th>\n",
       "      <th>SGD_5_9</th>\n",
       "      <th>SGD_6_0</th>\n",
       "      <th>SGD_6_1</th>\n",
       "      <th>SGD_6_2</th>\n",
       "      <th>SGD_6_3</th>\n",
       "      <th>SGD_6_4</th>\n",
       "      <th>SGD_6_5</th>\n",
       "      <th>SGD_6_6</th>\n",
       "      <th>SGD_6_7</th>\n",
       "      <th>SGD_6_8</th>\n",
       "      <th>SGD_6_9</th>\n",
       "      <th>SGD_7_0</th>\n",
       "      <th>SGD_7_1</th>\n",
       "      <th>SGD_7_2</th>\n",
       "      <th>SGD_7_3</th>\n",
       "      <th>SGD_7_4</th>\n",
       "      <th>SGD_7_5</th>\n",
       "      <th>SGD_7_6</th>\n",
       "      <th>SGD_7_7</th>\n",
       "      <th>SGD_7_8</th>\n",
       "      <th>SGD_7_9</th>\n",
       "      <th>SGD_8_0</th>\n",
       "      <th>SGD_8_1</th>\n",
       "      <th>SGD_8_2</th>\n",
       "      <th>SGD_8_3</th>\n",
       "      <th>SGD_8_4</th>\n",
       "      <th>SGD_8_5</th>\n",
       "      <th>SGD_8_6</th>\n",
       "      <th>SGD_8_7</th>\n",
       "      <th>SGD_8_8</th>\n",
       "      <th>SGD_8_9</th>\n",
       "      <th>SGD_9_0</th>\n",
       "      <th>SGD_9_1</th>\n",
       "      <th>SGD_9_2</th>\n",
       "      <th>SGD_9_3</th>\n",
       "      <th>SGD_9_4</th>\n",
       "      <th>SGD_9_5</th>\n",
       "      <th>SGD_9_6</th>\n",
       "      <th>SGD_9_7</th>\n",
       "      <th>SGD_9_8</th>\n",
       "      <th>SGD_9_9</th>\n",
       "    </tr>\n",
       "  </thead>\n",
       "  <tbody>\n",
       "    <tr>\n",
       "      <th>0</th>\n",
       "      <td>10</td>\n",
       "      <td>8.872514</td>\n",
       "      <td>8.145481</td>\n",
       "      <td>7.700179</td>\n",
       "      <td>7.420443</td>\n",
       "      <td>9.71417</td>\n",
       "      <td>9.462063</td>\n",
       "      <td>9.237746</td>\n",
       "      <td>9.037019</td>\n",
       "      <td>0.068864</td>\n",
       "      <td>0.01642</td>\n",
       "      <td>0.09466</td>\n",
       "      <td>-0.305519</td>\n",
       "      <td>0.067275</td>\n",
       "      <td>0.014651</td>\n",
       "      <td>0.042062</td>\n",
       "      <td>0.026234</td>\n",
       "      <td>0.803644</td>\n",
       "      <td>-0.497363</td>\n",
       "      <td>0.03073</td>\n",
       "      <td>0.031437</td>\n",
       "      <td>0</td>\n",
       "      <td>100.423139</td>\n",
       "      <td>85.355121</td>\n",
       "      <td>74.775966</td>\n",
       "      <td>67.406337</td>\n",
       "      <td>6.246994</td>\n",
       "      <td>2.918646</td>\n",
       "      <td>-0.383132</td>\n",
       "      <td>-1.267396</td>\n",
       "      <td>6.895062</td>\n",
       "      <td>4.923683</td>\n",
       "      <td>0</td>\n",
       "      <td>0</td>\n",
       "      <td>0</td>\n",
       "      <td>1</td>\n",
       "      <td>0</td>\n",
       "      <td>0</td>\n",
       "      <td>0</td>\n",
       "      <td>0</td>\n",
       "      <td>1</td>\n",
       "      <td>0</td>\n",
       "      <td>1</td>\n",
       "      <td>0</td>\n",
       "      <td>0</td>\n",
       "      <td>0</td>\n",
       "      <td>0</td>\n",
       "      <td>0</td>\n",
       "      <td>1</td>\n",
       "      <td>0</td>\n",
       "      <td>0</td>\n",
       "      <td>0</td>\n",
       "      <td>0</td>\n",
       "      <td>0</td>\n",
       "      <td>1</td>\n",
       "      <td>0</td>\n",
       "      <td>0</td>\n",
       "      <td>1</td>\n",
       "      <td>0</td>\n",
       "      <td>0</td>\n",
       "      <td>0</td>\n",
       "      <td>0</td>\n",
       "      <td>0</td>\n",
       "      <td>0</td>\n",
       "      <td>0</td>\n",
       "      <td>0</td>\n",
       "      <td>0</td>\n",
       "      <td>0</td>\n",
       "      <td>0</td>\n",
       "      <td>0</td>\n",
       "      <td>0</td>\n",
       "      <td>1</td>\n",
       "      <td>0</td>\n",
       "      <td>0</td>\n",
       "      <td>0</td>\n",
       "      <td>0</td>\n",
       "      <td>0</td>\n",
       "      <td>0</td>\n",
       "      <td>0</td>\n",
       "      <td>0</td>\n",
       "      <td>0</td>\n",
       "      <td>0</td>\n",
       "      <td>0</td>\n",
       "      <td>0</td>\n",
       "      <td>0</td>\n",
       "      <td>0</td>\n",
       "      <td>1</td>\n",
       "      <td>0</td>\n",
       "      <td>0</td>\n",
       "      <td>0</td>\n",
       "      <td>0</td>\n",
       "      <td>0</td>\n",
       "      <td>0</td>\n",
       "      <td>0</td>\n",
       "      <td>0</td>\n",
       "      <td>0</td>\n",
       "      <td>0</td>\n",
       "      <td>0</td>\n",
       "      <td>0</td>\n",
       "      <td>0</td>\n",
       "      <td>0</td>\n",
       "      <td>0</td>\n",
       "      <td>0</td>\n",
       "      <td>0</td>\n",
       "      <td>0</td>\n",
       "      <td>0</td>\n",
       "      <td>1</td>\n",
       "      <td>0</td>\n",
       "      <td>0</td>\n",
       "      <td>0</td>\n",
       "      <td>0</td>\n",
       "      <td>0</td>\n",
       "      <td>0</td>\n",
       "      <td>0</td>\n",
       "      <td>0</td>\n",
       "      <td>0</td>\n",
       "      <td>0</td>\n",
       "      <td>0</td>\n",
       "      <td>0</td>\n",
       "      <td>0</td>\n",
       "      <td>0</td>\n",
       "      <td>0</td>\n",
       "      <td>0</td>\n",
       "      <td>0</td>\n",
       "      <td>0</td>\n",
       "      <td>0</td>\n",
       "      <td>0</td>\n",
       "      <td>1</td>\n",
       "      <td>0</td>\n",
       "      <td>0</td>\n",
       "      <td>0</td>\n",
       "      <td>0</td>\n",
       "    </tr>\n",
       "  </tbody>\n",
       "</table>\n",
       "</div>"
      ],
      "text/plain": [
       "    S  abund_h1  abund_h2  abund_h3  abund_h4    pi_h1     pi_h2     pi_h3     pi_h4   mean_pi   std_pi  skewness_pi  kurtosis_pi  median_pi    iqr_pi  mean_dxys  std_dxys  skewness_dxys  kurtosis_dxys  median_dxys  iqr_dxys  trees    trait_h1   trait_h2   trait_h3   trait_h4  mean_local_traits  std_local_traits  skewness_local_traits  kurtosis_local_traits  median_local_traits  iqr_local_traits  SGD_0_0  SGD_0_1  SGD_0_2  SGD_0_3  SGD_0_4  SGD_0_5  SGD_0_6  SGD_0_7  SGD_0_8  SGD_0_9  SGD_1_0  SGD_1_1  SGD_1_2  SGD_1_3  SGD_1_4  SGD_1_5  SGD_1_6  SGD_1_7  SGD_1_8  SGD_1_9  SGD_2_0  SGD_2_1  SGD_2_2  SGD_2_3  SGD_2_4  SGD_2_5  SGD_2_6  SGD_2_7  SGD_2_8  SGD_2_9  SGD_3_0  SGD_3_1  SGD_3_2  SGD_3_3  SGD_3_4  SGD_3_5  SGD_3_6  SGD_3_7  SGD_3_8  SGD_3_9  SGD_4_0  SGD_4_1  SGD_4_2  SGD_4_3  SGD_4_4  SGD_4_5  SGD_4_6  SGD_4_7  SGD_4_8  SGD_4_9  SGD_5_0  SGD_5_1  SGD_5_2  SGD_5_3  SGD_5_4  SGD_5_5  SGD_5_6  SGD_5_7  SGD_5_8  SGD_5_9  SGD_6_0  SGD_6_1  SGD_6_2  SGD_6_3  SGD_6_4  SGD_6_5  \\\n",
       "0  10  8.872514  8.145481  7.700179  7.420443  9.71417  9.462063  9.237746  9.037019  0.068864  0.01642      0.09466    -0.305519   0.067275  0.014651   0.042062  0.026234       0.803644      -0.497363      0.03073  0.031437      0  100.423139  85.355121  74.775966  67.406337           6.246994          2.918646              -0.383132              -1.267396             6.895062          4.923683        0        0        0        1        0        0        0        0        1        0        1        0        0        0        0        0        1        0        0        0        0        0        1        0        0        1        0        0        0        0        0        0        0        0        0        0        0        0        0        1        0        0        0        0        0        0        0        0        0        0        0        0        0        0        1        0        0        0        0        0        0        0        0        0        0        0   \n",
       "\n",
       "   SGD_6_6  SGD_6_7  SGD_6_8  SGD_6_9  SGD_7_0  SGD_7_1  SGD_7_2  SGD_7_3  SGD_7_4  SGD_7_5  SGD_7_6  SGD_7_7  SGD_7_8  SGD_7_9  SGD_8_0  SGD_8_1  SGD_8_2  SGD_8_3  SGD_8_4  SGD_8_5  SGD_8_6  SGD_8_7  SGD_8_8  SGD_8_9  SGD_9_0  SGD_9_1  SGD_9_2  SGD_9_3  SGD_9_4  SGD_9_5  SGD_9_6  SGD_9_7  SGD_9_8  SGD_9_9  \n",
       "0        0        0        0        0        0        0        0        0        1        0        0        0        0        0        0        0        0        0        0        0        0        0        0        0        0        0        0        0        0        1        0        0        0        0  "
      ]
     },
     "execution_count": 139,
     "metadata": {},
     "output_type": "execute_result"
    }
   ],
   "source": [
    "MESS.stats.calculate_sumstats(dat, verbose=True)\n",
    "#MESS.stats.trait_hill_number(dat[\"abundance\"], dat[\"trait\"], order=2)"
   ]
  },
  {
   "cell_type": "markdown",
   "metadata": {},
   "source": [
    "## Trash below here"
   ]
  },
  {
   "cell_type": "code",
   "execution_count": 75,
   "metadata": {},
   "outputs": [
    {
     "data": {
      "text/plain": [
       "array([1, 1])"
      ]
     },
     "execution_count": 75,
     "metadata": {},
     "output_type": "execute_result"
    }
   ],
   "source": [
    "df = pd.read_csv(\"/home/isaac/Continuosity/MESS/analysis/figure3-sims/badsims.txt\", sep=\"\\t\", header=0)\n",
    "np.abs([-1, 1])"
   ]
  },
  {
   "cell_type": "markdown",
   "metadata": {},
   "source": [
    "# Weevil data"
   ]
  },
  {
   "cell_type": "code",
   "execution_count": 32,
   "metadata": {},
   "outputs": [
    {
     "data": {
      "text/html": [
       "<div>\n",
       "<style scoped>\n",
       "    .dataframe tbody tr th:only-of-type {\n",
       "        vertical-align: middle;\n",
       "    }\n",
       "\n",
       "    .dataframe tbody tr th {\n",
       "        vertical-align: top;\n",
       "    }\n",
       "\n",
       "    .dataframe thead th {\n",
       "        text-align: right;\n",
       "    }\n",
       "</style>\n",
       "<table border=\"1\" class=\"dataframe\">\n",
       "  <thead>\n",
       "    <tr style=\"text-align: right;\">\n",
       "      <th></th>\n",
       "      <th>S</th>\n",
       "      <th>abund_h1</th>\n",
       "      <th>abund_h2</th>\n",
       "      <th>abund_h3</th>\n",
       "      <th>abund_h4</th>\n",
       "      <th>pi_h1</th>\n",
       "      <th>pi_h2</th>\n",
       "      <th>pi_h3</th>\n",
       "      <th>pi_h4</th>\n",
       "      <th>mean_pi</th>\n",
       "      <th>std_pi</th>\n",
       "      <th>skewness_pi</th>\n",
       "      <th>kurtosis_pi</th>\n",
       "      <th>median_pi</th>\n",
       "      <th>iqr_pi</th>\n",
       "      <th>trees</th>\n",
       "      <th>SGD_0</th>\n",
       "      <th>SGD_1</th>\n",
       "      <th>SGD_2</th>\n",
       "      <th>SGD_3</th>\n",
       "      <th>SGD_4</th>\n",
       "      <th>SGD_5</th>\n",
       "      <th>SGD_6</th>\n",
       "      <th>SGD_7</th>\n",
       "      <th>SGD_8</th>\n",
       "      <th>SGD_9</th>\n",
       "    </tr>\n",
       "  </thead>\n",
       "  <tbody>\n",
       "    <tr>\n",
       "      <th>0</th>\n",
       "      <td>26</td>\n",
       "      <td>15.551964</td>\n",
       "      <td>11.553471</td>\n",
       "      <td>9.749593</td>\n",
       "      <td>8.776689</td>\n",
       "      <td>16.525113</td>\n",
       "      <td>13.293617</td>\n",
       "      <td>11.35714</td>\n",
       "      <td>10.189882</td>\n",
       "      <td>0.022862</td>\n",
       "      <td>0.022351</td>\n",
       "      <td>1.469762</td>\n",
       "      <td>1.797334</td>\n",
       "      <td>0.020936</td>\n",
       "      <td>0.019995</td>\n",
       "      <td>0</td>\n",
       "      <td>10</td>\n",
       "      <td>2</td>\n",
       "      <td>6</td>\n",
       "      <td>4</td>\n",
       "      <td>1</td>\n",
       "      <td>0</td>\n",
       "      <td>1</td>\n",
       "      <td>0</td>\n",
       "      <td>1</td>\n",
       "      <td>1</td>\n",
       "    </tr>\n",
       "  </tbody>\n",
       "</table>\n",
       "</div>"
      ],
      "text/plain": [
       "    S   abund_h1   abund_h2  abund_h3  abund_h4      pi_h1      pi_h2     pi_h3      pi_h4   mean_pi    std_pi  skewness_pi  kurtosis_pi  median_pi    iqr_pi  trees  SGD_0  SGD_1  SGD_2  SGD_3  SGD_4  SGD_5  SGD_6  SGD_7  SGD_8  SGD_9\n",
       "0  26  15.551964  11.553471  9.749593  8.776689  16.525113  13.293617  11.35714  10.189882  0.022862  0.022351     1.469762     1.797334   0.020936  0.019995      0     10      2      6      4      1      0      1      0      1      1"
      ]
     },
     "metadata": {},
     "output_type": "display_data"
    },
    {
     "data": {
      "text/html": [
       "<div>\n",
       "<style scoped>\n",
       "    .dataframe tbody tr th:only-of-type {\n",
       "        vertical-align: middle;\n",
       "    }\n",
       "\n",
       "    .dataframe tbody tr th {\n",
       "        vertical-align: top;\n",
       "    }\n",
       "\n",
       "    .dataframe thead th {\n",
       "        text-align: right;\n",
       "    }\n",
       "</style>\n",
       "<table border=\"1\" class=\"dataframe\">\n",
       "  <thead>\n",
       "    <tr style=\"text-align: right;\">\n",
       "      <th></th>\n",
       "      <th>S</th>\n",
       "      <th>abund_h1</th>\n",
       "      <th>abund_h2</th>\n",
       "      <th>abund_h3</th>\n",
       "      <th>abund_h4</th>\n",
       "      <th>pi_h1</th>\n",
       "      <th>pi_h2</th>\n",
       "      <th>pi_h3</th>\n",
       "      <th>pi_h4</th>\n",
       "      <th>mean_pi</th>\n",
       "      <th>std_pi</th>\n",
       "      <th>skewness_pi</th>\n",
       "      <th>kurtosis_pi</th>\n",
       "      <th>median_pi</th>\n",
       "      <th>iqr_pi</th>\n",
       "      <th>trees</th>\n",
       "      <th>SGD_0</th>\n",
       "      <th>SGD_1</th>\n",
       "      <th>SGD_2</th>\n",
       "      <th>SGD_3</th>\n",
       "      <th>SGD_4</th>\n",
       "      <th>SGD_5</th>\n",
       "      <th>SGD_6</th>\n",
       "      <th>SGD_7</th>\n",
       "      <th>SGD_8</th>\n",
       "      <th>SGD_9</th>\n",
       "    </tr>\n",
       "  </thead>\n",
       "  <tbody>\n",
       "    <tr>\n",
       "      <th>0</th>\n",
       "      <td>27</td>\n",
       "      <td>12.342967</td>\n",
       "      <td>8.390983</td>\n",
       "      <td>7.234338</td>\n",
       "      <td>6.756258</td>\n",
       "      <td>17.708787</td>\n",
       "      <td>14.927681</td>\n",
       "      <td>13.310007</td>\n",
       "      <td>12.280974</td>\n",
       "      <td>0.025299</td>\n",
       "      <td>0.022751</td>\n",
       "      <td>0.947168</td>\n",
       "      <td>0.086781</td>\n",
       "      <td>0.019174</td>\n",
       "      <td>0.028364</td>\n",
       "      <td>0</td>\n",
       "      <td>7</td>\n",
       "      <td>4</td>\n",
       "      <td>3</td>\n",
       "      <td>3</td>\n",
       "      <td>4</td>\n",
       "      <td>2</td>\n",
       "      <td>1</td>\n",
       "      <td>0</td>\n",
       "      <td>0</td>\n",
       "      <td>3</td>\n",
       "    </tr>\n",
       "  </tbody>\n",
       "</table>\n",
       "</div>"
      ],
      "text/plain": [
       "    S   abund_h1  abund_h2  abund_h3  abund_h4      pi_h1      pi_h2      pi_h3      pi_h4   mean_pi    std_pi  skewness_pi  kurtosis_pi  median_pi    iqr_pi  trees  SGD_0  SGD_1  SGD_2  SGD_3  SGD_4  SGD_5  SGD_6  SGD_7  SGD_8  SGD_9\n",
       "0  27  12.342967  8.390983  7.234338  6.756258  17.708787  14.927681  13.310007  12.280974  0.025299  0.022751     0.947168     0.086781   0.019174  0.028364      0      7      4      3      3      4      2      1      0      0      3"
      ]
     },
     "metadata": {},
     "output_type": "display_data"
    },
    {
     "data": {
      "text/plain": [
       "[<matplotlib.lines.Line2D at 0x7f32be357f10>]"
      ]
     },
     "execution_count": 32,
     "metadata": {},
     "output_type": "execute_result"
    },
    {
     "data": {
      "image/png": "[encoded data removed]",
      "text/plain": [
       "<Figure size 360x360 with 1 Axes>"
      ]
     },
     "metadata": {
      "needs_background": "light"
     },
     "output_type": "display_data"
    }
   ],
   "source": [
    "m_df = pd.read_csv(\"/home/isaac/SGD_empirical/empirical_weevils/mauritius.dat\", header=0)\n",
    "r_df = pd.read_csv(\"/home/isaac/SGD_empirical/empirical_weevils/reunion.dat\", header=0)\n",
    "m_ss = MESS.stats.calculate_sumstats(m_df)\n",
    "r_ss = MESS.stats.calculate_sumstats(r_df)\n",
    "\n",
    "display(m_ss)\n",
    "display(r_ss)\n",
    "\n",
    "fig, ax = plt.subplots(figsize=(5, 5))\n",
    "xs = range(2, 5)\n",
    "ys = [m_ss[\"pi_h{}\".format(i)] for i in xs]\n",
    "ax.plot(xs, ys, c='b')\n",
    "ys = [r_ss[\"pi_h{}\".format(i)] for i in xs]\n",
    "ax.plot(xs, ys, c='r')"
   ]
  },
  {
   "cell_type": "code",
   "execution_count": 35,
   "metadata": {
    "scrolled": true
   },
   "outputs": [
    {
     "data": {
      "text/plain": [
       "[<matplotlib.lines.Line2D at 0x7f32be440f50>]"
      ]
     },
     "execution_count": 35,
     "metadata": {},
     "output_type": "execute_result"
    },
    {
     "data": {
      "image/png": "[encoded data removed]",
      "text/plain": [
       "<Figure size 360x360 with 1 Axes>"
      ]
     },
     "metadata": {
      "needs_background": "light"
     },
     "output_type": "display_data"
    }
   ],
   "source": [
    "watdo(m_df[\"abundance\"], m_df[\"pi\"])/len(m_df)\n",
    "fig, ax = plt.subplots(figsize=(5, 5))\n",
    "xs = range(2, 7)\n",
    "ys = [watdo(m_df[\"abundance\"], m_df[\"pi\"], i) for i in xs]\n",
    "ax.plot(xs, ys, c='b')\n",
    "ys = [watdo(r_df[\"abundance\"], r_df[\"pi\"], i) for i in xs]\n",
    "ax.plot(xs, ys, c='r')"
   ]
  },
  {
   "cell_type": "code",
   "execution_count": 74,
   "metadata": {},
   "outputs": [
    {
     "name": "stdout",
     "output_type": "stream",
     "text": [
      "(26, SpearmanrResult(correlation=0.5036941254918288, pvalue=0.008706277317942965))\n",
      "(27, SpearmanrResult(correlation=0.6380779590471193, pvalue=0.000342443669086618))\n"
     ]
    },
    {
     "data": {
      "text/plain": [
       "True"
      ]
     },
     "execution_count": 74,
     "metadata": {},
     "output_type": "execute_result"
    }
   ],
   "source": [
    "print(len(m_df), spearmanr(m_df[\"abundance\"], m_df[\"pi\"]))\n",
    "print(len(r_df), spearmanr(r_df[\"abundance\"], r_df[\"pi\"]))\n",
    "res = spearmanr([2] * 26, m_df[\"abundance\"])[0]\n",
    "np.isnan(res)"
   ]
  },
  {
   "cell_type": "markdown",
   "metadata": {},
   "source": [
    "# Random MESS janks"
   ]
  },
  {
   "cell_type": "code",
   "execution_count": 94,
   "metadata": {},
   "outputs": [
    {
     "data": {
      "text/plain": [
       "(array([ 5.,  2.,  6.,  3.,  2.,  9., 11.,  9.,  6.,  4.,  5.,  7.,  4.,\n",
       "         3.,  4.,  3.,  6.,  7.,  2.,  2.]),\n",
       " array([0.0001   , 0.0001445, 0.000189 , 0.0002335, 0.000278 , 0.0003225,\n",
       "        0.000367 , 0.0004115, 0.000456 , 0.0005005, 0.000545 , 0.0005895,\n",
       "        0.000634 , 0.0006785, 0.000723 , 0.0007675, 0.000812 , 0.0008565,\n",
       "        0.000901 , 0.0009455, 0.00099  ]),\n",
       " <a list of 20 Patch objects>)"
      ]
     },
     "execution_count": 94,
     "metadata": {},
     "output_type": "execute_result"
    },
    {
     "data": {
      "image/png": "[encoded data removed]",
      "text/plain": [
       "<Figure size 432x288 with 1 Axes>"
      ]
     },
     "metadata": {
      "needs_background": "light"
     },
     "output_type": "display_data"
    }
   ],
   "source": [
    "r = MESS.Region(\"watdo-tmp\")\n",
    "## Region params\n",
    "r.set_param(\"project_dir\", \"/tmp\")\n",
    "r.set_param(\"generations\", 0)\n",
    "r.set_param(\"community_assembly_model\", \"neutral\")\n",
    "r.set_param(\"mutation_rate\", 2.2e-8)\n",
    "r.set_param(\"S_m\", (500, 5000))\n",
    "r.set_param(\"J\", (1000, 2000))\n",
    "r.set_param(\"m\", (0.001, 0.01))\n",
    "r.set_param(\"speciation_prob\", (0.0001, 0.001))\n",
    "plt.hist(MESS.util.sample_param_range(r.islands[\"Loc1\"]._priors[\"speciation_prob\"], nsamps=100), bins=20)"
   ]
  },
  {
   "cell_type": "code",
   "execution_count": 15,
   "metadata": {},
   "outputs": [
    {
     "name": "stdout",
     "output_type": "stream",
     "text": [
      "    Generating 1 simulation(s).\n",
      "  [####################] 100%  Finished 0 simulations    | 0:00:00 | \n",
      " "
     ]
    }
   ],
   "source": [
    "r = MESS.Region(\"watdo-tmp\")\n",
    "## Region params\n",
    "r.set_param(\"project_dir\", \"/tmp\")\n",
    "r.set_param(\"generations\", 0)\n",
    "r.set_param(\"community_assembly_model\", \"neutral\")\n",
    "r.set_param(\"mutation_rate\", 2.2e-8)\n",
    "r.set_param(\"S_m\", (500, 5000))\n",
    "r.set_param(\"J\", (1000, 2000))\n",
    "r.set_param(\"m\", (0.001, 0.01))\n",
    "r.set_param(\"speciation_prob\", (0.0001, 0.001))\n",
    "r.run(sims=1)"
   ]
  },
  {
   "cell_type": "code",
   "execution_count": 6,
   "metadata": {},
   "outputs": [
    {
     "data": {
      "text/plain": [
       "(array([ 994.,    0.,    0.,    0.,    0.,    0.,    0.,    0.,    0.,\n",
       "        1989.]),\n",
       " array([1000., 1400., 1800., 2200., 2600., 3000., 3400., 3800., 4200.,\n",
       "        4600., 5000.]),\n",
       " <a list of 10 Patch objects>)"
      ]
     },
     "execution_count": 6,
     "metadata": {},
     "output_type": "execute_result"
    },
    {
     "data": {
      "image/png": "[encoded data removed]",
      "text/plain": [
       "<Figure size 432x288 with 1 Axes>"
      ]
     },
     "metadata": {
      "needs_background": "light"
     },
     "output_type": "display_data"
    }
   ],
   "source": [
    "import pandas as pd\n",
    "df = pd.read_csv(\"/home/isaac/Continuosity/MESS/analysis/full-parameter-estimation/SIMOUT.txt\", sep=\"\\t\", header=0)\n",
    "plt.hist(df[\"J\"])"
   ]
  },
  {
   "cell_type": "code",
   "execution_count": null,
   "metadata": {},
   "outputs": [],
   "source": []
  }
 ],
 "metadata": {
  "kernelspec": {
   "display_name": "Python 2",
   "language": "python",
   "name": "python2"
  },
  "language_info": {
   "codemirror_mode": {
    "name": "ipython",
    "version": 2
   },
   "file_extension": ".py",
   "mimetype": "text/x-python",
   "name": "python",
   "nbconvert_exporter": "python",
   "pygments_lexer": "ipython2",
   "version": "2.7.15"
  }
 },
 "nbformat": 4,
 "nbformat_minor": 2
}
