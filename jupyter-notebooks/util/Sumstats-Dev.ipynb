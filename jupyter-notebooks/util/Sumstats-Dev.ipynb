{
 "cells": [
  {
   "cell_type": "code",
   "execution_count": 2,
   "metadata": {},
   "outputs": [
    {
     "name": "stdout",
     "output_type": "stream",
     "text": [
      "The autoreload extension is already loaded. To reload it, use:\n",
      "  %reload_ext autoreload\n"
     ]
    }
   ],
   "source": [
    "%load_ext autoreload\n",
    "%autoreload 2\n",
    "%matplotlib inline\n",
    "import matplotlib.pyplot as plt\n",
    "import MESS\n",
    "import numpy as np\n",
    "import pandas as pd\n",
    "\n",
    "from collections import OrderedDict\n",
    "from itertools import combinations\n",
    "from scipy.stats import spearmanr\n",
    "\n",
    "pd.set_option('display.max_rows', 500)\n",
    "pd.set_option('display.max_columns', 500)\n",
    "pd.set_option('display.width', 1000)"
   ]
  },
  {
   "cell_type": "markdown",
   "metadata": {},
   "source": [
    "## Generate a small fake community dataset including pi, dxy, abund, & traits"
   ]
  },
  {
   "cell_type": "code",
   "execution_count": 137,
   "metadata": {},
   "outputs": [
    {
     "data": {
      "text/html": [
       "<div>\n",
       "<style scoped>\n",
       "    .dataframe tbody tr th:only-of-type {\n",
       "        vertical-align: middle;\n",
       "    }\n",
       "\n",
       "    .dataframe tbody tr th {\n",
       "        vertical-align: top;\n",
       "    }\n",
       "\n",
       "    .dataframe thead th {\n",
       "        text-align: right;\n",
       "    }\n",
       "</style>\n",
       "<table border=\"1\" class=\"dataframe\">\n",
       "  <thead>\n",
       "    <tr style=\"text-align: right;\">\n",
       "      <th></th>\n",
       "      <th>pi</th>\n",
       "      <th>dxy</th>\n",
       "      <th>abundance</th>\n",
       "      <th>trait</th>\n",
       "    </tr>\n",
       "  </thead>\n",
       "  <tbody>\n",
       "    <tr>\n",
       "      <th>0</th>\n",
       "      <td>0.038240</td>\n",
       "      <td>0.058679</td>\n",
       "      <td>51</td>\n",
       "      <td>0.006738</td>\n",
       "    </tr>\n",
       "    <tr>\n",
       "      <th>1</th>\n",
       "      <td>0.057584</td>\n",
       "      <td>0.002437</td>\n",
       "      <td>780</td>\n",
       "      <td>1.000000</td>\n",
       "    </tr>\n",
       "    <tr>\n",
       "      <th>2</th>\n",
       "      <td>0.051874</td>\n",
       "      <td>0.092990</td>\n",
       "      <td>138</td>\n",
       "      <td>0.018316</td>\n",
       "    </tr>\n",
       "    <tr>\n",
       "      <th>3</th>\n",
       "      <td>0.039852</td>\n",
       "      <td>0.033923</td>\n",
       "      <td>562</td>\n",
       "      <td>0.367879</td>\n",
       "    </tr>\n",
       "    <tr>\n",
       "      <th>4</th>\n",
       "      <td>0.006768</td>\n",
       "      <td>0.020443</td>\n",
       "      <td>252</td>\n",
       "      <td>0.049787</td>\n",
       "    </tr>\n",
       "    <tr>\n",
       "      <th>5</th>\n",
       "      <td>0.047357</td>\n",
       "      <td>0.037934</td>\n",
       "      <td>450</td>\n",
       "      <td>0.367879</td>\n",
       "    </tr>\n",
       "    <tr>\n",
       "      <th>6</th>\n",
       "      <td>0.057690</td>\n",
       "      <td>0.090130</td>\n",
       "      <td>646</td>\n",
       "      <td>0.367879</td>\n",
       "    </tr>\n",
       "    <tr>\n",
       "      <th>7</th>\n",
       "      <td>0.023873</td>\n",
       "      <td>0.010641</td>\n",
       "      <td>758</td>\n",
       "      <td>1.000000</td>\n",
       "    </tr>\n",
       "    <tr>\n",
       "      <th>8</th>\n",
       "      <td>0.079512</td>\n",
       "      <td>0.046297</td>\n",
       "      <td>506</td>\n",
       "      <td>0.367879</td>\n",
       "    </tr>\n",
       "    <tr>\n",
       "      <th>9</th>\n",
       "      <td>0.019435</td>\n",
       "      <td>0.012824</td>\n",
       "      <td>480</td>\n",
       "      <td>0.367879</td>\n",
       "    </tr>\n",
       "  </tbody>\n",
       "</table>\n",
       "</div>"
      ],
      "text/plain": [
       "         pi       dxy  abundance     trait\n",
       "0  0.038240  0.058679         51  0.006738\n",
       "1  0.057584  0.002437        780  1.000000\n",
       "2  0.051874  0.092990        138  0.018316\n",
       "3  0.039852  0.033923        562  0.367879\n",
       "4  0.006768  0.020443        252  0.049787\n",
       "5  0.047357  0.037934        450  0.367879\n",
       "6  0.057690  0.090130        646  0.367879\n",
       "7  0.023873  0.010641        758  1.000000\n",
       "8  0.079512  0.046297        506  0.367879\n",
       "9  0.019435  0.012824        480  0.367879"
      ]
     },
     "metadata": {},
     "output_type": "display_data"
    },
    {
     "name": "stdout",
     "output_type": "stream",
     "text": [
      "(462.3, 0.3914237860112896)\n"
     ]
    }
   ],
   "source": [
    "def synthetic_community(model=\"random\", nspecies=10):\n",
    "    abunds = np.random.randint(1, 1000, nspecies)\n",
    "\n",
    "    if model == \"random\":\n",
    "        pis = np.random.random(nspecies)/10\n",
    "        dxys = np.random.random(nspecies)/10\n",
    "        trts = np.random.random(nspecies)*10\n",
    "    elif model == \"correlated\":\n",
    "        pis = abunds/1000.\n",
    "        dxys = pis*1.15\n",
    "        trts = abunds/10.\n",
    "    elif model == \"filtering\":\n",
    "        def filt(strength=10, victim_trait=-3.32923208, filt_opt=0):\n",
    "            return 1 - (np.exp(-((victim_trait - filt_opt) ** 2)/strength))\n",
    "        trts = 1-np.array([filt(strength=10, victim_trait=x/100, filt_opt=abunds.max()/100) for x in abunds])\n",
    "        pis = np.random.random(nspecies)/10\n",
    "        dxys = np.random.random(nspecies)/10\n",
    "    elif model == \"competition\":\n",
    "        trts = np.array([x - abunds.mean() for x in abunds])/10\n",
    "        pis = np.random.random(nspecies)/10\n",
    "        dxys = np.random.random(nspecies)/10\n",
    "    dat = pd.DataFrame([], columns=[\"pi\", \"dxy\", \"abundance\", \"trait\"])\n",
    "    dat[\"pi\"] = pis\n",
    "    dat[\"dxy\"] = dxys\n",
    "    dat[\"abundance\"] = abunds\n",
    "    dat[\"trait\"] = trts\n",
    "    return dat\n",
    "dat = synthetic_community(\"filtering\")\n",
    "display(dat)\n",
    "print(dat[\"abundance\"].mean(), dat[\"trait\"].mean())"
   ]
  },
  {
   "cell_type": "markdown",
   "metadata": {},
   "source": [
    "## Correlations between datatypes\n"
   ]
  },
  {
   "cell_type": "code",
   "execution_count": 120,
   "metadata": {},
   "outputs": [
    {
     "data": {
      "text/html": [
       "<div>\n",
       "<style scoped>\n",
       "    .dataframe tbody tr th:only-of-type {\n",
       "        vertical-align: middle;\n",
       "    }\n",
       "\n",
       "    .dataframe tbody tr th {\n",
       "        vertical-align: top;\n",
       "    }\n",
       "\n",
       "    .dataframe thead th {\n",
       "        text-align: right;\n",
       "    }\n",
       "</style>\n",
       "<table border=\"1\" class=\"dataframe\">\n",
       "  <thead>\n",
       "    <tr style=\"text-align: right;\">\n",
       "      <th></th>\n",
       "      <th>pi</th>\n",
       "      <th>dxy</th>\n",
       "      <th>abundance</th>\n",
       "      <th>trait</th>\n",
       "    </tr>\n",
       "  </thead>\n",
       "  <tbody>\n",
       "    <tr>\n",
       "      <th>0</th>\n",
       "      <td>0.028265</td>\n",
       "      <td>0.047283</td>\n",
       "      <td>22</td>\n",
       "      <td>6.38</td>\n",
       "    </tr>\n",
       "    <tr>\n",
       "      <th>1</th>\n",
       "      <td>0.016667</td>\n",
       "      <td>0.045493</td>\n",
       "      <td>49</td>\n",
       "      <td>1.18</td>\n",
       "    </tr>\n",
       "    <tr>\n",
       "      <th>2</th>\n",
       "      <td>0.063355</td>\n",
       "      <td>0.099414</td>\n",
       "      <td>66</td>\n",
       "      <td>15.82</td>\n",
       "    </tr>\n",
       "    <tr>\n",
       "      <th>3</th>\n",
       "      <td>0.045528</td>\n",
       "      <td>0.071626</td>\n",
       "      <td>26</td>\n",
       "      <td>10.38</td>\n",
       "    </tr>\n",
       "    <tr>\n",
       "      <th>4</th>\n",
       "      <td>0.093056</td>\n",
       "      <td>0.057664</td>\n",
       "      <td>30</td>\n",
       "      <td>14.38</td>\n",
       "    </tr>\n",
       "    <tr>\n",
       "      <th>5</th>\n",
       "      <td>0.038612</td>\n",
       "      <td>0.054977</td>\n",
       "      <td>1</td>\n",
       "      <td>14.62</td>\n",
       "    </tr>\n",
       "    <tr>\n",
       "      <th>6</th>\n",
       "      <td>0.053936</td>\n",
       "      <td>0.030766</td>\n",
       "      <td>3</td>\n",
       "      <td>12.62</td>\n",
       "    </tr>\n",
       "    <tr>\n",
       "      <th>7</th>\n",
       "      <td>0.001801</td>\n",
       "      <td>0.022427</td>\n",
       "      <td>37</td>\n",
       "      <td>13.18</td>\n",
       "    </tr>\n",
       "    <tr>\n",
       "      <th>8</th>\n",
       "      <td>0.000844</td>\n",
       "      <td>0.090548</td>\n",
       "      <td>66</td>\n",
       "      <td>15.82</td>\n",
       "    </tr>\n",
       "    <tr>\n",
       "      <th>9</th>\n",
       "      <td>0.054700</td>\n",
       "      <td>0.007340</td>\n",
       "      <td>29</td>\n",
       "      <td>13.38</td>\n",
       "    </tr>\n",
       "  </tbody>\n",
       "</table>\n",
       "</div>"
      ],
      "text/plain": [
       "         pi       dxy  abundance  trait\n",
       "0  0.028265  0.047283         22   6.38\n",
       "1  0.016667  0.045493         49   1.18\n",
       "2  0.063355  0.099414         66  15.82\n",
       "3  0.045528  0.071626         26  10.38\n",
       "4  0.093056  0.057664         30  14.38\n",
       "5  0.038612  0.054977          1  14.62\n",
       "6  0.053936  0.030766          3  12.62\n",
       "7  0.001801  0.022427         37  13.18\n",
       "8  0.000844  0.090548         66  15.82\n",
       "9  0.054700  0.007340         29  13.38"
      ]
     },
     "metadata": {},
     "output_type": "display_data"
    },
    {
     "data": {
      "text/html": [
       "<div>\n",
       "<style scoped>\n",
       "    .dataframe tbody tr th:only-of-type {\n",
       "        vertical-align: middle;\n",
       "    }\n",
       "\n",
       "    .dataframe tbody tr th {\n",
       "        vertical-align: top;\n",
       "    }\n",
       "\n",
       "    .dataframe thead th {\n",
       "        text-align: right;\n",
       "    }\n",
       "</style>\n",
       "<table border=\"1\" class=\"dataframe\">\n",
       "  <thead>\n",
       "    <tr style=\"text-align: right;\">\n",
       "      <th></th>\n",
       "      <th>pi</th>\n",
       "      <th>dxy</th>\n",
       "      <th>abundance</th>\n",
       "      <th>trait</th>\n",
       "    </tr>\n",
       "  </thead>\n",
       "  <tbody>\n",
       "    <tr>\n",
       "      <th>0</th>\n",
       "      <td>0.028265</td>\n",
       "      <td>0.047283</td>\n",
       "      <td>22</td>\n",
       "      <td>6.38</td>\n",
       "    </tr>\n",
       "    <tr>\n",
       "      <th>1</th>\n",
       "      <td>0.016667</td>\n",
       "      <td>0.045493</td>\n",
       "      <td>49</td>\n",
       "      <td>1.18</td>\n",
       "    </tr>\n",
       "    <tr>\n",
       "      <th>2</th>\n",
       "      <td>0.063355</td>\n",
       "      <td>0.099414</td>\n",
       "      <td>66</td>\n",
       "      <td>15.82</td>\n",
       "    </tr>\n",
       "    <tr>\n",
       "      <th>3</th>\n",
       "      <td>0.045528</td>\n",
       "      <td>0.071626</td>\n",
       "      <td>26</td>\n",
       "      <td>10.38</td>\n",
       "    </tr>\n",
       "    <tr>\n",
       "      <th>4</th>\n",
       "      <td>0.093056</td>\n",
       "      <td>0.057664</td>\n",
       "      <td>30</td>\n",
       "      <td>14.38</td>\n",
       "    </tr>\n",
       "    <tr>\n",
       "      <th>5</th>\n",
       "      <td>0.038612</td>\n",
       "      <td>0.054977</td>\n",
       "      <td>1</td>\n",
       "      <td>14.62</td>\n",
       "    </tr>\n",
       "    <tr>\n",
       "      <th>6</th>\n",
       "      <td>0.053936</td>\n",
       "      <td>0.030766</td>\n",
       "      <td>3</td>\n",
       "      <td>12.62</td>\n",
       "    </tr>\n",
       "    <tr>\n",
       "      <th>7</th>\n",
       "      <td>0.001801</td>\n",
       "      <td>0.022427</td>\n",
       "      <td>37</td>\n",
       "      <td>13.18</td>\n",
       "    </tr>\n",
       "    <tr>\n",
       "      <th>8</th>\n",
       "      <td>0.000844</td>\n",
       "      <td>0.090548</td>\n",
       "      <td>66</td>\n",
       "      <td>15.82</td>\n",
       "    </tr>\n",
       "    <tr>\n",
       "      <th>9</th>\n",
       "      <td>0.054700</td>\n",
       "      <td>0.007340</td>\n",
       "      <td>29</td>\n",
       "      <td>13.38</td>\n",
       "    </tr>\n",
       "  </tbody>\n",
       "</table>\n",
       "</div>"
      ],
      "text/plain": [
       "         pi       dxy  abundance  trait\n",
       "0  0.028265  0.047283         22   6.38\n",
       "1  0.016667  0.045493         49   1.18\n",
       "2  0.063355  0.099414         66  15.82\n",
       "3  0.045528  0.071626         26  10.38\n",
       "4  0.093056  0.057664         30  14.38\n",
       "5  0.038612  0.054977          1  14.62\n",
       "6  0.053936  0.030766          3  12.62\n",
       "7  0.001801  0.022427         37  13.18\n",
       "8  0.000844  0.090548         66  15.82\n",
       "9  0.054700  0.007340         29  13.38"
      ]
     },
     "metadata": {},
     "output_type": "display_data"
    },
    {
     "data": {
      "text/html": [
       "<div>\n",
       "<style scoped>\n",
       "    .dataframe tbody tr th:only-of-type {\n",
       "        vertical-align: middle;\n",
       "    }\n",
       "\n",
       "    .dataframe tbody tr th {\n",
       "        vertical-align: top;\n",
       "    }\n",
       "\n",
       "    .dataframe thead th {\n",
       "        text-align: right;\n",
       "    }\n",
       "</style>\n",
       "<table border=\"1\" class=\"dataframe\">\n",
       "  <thead>\n",
       "    <tr style=\"text-align: right;\">\n",
       "      <th></th>\n",
       "      <th>pi</th>\n",
       "      <th>dxy</th>\n",
       "      <th>abundance</th>\n",
       "      <th>trait</th>\n",
       "    </tr>\n",
       "  </thead>\n",
       "  <tbody>\n",
       "    <tr>\n",
       "      <th>0</th>\n",
       "      <td>0.028265</td>\n",
       "      <td>0.047283</td>\n",
       "      <td>22</td>\n",
       "      <td>6.38</td>\n",
       "    </tr>\n",
       "    <tr>\n",
       "      <th>1</th>\n",
       "      <td>0.016667</td>\n",
       "      <td>0.045493</td>\n",
       "      <td>49</td>\n",
       "      <td>1.18</td>\n",
       "    </tr>\n",
       "    <tr>\n",
       "      <th>2</th>\n",
       "      <td>0.063355</td>\n",
       "      <td>0.099414</td>\n",
       "      <td>66</td>\n",
       "      <td>15.82</td>\n",
       "    </tr>\n",
       "    <tr>\n",
       "      <th>3</th>\n",
       "      <td>0.045528</td>\n",
       "      <td>0.071626</td>\n",
       "      <td>26</td>\n",
       "      <td>10.38</td>\n",
       "    </tr>\n",
       "    <tr>\n",
       "      <th>4</th>\n",
       "      <td>0.093056</td>\n",
       "      <td>0.057664</td>\n",
       "      <td>30</td>\n",
       "      <td>14.38</td>\n",
       "    </tr>\n",
       "    <tr>\n",
       "      <th>5</th>\n",
       "      <td>0.038612</td>\n",
       "      <td>0.054977</td>\n",
       "      <td>1</td>\n",
       "      <td>14.62</td>\n",
       "    </tr>\n",
       "    <tr>\n",
       "      <th>6</th>\n",
       "      <td>0.053936</td>\n",
       "      <td>0.030766</td>\n",
       "      <td>3</td>\n",
       "      <td>12.62</td>\n",
       "    </tr>\n",
       "    <tr>\n",
       "      <th>7</th>\n",
       "      <td>0.001801</td>\n",
       "      <td>0.022427</td>\n",
       "      <td>37</td>\n",
       "      <td>13.18</td>\n",
       "    </tr>\n",
       "    <tr>\n",
       "      <th>8</th>\n",
       "      <td>0.000844</td>\n",
       "      <td>0.090548</td>\n",
       "      <td>66</td>\n",
       "      <td>15.82</td>\n",
       "    </tr>\n",
       "    <tr>\n",
       "      <th>9</th>\n",
       "      <td>0.054700</td>\n",
       "      <td>0.007340</td>\n",
       "      <td>29</td>\n",
       "      <td>13.38</td>\n",
       "    </tr>\n",
       "  </tbody>\n",
       "</table>\n",
       "</div>"
      ],
      "text/plain": [
       "         pi       dxy  abundance  trait\n",
       "0  0.028265  0.047283         22   6.38\n",
       "1  0.016667  0.045493         49   1.18\n",
       "2  0.063355  0.099414         66  15.82\n",
       "3  0.045528  0.071626         26  10.38\n",
       "4  0.093056  0.057664         30  14.38\n",
       "5  0.038612  0.054977          1  14.62\n",
       "6  0.053936  0.030766          3  12.62\n",
       "7  0.001801  0.022427         37  13.18\n",
       "8  0.000844  0.090548         66  15.82\n",
       "9  0.054700  0.007340         29  13.38"
      ]
     },
     "metadata": {},
     "output_type": "display_data"
    },
    {
     "data": {
      "text/plain": [
       "{'abundance_dxy_cor': 0.36474332620803873,\n",
       " 'abundance_pi_cor': -0.17629260766721874,\n",
       " 'abundance_trait_cor': 0.3292682926829269,\n",
       " 'dxy_pi_cor': 0.11515151515151514,\n",
       " 'dxy_trait_cor': 0.498482545817653,\n",
       " 'pi_trait_cor': 0.21276694028802262}"
      ]
     },
     "execution_count": 120,
     "metadata": {},
     "output_type": "execute_result"
    }
   ],
   "source": [
    "def calc_cors(in_df):\n",
    "    diversity_df = in_df.copy()\n",
    "    stat_dict = {}\n",
    "    valid = set([\"abundance\", \"pi\", \"dxy\", \"trait\"])\n",
    "    for pair in combinations(sorted(set(diversity_df.columns).intersection(valid)), r=2):\n",
    "        diversity_df = in_df.copy()\n",
    "        ## If doing traits then transform the trait values into distance from\n",
    "        ## local trait mean. Should see positive correlation in filtering and\n",
    "        ## negative in competition.\n",
    "        if \"trait\" in pair:\n",
    "            idx = pair.index(\"trait\")\n",
    "#            trt_mean = \n",
    "            diversity_df[pair[idx]] = np.abs(diversity_df[pair[idx]] - diversity_df[\"trait\"].mean())\n",
    "            display(diversity_df)\n",
    "        \n",
    "        cor = spearmanr(diversity_df[pair[0]], diversity_df[pair[1]])[0]\n",
    "        if np.isnan(cor): cor = 0\n",
    "        stat_dict[\"{}_{}_cor\".format(pair[0], pair[1])] = cor\n",
    "    return stat_dict\n",
    "calc_cors(dat)"
   ]
  },
  {
   "cell_type": "markdown",
   "metadata": {},
   "source": [
    "## Calculate generalized hill numbers for abundance and pi for the test data"
   ]
  },
  {
   "cell_type": "code",
   "execution_count": 11,
   "metadata": {},
   "outputs": [
    {
     "name": "stdout",
     "output_type": "stream",
     "text": [
      "('abundance', 0, 0.02680965147453083)\n",
      "('abundance', 1, 0.020523241887415097)\n",
      "('abundance', 2, 0.01829597292392211)\n",
      "('abundance', 3, 0.017270410886360606)\n",
      "('abundance', 4, 0.016693114101585506)\n",
      "('pi', 0, 0.022119496006088184)\n",
      "('pi', 1, 0.01828988845523972)\n",
      "('pi', 2, 0.01686920857774611)\n",
      "('pi', 3, 0.01623919273621736)\n",
      "('pi', 4, 0.01589464371780899)\n",
      "('trait', 0, 10.965485946779129)\n",
      "('trait', 1, 8.561483809888323)\n",
      "('trait', 2, 7.507472667546)\n",
      "('trait', 3, 6.945980372494117)\n",
      "('trait', 4, 6.608012875040912)\n",
      "[[1.5]]\n"
     ]
    },
    {
     "data": {
      "text/plain": [
       "array([[0.]])"
      ]
     },
     "execution_count": 11,
     "metadata": {},
     "output_type": "execute_result"
    }
   ],
   "source": [
    "np.array(np.ones(10))\n",
    "for p in [\"abundance\", \"pi\"]:\n",
    "    if p == \"abundance\":\n",
    "        vals = None\n",
    "    else:\n",
    "        vals = dat[p]\n",
    "    for i in range(0, 5):\n",
    "        hval = MESS.stats.generalized_hill_number(abunds=dat[\"abundance\"], vals=vals, order=i)\n",
    "        print(p, i, hval)\n",
    "for i in range(0, 5):\n",
    "    hval = MESS.stats.trait_hill_number(abunds=dat[\"abundance\"], traits=dat[\"trait\"], order=i)\n",
    "    print(\"trait\", i, hval)\n",
    "traits = pd.DataFrame([1.5])\n",
    "MESS.stats.trait_hill_number(abunds=pd.DataFrame([100]), traits=traits)\n",
    "from sklearn.metrics import pairwise_distances\n",
    "traits = traits.values.reshape(-1, 1)\n",
    "print(traits)\n",
    "pairwise_distances(traits)"
   ]
  },
  {
   "cell_type": "markdown",
   "metadata": {},
   "source": [
    "## How do even vs uneven abundances interact with even and uneven pi distributions in the generalized hill framework?"
   ]
  },
  {
   "cell_type": "code",
   "execution_count": 34,
   "metadata": {},
   "outputs": [
    {
     "data": {
      "text/plain": [
       "[<matplotlib.lines.Line2D at 0x7f32be335b10>]"
      ]
     },
     "execution_count": 34,
     "metadata": {},
     "output_type": "execute_result"
    },
    {
     "data": {
      "image/png": "[encoded data removed]",
      "text/plain": [
       "<Figure size 360x360 with 1 Axes>"
      ]
     },
     "metadata": {
      "needs_background": "light"
     },
     "output_type": "display_data"
    }
   ],
   "source": [
    "watdo = MESS.stats.generalized_hill_number\n",
    "fig, ax = plt.subplots(figsize=(5, 5))\n",
    "xs = list(range(0,7))\n",
    "\n",
    "## Rand abund even pi\n",
    "abunds = dat[\"abundance\"]\n",
    "even_pi = np.array([0.04] * 10)\n",
    "ys = [watdo(abunds, even_pi, i) for i in xs]\n",
    "ax.plot(xs, ys, c='b')\n",
    "\n",
    "## Even abund even pi\n",
    "abunds = np.array([10] * 10)\n",
    "even_pi = np.array([0.04] * 10)\n",
    "ys = [watdo(abunds, even_pi, i) for i in xs]\n",
    "ax.plot(xs, ys, c='r')\n",
    "#vals = np.ones(len(dat[\"abundance\"]))\n",
    "\n",
    "## Rand abund rand pi\n",
    "abunds = dat[\"abundance\"]\n",
    "vals = dat[\"pi\"]\n",
    "ys = [watdo(abunds, vals, i) for i in xs]\n",
    "ax.plot(xs, ys, c='g')\n",
    "\n",
    "## even abund rand pi\n",
    "abunds = np.array([10] * 10)\n",
    "vals = dat[\"pi\"]\n",
    "ys = [watdo(abunds, vals, i) for i in xs]\n",
    "ax.plot(xs, ys, c='orange')\n"
   ]
  },
  {
   "cell_type": "markdown",
   "metadata": {},
   "source": [
    "## Formulate hill # for traits"
   ]
  },
  {
   "cell_type": "code",
   "execution_count": 4,
   "metadata": {},
   "outputs": [
    {
     "data": {
      "text/plain": [
       "[<matplotlib.lines.Line2D at 0x2aaaef4be250>]"
      ]
     },
     "execution_count": 4,
     "metadata": {},
     "output_type": "execute_result"
    },
    {
     "data": {
      "image/png": "[encoded data removed]",
      "text/plain": [
       "<Figure size 432x288 with 1 Axes>"
      ]
     },
     "metadata": {
      "needs_background": "light"
     },
     "output_type": "display_data"
    }
   ],
   "source": [
    "xs = list(range(0,7))\n",
    "ys = [MESS.stats.trait_hill_number(abunds=dat[\"abundance\"], traits=dat[\"trait\"], order=i) for i in xs]\n",
    "plt.plot(xs, ys)"
   ]
  },
  {
   "cell_type": "code",
   "execution_count": 5,
   "metadata": {},
   "outputs": [
    {
     "data": {
      "text/html": [
       "<div>\n",
       "<style scoped>\n",
       "    .dataframe tbody tr th:only-of-type {\n",
       "        vertical-align: middle;\n",
       "    }\n",
       "\n",
       "    .dataframe tbody tr th {\n",
       "        vertical-align: top;\n",
       "    }\n",
       "\n",
       "    .dataframe thead th {\n",
       "        text-align: right;\n",
       "    }\n",
       "</style>\n",
       "<table border=\"1\" class=\"dataframe\">\n",
       "  <thead>\n",
       "    <tr style=\"text-align: right;\">\n",
       "      <th></th>\n",
       "      <th>S</th>\n",
       "      <th>abund_h1</th>\n",
       "      <th>abund_h2</th>\n",
       "      <th>abund_h3</th>\n",
       "      <th>abund_h4</th>\n",
       "      <th>pi_h1</th>\n",
       "      <th>pi_h2</th>\n",
       "      <th>pi_h3</th>\n",
       "      <th>pi_h4</th>\n",
       "      <th>mean_pi</th>\n",
       "      <th>std_pi</th>\n",
       "      <th>skewness_pi</th>\n",
       "      <th>kurtosis_pi</th>\n",
       "      <th>median_pi</th>\n",
       "      <th>iqr_pi</th>\n",
       "      <th>mean_dxys</th>\n",
       "      <th>std_dxys</th>\n",
       "      <th>skewness_dxys</th>\n",
       "      <th>kurtosis_dxys</th>\n",
       "      <th>median_dxys</th>\n",
       "      <th>iqr_dxys</th>\n",
       "      <th>trees</th>\n",
       "      <th>trait_h1</th>\n",
       "      <th>trait_h2</th>\n",
       "      <th>trait_h3</th>\n",
       "      <th>trait_h4</th>\n",
       "      <th>mean_local_traits</th>\n",
       "      <th>std_local_traits</th>\n",
       "      <th>skewness_local_traits</th>\n",
       "      <th>kurtosis_local_traits</th>\n",
       "      <th>median_local_traits</th>\n",
       "      <th>iqr_local_traits</th>\n",
       "      <th>abundance_dxy_cor</th>\n",
       "      <th>abundance_pi_cor</th>\n",
       "      <th>abundance_trait_cor</th>\n",
       "      <th>dxy_pi_cor</th>\n",
       "      <th>dxy_trait_cor</th>\n",
       "      <th>pi_trait_cor</th>\n",
       "      <th>SGD_0_0</th>\n",
       "      <th>SGD_0_1</th>\n",
       "      <th>SGD_0_2</th>\n",
       "      <th>SGD_0_3</th>\n",
       "      <th>SGD_0_4</th>\n",
       "      <th>SGD_0_5</th>\n",
       "      <th>SGD_0_6</th>\n",
       "      <th>SGD_0_7</th>\n",
       "      <th>SGD_0_8</th>\n",
       "      <th>SGD_0_9</th>\n",
       "      <th>SGD_1_0</th>\n",
       "      <th>SGD_1_1</th>\n",
       "      <th>SGD_1_2</th>\n",
       "      <th>SGD_1_3</th>\n",
       "      <th>SGD_1_4</th>\n",
       "      <th>SGD_1_5</th>\n",
       "      <th>SGD_1_6</th>\n",
       "      <th>SGD_1_7</th>\n",
       "      <th>SGD_1_8</th>\n",
       "      <th>SGD_1_9</th>\n",
       "      <th>SGD_2_0</th>\n",
       "      <th>SGD_2_1</th>\n",
       "      <th>SGD_2_2</th>\n",
       "      <th>SGD_2_3</th>\n",
       "      <th>SGD_2_4</th>\n",
       "      <th>SGD_2_5</th>\n",
       "      <th>SGD_2_6</th>\n",
       "      <th>SGD_2_7</th>\n",
       "      <th>SGD_2_8</th>\n",
       "      <th>SGD_2_9</th>\n",
       "      <th>SGD_3_0</th>\n",
       "      <th>SGD_3_1</th>\n",
       "      <th>SGD_3_2</th>\n",
       "      <th>SGD_3_3</th>\n",
       "      <th>SGD_3_4</th>\n",
       "      <th>SGD_3_5</th>\n",
       "      <th>SGD_3_6</th>\n",
       "      <th>SGD_3_7</th>\n",
       "      <th>SGD_3_8</th>\n",
       "      <th>SGD_3_9</th>\n",
       "      <th>SGD_4_0</th>\n",
       "      <th>SGD_4_1</th>\n",
       "      <th>SGD_4_2</th>\n",
       "      <th>SGD_4_3</th>\n",
       "      <th>SGD_4_4</th>\n",
       "      <th>SGD_4_5</th>\n",
       "      <th>SGD_4_6</th>\n",
       "      <th>SGD_4_7</th>\n",
       "      <th>SGD_4_8</th>\n",
       "      <th>SGD_4_9</th>\n",
       "      <th>SGD_5_0</th>\n",
       "      <th>SGD_5_1</th>\n",
       "      <th>SGD_5_2</th>\n",
       "      <th>SGD_5_3</th>\n",
       "      <th>SGD_5_4</th>\n",
       "      <th>SGD_5_5</th>\n",
       "      <th>SGD_5_6</th>\n",
       "      <th>SGD_5_7</th>\n",
       "      <th>SGD_5_8</th>\n",
       "      <th>SGD_5_9</th>\n",
       "      <th>SGD_6_0</th>\n",
       "      <th>SGD_6_1</th>\n",
       "      <th>SGD_6_2</th>\n",
       "      <th>SGD_6_3</th>\n",
       "      <th>SGD_6_4</th>\n",
       "      <th>SGD_6_5</th>\n",
       "      <th>SGD_6_6</th>\n",
       "      <th>SGD_6_7</th>\n",
       "      <th>SGD_6_8</th>\n",
       "      <th>SGD_6_9</th>\n",
       "      <th>SGD_7_0</th>\n",
       "      <th>SGD_7_1</th>\n",
       "      <th>SGD_7_2</th>\n",
       "      <th>SGD_7_3</th>\n",
       "      <th>SGD_7_4</th>\n",
       "      <th>SGD_7_5</th>\n",
       "      <th>SGD_7_6</th>\n",
       "      <th>SGD_7_7</th>\n",
       "      <th>SGD_7_8</th>\n",
       "      <th>SGD_7_9</th>\n",
       "      <th>SGD_8_0</th>\n",
       "      <th>SGD_8_1</th>\n",
       "      <th>SGD_8_2</th>\n",
       "      <th>SGD_8_3</th>\n",
       "      <th>SGD_8_4</th>\n",
       "      <th>SGD_8_5</th>\n",
       "      <th>SGD_8_6</th>\n",
       "      <th>SGD_8_7</th>\n",
       "      <th>SGD_8_8</th>\n",
       "      <th>SGD_8_9</th>\n",
       "      <th>SGD_9_0</th>\n",
       "      <th>SGD_9_1</th>\n",
       "      <th>SGD_9_2</th>\n",
       "      <th>SGD_9_3</th>\n",
       "      <th>SGD_9_4</th>\n",
       "      <th>SGD_9_5</th>\n",
       "      <th>SGD_9_6</th>\n",
       "      <th>SGD_9_7</th>\n",
       "      <th>SGD_9_8</th>\n",
       "      <th>SGD_9_9</th>\n",
       "    </tr>\n",
       "  </thead>\n",
       "  <tbody>\n",
       "    <tr>\n",
       "      <th>0</th>\n",
       "      <td>10</td>\n",
       "      <td>8.577908</td>\n",
       "      <td>7.824862</td>\n",
       "      <td>7.354675</td>\n",
       "      <td>7.023941</td>\n",
       "      <td>9.04425</td>\n",
       "      <td>8.408298</td>\n",
       "      <td>7.943665</td>\n",
       "      <td>7.577883</td>\n",
       "      <td>0.052044</td>\n",
       "      <td>0.022644</td>\n",
       "      <td>0.204419</td>\n",
       "      <td>-0.352321</td>\n",
       "      <td>0.052656</td>\n",
       "      <td>0.018476</td>\n",
       "      <td>0.035742</td>\n",
       "      <td>0.033694</td>\n",
       "      <td>0.429288</td>\n",
       "      <td>-1.688847</td>\n",
       "      <td>0.014083</td>\n",
       "      <td>0.062423</td>\n",
       "      <td>0</td>\n",
       "      <td>8.578353</td>\n",
       "      <td>7.886023</td>\n",
       "      <td>7.467422</td>\n",
       "      <td>7.185557</td>\n",
       "      <td>5.112537</td>\n",
       "      <td>2.572397</td>\n",
       "      <td>-0.526627</td>\n",
       "      <td>-1.428194</td>\n",
       "      <td>6.548648</td>\n",
       "      <td>4.419491</td>\n",
       "      <td>-0.090909</td>\n",
       "      <td>0.212121</td>\n",
       "      <td>0.29697</td>\n",
       "      <td>0.357576</td>\n",
       "      <td>-0.466667</td>\n",
       "      <td>0.515152</td>\n",
       "      <td>1</td>\n",
       "      <td>0</td>\n",
       "      <td>0</td>\n",
       "      <td>1</td>\n",
       "      <td>1</td>\n",
       "      <td>1</td>\n",
       "      <td>0</td>\n",
       "      <td>0</td>\n",
       "      <td>0</td>\n",
       "      <td>0</td>\n",
       "      <td>1</td>\n",
       "      <td>0</td>\n",
       "      <td>0</td>\n",
       "      <td>0</td>\n",
       "      <td>0</td>\n",
       "      <td>0</td>\n",
       "      <td>0</td>\n",
       "      <td>1</td>\n",
       "      <td>0</td>\n",
       "      <td>0</td>\n",
       "      <td>0</td>\n",
       "      <td>0</td>\n",
       "      <td>0</td>\n",
       "      <td>0</td>\n",
       "      <td>0</td>\n",
       "      <td>0</td>\n",
       "      <td>0</td>\n",
       "      <td>0</td>\n",
       "      <td>0</td>\n",
       "      <td>0</td>\n",
       "      <td>0</td>\n",
       "      <td>0</td>\n",
       "      <td>0</td>\n",
       "      <td>0</td>\n",
       "      <td>0</td>\n",
       "      <td>0</td>\n",
       "      <td>0</td>\n",
       "      <td>0</td>\n",
       "      <td>0</td>\n",
       "      <td>0</td>\n",
       "      <td>0</td>\n",
       "      <td>0</td>\n",
       "      <td>0</td>\n",
       "      <td>0</td>\n",
       "      <td>0</td>\n",
       "      <td>0</td>\n",
       "      <td>0</td>\n",
       "      <td>0</td>\n",
       "      <td>0</td>\n",
       "      <td>0</td>\n",
       "      <td>0</td>\n",
       "      <td>0</td>\n",
       "      <td>0</td>\n",
       "      <td>0</td>\n",
       "      <td>0</td>\n",
       "      <td>0</td>\n",
       "      <td>0</td>\n",
       "      <td>0</td>\n",
       "      <td>0</td>\n",
       "      <td>0</td>\n",
       "      <td>0</td>\n",
       "      <td>0</td>\n",
       "      <td>0</td>\n",
       "      <td>0</td>\n",
       "      <td>0</td>\n",
       "      <td>0</td>\n",
       "      <td>0</td>\n",
       "      <td>0</td>\n",
       "      <td>0</td>\n",
       "      <td>0</td>\n",
       "      <td>0</td>\n",
       "      <td>0</td>\n",
       "      <td>0</td>\n",
       "      <td>1</td>\n",
       "      <td>0</td>\n",
       "      <td>0</td>\n",
       "      <td>0</td>\n",
       "      <td>0</td>\n",
       "      <td>0</td>\n",
       "      <td>0</td>\n",
       "      <td>0</td>\n",
       "      <td>0</td>\n",
       "      <td>0</td>\n",
       "      <td>0</td>\n",
       "      <td>1</td>\n",
       "      <td>0</td>\n",
       "      <td>0</td>\n",
       "      <td>0</td>\n",
       "      <td>0</td>\n",
       "      <td>0</td>\n",
       "      <td>0</td>\n",
       "      <td>0</td>\n",
       "      <td>0</td>\n",
       "      <td>0</td>\n",
       "      <td>0</td>\n",
       "      <td>1</td>\n",
       "      <td>0</td>\n",
       "      <td>0</td>\n",
       "      <td>0</td>\n",
       "      <td>1</td>\n",
       "    </tr>\n",
       "  </tbody>\n",
       "</table>\n",
       "</div>"
      ],
      "text/plain": [
       "    S  abund_h1  abund_h2  abund_h3  abund_h4    pi_h1     pi_h2     pi_h3     pi_h4   mean_pi    std_pi  skewness_pi  kurtosis_pi  median_pi    iqr_pi  mean_dxys  std_dxys  skewness_dxys  kurtosis_dxys  median_dxys  iqr_dxys  trees  trait_h1  trait_h2  trait_h3  trait_h4  mean_local_traits  std_local_traits  skewness_local_traits  kurtosis_local_traits  median_local_traits  iqr_local_traits  abundance_dxy_cor  abundance_pi_cor  abundance_trait_cor  dxy_pi_cor  dxy_trait_cor  pi_trait_cor  SGD_0_0  SGD_0_1  SGD_0_2  SGD_0_3  SGD_0_4  SGD_0_5  SGD_0_6  SGD_0_7  SGD_0_8  SGD_0_9  SGD_1_0  SGD_1_1  SGD_1_2  SGD_1_3  SGD_1_4  SGD_1_5  SGD_1_6  SGD_1_7  SGD_1_8  SGD_1_9  SGD_2_0  SGD_2_1  SGD_2_2  SGD_2_3  SGD_2_4  SGD_2_5  SGD_2_6  SGD_2_7  SGD_2_8  SGD_2_9  SGD_3_0  SGD_3_1  SGD_3_2  SGD_3_3  SGD_3_4  SGD_3_5  SGD_3_6  SGD_3_7  SGD_3_8  SGD_3_9  SGD_4_0  SGD_4_1  SGD_4_2  SGD_4_3  SGD_4_4  SGD_4_5  SGD_4_6  SGD_4_7  SGD_4_8  SGD_4_9  SGD_5_0  SGD_5_1  SGD_5_2  SGD_5_3  SGD_5_4  SGD_5_5  \\\n",
       "0  10  8.577908  7.824862  7.354675  7.023941  9.04425  8.408298  7.943665  7.577883  0.052044  0.022644     0.204419    -0.352321   0.052656  0.018476   0.035742  0.033694       0.429288      -1.688847     0.014083  0.062423      0  8.578353  7.886023  7.467422  7.185557           5.112537          2.572397              -0.526627              -1.428194             6.548648          4.419491          -0.090909          0.212121              0.29697    0.357576      -0.466667      0.515152        1        0        0        1        1        1        0        0        0        0        1        0        0        0        0        0        0        1        0        0        0        0        0        0        0        0        0        0        0        0        0        0        0        0        0        0        0        0        0        0        0        0        0        0        0        0        0        0        0        0        0        0        0        0        0        0   \n",
       "\n",
       "   SGD_5_6  SGD_5_7  SGD_5_8  SGD_5_9  SGD_6_0  SGD_6_1  SGD_6_2  SGD_6_3  SGD_6_4  SGD_6_5  SGD_6_6  SGD_6_7  SGD_6_8  SGD_6_9  SGD_7_0  SGD_7_1  SGD_7_2  SGD_7_3  SGD_7_4  SGD_7_5  SGD_7_6  SGD_7_7  SGD_7_8  SGD_7_9  SGD_8_0  SGD_8_1  SGD_8_2  SGD_8_3  SGD_8_4  SGD_8_5  SGD_8_6  SGD_8_7  SGD_8_8  SGD_8_9  SGD_9_0  SGD_9_1  SGD_9_2  SGD_9_3  SGD_9_4  SGD_9_5  SGD_9_6  SGD_9_7  SGD_9_8  SGD_9_9  \n",
       "0        0        0        0        0        0        0        0        0        0        0        0        0        0        0        0        0        0        1        0        0        0        0        0        0        0        0        0        0        1        0        0        0        0        0        0        0        0        0        0        1        0        0        0        1  "
      ]
     },
     "execution_count": 5,
     "metadata": {},
     "output_type": "execute_result"
    }
   ],
   "source": [
    "MESS.stats.calculate_sumstats(dat, verbose=True)\n",
    "#MESS.stats.trait_hill_number(dat[\"abundance\"], dat[\"trait\"], order=2)"
   ]
  },
  {
   "cell_type": "markdown",
   "metadata": {},
   "source": [
    "## Trash below here"
   ]
  },
  {
   "cell_type": "code",
   "execution_count": 75,
   "metadata": {},
   "outputs": [
    {
     "data": {
      "text/plain": [
       "array([1, 1])"
      ]
     },
     "execution_count": 75,
     "metadata": {},
     "output_type": "execute_result"
    }
   ],
   "source": [
    "df = pd.read_csv(\"/home/isaac/Continuosity/MESS/analysis/figure3-sims/badsims.txt\", sep=\"\\t\", header=0)\n",
    "np.abs([-1, 1])"
   ]
  },
  {
   "cell_type": "markdown",
   "metadata": {},
   "source": [
    "# Weevil data"
   ]
  },
  {
   "cell_type": "code",
   "execution_count": 32,
   "metadata": {},
   "outputs": [
    {
     "data": {
      "text/html": [
       "<div>\n",
       "<style scoped>\n",
       "    .dataframe tbody tr th:only-of-type {\n",
       "        vertical-align: middle;\n",
       "    }\n",
       "\n",
       "    .dataframe tbody tr th {\n",
       "        vertical-align: top;\n",
       "    }\n",
       "\n",
       "    .dataframe thead th {\n",
       "        text-align: right;\n",
       "    }\n",
       "</style>\n",
       "<table border=\"1\" class=\"dataframe\">\n",
       "  <thead>\n",
       "    <tr style=\"text-align: right;\">\n",
       "      <th></th>\n",
       "      <th>S</th>\n",
       "      <th>abund_h1</th>\n",
       "      <th>abund_h2</th>\n",
       "      <th>abund_h3</th>\n",
       "      <th>abund_h4</th>\n",
       "      <th>pi_h1</th>\n",
       "      <th>pi_h2</th>\n",
       "      <th>pi_h3</th>\n",
       "      <th>pi_h4</th>\n",
       "      <th>mean_pi</th>\n",
       "      <th>std_pi</th>\n",
       "      <th>skewness_pi</th>\n",
       "      <th>kurtosis_pi</th>\n",
       "      <th>median_pi</th>\n",
       "      <th>iqr_pi</th>\n",
       "      <th>trees</th>\n",
       "      <th>SGD_0</th>\n",
       "      <th>SGD_1</th>\n",
       "      <th>SGD_2</th>\n",
       "      <th>SGD_3</th>\n",
       "      <th>SGD_4</th>\n",
       "      <th>SGD_5</th>\n",
       "      <th>SGD_6</th>\n",
       "      <th>SGD_7</th>\n",
       "      <th>SGD_8</th>\n",
       "      <th>SGD_9</th>\n",
       "    </tr>\n",
       "  </thead>\n",
       "  <tbody>\n",
       "    <tr>\n",
       "      <th>0</th>\n",
       "      <td>26</td>\n",
       "      <td>15.551964</td>\n",
       "      <td>11.553471</td>\n",
       "      <td>9.749593</td>\n",
       "      <td>8.776689</td>\n",
       "      <td>16.525113</td>\n",
       "      <td>13.293617</td>\n",
       "      <td>11.35714</td>\n",
       "      <td>10.189882</td>\n",
       "      <td>0.022862</td>\n",
       "      <td>0.022351</td>\n",
       "      <td>1.469762</td>\n",
       "      <td>1.797334</td>\n",
       "      <td>0.020936</td>\n",
       "      <td>0.019995</td>\n",
       "      <td>0</td>\n",
       "      <td>10</td>\n",
       "      <td>2</td>\n",
       "      <td>6</td>\n",
       "      <td>4</td>\n",
       "      <td>1</td>\n",
       "      <td>0</td>\n",
       "      <td>1</td>\n",
       "      <td>0</td>\n",
       "      <td>1</td>\n",
       "      <td>1</td>\n",
       "    </tr>\n",
       "  </tbody>\n",
       "</table>\n",
       "</div>"
      ],
      "text/plain": [
       "    S   abund_h1   abund_h2  abund_h3  abund_h4      pi_h1      pi_h2     pi_h3      pi_h4   mean_pi    std_pi  skewness_pi  kurtosis_pi  median_pi    iqr_pi  trees  SGD_0  SGD_1  SGD_2  SGD_3  SGD_4  SGD_5  SGD_6  SGD_7  SGD_8  SGD_9\n",
       "0  26  15.551964  11.553471  9.749593  8.776689  16.525113  13.293617  11.35714  10.189882  0.022862  0.022351     1.469762     1.797334   0.020936  0.019995      0     10      2      6      4      1      0      1      0      1      1"
      ]
     },
     "metadata": {},
     "output_type": "display_data"
    },
    {
     "data": {
      "text/html": [
       "<div>\n",
       "<style scoped>\n",
       "    .dataframe tbody tr th:only-of-type {\n",
       "        vertical-align: middle;\n",
       "    }\n",
       "\n",
       "    .dataframe tbody tr th {\n",
       "        vertical-align: top;\n",
       "    }\n",
       "\n",
       "    .dataframe thead th {\n",
       "        text-align: right;\n",
       "    }\n",
       "</style>\n",
       "<table border=\"1\" class=\"dataframe\">\n",
       "  <thead>\n",
       "    <tr style=\"text-align: right;\">\n",
       "      <th></th>\n",
       "      <th>S</th>\n",
       "      <th>abund_h1</th>\n",
       "      <th>abund_h2</th>\n",
       "      <th>abund_h3</th>\n",
       "      <th>abund_h4</th>\n",
       "      <th>pi_h1</th>\n",
       "      <th>pi_h2</th>\n",
       "      <th>pi_h3</th>\n",
       "      <th>pi_h4</th>\n",
       "      <th>mean_pi</th>\n",
       "      <th>std_pi</th>\n",
       "      <th>skewness_pi</th>\n",
       "      <th>kurtosis_pi</th>\n",
       "      <th>median_pi</th>\n",
       "      <th>iqr_pi</th>\n",
       "      <th>trees</th>\n",
       "      <th>SGD_0</th>\n",
       "      <th>SGD_1</th>\n",
       "      <th>SGD_2</th>\n",
       "      <th>SGD_3</th>\n",
       "      <th>SGD_4</th>\n",
       "      <th>SGD_5</th>\n",
       "      <th>SGD_6</th>\n",
       "      <th>SGD_7</th>\n",
       "      <th>SGD_8</th>\n",
       "      <th>SGD_9</th>\n",
       "    </tr>\n",
       "  </thead>\n",
       "  <tbody>\n",
       "    <tr>\n",
       "      <th>0</th>\n",
       "      <td>27</td>\n",
       "      <td>12.342967</td>\n",
       "      <td>8.390983</td>\n",
       "      <td>7.234338</td>\n",
       "      <td>6.756258</td>\n",
       "      <td>17.708787</td>\n",
       "      <td>14.927681</td>\n",
       "      <td>13.310007</td>\n",
       "      <td>12.280974</td>\n",
       "      <td>0.025299</td>\n",
       "      <td>0.022751</td>\n",
       "      <td>0.947168</td>\n",
       "      <td>0.086781</td>\n",
       "      <td>0.019174</td>\n",
       "      <td>0.028364</td>\n",
       "      <td>0</td>\n",
       "      <td>7</td>\n",
       "      <td>4</td>\n",
       "      <td>3</td>\n",
       "      <td>3</td>\n",
       "      <td>4</td>\n",
       "      <td>2</td>\n",
       "      <td>1</td>\n",
       "      <td>0</td>\n",
       "      <td>0</td>\n",
       "      <td>3</td>\n",
       "    </tr>\n",
       "  </tbody>\n",
       "</table>\n",
       "</div>"
      ],
      "text/plain": [
       "    S   abund_h1  abund_h2  abund_h3  abund_h4      pi_h1      pi_h2      pi_h3      pi_h4   mean_pi    std_pi  skewness_pi  kurtosis_pi  median_pi    iqr_pi  trees  SGD_0  SGD_1  SGD_2  SGD_3  SGD_4  SGD_5  SGD_6  SGD_7  SGD_8  SGD_9\n",
       "0  27  12.342967  8.390983  7.234338  6.756258  17.708787  14.927681  13.310007  12.280974  0.025299  0.022751     0.947168     0.086781   0.019174  0.028364      0      7      4      3      3      4      2      1      0      0      3"
      ]
     },
     "metadata": {},
     "output_type": "display_data"
    },
    {
     "data": {
      "text/plain": [
       "[<matplotlib.lines.Line2D at 0x7f32be357f10>]"
      ]
     },
     "execution_count": 32,
     "metadata": {},
     "output_type": "execute_result"
    },
    {
     "data": {
      "image/png": "[encoded data removed]",
      "text/plain": [
       "<Figure size 360x360 with 1 Axes>"
      ]
     },
     "metadata": {
      "needs_background": "light"
     },
     "output_type": "display_data"
    }
   ],
   "source": [
    "m_df = pd.read_csv(\"/home/isaac/SGD_empirical/empirical_weevils/mauritius.dat\", header=0)\n",
    "r_df = pd.read_csv(\"/home/isaac/SGD_empirical/empirical_weevils/reunion.dat\", header=0)\n",
    "m_ss = MESS.stats.calculate_sumstats(m_df)\n",
    "r_ss = MESS.stats.calculate_sumstats(r_df)\n",
    "\n",
    "display(m_ss)\n",
    "display(r_ss)\n",
    "\n",
    "fig, ax = plt.subplots(figsize=(5, 5))\n",
    "xs = range(2, 5)\n",
    "ys = [m_ss[\"pi_h{}\".format(i)] for i in xs]\n",
    "ax.plot(xs, ys, c='b')\n",
    "ys = [r_ss[\"pi_h{}\".format(i)] for i in xs]\n",
    "ax.plot(xs, ys, c='r')"
   ]
  },
  {
   "cell_type": "code",
   "execution_count": 35,
   "metadata": {
    "scrolled": true
   },
   "outputs": [
    {
     "data": {
      "text/plain": [
       "[<matplotlib.lines.Line2D at 0x7f32be440f50>]"
      ]
     },
     "execution_count": 35,
     "metadata": {},
     "output_type": "execute_result"
    },
    {
     "data": {
      "image/png": "[encoded data removed]",
      "text/plain": [
       "<Figure size 360x360 with 1 Axes>"
      ]
     },
     "metadata": {
      "needs_background": "light"
     },
     "output_type": "display_data"
    }
   ],
   "source": [
    "watdo(m_df[\"abundance\"], m_df[\"pi\"])/len(m_df)\n",
    "fig, ax = plt.subplots(figsize=(5, 5))\n",
    "xs = range(2, 7)\n",
    "ys = [watdo(m_df[\"abundance\"], m_df[\"pi\"], i) for i in xs]\n",
    "ax.plot(xs, ys, c='b')\n",
    "ys = [watdo(r_df[\"abundance\"], r_df[\"pi\"], i) for i in xs]\n",
    "ax.plot(xs, ys, c='r')"
   ]
  },
  {
   "cell_type": "code",
   "execution_count": 74,
   "metadata": {},
   "outputs": [
    {
     "name": "stdout",
     "output_type": "stream",
     "text": [
      "(26, SpearmanrResult(correlation=0.5036941254918288, pvalue=0.008706277317942965))\n",
      "(27, SpearmanrResult(correlation=0.6380779590471193, pvalue=0.000342443669086618))\n"
     ]
    },
    {
     "data": {
      "text/plain": [
       "True"
      ]
     },
     "execution_count": 74,
     "metadata": {},
     "output_type": "execute_result"
    }
   ],
   "source": [
    "print(len(m_df), spearmanr(m_df[\"abundance\"], m_df[\"pi\"]))\n",
    "print(len(r_df), spearmanr(r_df[\"abundance\"], r_df[\"pi\"]))\n",
    "res = spearmanr([2] * 26, m_df[\"abundance\"])[0]\n",
    "np.isnan(res)"
   ]
  },
  {
   "cell_type": "markdown",
   "metadata": {},
   "source": [
    "# Random MESS janks"
   ]
  },
  {
   "cell_type": "code",
   "execution_count": 94,
   "metadata": {},
   "outputs": [
    {
     "data": {
      "text/plain": [
       "(array([ 5.,  2.,  6.,  3.,  2.,  9., 11.,  9.,  6.,  4.,  5.,  7.,  4.,\n",
       "         3.,  4.,  3.,  6.,  7.,  2.,  2.]),\n",
       " array([0.0001   , 0.0001445, 0.000189 , 0.0002335, 0.000278 , 0.0003225,\n",
       "        0.000367 , 0.0004115, 0.000456 , 0.0005005, 0.000545 , 0.0005895,\n",
       "        0.000634 , 0.0006785, 0.000723 , 0.0007675, 0.000812 , 0.0008565,\n",
       "        0.000901 , 0.0009455, 0.00099  ]),\n",
       " <a list of 20 Patch objects>)"
      ]
     },
     "execution_count": 94,
     "metadata": {},
     "output_type": "execute_result"
    },
    {
     "data": {
      "image/png": "[encoded data removed]",
      "text/plain": [
       "<Figure size 432x288 with 1 Axes>"
      ]
     },
     "metadata": {
      "needs_background": "light"
     },
     "output_type": "display_data"
    }
   ],
   "source": [
    "r = MESS.Region(\"watdo-tmp\")\n",
    "## Region params\n",
    "r.set_param(\"project_dir\", \"/tmp\")\n",
    "r.set_param(\"generations\", 0)\n",
    "r.set_param(\"community_assembly_model\", \"neutral\")\n",
    "r.set_param(\"mutation_rate\", 2.2e-8)\n",
    "r.set_param(\"S_m\", (500, 5000))\n",
    "r.set_param(\"J\", (1000, 2000))\n",
    "r.set_param(\"m\", (0.001, 0.01))\n",
    "r.set_param(\"speciation_prob\", (0.0001, 0.001))\n",
    "plt.hist(MESS.util.sample_param_range(r.islands[\"Loc1\"]._priors[\"speciation_prob\"], nsamps=100), bins=20)"
   ]
  },
  {
   "cell_type": "code",
   "execution_count": 15,
   "metadata": {},
   "outputs": [
    {
     "name": "stdout",
     "output_type": "stream",
     "text": [
      "    Generating 1 simulation(s).\n",
      "  [####################] 100%  Finished 0 simulations    | 0:00:00 | \n",
      " "
     ]
    }
   ],
   "source": [
    "r = MESS.Region(\"watdo-tmp\")\n",
    "## Region params\n",
    "r.set_param(\"project_dir\", \"/tmp\")\n",
    "r.set_param(\"generations\", 0)\n",
    "r.set_param(\"community_assembly_model\", \"neutral\")\n",
    "r.set_param(\"mutation_rate\", 2.2e-8)\n",
    "r.set_param(\"S_m\", (500, 5000))\n",
    "r.set_param(\"J\", (1000, 2000))\n",
    "r.set_param(\"m\", (0.001, 0.01))\n",
    "r.set_param(\"speciation_prob\", (0.0001, 0.001))\n",
    "r.run(sims=1)"
   ]
  },
  {
   "cell_type": "code",
   "execution_count": 164,
   "metadata": {},
   "outputs": [
    {
     "name": "stdout",
     "output_type": "stream",
     "text": [
      "(1032, 647, 693)\n"
     ]
    },
    {
     "data": {
      "text/plain": [
       "(array([  2.,   7.,   6.,  11.,  21.,  47.,  53.,  64.,  78.,  85., 120.,\n",
       "         79.,  61.,  29.,   9.,  15.,   0.,   0.,   3.,   3.]),\n",
       " array([-1. , -0.9, -0.8, -0.7, -0.6, -0.5, -0.4, -0.3, -0.2, -0.1,  0. ,\n",
       "         0.1,  0.2,  0.3,  0.4,  0.5,  0.6,  0.7,  0.8,  0.9,  1. ]),\n",
       " <a list of 20 Patch objects>)"
      ]
     },
     "execution_count": 164,
     "metadata": {},
     "output_type": "execute_result"
    },
    {
     "data": {
      "image/png": "[encoded data removed]",
      "text/plain": [
       "<Figure size 432x288 with 1 Axes>"
      ]
     },
     "metadata": {
      "needs_background": "light"
     },
     "output_type": "display_data"
    }
   ],
   "source": [
    "import pandas as pd\n",
    "stat = \"abundance_trait_cor\"\n",
    "df = pd.read_csv(\"/home/iovercast/Continuosity/MESS/MESS/default_MESS/SIMOUT.txt\", sep=\"\\t\", header=0)\n",
    "df = df[df[\"_lambda\"] > 0]\n",
    "ndf = df[df[\"community_assembly_model\"] == \"neutral\"]\n",
    "fdf = df[df[\"community_assembly_model\"] == \"filtering\"]\n",
    "cdf = df[df[\"community_assembly_model\"] == \"competition\"]\n",
    "print(len(ndf), len(fdf), len(cdf))\n",
    "plt.hist(ndf[stat], bins=20, alpha=.5)\n",
    "plt.hist(fdf[stat], bins=20, alpha=.5)\n",
    "plt.hist(cdf[stat], bins=20, alpha=.5)"
   ]
  },
  {
   "cell_type": "code",
   "execution_count": 161,
   "metadata": {},
   "outputs": [
    {
     "data": {
      "text/plain": [
       "<MESS.Metacommunity.Metacommunity at 0x2aaaefe356d0>"
      ]
     },
     "execution_count": 161,
     "metadata": {},
     "output_type": "execute_result"
    }
   ],
   "source": [
    "MESS.Metacommunity()"
   ]
  },
  {
   "cell_type": "code",
   "execution_count": null,
   "metadata": {},
   "outputs": [],
   "source": []
  }
 ],
 "metadata": {
  "kernelspec": {
   "display_name": "Python 2",
   "language": "python",
   "name": "python2"
  },
  "language_info": {
   "codemirror_mode": {
    "name": "ipython",
    "version": 2
   },
   "file_extension": ".py",
   "mimetype": "text/x-python",
   "name": "python",
   "nbconvert_exporter": "python",
   "pygments_lexer": "ipython2",
   "version": "2.7.15"
  }
 },
 "nbformat": 4,
 "nbformat_minor": 2
}
