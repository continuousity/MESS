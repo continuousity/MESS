{
 "cells": [
  {
   "cell_type": "markdown",
   "metadata": {},
   "source": [
    "Data from Rossetto et al 2015: [Where did all the trees come from? A novel multispecies approach reveals the impacts of biogeographical history and functional diversity on rain forest assembly](https://onlinelibrary.wiley.com/doi/full/10.1111/jbi.12571)\n",
    "\n",
    "### Triat data\n",
    "Fetch continuous trait data from [supporting information](https://onlinelibrary.wiley.com/action/downloadSupplement?doi=10.1111%2Fjbi.12571&file=jbi12571-sup-0001-AppendixS1-S3.docx). I copied this from the supporting doc and then pasted it into a google sheet, which was smart enough to retain proper column orientation and formatting. Then I exported to a csv for downstream.\n",
    "\n",
    "### Genetic data\n",
    "Fetch the zip file from dryad (doi: 10.5061/dryad.j64j0). \n",
    "\n",
    "### Tweaks\n",
    "* All these species names in the trait data had to be modified to match the names of the fasta files. I just did it by hand inside the csv:\n",
    "```\n",
    "    Daphnandra apatela (sp McPherson Range)  \n",
    "    Caldcluvia paniculosa /Ackama paniculata  \n",
    "    Endiandra muelleri ssp. muelleri  \n",
    "    Planchonella australis/ Pouteria australis  \n",
    "```\n",
    "* Fixing disagreements between the trait and fasta species names:\n",
    "```\n",
    "    Arcadenia eudiiformis\n",
    "        Fasta error. Species name is Acradenia euodiiformis and is correct in the trait\n",
    "        data so i renamed these in the fasta.\n",
    "    Neolitsea suatraliensis\n",
    "        Typo in the fasta file. Renamed to agree with Neolitsea austarliensis\n",
    "    Pouteria australia\n",
    "        Copied the row in the trait file for Planchonella australis and \n",
    "        renamed to Pouteria australia to match the fasta\n",
    "    Wilkea huegeliana\n",
    "        In the trait file renamed Wilkiea huegeliana to Wilkea huegeliana\n",
    "    Alphitona excelsa\n",
    "        Fasta names were wrong. Fixed to Alphitonia excelsa\n",
    "    Diploglottis australis\n",
    "        The sequence names inside the Diploglottis cunninghamii fasta file. They are synonyms.\n",
    "        It is Diploglottis cunninghamii in the trait file so renamed the fasta seqs.\n",
    "    Doryphora sassafras\n",
    "        Trait file had Doryphora sassasfras, which is incorrect. Fixed the name in the trait file.\n",
    "    Neolitsea austarliensis\n",
    "        Another typo in the fasta. Should be Neolitsea australiensis.\n",
    "```\n",
    "* Inside the dryad zip file is a directory called \"Fasta Alignments for DRYAD\". Rename this to remove spaces.\n",
    "\n",
    "* Trochocarpa laurina had two sequences that did not have locality info. I counted # segregating sites for each and used the info in the supplement to identify and rename these two samples. I renamed these sequences by hand in the appropriate fasta file, just to fix them forever:\n",
    "\n",
    "    '>Trochocarpa_laurina_S_M89' -> '>Trochocarpa_laurina_D'\n",
    "    '>Trochocarpa_laurina' -> '>Trochocarpa_laurina_N'"
   ]
  },
  {
   "cell_type": "code",
   "execution_count": 1,
   "metadata": {},
   "outputs": [],
   "source": [
    "%matplotlib inline\n",
    "import itertools\n",
    "import matplotlib.pyplot as plt\n",
    "import pandas as pd\n",
    "from collections import Counter\n",
    "from IPython.display import display\n",
    "from scipy.stats import hmean\n",
    "from sklearn.decomposition import PCA\n",
    "\n",
    "import MESS\n"
   ]
  },
  {
   "cell_type": "markdown",
   "metadata": {},
   "source": [
    "## Get trait data per species"
   ]
  },
  {
   "cell_type": "code",
   "execution_count": 2,
   "metadata": {
    "scrolled": true
   },
   "outputs": [
    {
     "data": {
      "text/html": [
       "<div>\n",
       "<style scoped>\n",
       "    .dataframe tbody tr th:only-of-type {\n",
       "        vertical-align: middle;\n",
       "    }\n",
       "\n",
       "    .dataframe tbody tr th {\n",
       "        vertical-align: top;\n",
       "    }\n",
       "\n",
       "    .dataframe thead th {\n",
       "        text-align: right;\n",
       "    }\n",
       "</style>\n",
       "<table border=\"1\" class=\"dataframe\">\n",
       "  <thead>\n",
       "    <tr style=\"text-align: right;\">\n",
       "      <th></th>\n",
       "      <th>Family</th>\n",
       "      <th>Species</th>\n",
       "      <th>Seed dry mass_log10</th>\n",
       "      <th>Maximum leaf area_log10</th>\n",
       "      <th>Maximum height_log10</th>\n",
       "      <th>Maximum fruit length_log10</th>\n",
       "      <th>Wood density_log10</th>\n",
       "    </tr>\n",
       "  </thead>\n",
       "  <tbody>\n",
       "    <tr>\n",
       "      <th>0</th>\n",
       "      <td>Apocynaceae</td>\n",
       "      <td>Tabernaeamontana pandacaqui</td>\n",
       "      <td>1.438730</td>\n",
       "      <td>3.845098</td>\n",
       "      <td>0.602060</td>\n",
       "      <td>1.698970</td>\n",
       "      <td>2.674861</td>\n",
       "    </tr>\n",
       "    <tr>\n",
       "      <th>1</th>\n",
       "      <td>Araliaceae</td>\n",
       "      <td>Polyscias elegans</td>\n",
       "      <td>0.017472</td>\n",
       "      <td>3.836324</td>\n",
       "      <td>1.477121</td>\n",
       "      <td>0.845098</td>\n",
       "      <td>2.602060</td>\n",
       "    </tr>\n",
       "    <tr>\n",
       "      <th>2</th>\n",
       "      <td>Araliaceae</td>\n",
       "      <td>Polyscias murrayi</td>\n",
       "      <td>0.538133</td>\n",
       "      <td>3.702431</td>\n",
       "      <td>1.477121</td>\n",
       "      <td>0.698970</td>\n",
       "      <td>2.431364</td>\n",
       "    </tr>\n",
       "    <tr>\n",
       "      <th>3</th>\n",
       "      <td>Araliaceae</td>\n",
       "      <td>Polyscias sambucifolius</td>\n",
       "      <td>0.322039</td>\n",
       "      <td>3.577492</td>\n",
       "      <td>0.602060</td>\n",
       "      <td>0.778151</td>\n",
       "      <td>2.579784</td>\n",
       "    </tr>\n",
       "    <tr>\n",
       "      <th>4</th>\n",
       "      <td>Atherospermataceae</td>\n",
       "      <td>Daphnandra apatela</td>\n",
       "      <td>0.789557</td>\n",
       "      <td>3.623249</td>\n",
       "      <td>1.544068</td>\n",
       "      <td>1.397940</td>\n",
       "      <td>2.747917</td>\n",
       "    </tr>\n",
       "  </tbody>\n",
       "</table>\n",
       "</div>"
      ],
      "text/plain": [
       "               Family                      Species  Seed dry mass_log10  \\\n",
       "0         Apocynaceae  Tabernaeamontana pandacaqui             1.438730   \n",
       "1          Araliaceae            Polyscias elegans             0.017472   \n",
       "2          Araliaceae            Polyscias murrayi             0.538133   \n",
       "3          Araliaceae      Polyscias sambucifolius             0.322039   \n",
       "4  Atherospermataceae           Daphnandra apatela             0.789557   \n",
       "\n",
       "   Maximum leaf area_log10  Maximum height_log10  Maximum fruit length_log10  \\\n",
       "0                 3.845098              0.602060                    1.698970   \n",
       "1                 3.836324              1.477121                    0.845098   \n",
       "2                 3.702431              1.477121                    0.698970   \n",
       "3                 3.577492              0.602060                    0.778151   \n",
       "4                 3.623249              1.544068                    1.397940   \n",
       "\n",
       "   Wood density_log10  \n",
       "0            2.674861  \n",
       "1            2.602060  \n",
       "2            2.431364  \n",
       "3            2.579784  \n",
       "4            2.747917  "
      ]
     },
     "metadata": {},
     "output_type": "display_data"
    },
    {
     "name": "stdout",
     "output_type": "stream",
     "text": [
      "('Explained variance', array([0.8486093 , 0.16524436]))\n"
     ]
    },
    {
     "data": {
      "text/html": [
       "<div>\n",
       "<style scoped>\n",
       "    .dataframe tbody tr th:only-of-type {\n",
       "        vertical-align: middle;\n",
       "    }\n",
       "\n",
       "    .dataframe tbody tr th {\n",
       "        vertical-align: top;\n",
       "    }\n",
       "\n",
       "    .dataframe thead th {\n",
       "        text-align: right;\n",
       "    }\n",
       "</style>\n",
       "<table border=\"1\" class=\"dataframe\">\n",
       "  <thead>\n",
       "    <tr style=\"text-align: right;\">\n",
       "      <th></th>\n",
       "      <th>trait</th>\n",
       "    </tr>\n",
       "    <tr>\n",
       "      <th>Species</th>\n",
       "      <th></th>\n",
       "    </tr>\n",
       "  </thead>\n",
       "  <tbody>\n",
       "    <tr>\n",
       "      <th>Tabernaeamontana pandacaqui</th>\n",
       "      <td>-0.351259</td>\n",
       "    </tr>\n",
       "    <tr>\n",
       "      <th>Polyscias elegans</th>\n",
       "      <td>1.179464</td>\n",
       "    </tr>\n",
       "    <tr>\n",
       "      <th>Polyscias murrayi</th>\n",
       "      <td>0.730552</td>\n",
       "    </tr>\n",
       "    <tr>\n",
       "      <th>Polyscias sambucifolius</th>\n",
       "      <td>0.974805</td>\n",
       "    </tr>\n",
       "    <tr>\n",
       "      <th>Daphnandra apatela</th>\n",
       "      <td>0.315916</td>\n",
       "    </tr>\n",
       "  </tbody>\n",
       "</table>\n",
       "</div>"
      ],
      "text/plain": [
       "                                trait\n",
       "Species                              \n",
       "Tabernaeamontana pandacaqui -0.351259\n",
       "Polyscias elegans            1.179464\n",
       "Polyscias murrayi            0.730552\n",
       "Polyscias sambucifolius      0.974805\n",
       "Daphnandra apatela           0.315916"
      ]
     },
     "metadata": {},
     "output_type": "display_data"
    },
    {
     "data": {
      "image/png": "[encoded data removed]",
      "text/plain": [
       "<Figure size 432x288 with 1 Axes>"
      ]
     },
     "metadata": {
      "needs_background": "light"
     },
     "output_type": "display_data"
    }
   ],
   "source": [
    "trt_dat = pd.read_csv(\"Rossetto_etal_2015/trait_data.csv\", header=0)\n",
    "display(trt_dat.iloc[:5])\n",
    "pca = PCA(n_components=2)\n",
    "dat = pca.fit_transform(trt_dat.iloc[:, 2:])\n",
    "plt.scatter(dat[:, 0], dat[:, 1])\n",
    "print(\"Explained variance\", pca.explained_variance_)\n",
    "for i, comp in enumerate(pca.components_.T):\n",
    "    plt.arrow(0, 0, pca.components_.T[i,0], pca.components_.T[i,1],color = 'r',alpha = 0.5)\n",
    "    plt.text(pca.components_.T[i,0]* 1.5, pca.components_.T[i,1] * 1.5, trt_dat.columns[i+2], color = 'black', ha = 'center', va = 'center')\n",
    "trait_df = pd.DataFrame(dat[:, 0], index=trt_dat[\"Species\"], columns=[\"trait\"])\n",
    "display(trait_df[:5])\n"
   ]
  },
  {
   "cell_type": "markdown",
   "metadata": {},
   "source": [
    "## Get genetic data per species"
   ]
  },
  {
   "cell_type": "code",
   "execution_count": 3,
   "metadata": {},
   "outputs": [
    {
     "name": "stdout",
     "output_type": "stream",
     "text": [
      ">Acacia_melanoxylon_D\n"
     ]
    }
   ],
   "source": [
    "## Put all the fasta files in one big file to reduce housekeeping\n",
    "!cat Rossetto_etal_2015/Fasta_Alignments_for_DRYAD/*.fasta > Rossetto_etal_2015/All.fasta\n",
    "fastas = map(lambda x: x.strip(), open(\"Rossetto_etal_2015/All.fasta\").readlines())\n",
    "print(fastas[0].strip())\n",
    "\n",
    "## The site names and a dictionary for holding the fasta data per site\n",
    "locs = [\"Dorrigo\", \"Nightcap\", \"Washpool\"]\n",
    "fastas_by_loc_dfs = {loc:dict() for loc in locs}\n",
    "\n",
    "pairdealer = itertools.izip(*[iter(fastas)]*2)\n",
    "done = False\n",
    "while not done:\n",
    "    try:\n",
    "        name, seq = pairdealer.next()\n",
    "        if \"_D\" in name:\n",
    "            fastas_by_loc_dfs[\"Dorrigo\"][name] = seq\n",
    "        elif \"_N\" in name:\n",
    "            fastas_by_loc_dfs[\"Nightcap\"][name] = seq\n",
    "        elif \"_W\" in name:\n",
    "            fastas_by_loc_dfs[\"Washpool\"][name] = seq\n",
    "        else:\n",
    "            print(\"Found an unlabeled sequence name.\")\n",
    "            print(name)\n",
    "            c = Counter(seq)\n",
    "            for i in [\"A\", \"C\", \"G\", \"T\", \"-\", \"?\", \"N\", \"\\n\"]:\n",
    "                try:\n",
    "                    c.pop(i)\n",
    "                except:\n",
    "                    pass\n",
    "            print(\"N segsites\", sum(c.values()))\n",
    "\n",
    "    except StopIteration:\n",
    "        done = True"
   ]
  },
  {
   "cell_type": "code",
   "execution_count": 4,
   "metadata": {},
   "outputs": [],
   "source": [
    "def hnum(val):\n",
    "    \"\"\"\n",
    "    The val-th Harmonic number\n",
    "    \"\"\"\n",
    "    return (val)*(1./hmean(range(1, val+1)))\n",
    "\n",
    "def Watterson(seq):\n",
    "    ## This is pooled data so we are looking at one sequence per\n",
    "    ## species. Only count IUPAC ambiguity codes.\n",
    "    c = Counter(seq)\n",
    "    try:\n",
    "        for i in [\"A\", \"C\", \"G\", \"T\", \"-\", \"?\", \"N\", \"\\n\"]:\n",
    "            c.pop(i)\n",
    "    except:\n",
    "        pass\n",
    "    segsites = sum(c.values())\n",
    "    w_theta = segsites/hnum(6)\n",
    "\n",
    "    return w_theta/float(len(seq))\n",
    "\n",
    "## Genomic diversity per site for each species within each sampling\n",
    "## location. Munging the name to make it agree with the species name\n",
    "## in the trait_df. Drop the trailing _*, convert '_' to space and\n",
    "## drop the leading '>':\n",
    "##   e.g. >Acacia_melanoxylon_N becomes Acacia melanoxylon\n",
    "diversity_by_loc_dfs = {loc:dict() for loc in locs}\n",
    "for loc in locs:\n",
    "    diversity_by_loc_dfs[loc] = {name.rsplit(\"_\", 1)[0].replace(\"_\", \" \").replace(\">\", \"\"):Watterson(seq) for name, seq in fastas_by_loc_dfs[loc].items()}\n"
   ]
  },
  {
   "cell_type": "markdown",
   "metadata": {},
   "source": [
    "## Combine trait and genetic data per site"
   ]
  },
  {
   "cell_type": "code",
   "execution_count": 5,
   "metadata": {},
   "outputs": [],
   "source": [
    "## Make a dataframe from the dictionary\n",
    "washpool_df = pd.DataFrame.from_dict(diversity_by_loc_dfs[\"Washpool\"], orient='index', columns=[\"pi\"])\n",
    "## Paste on the trait values per species\n",
    "washpool_df = pd.concat([washpool_df, trait_df], axis=1, sort=True)\n",
    "## Drop all rows that are Nan in the pi column (species not from this location)\n",
    "washpool_df = washpool_df[~pd.isna(washpool_df)[\"pi\"]]\n",
    "washpool_df.to_csv(\"Washpool.csv\")"
   ]
  },
  {
   "cell_type": "code",
   "execution_count": 6,
   "metadata": {},
   "outputs": [],
   "source": [
    "## Make a dataframe from the dictionary\n",
    "dorrigo_df = pd.DataFrame.from_dict(diversity_by_loc_dfs[\"Dorrigo\"], orient='index', columns=[\"pi\"])\n",
    "## Paste on the trait values per species\n",
    "dorrigo_df = pd.concat([dorrigo_df, trait_df], axis=1, sort=True)\n",
    "## Drop all rows that are Nan in the pi column (species not from this location)\n",
    "dorrigo_df = dorrigo_df[~pd.isna(dorrigo_df)[\"pi\"]]\n",
    "dorrigo_df.to_csv(\"Dorrigo.csv\")"
   ]
  },
  {
   "cell_type": "code",
   "execution_count": 7,
   "metadata": {},
   "outputs": [],
   "source": [
    "## Make a dataframe from the dictionary\n",
    "nightcap_df = pd.DataFrame.from_dict(diversity_by_loc_dfs[\"Nightcap\"], orient='index', columns=[\"pi\"])\n",
    "## Paste on the trait values per species\n",
    "nightcap_df = pd.concat([nightcap_df, trait_df], axis=1, sort=True)\n",
    "## Drop all rows that are Nan in the pi column (species not from this location)\n",
    "nightcap_df = nightcap_df[~pd.isna(nightcap_df)[\"pi\"]]\n",
    "nightcap_df.to_csv(\"Nightcap.csv\")"
   ]
  },
  {
   "cell_type": "code",
   "execution_count": 184,
   "metadata": {},
   "outputs": [
    {
     "data": {
      "text/html": [
       "<div>\n",
       "<style scoped>\n",
       "    .dataframe tbody tr th:only-of-type {\n",
       "        vertical-align: middle;\n",
       "    }\n",
       "\n",
       "    .dataframe tbody tr th {\n",
       "        vertical-align: top;\n",
       "    }\n",
       "\n",
       "    .dataframe thead th {\n",
       "        text-align: right;\n",
       "    }\n",
       "</style>\n",
       "<table border=\"1\" class=\"dataframe\">\n",
       "  <thead>\n",
       "    <tr style=\"text-align: right;\">\n",
       "      <th></th>\n",
       "      <th>pi</th>\n",
       "      <th>trait</th>\n",
       "    </tr>\n",
       "  </thead>\n",
       "  <tbody>\n",
       "  </tbody>\n",
       "</table>\n",
       "</div>"
      ],
      "text/plain": [
       "Empty DataFrame\n",
       "Columns: [pi, trait]\n",
       "Index: []"
      ]
     },
     "execution_count": 184,
     "metadata": {},
     "output_type": "execute_result"
    }
   ],
   "source": [
    "nightcap_df[pd.isna(nightcap_df)[\"trait\"]]\n",
    "dorrigo_df[pd.isna(dorrigo_df)[\"trait\"]]\n",
    "washpool_df[pd.isna(washpool_df)[\"trait\"]]"
   ]
  },
  {
   "cell_type": "code",
   "execution_count": null,
   "metadata": {},
   "outputs": [],
   "source": []
  }
 ],
 "metadata": {
  "kernelspec": {
   "display_name": "Python 2",
   "language": "python",
   "name": "python2"
  },
  "language_info": {
   "codemirror_mode": {
    "name": "ipython",
    "version": 2
   },
   "file_extension": ".py",
   "mimetype": "text/x-python",
   "name": "python",
   "nbconvert_exporter": "python",
   "pygments_lexer": "ipython2",
   "version": "2.7.15"
  }
 },
 "nbformat": 4,
 "nbformat_minor": 2
}
