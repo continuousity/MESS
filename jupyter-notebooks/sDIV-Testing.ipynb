{
 "cells": [
  {
   "cell_type": "code",
   "execution_count": 1,
   "metadata": {},
   "outputs": [
    {
     "ename": "ModuleNotFoundError",
     "evalue": "No module named 'ascii_graph'",
     "output_type": "error",
     "traceback": [
      "\u001b[0;31m---------------------------------------------------------------------------\u001b[0m",
      "\u001b[0;31mModuleNotFoundError\u001b[0m                       Traceback (most recent call last)",
      "\u001b[0;32m<ipython-input-1-2db718fbd5d4>\u001b[0m in \u001b[0;36m<module>\u001b[0;34m()\u001b[0m\n\u001b[1;32m      2\u001b[0m \u001b[0mget_ipython\u001b[0m\u001b[0;34m(\u001b[0m\u001b[0;34m)\u001b[0m\u001b[0;34m.\u001b[0m\u001b[0mrun_line_magic\u001b[0m\u001b[0;34m(\u001b[0m\u001b[0;34m'autoreload'\u001b[0m\u001b[0;34m,\u001b[0m \u001b[0;34m'2'\u001b[0m\u001b[0;34m)\u001b[0m\u001b[0;34m\u001b[0m\u001b[0m\n\u001b[1;32m      3\u001b[0m \u001b[0;34m\u001b[0m\u001b[0m\n\u001b[0;32m----> 4\u001b[0;31m \u001b[0;32mimport\u001b[0m \u001b[0mgimmeSAD\u001b[0m\u001b[0;34m\u001b[0m\u001b[0m\n\u001b[0m\u001b[1;32m      5\u001b[0m \u001b[0;32mimport\u001b[0m \u001b[0mimplicit_BI\u001b[0m\u001b[0;34m\u001b[0m\u001b[0m\n\u001b[1;32m      6\u001b[0m \u001b[0;32mimport\u001b[0m \u001b[0mpandas\u001b[0m \u001b[0;32mas\u001b[0m \u001b[0mpd\u001b[0m\u001b[0;34m\u001b[0m\u001b[0m\n",
      "\u001b[0;32m~/Documents/Continuousity/MESS/gimmeSAD.py\u001b[0m in \u001b[0;36m<module>\u001b[0;34m()\u001b[0m\n\u001b[1;32m      2\u001b[0m \u001b[0;34m\u001b[0m\u001b[0m\n\u001b[1;32m      3\u001b[0m \u001b[0;32mfrom\u001b[0m \u001b[0m__future__\u001b[0m \u001b[0;32mimport\u001b[0m \u001b[0mprint_function\u001b[0m\u001b[0;34m\u001b[0m\u001b[0m\n\u001b[0;32m----> 4\u001b[0;31m \u001b[0;32mfrom\u001b[0m \u001b[0mascii_graph\u001b[0m \u001b[0;32mimport\u001b[0m \u001b[0mPyasciigraph\u001b[0m\u001b[0;34m\u001b[0m\u001b[0m\n\u001b[0m\u001b[1;32m      5\u001b[0m \u001b[0;32mimport\u001b[0m \u001b[0mmatplotlib\u001b[0m\u001b[0;34m.\u001b[0m\u001b[0mpatheffects\u001b[0m \u001b[0;32mas\u001b[0m \u001b[0mPathEffects\u001b[0m\u001b[0;34m\u001b[0m\u001b[0m\n\u001b[1;32m      6\u001b[0m \u001b[0;32mimport\u001b[0m \u001b[0mmatplotlib\u001b[0m\u001b[0;34m.\u001b[0m\u001b[0mpyplot\u001b[0m \u001b[0;32mas\u001b[0m \u001b[0mplt\u001b[0m\u001b[0;34m\u001b[0m\u001b[0m\n",
      "\u001b[0;31mModuleNotFoundError\u001b[0m: No module named 'ascii_graph'"
     ]
    }
   ],
   "source": [
    "%load_ext autoreload\n",
    "%autoreload 2\n",
    "\n",
    "import gimmeSAD\n",
    "import implicit_BI\n",
    "import pandas as pd\n",
    "import numpy as np"
   ]
  },
  {
   "cell_type": "code",
   "execution_count": 162,
   "metadata": {},
   "outputs": [
    {
     "name": "stdout",
     "output_type": "stream",
     "text": [
      "{'t8': 1.0, 't9': 1.0, 't6': 1.0, 't7': 1.0, 't4': 1.0, 't5': 1.0, 't2': 1.0, 't3': 1.0, 't0': 1.0, 't1': 1.0}\n",
      "['t0', 't1', 't2', 't3', 't4', 't5', 't6', 't7', 't8', 't9']\n",
      "Initializing local community:\n",
      "N species = 9\n",
      "N individuals = 50\n",
      "[('t0', True), ('t0', True), ('t0', True), ('t0', True), ('t0', True), ('t1', True), ('t1', True), ('t1', True), ('t1', True), ('t1', True), ('t1', True), ('t1', True), ('t3', True), ('t3', True), ('t3', True), ('t3', True), ('t3', True), ('t3', True), ('t4', True), ('t4', True), ('t4', True), ('t4', True), ('t4', True), ('t4', True), ('t4', True), ('t5', True), ('t5', True), ('t5', True), ('t5', True), ('t5', True), ('t5', True), ('t6', True), ('t6', True), ('t6', True), ('t6', True), ('t6', True), ('t7', True), ('t7', True), ('t7', True), ('t7', True), ('t7', True), ('t8', True), ('t8', True), ('t8', True), ('t8', True), ('t8', True), ('t9', True), ('t9', True), ('t9', True), ('t9', True)]\n",
      "{'t8': 7, 't9': 51, 't6': 71, 't7': 12, 't4': 31, 't5': 58, 't2': 129, 't3': 50, 't0': 31, 't1': 47}\n"
     ]
    }
   ],
   "source": [
    "data = implicit_BI.implicit_BI(K=50, colrate=0.5)\n",
    "data.uniform_species = 10\n",
    "data.environmental_filtering = True\n",
    "\n",
    "data.set_metacommunity(\"uniform\", random=True)\n",
    "#data.set_metacommunity(\"SpInfo.txt\", random=True)\n",
    "#print(data.abundances)\n",
    "print(data.species_death_probability)\n",
    "print(data.species)\n",
    "#print(data.immigration_probabilities)\n",
    "#print(data.post_colonization_migrants)\n",
    "\n",
    "data.prepopulate(\"landbridge\")\n",
    "#data.competitive_exclusion = True\n",
    "\n",
    "print(data.local_community)\n",
    "data.allow_multiple_colonizations = True\n",
    "data.step(10000)\n",
    "print(data.post_colonization_migrants)\n",
    "\n",
    "#print(data.local_community)\n",
    "#print(data.species_trait_values)\n",
    "#print(data.divergence_times)"
   ]
  },
  {
   "cell_type": "code",
   "execution_count": 58,
   "metadata": {},
   "outputs": [
    {
     "name": "stdout",
     "output_type": "stream",
     "text": [
      "1000 loops, best of 3: 504 µs per loop\n",
      "1000 loops, best of 3: 972 µs per loop\n"
     ]
    }
   ],
   "source": [
    "df = pd.DataFrame(np.random.randint(0,100,size=(4, 10000)))\n",
    "%timeit df.sample(1, axis=1)\n",
    "%timeit np.random.choice(list(df.iloc[1]))"
   ]
  },
  {
   "cell_type": "code",
   "execution_count": 59,
   "metadata": {},
   "outputs": [
    {
     "name": "stdout",
     "output_type": "stream",
     "text": [
      "1000 loops, best of 3: 499 µs per loop\n"
     ]
    }
   ],
   "source": [
    "tmplist = list(df.iloc[1])\n",
    "%timeit np.random.choice(tmplist, 1)"
   ]
  },
  {
   "cell_type": "code",
   "execution_count": 60,
   "metadata": {},
   "outputs": [
    {
     "name": "stdout",
     "output_type": "stream",
     "text": [
      "1000 loops, best of 3: 439 µs per loop\n"
     ]
    }
   ],
   "source": [
    "#np.zeros(len(data.abundances))\\\n",
    "tmplist = np.ones(10000)/10000\n",
    "%timeit np.random.multinomial(1, tmplist)"
   ]
  },
  {
   "cell_type": "code",
   "execution_count": 109,
   "metadata": {},
   "outputs": [
    {
     "name": "stdout",
     "output_type": "stream",
     "text": [
      "('t40', True)\n",
      "{('t20', False): 11774, ('t13', False): 11997, ('t16', False): 11994, ('t23', False): 4052, ('t8', False): 11855, ('t33', False): 11496, ('t5', False): 11950, ('t22', False): 11595, ('t30', False): 11923, ('t2', False): 11936, ('t10', False): 11982, ('t40', False): 11873, ('t31', False): 11541, ('t3', False): 11999, ('t6', False): 10885, ('t38', False): 5645, ('t21', False): 11970, ('t46', False): 11944}\n",
      "{'t49': 0, 't48': 0, 't43': 0, 't42': 0, 't41': 0, 't40': 0, 't47': 0, 't46': 0, 't45': 0, 't44': 0, 't14': 0, 't15': 0, 't16': 0, 't17': 0, 't10': 0, 't11': 0, 't38': 0, 't13': 0, 't36': 0, 't37': 0, 't34': 0, 't35': 0, 't32': 0, 't33': 0, 't30': 0, 't31': 0, 't12': 0, 't39': 0, 't19': 0, 't8': 0, 't9': 0, 't6': 0, 't18': 0, 't4': 0, 't5': 0, 't2': 0, 't3': 0, 't0': 0, 't1': 0, 't29': 0, 't28': 0, 't': 0, 't7': 0, 't21': 0, 't20': 0, 't23': 0, 't22': 0, 't25': 0, 't24': 0, 't27': 0, 't26': 0}\n"
     ]
    }
   ],
   "source": [
    "print(data.migrate_step())\n",
    "data.step(10000)\n",
    "print(data.divergence_times)\n",
    "print(data.post_colonization_migrants)"
   ]
  },
  {
   "cell_type": "code",
   "execution_count": 110,
   "metadata": {},
   "outputs": [
    {
     "name": "stdout",
     "output_type": "stream",
     "text": [
      "[<species Nesogonia lasiolepis/coltime 226/local Ne 2000/meta Ne 90000/migrate 0.0/pi_island 0.00809463051568/pi_meta 0.0102527024632/dxy 0.0102045614035/S_island 10/S_meta 28>, <species Dermacentor ashtoni/coltime 3/local Ne 1000/meta Ne 290000/migrate 0.0/pi_island 0.0109618996987/pi_meta 0.0118015240121/dxy 0.0133487719298/S_island 14/S_meta 51>, <species Cryptococcus fennica/coltime 6/local Ne 1000/meta Ne 280000/migrate 0.0/pi_island 0.0137745879851/pi_meta 0.0195151515152/dxy 0.0187912280702/S_island 23/S_meta 75>, <species Alniphagus aurantii/coltime 7948/local Ne 2000/meta Ne 850000/migrate 0.0/pi_island 0.0771461988304/pi_meta 0.0943328017012/dxy 0.100515087719/S_island 97/S_meta 229>, <species Bombus intrusus/coltime 145/local Ne 4000/meta Ne 480000/migrate 0.0/pi_island 0.0175548467127/pi_meta 0.0170303030303/dxy 0.0197280701754/S_island 23/S_meta 73>, <species Paradiplosis malifoliella/coltime 504/local Ne 5000/meta Ne 520000/migrate 0.0/pi_island 0.00680701754386/pi_meta 0.0503870281765/dxy 0.0443214035088/S_island 66/S_meta 133>, <species Protocalliphora farinae/coltime 50/local Ne 1000/meta Ne 140000/migrate 0.0/pi_island 0.00846074782917/pi_meta 0.0222431330852/dxy 0.019658245614/S_island 12/S_meta 47>, <species Loxostege lasiolepis/coltime 405/local Ne 2000/meta Ne 280000/migrate 0.0/pi_island 0.0111688818005/pi_meta 0.0219911394648/dxy 0.0213922807018/S_island 29/S_meta 74>, <species Epicauta thrax/coltime 77/local Ne 4000/meta Ne 280000/migrate 0.0/pi_island 0.000771220981747/pi_meta 0.0274896331738/dxy 0.0256547368421/S_island 1/S_meta 66>, <species Monellia thrax/coltime 64/local Ne 5000/meta Ne 100000/migrate 0.0/pi_island 0.00594010278221/pi_meta 0.0167194754563/dxy 0.0195968421053/S_island 11/S_meta 31>, <species Blattella floridensis/coltime 18/local Ne 1000/meta Ne 20000/migrate 0.0/pi_island 0.0/pi_meta 0.000440545808967/dxy 0.000228070175439/S_island 0/S_meta 4>, <species Dendroctonus angulatus/coltime 127/local Ne 3000/meta Ne 60000/migrate 0.0/pi_island 0.00374410774411/pi_meta 0.00496544391281/dxy 0.00551859649123/S_island 5/S_meta 13>, <species Bucculatrix farinae/coltime 459/local Ne 3000/meta Ne 400000/migrate 0.0/pi_island 0.0208754208754/pi_meta 0.026444090023/dxy 0.0322357894737/S_island 25/S_meta 71>, <species Trialeurodes asparagi/coltime 1/local Ne 1000/meta Ne 200000/migrate 0.0/pi_island 0.00637604111288/pi_meta 0.0377076023392/dxy 0.0309007017544/S_island 44/S_meta 78>, <species Cadra gowdeyi/coltime 1115/local Ne 1000/meta Ne 600000/migrate 0.0/pi_island 0.0179659755449/pi_meta 0.0581555909977/dxy 0.0797326315789/S_island 26/S_meta 154>, <species Euxoa saltuella/coltime 6355/local Ne 12000/meta Ne 1360000/migrate 0.0/pi_island 0.00490164805954/pi_meta 0.131342902711/dxy 0.101164912281/S_island 12/S_meta 353>, <species Hypothenemus unipuncta/coltime 30/local Ne 1000/meta Ne 250000/migrate 0.0/pi_island 0.00606308701046/pi_meta 0.0100042530569/dxy 0.00905473684211/S_island 16/S_meta 43>, <species Thyridopteryx arenaria/coltime 56/local Ne 1000/meta Ne 40000/migrate 0.0/pi_island 0.0/pi_meta 0.00125287967393/dxy 0.00328070175439/S_island 0/S_meta 10>]\n"
     ]
    }
   ],
   "source": [
    "data.simulate_seqs()\n",
    "sp = data.get_species()\n",
    "print(sp)"
   ]
  },
  {
   "cell_type": "code",
   "execution_count": 178,
   "metadata": {},
   "outputs": [
    {
     "name": "stdout",
     "output_type": "stream",
     "text": [
      "\n",
      "============================\n",
      "Epoch: 0 -- 84.0 generations\n",
      "============================\n",
      "     start     end      growth_rate |     0        1    \n",
      "   -------- --------       -------- | -------- -------- \n",
      "0 |  4e+03    4e+03               0 |     0        0    \n",
      "1 | 5.4e+05  5.4e+05              0 |     0        0    \n",
      "\n",
      "Events @ generation 84.0\n",
      "   - Population parameter change for 0: growth_rate -> 0 \n",
      "   - Population parameter change for 0: initial_size -> 0 \n",
      "   - Migration rate change to 0 everywhere\n",
      "\n",
      "===============================\n",
      "Epoch: 84.0 -- 85.0 generations\n",
      "===============================\n",
      "     start     end      growth_rate |     0        1    \n",
      "   -------- --------       -------- | -------- -------- \n",
      "0 |    0        0                 0 |     0        0    \n",
      "1 | 5.4e+05  5.4e+05              0 |     0        0    \n",
      "\n",
      "Events @ generation 85.0\n",
      "   - Mass migration: lineages move from 0 to 1 with probability 1\n",
      "\n",
      "==============================\n",
      "Epoch: 85.0 -- inf generations\n",
      "==============================\n",
      "     start     end      growth_rate |     0        1    \n",
      "   -------- --------       -------- | -------- -------- \n",
      "0 |    0        0                 0 |     0        0    \n",
      "1 | 5.4e+05  5.4e+05              0 |     0        0    \n",
      "\n"
     ]
    }
   ],
   "source": [
    "import msprime\n",
    "self=sp\n",
    "self.island_sample_size=10\n",
    "self.meta_sample_size=5\n",
    "migmat = [[0,0],[0,0]]\n",
    "island_pop = msprime.PopulationConfiguration(sample_size=self.island_sample_size,\\\n",
    "                                                    initial_size=self.local_Ne,\\\n",
    "                                                    growth_rate=self.r_island)\n",
    "\n",
    "meta_pop = msprime.PopulationConfiguration(sample_size=self.meta_sample_size, initial_size=self.meta_abundance)\n",
    "\n",
    "split_event = msprime.MassMigration(time=self.colonization_time,\\\n",
    "                                            source=0,\\\n",
    "                                            destination=1,\\\n",
    "                                            proportion=1)\n",
    "\n",
    "island_rate_change_event = msprime.PopulationParametersChange(time=self.colonization_time-1,\\\n",
    "                                                                        growth_rate=0,\\\n",
    "                                                                        population_id=0)\n",
    "\n",
    "island_size_change_event = msprime.PopulationParametersChange(time=self.colonization_time-1,\\\n",
    "                                                                        initial_size=0,\\\n",
    "                                                                        population_id=0)\n",
    "\n",
    "migrate_change = msprime.MigrationRateChange(time=self.colonization_time-1, rate=0)\n",
    "## Useful for debugging demographic events. Mass migration and exponetial growth are both working.\n",
    "#print(self.name, self.colonization_time)\n",
    "debug = msprime.DemographyDebugger(population_configurations=[island_pop, meta_pop],\\\n",
    "                                            migration_matrix=migmat,\n",
    "                                           demographic_events=[island_rate_change_event, island_size_change_event,\\\n",
    "                                                               migrate_change, split_event])\n",
    "debug.print_history()\n",
    "self.tree_sequence = msprime.simulate(length=self.sequence_length,\\\n",
    "                                                Ne=self.local_Ne,\\\n",
    "                                                mutation_rate=self.mutation_rate, \\\n",
    "                                                population_configurations=[island_pop, meta_pop],\\\n",
    "                                                migration_matrix=migmat,\n",
    "                                                demographic_events=[island_size_change_event, island_rate_change_event,\\\n",
    "                                                                    migrate_change, split_event])"
   ]
  },
  {
   "cell_type": "code",
   "execution_count": 179,
   "metadata": {},
   "outputs": [
    {
     "data": {
      "image/svg+xml": [
       "<svg baseProfile=\"full\" height=\"1000\" version=\"1.1\" width=\"1000\" xmlns=\"http://www.w3.org/2000/svg\" xmlns:ev=\"http://www.w3.org/2001/xml-events\" xmlns:xlink=\"http://www.w3.org/1999/xlink\"><defs/><g id=\"lines\" stroke=\"black\"><line x1=\"159.466911765\" x2=\"476.792279412\" y1=\"974.194914856\" y2=\"20.0\"/><line x1=\"58.8235294118\" x2=\"159.466911765\" y1=\"980.0\" y2=\"974.194914856\"/><line x1=\"260.110294118\" x2=\"159.466911765\" y1=\"979.965413049\" y2=\"974.194914856\"/><line x1=\"147.058823529\" x2=\"260.110294118\" y1=\"979.965413049\" y2=\"979.965413049\"/><line x1=\"117.647058824\" x2=\"147.058823529\" y1=\"980.0\" y2=\"979.965413049\"/><line x1=\"176.470588235\" x2=\"147.058823529\" y1=\"980.0\" y2=\"979.965413049\"/><line x1=\"373.161764706\" x2=\"260.110294118\" y1=\"979.965413049\" y2=\"979.965413049\"/><line x1=\"279.411764706\" x2=\"373.161764706\" y1=\"979.965413049\" y2=\"979.965413049\"/><line x1=\"235.294117647\" x2=\"279.411764706\" y1=\"980.0\" y2=\"979.965413049\"/><line x1=\"323.529411765\" x2=\"279.411764706\" y1=\"979.965413049\" y2=\"979.965413049\"/><line x1=\"294.117647059\" x2=\"323.529411765\" y1=\"980.0\" y2=\"979.965413049\"/><line x1=\"352.941176471\" x2=\"323.529411765\" y1=\"980.0\" y2=\"979.965413049\"/><line x1=\"466.911764706\" x2=\"373.161764706\" y1=\"979.965413049\" y2=\"979.965413049\"/><line x1=\"411.764705882\" x2=\"466.911764706\" y1=\"980.0\" y2=\"979.965413049\"/><line x1=\"522.058823529\" x2=\"466.911764706\" y1=\"979.965413049\" y2=\"979.965413049\"/><line x1=\"470.588235294\" x2=\"522.058823529\" y1=\"980.0\" y2=\"979.965413049\"/><line x1=\"573.529411765\" x2=\"522.058823529\" y1=\"979.965413049\" y2=\"979.965413049\"/><line x1=\"529.411764706\" x2=\"573.529411765\" y1=\"980.0\" y2=\"979.965413049\"/><line x1=\"617.647058824\" x2=\"573.529411765\" y1=\"979.965413049\" y2=\"979.965413049\"/><line x1=\"588.235294118\" x2=\"617.647058824\" y1=\"980.0\" y2=\"979.965413049\"/><line x1=\"647.058823529\" x2=\"617.647058824\" y1=\"980.0\" y2=\"979.965413049\"/><line x1=\"794.117647059\" x2=\"476.792279412\" y1=\"684.991684067\" y2=\"20.0\"/><line x1=\"735.294117647\" x2=\"794.117647059\" y1=\"966.314396654\" y2=\"684.991684067\"/><line x1=\"705.882352941\" x2=\"735.294117647\" y1=\"980.0\" y2=\"966.314396654\"/><line x1=\"764.705882353\" x2=\"735.294117647\" y1=\"980.0\" y2=\"966.314396654\"/><line x1=\"852.941176471\" x2=\"794.117647059\" y1=\"800.047348283\" y2=\"684.991684067\"/><line x1=\"823.529411765\" x2=\"852.941176471\" y1=\"980.0\" y2=\"800.047348283\"/><line x1=\"882.352941176\" x2=\"852.941176471\" y1=\"980.0\" y2=\"800.047348283\"/></g><g font-size=\"14\"><text dx=\"-20\" x=\"476.792279412\" y=\"20.0\">28</text><text dx=\"5\" x=\"476.792279412\" y=\"20.0\">t = 2331515.14</text><text dx=\"-20\" x=\"159.466911765\" y=\"974.194914856\">24</text><text dx=\"5\" x=\"159.466911765\" y=\"974.194914856\">t = 14098.59</text><text dx=\"-4\" dy=\"20\" x=\"58.8235294118\" y=\"980.0\">10</text><text dx=\"-20\" x=\"260.110294118\" y=\"979.965413049\">23</text><text dx=\"5\" x=\"260.110294118\" y=\"979.965413049\">t = 84.00</text><text dx=\"-20\" x=\"147.058823529\" y=\"979.965413049\">17</text><text dx=\"5\" x=\"147.058823529\" y=\"979.965413049\">t = 84.00</text><text dx=\"-4\" dy=\"20\" x=\"117.647058824\" y=\"980.0\">2</text><text dx=\"-4\" dy=\"20\" x=\"176.470588235\" y=\"980.0\">5</text><text dx=\"-20\" x=\"373.161764706\" y=\"979.965413049\">22</text><text dx=\"5\" x=\"373.161764706\" y=\"979.965413049\">t = 84.00</text><text dx=\"-20\" x=\"279.411764706\" y=\"979.965413049\">18</text><text dx=\"5\" x=\"279.411764706\" y=\"979.965413049\">t = 84.00</text><text dx=\"-4\" dy=\"20\" x=\"235.294117647\" y=\"980.0\">9</text><text dx=\"-20\" x=\"323.529411765\" y=\"979.965413049\">16</text><text dx=\"5\" x=\"323.529411765\" y=\"979.965413049\">t = 84.00</text><text dx=\"-4\" dy=\"20\" x=\"294.117647059\" y=\"980.0\">3</text><text dx=\"-4\" dy=\"20\" x=\"352.941176471\" y=\"980.0\">6</text><text dx=\"-20\" x=\"466.911764706\" y=\"979.965413049\">21</text><text dx=\"5\" x=\"466.911764706\" y=\"979.965413049\">t = 84.00</text><text dx=\"-4\" dy=\"20\" x=\"411.764705882\" y=\"980.0\">7</text><text dx=\"-20\" x=\"522.058823529\" y=\"979.965413049\">20</text><text dx=\"5\" x=\"522.058823529\" y=\"979.965413049\">t = 84.00</text><text dx=\"-4\" dy=\"20\" x=\"470.588235294\" y=\"980.0\">8</text><text dx=\"-20\" x=\"573.529411765\" y=\"979.965413049\">19</text><text dx=\"5\" x=\"573.529411765\" y=\"979.965413049\">t = 84.00</text><text dx=\"-4\" dy=\"20\" x=\"529.411764706\" y=\"980.0\">0</text><text dx=\"-20\" x=\"617.647058824\" y=\"979.965413049\">15</text><text dx=\"5\" x=\"617.647058824\" y=\"979.965413049\">t = 84.00</text><text dx=\"-4\" dy=\"20\" x=\"588.235294118\" y=\"980.0\">1</text><text dx=\"-4\" dy=\"20\" x=\"647.058823529\" y=\"980.0\">4</text><text dx=\"-20\" x=\"794.117647059\" y=\"684.991684067\">27</text><text dx=\"5\" x=\"794.117647059\" y=\"684.991684067\">t = 716475.37</text><text dx=\"-20\" x=\"735.294117647\" y=\"966.314396654\">25</text><text dx=\"5\" x=\"735.294117647\" y=\"966.314396654\">t = 33237.70</text><text dx=\"-4\" dy=\"20\" x=\"705.882352941\" y=\"980.0\">11</text><text dx=\"-4\" dy=\"20\" x=\"764.705882353\" y=\"980.0\">14</text><text dx=\"-20\" x=\"852.941176471\" y=\"800.047348283\">26</text><text dx=\"5\" x=\"852.941176471\" y=\"800.047348283\">t = 437044.10</text><text dx=\"-4\" dy=\"20\" x=\"823.529411765\" y=\"980.0\">12</text><text dx=\"-4\" dy=\"20\" x=\"882.352941176\" y=\"980.0\">13</text></g><circle cx=\"476.792279412\" cy=\"20.0\" r=\"3\"/><circle cx=\"159.466911765\" cy=\"974.194914856\" r=\"3\"/><circle cx=\"58.8235294118\" cy=\"980.0\" r=\"3\"/><circle cx=\"260.110294118\" cy=\"979.965413049\" r=\"3\"/><circle cx=\"147.058823529\" cy=\"979.965413049\" r=\"3\"/><circle cx=\"117.647058824\" cy=\"980.0\" r=\"3\"/><circle cx=\"176.470588235\" cy=\"980.0\" r=\"3\"/><circle cx=\"373.161764706\" cy=\"979.965413049\" r=\"3\"/><circle cx=\"279.411764706\" cy=\"979.965413049\" r=\"3\"/><circle cx=\"235.294117647\" cy=\"980.0\" r=\"3\"/><circle cx=\"323.529411765\" cy=\"979.965413049\" r=\"3\"/><circle cx=\"294.117647059\" cy=\"980.0\" r=\"3\"/><circle cx=\"352.941176471\" cy=\"980.0\" r=\"3\"/><circle cx=\"466.911764706\" cy=\"979.965413049\" r=\"3\"/><circle cx=\"411.764705882\" cy=\"980.0\" r=\"3\"/><circle cx=\"522.058823529\" cy=\"979.965413049\" r=\"3\"/><circle cx=\"470.588235294\" cy=\"980.0\" r=\"3\"/><circle cx=\"573.529411765\" cy=\"979.965413049\" r=\"3\"/><circle cx=\"529.411764706\" cy=\"980.0\" r=\"3\"/><circle cx=\"617.647058824\" cy=\"979.965413049\" r=\"3\"/><circle cx=\"588.235294118\" cy=\"980.0\" r=\"3\"/><circle cx=\"647.058823529\" cy=\"980.0\" r=\"3\"/><circle cx=\"794.117647059\" cy=\"684.991684067\" r=\"3\"/><circle cx=\"735.294117647\" cy=\"966.314396654\" r=\"3\"/><circle cx=\"705.882352941\" cy=\"980.0\" r=\"3\"/><circle cx=\"764.705882353\" cy=\"980.0\" r=\"3\"/><circle cx=\"852.941176471\" cy=\"800.047348283\" r=\"3\"/><circle cx=\"823.529411765\" cy=\"980.0\" r=\"3\"/><circle cx=\"882.352941176\" cy=\"980.0\" r=\"3\"/><rect fill=\"red\" height=\"6\" width=\"6\" x=\"318.129595588\" y=\"497.097457428\"/><rect fill=\"red\" height=\"6\" width=\"6\" x=\"838.235294118\" y=\"890.023674142\"/><rect fill=\"red\" height=\"6\" width=\"6\" x=\"318.129595588\" y=\"497.097457428\"/><rect fill=\"red\" height=\"6\" width=\"6\" x=\"318.129595588\" y=\"497.097457428\"/><rect fill=\"red\" height=\"6\" width=\"6\" x=\"318.129595588\" y=\"497.097457428\"/><rect fill=\"red\" height=\"6\" width=\"6\" x=\"867.647058824\" y=\"890.023674142\"/><rect fill=\"red\" height=\"6\" width=\"6\" x=\"318.129595588\" y=\"497.097457428\"/><rect fill=\"red\" height=\"6\" width=\"6\" x=\"823.529411765\" y=\"742.519516175\"/><rect fill=\"red\" height=\"6\" width=\"6\" x=\"318.129595588\" y=\"497.097457428\"/><rect fill=\"red\" height=\"6\" width=\"6\" x=\"318.129595588\" y=\"497.097457428\"/><rect fill=\"red\" height=\"6\" width=\"6\" x=\"823.529411765\" y=\"742.519516175\"/><rect fill=\"red\" height=\"6\" width=\"6\" x=\"318.129595588\" y=\"497.097457428\"/><rect fill=\"red\" height=\"6\" width=\"6\" x=\"635.454963235\" y=\"352.495842034\"/><rect fill=\"red\" height=\"6\" width=\"6\" x=\"318.129595588\" y=\"497.097457428\"/><rect fill=\"red\" height=\"6\" width=\"6\" x=\"764.705882353\" y=\"825.653040361\"/><rect fill=\"red\" height=\"6\" width=\"6\" x=\"318.129595588\" y=\"497.097457428\"/><rect fill=\"red\" height=\"6\" width=\"6\" x=\"318.129595588\" y=\"497.097457428\"/><rect fill=\"red\" height=\"6\" width=\"6\" x=\"764.705882353\" y=\"825.653040361\"/><rect fill=\"red\" height=\"6\" width=\"6\" x=\"635.454963235\" y=\"352.495842034\"/><rect fill=\"red\" height=\"6\" width=\"6\" x=\"764.705882353\" y=\"825.653040361\"/><rect fill=\"red\" height=\"6\" width=\"6\" x=\"318.129595588\" y=\"497.097457428\"/><rect fill=\"red\" height=\"6\" width=\"6\" x=\"635.454963235\" y=\"352.495842034\"/><rect fill=\"red\" height=\"6\" width=\"6\" x=\"635.454963235\" y=\"352.495842034\"/><rect fill=\"red\" height=\"6\" width=\"6\" x=\"838.235294118\" y=\"890.023674142\"/><rect fill=\"red\" height=\"6\" width=\"6\" x=\"318.129595588\" y=\"497.097457428\"/><rect fill=\"red\" height=\"6\" width=\"6\" x=\"635.454963235\" y=\"352.495842034\"/><rect fill=\"red\" height=\"6\" width=\"6\" x=\"318.129595588\" y=\"497.097457428\"/><rect fill=\"red\" height=\"6\" width=\"6\" x=\"318.129595588\" y=\"497.097457428\"/><rect fill=\"red\" height=\"6\" width=\"6\" x=\"635.454963235\" y=\"352.495842034\"/><rect fill=\"red\" height=\"6\" width=\"6\" x=\"764.705882353\" y=\"825.653040361\"/><rect fill=\"red\" height=\"6\" width=\"6\" x=\"318.129595588\" y=\"497.097457428\"/><rect fill=\"red\" height=\"6\" width=\"6\" x=\"838.235294118\" y=\"890.023674142\"/><rect fill=\"red\" height=\"6\" width=\"6\" x=\"318.129595588\" y=\"497.097457428\"/><rect fill=\"red\" height=\"6\" width=\"6\" x=\"635.454963235\" y=\"352.495842034\"/><rect fill=\"red\" height=\"6\" width=\"6\" x=\"764.705882353\" y=\"825.653040361\"/><rect fill=\"red\" height=\"6\" width=\"6\" x=\"318.129595588\" y=\"497.097457428\"/><rect fill=\"red\" height=\"6\" width=\"6\" x=\"867.647058824\" y=\"890.023674142\"/><rect fill=\"red\" height=\"6\" width=\"6\" x=\"318.129595588\" y=\"497.097457428\"/><rect fill=\"red\" height=\"6\" width=\"6\" x=\"838.235294118\" y=\"890.023674142\"/><rect fill=\"red\" height=\"6\" width=\"6\" x=\"318.129595588\" y=\"497.097457428\"/><rect fill=\"red\" height=\"6\" width=\"6\" x=\"318.129595588\" y=\"497.097457428\"/><rect fill=\"red\" height=\"6\" width=\"6\" x=\"318.129595588\" y=\"497.097457428\"/><rect fill=\"red\" height=\"6\" width=\"6\" x=\"635.454963235\" y=\"352.495842034\"/><rect fill=\"red\" height=\"6\" width=\"6\" x=\"318.129595588\" y=\"497.097457428\"/><rect fill=\"red\" height=\"6\" width=\"6\" x=\"635.454963235\" y=\"352.495842034\"/><rect fill=\"red\" height=\"6\" width=\"6\" x=\"635.454963235\" y=\"352.495842034\"/><rect fill=\"red\" height=\"6\" width=\"6\" x=\"635.454963235\" y=\"352.495842034\"/><rect fill=\"red\" height=\"6\" width=\"6\" x=\"764.705882353\" y=\"825.653040361\"/><rect fill=\"red\" height=\"6\" width=\"6\" x=\"635.454963235\" y=\"352.495842034\"/><rect fill=\"red\" height=\"6\" width=\"6\" x=\"635.454963235\" y=\"352.495842034\"/><rect fill=\"red\" height=\"6\" width=\"6\" x=\"867.647058824\" y=\"890.023674142\"/><rect fill=\"red\" height=\"6\" width=\"6\" x=\"318.129595588\" y=\"497.097457428\"/><rect fill=\"red\" height=\"6\" width=\"6\" x=\"318.129595588\" y=\"497.097457428\"/><rect fill=\"red\" height=\"6\" width=\"6\" x=\"867.647058824\" y=\"890.023674142\"/><rect fill=\"red\" height=\"6\" width=\"6\" x=\"838.235294118\" y=\"890.023674142\"/><rect fill=\"red\" height=\"6\" width=\"6\" x=\"764.705882353\" y=\"825.653040361\"/><rect fill=\"red\" height=\"6\" width=\"6\" x=\"318.129595588\" y=\"497.097457428\"/><rect fill=\"red\" height=\"6\" width=\"6\" x=\"764.705882353\" y=\"825.653040361\"/><rect fill=\"red\" height=\"6\" width=\"6\" x=\"635.454963235\" y=\"352.495842034\"/><rect fill=\"red\" height=\"6\" width=\"6\" x=\"635.454963235\" y=\"352.495842034\"/><rect fill=\"red\" height=\"6\" width=\"6\" x=\"318.129595588\" y=\"497.097457428\"/><rect fill=\"red\" height=\"6\" width=\"6\" x=\"318.129595588\" y=\"497.097457428\"/><rect fill=\"red\" height=\"6\" width=\"6\" x=\"867.647058824\" y=\"890.023674142\"/><rect fill=\"red\" height=\"6\" width=\"6\" x=\"764.705882353\" y=\"825.653040361\"/><rect fill=\"red\" height=\"6\" width=\"6\" x=\"318.129595588\" y=\"497.097457428\"/><rect fill=\"red\" height=\"6\" width=\"6\" x=\"318.129595588\" y=\"497.097457428\"/><rect fill=\"red\" height=\"6\" width=\"6\" x=\"635.454963235\" y=\"352.495842034\"/><rect fill=\"red\" height=\"6\" width=\"6\" x=\"318.129595588\" y=\"497.097457428\"/><rect fill=\"red\" height=\"6\" width=\"6\" x=\"318.129595588\" y=\"497.097457428\"/></svg>"
      ],
      "text/plain": [
       "<IPython.core.display.SVG object>"
      ]
     },
     "metadata": {},
     "output_type": "display_data"
    }
   ],
   "source": [
    "from IPython.display import display_svg\n",
    "\n",
    "t = self.tree_sequence.trees().next()\n",
    "#print(t)\n",
    "tree_file = \"/tmp/tree.svg\"\n",
    "#display(SVG(url=\"file://\"+tree_file))\n",
    "next(self.tree_sequence.trees()).draw(tree_file, 1000, 1000, show_times=True)\n",
    "display(SVG(url=\"file://\"+tree_file))\n"
   ]
  },
  {
   "cell_type": "code",
   "execution_count": 13,
   "metadata": {},
   "outputs": [
    {
     "name": "stdout",
     "output_type": "stream",
     "text": [
      "(2,)\n"
     ]
    },
    {
     "data": {
      "text/plain": [
       "(1,  True)"
      ]
     },
     "execution_count": 13,
     "metadata": {},
     "output_type": "execute_result"
    }
   ],
   "source": [
    "dat = np.array([(1,True), (1,False)], dtype=[('foo', '>i4'), ('bar', 'bool')])\n",
    "print(dat.shape)\n",
    "np.random.choice(dat, p=[0.75, 0.25])"
   ]
  }
 ],
 "metadata": {
  "kernelspec": {
   "display_name": "Python 3",
   "language": "python",
   "name": "python3"
  },
  "language_info": {
   "codemirror_mode": {
    "name": "ipython",
    "version": 3
   },
   "file_extension": ".py",
   "mimetype": "text/x-python",
   "name": "python",
   "nbconvert_exporter": "python",
   "pygments_lexer": "ipython3",
   "version": "3.6.0"
  }
 },
 "nbformat": 4,
 "nbformat_minor": 2
}
