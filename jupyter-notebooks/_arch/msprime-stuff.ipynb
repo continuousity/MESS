{
 "cells": [
  {
   "cell_type": "code",
   "execution_count": 2,
   "metadata": {},
   "outputs": [
    {
     "name": "stdout",
     "output_type": "stream",
     "text": [
      "The autoreload extension is already loaded. To reload it, use:\n",
      "  %reload_ext autoreload\n"
     ]
    }
   ],
   "source": [
    "%load_ext autoreload\n",
    "%autoreload 2\n",
    "\n",
    "import pandas as pd\n",
    "import numpy as np"
   ]
  },
  {
   "cell_type": "code",
   "execution_count": null,
   "metadata": {},
   "outputs": [],
   "source": []
  },
  {
   "cell_type": "markdown",
   "metadata": {},
   "source": [
    "## This shit was useful\n",
    "https://github.com/jeromekelleher/spg-chapter/tree/master/jupyter"
   ]
  },
  {
   "cell_type": "code",
   "execution_count": 58,
   "metadata": {},
   "outputs": [
    {
     "name": "stdout",
     "output_type": "stream",
     "text": [
      "1000 loops, best of 3: 504 µs per loop\n",
      "1000 loops, best of 3: 972 µs per loop\n"
     ]
    }
   ],
   "source": [
    "df = pd.DataFrame(np.random.randint(0,100,size=(4, 10000)))\n",
    "%timeit df.sample(1, axis=1)\n",
    "%timeit np.random.choice(list(df.iloc[1]))"
   ]
  },
  {
   "cell_type": "code",
   "execution_count": 59,
   "metadata": {},
   "outputs": [
    {
     "name": "stdout",
     "output_type": "stream",
     "text": [
      "1000 loops, best of 3: 499 µs per loop\n"
     ]
    }
   ],
   "source": [
    "tmplist = list(df.iloc[1])\n",
    "%timeit np.random.choice(tmplist, 1)"
   ]
  },
  {
   "cell_type": "code",
   "execution_count": 60,
   "metadata": {},
   "outputs": [
    {
     "name": "stdout",
     "output_type": "stream",
     "text": [
      "1000 loops, best of 3: 439 µs per loop\n"
     ]
    }
   ],
   "source": [
    "#np.zeros(len(data.abundances))\\\n",
    "tmplist = np.ones(10000)/10000\n",
    "%timeit np.random.multinomial(1, tmplist)"
   ]
  },
  {
   "cell_type": "code",
   "execution_count": 2,
   "metadata": {},
   "outputs": [
    {
     "name": "stderr",
     "output_type": "stream",
     "text": [
      "/home/isaac/miniconda2/lib/python2.7/site-packages/h5py/__init__.py:36: FutureWarning: Conversion of the second argument of issubdtype from `float` to `np.floating` is deprecated. In future, it will be treated as `np.float64 == np.dtype(float).type`.\n",
      "  from ._conv import register_converters as _register_converters\n"
     ]
    },
    {
     "name": "stdout",
     "output_type": "stream",
     "text": [
      "name                         \n",
      "coltime                  1000\n",
      "migration_rate              0\n",
      "growth_rate                 0\n",
      "Ne_local                10000\n",
      "Ne_meta                 10000\n",
      "segsites_tot                5\n",
      "segsites_local              2\n",
      "segsites_meta               3\n",
      "pi_tot            0.000293838\n",
      "pi_local          0.000203438\n",
      "pi_meta           0.000375332\n",
      "da                8.86054e-06\n",
      "dxy               0.000298246\n",
      "tajd_local           -1.07588\n",
      "999\n"
     ]
    },
    {
     "data": {
      "text/plain": [
       "0"
      ]
     },
     "execution_count": 2,
     "metadata": {},
     "output_type": "execute_result"
    }
   ],
   "source": [
    "import MESS\n",
    "import msprime\n",
    "sp = MESS.species.species(abundance = 100,\\\n",
    "                          meta_abundance = 100,\\\n",
    "                          colonization_time = 1000)\n",
    "self=sp\n",
    "if True:\n",
    "    if True:\n",
    "        migmat = [[0, self.stats[\"migration_rate\"]],\n",
    "                    [0, 0]]\n",
    "\n",
    "        pop_local = msprime.PopulationConfiguration(\\\n",
    "                        sample_size = self.paramsdict[\"sample_size_local\"],\\\n",
    "                        initial_size = self.stats[\"Ne_local\"],\n",
    "                        growth_rate = self.stats[\"growth_rate\"])\n",
    "\n",
    "        pop_meta = msprime.PopulationConfiguration(\\\n",
    "                        sample_size=self.paramsdict[\"sample_size_meta\"],\\\n",
    "                        initial_size=self.stats[\"Ne_meta\"])\n",
    "\n",
    "        ## Going backwards in time, at colonization time throw all lineages from\n",
    "        ## the local community back into the metacommunity\n",
    "        split_event = msprime.MassMigration(time = self.stats[\"coltime\"],\\\n",
    "                                            source = 0,\\\n",
    "                                            destination = 1,\\\n",
    "                                            proportion = 1)\n",
    "\n",
    "        local_rate_change = msprime.PopulationParametersChange(\\\n",
    "                                            time = self.stats[\"coltime\"] - 1,\\\n",
    "                                            growth_rate = 0,\\\n",
    "                                            population_id = 0)\n",
    "\n",
    "        ## TODO: Could mess with 'initial_size' here, but you don't want\n",
    "        ## to sample too much from the metacommunity or the local pi\n",
    "        ## goes way up.\n",
    "        local_size_change = msprime.PopulationParametersChange(\\\n",
    "                                            time = self.stats[\"coltime\"] - 1,\\\n",
    "                                            initial_size = 1,\\\n",
    "                                            population_id = 0)\n",
    "\n",
    "        migrate_change = msprime.MigrationRateChange(\n",
    "                                            time = self.stats[\"coltime\"] - 1,\\\n",
    "                                            rate = 0)\n",
    "\n",
    "        ## Useful for debugging demographic events.\n",
    "        debug = msprime.DemographyDebugger( population_configurations = [pop_local, pop_meta],\\\n",
    "                                            migration_matrix = migmat,\\\n",
    "                                            demographic_events=[local_rate_change,\\\n",
    "                                                                local_size_change,\\\n",
    "                                                                migrate_change,\\\n",
    "                                                                split_event])\n",
    "\n",
    "        ## Enable this at your own peril, it will dump a ton of shit to stdout\n",
    "        #debug.print_history()\n",
    "        ## I briefly toyed with the idea of logging this to a file, but you really\n",
    "        ## don't need it that often, and it'd be a pain to get the outdir in here.\n",
    "        #if LOGGER.getEffectiveLevel() == 10:\n",
    "        #    debugfile = os.path.join(self._hackersonly[\"outdir\"],\n",
    "        #                        self.paramsdict[\"name\"] + \"-simout.txt\")\n",
    "        #    with open(debugfile, 'a') as outfile:\n",
    "        #        outfile.write(debug.print_history())\n",
    "\n",
    "        self.tree_sequence = msprime.simulate( length = self.paramsdict[\"sequence_length\"],\\\n",
    "                                                Ne = self.stats[\"Ne_local\"],\\\n",
    "                                                mutation_rate = self.paramsdict[\"mutation_rate\"],\\\n",
    "                                                population_configurations = [pop_local, pop_meta],\\\n",
    "                                                migration_matrix = migmat,\\\n",
    "                                                demographic_events=[local_rate_change,\\\n",
    "                                                                    local_size_change,\\\n",
    "                                                                    migrate_change,\\\n",
    "                                                                    split_event])\n",
    "        self.get_sumstats()\n",
    "print(self)\n",
    "print(migrate_change.time)\n",
    "debug.epochs\n",
    "local_size_change.population"
   ]
  },
  {
   "cell_type": "code",
   "execution_count": 3,
   "metadata": {},
   "outputs": [
    {
     "name": "stderr",
     "output_type": "stream",
     "text": [
      "/home/isaac/miniconda2/lib/python2.7/site-packages/h5py/__init__.py:36: FutureWarning: Conversion of the second argument of issubdtype from `float` to `np.floating` is deprecated. In future, it will be treated as `np.float64 == np.dtype(float).type`.\n",
      "  from ._conv import register_converters as _register_converters\n"
     ]
    },
    {
     "name": "stdout",
     "output_type": "stream",
     "text": [
      "Bad pi name                    t556\n",
      "coltime                48001\n",
      "migration_rate    0.00049999\n",
      "growth_rate                0\n",
      "Ne_local                  10\n",
      "Ne_meta                10251\n",
      "segsites_tot             350\n",
      "segsites_local             0\n",
      "segsites_meta            347\n",
      "pi_tot              0.212216\n",
      "pi_local                   0\n",
      "pi_meta             0.272632\n",
      "da                  0.144211\n",
      "dxy                 0.280526\n",
      "tajd_local               NaN\n",
      "Bad pi name                     t340\n",
      "coltime                 62187\n",
      "migration_rate    0.000659302\n",
      "growth_rate                 0\n",
      "Ne_local                   14\n",
      "Ne_meta                 15728\n",
      "segsites_tot              346\n",
      "segsites_local              0\n",
      "segsites_meta             343\n",
      "pi_tot               0.160896\n",
      "pi_local                    0\n",
      "pi_meta              0.247758\n",
      "da                  0.0703314\n",
      "dxy                  0.194211\n",
      "tajd_local                NaN\n"
     ]
    }
   ],
   "source": [
    "import MESS\n",
    "reg = MESS.Region(\"wat\")\n",
    "reg.add_local_community(\"watdo\", 5000, 0.05)\n",
    "reg.islands[\"watdo\"].paramsdict['speciation_probability'] = 0.005\n",
    "reg.simulate(_lambda=0.5)\n",
    "isl1 = reg.islands[\"watdo\"]\n",
    "isl1.simulate_seqs()"
   ]
  },
  {
   "cell_type": "code",
   "execution_count": 4,
   "metadata": {},
   "outputs": [
    {
     "name": "stdout",
     "output_type": "stream",
     "text": [
      "float division by zero\n",
      "                                                                         t338  \\\n",
      "colonization_times                                                          0   \n",
      "post_colonization_migrants                                                162   \n",
      "abundances_through_time     {34524: 3725, 4524: 2637, 44524: 4050, 24524: ...   \n",
      "ancestor                                                                        \n",
      "meta_abund                                                              56681   \n",
      "local_abund                                                              2463   \n",
      "\n",
      "                                                               t338:watdo-192  \\\n",
      "colonization_times                                                        192   \n",
      "post_colonization_migrants                                                  0   \n",
      "abundances_through_time     {34524: 28, 64332: 1, 14524: 9, 24524: 20, 452...   \n",
      "ancestor                                                                 t338   \n",
      "meta_abund                                                                  0   \n",
      "local_abund                                                                 9   \n",
      "\n",
      "                                                              t338:watdo-5139  \\\n",
      "colonization_times                                                       5139   \n",
      "post_colonization_migrants                                                  0   \n",
      "abundances_through_time     {34524: 5, 54524: 1, 24524: 6, 59385: 1, 4524:...   \n",
      "ancestor                                                                 t338   \n",
      "meta_abund                                                                  0   \n",
      "local_abund                                                                 5   \n",
      "\n",
      "                                                             t338:watdo-10620  \\\n",
      "colonization_times                                                      10620   \n",
      "post_colonization_migrants                                                  0   \n",
      "abundances_through_time     {14524: 2, 4524: 10, 53904: 1, 24524: 3, 34524...   \n",
      "ancestor                                                                 t338   \n",
      "meta_abund                                                                  0   \n",
      "local_abund                                                                10   \n",
      "\n",
      "                                                             t338:watdo-10665  \\\n",
      "colonization_times                                                      10665   \n",
      "post_colonization_migrants                                                  0   \n",
      "abundances_through_time     {53859: 1, 44524: 3, 4524: 6, 14524: 1, 24524:...   \n",
      "ancestor                                                                 t338   \n",
      "meta_abund                                                                  0   \n",
      "local_abund                                                                 5   \n",
      "\n",
      "                                                             t338:watdo-14509  \\\n",
      "colonization_times                                                      14509   \n",
      "post_colonization_migrants                                                  0   \n",
      "abundances_through_time     {14524: 10, 4524: 5, 24524: 8, 34524: 4, 44524...   \n",
      "ancestor                                                                 t338   \n",
      "meta_abund                                                                  0   \n",
      "local_abund                                                                 4   \n",
      "\n",
      "                                                             t338:watdo-16229  \\\n",
      "colonization_times                                                      16229   \n",
      "post_colonization_migrants                                                  0   \n",
      "abundances_through_time     {48295: 1, 14524: 2, 4524: 3, 24524: 3, 34524:...   \n",
      "ancestor                                                                 t338   \n",
      "meta_abund                                                                  0   \n",
      "local_abund                                                                 5   \n",
      "\n",
      "                                                             t338:watdo-21133  \\\n",
      "colonization_times                                                      21133   \n",
      "post_colonization_migrants                                                  0   \n",
      "abundances_through_time     {24524: 4, 14524: 7, 34524: 1, 4524: 6, 43391: 1}   \n",
      "ancestor                                                                 t338   \n",
      "meta_abund                                                                  0   \n",
      "local_abund                                                                 2   \n",
      "\n",
      "                                                             t338:watdo-22799  \\\n",
      "colonization_times                                                      22799   \n",
      "post_colonization_migrants                                                  0   \n",
      "abundances_through_time     {24524: 5, 4524: 1, 14524: 5, 34524: 2, 41725: 1}   \n",
      "ancestor                                                                 t338   \n",
      "meta_abund                                                                  0   \n",
      "local_abund                                                                 1   \n",
      "\n",
      "                                                             t338:watdo-24049  \\\n",
      "colonization_times                                                      24049   \n",
      "post_colonization_migrants                                                  0   \n",
      "abundances_through_time     {24524: 5, 40475: 1, 34524: 2, 4524: 3, 14524: 8}   \n",
      "ancestor                                                                 t338   \n",
      "meta_abund                                                                  0   \n",
      "local_abund                                                                 3   \n",
      "\n",
      "                                 ...        t338:watdo-60403 t338:watdo-60622  \\\n",
      "colonization_times               ...                   60403            60622   \n",
      "post_colonization_migrants       ...                       0                0   \n",
      "abundances_through_time          ...               {4121: 1}        {3902: 1}   \n",
      "ancestor                         ...                    t338             t338   \n",
      "meta_abund                       ...                       0                0   \n",
      "local_abund                      ...                       1                1   \n",
      "\n",
      "                           t338:watdo-60824 t338:watdo-62296 t338:watdo-62667  \\\n",
      "colonization_times                    60824            62296            62667   \n",
      "post_colonization_migrants                0                0                0   \n",
      "abundances_through_time           {3700: 1}        {2228: 1}        {1857: 1}   \n",
      "ancestor                               t338             t338             t338   \n",
      "meta_abund                                0                0                0   \n",
      "local_abund                               2                1                1   \n",
      "\n",
      "                           t338:watdo-62754 t338:watdo-62990 t338:watdo-63205  \\\n",
      "colonization_times                    62754            62990            63205   \n",
      "post_colonization_migrants                0                0                0   \n",
      "abundances_through_time           {1770: 1}        {1534: 1}        {1319: 1}   \n",
      "ancestor                               t338             t338             t338   \n",
      "meta_abund                                0                0                0   \n",
      "local_abund                               1                1                1   \n",
      "\n",
      "                           t338:watdo-63918 t338:watdo-64223  \n",
      "colonization_times                    63918            64223  \n",
      "post_colonization_migrants                0                0  \n",
      "abundances_through_time            {606: 1}         {301: 1}  \n",
      "ancestor                               t338             t338  \n",
      "meta_abund                                0                0  \n",
      "local_abund                               1                1  \n",
      "\n",
      "[6 rows x 50 columns]\n",
      "{'t275': ['t275'], 't274': ['t274'], 't436': ['t436'], 't611': ['t611'], 't378': ['t378'], 't443': ['t443'], 't445': ['t445'], 't372': ['t372'], 't370': ['t370'], 't84': ['t84'], 't83': ['t83'], 't603': ['t603'], 't687': ['t687'], 't935': ['t935'], 't529': ['t529'], 't939': ['t939'], 't834': ['t834'], 't520': ['t520'], 't71': ['t71'], 't77': ['t77', 't77:watdo-63816'], 't75': ['t75'], 't79': ['t79', 't79:watdo-57607'], 't11': ['t11'], 't366': ['t366'], 't248': ['t248'], 't451': ['t451'], 't98': ['t98'], 't764': ['t764'], 't769': ['t769'], 't95': ['t95'], 't613': ['t613'], 't518': ['t518'], 't164': ['t164'], 't6': ['t6'], 't929': ['t929'], 't928': ['t928'], 't580': ['t580'], 't593': ['t593', 't593:watdo-56015', 't593:watdo-62079'], 't596': ['t596'], 't849': ['t849'], 't595': ['t595'], 't599': ['t599'], 't841': ['t841'], 't311': ['t311'], 't289': ['t289'], 't315': ['t315'], 't251': ['t251'], 't319': ['t319'], 't798': ['t798'], 't411': ['t411', 't411:watdo-64096'], 't466': ['t466'], 't464': ['t464'], 't790': ['t790'], 't463': ['t463'], 't793': ['t793'], 't399': ['t399'], 't157': ['t157'], 't154': ['t154'], 't602': ['t602'], 't718': ['t718'], 't395': ['t395'], 't396': ['t396'], 't397': ['t397'], 't994': ['t994'], 't588': ['t588', 't588:watdo-44907', 't588:watdo-59826'], 't858': ['t858'], 't581': ['t581'], 't852': ['t852'], 't583': ['t583', 't583:watdo-57284'], 't302': ['t302', 't302:watdo-63840'], 't304': ['t304'], 't309': ['t309'], 't228': ['t228'], 't575': ['t575'], 't408': ['t408'], 't226': ['t226'], 't227': ['t227'], 't220': ['t220', 't220:watdo-62711'], 't782': ['t782'], 't780': ['t780'], 't707': ['t707'], 't908': ['t908'], 't388': ['t388'], 't680': ['t680'], 't829': ['t829', 't829:watdo-57074'], 't383': ['t383'], 't900': ['t900'], 't381': ['t381'], 't146': ['t146', 't146:watdo-43060'], 't905': ['t905'], 't512': ['t512'], 't671': ['t671'], 't981': ['t981'], 't869': ['t869'], 't984': ['t984'], 't526': ['t526'], 't23': ['t23'], 't25': ['t25', 't25:watdo-53948'], 't865': ['t865'], 't888': ['t888'], 't725': ['t725'], 't338': ['t338', 't338:watdo-192', 't338:watdo-5139', 't338:watdo-10620', 't338:watdo-10665', 't338:watdo-14509', 't338:watdo-16229', 't338:watdo-21133', 't338:watdo-22799', 't338:watdo-24049', 't338:watdo-24523', 't338:watdo-26694', 't338:watdo-27544', 't338:watdo-30521', 't338:watdo-31611', 't338:watdo-8535:watdo-15325:watdo-31974', 't338:watdo-37513', 't338:watdo-39443', 't338:watdo-41278', 't338:watdo-41491', 't338:watdo-43239', 't338:watdo-43928', 't338:watdo-44688', 't338:watdo-45865', 't338:watdo-46307', 't338:watdo-46848', 't338:watdo-50924', 't338:watdo-52060', 't338:watdo-53820', 't338:watdo-54472', 't338:watdo-55180', 't338:watdo-55408', 't338:watdo-56048', 't338:watdo-56121', 't338:watdo-57032', 't338:watdo-57586', 't338:watdo-58217', 't338:watdo-59012', 't338:watdo-59097', 't338:watdo-60368', 't338:watdo-60403', 't338:watdo-60622', 't338:watdo-60824', 't338:watdo-62296', 't338:watdo-62667', 't338:watdo-62754', 't338:watdo-62990', 't338:watdo-63205', 't338:watdo-63918', 't338:watdo-64223'], 't339': ['t339', 't339:watdo-49719'], 't42': ['t42'], 't882': ['t882'], 't884': ['t884'], 't148': ['t148'], 't566': ['t566'], 't565': ['t565'], 't236': ['t236', 't236:watdo-39395'], 't569': ['t569'], 't568': ['t568'], 't233': ['t233'], 't138': ['t138'], 't139': ['t139'], 't649': ['t649'], 't871': ['t871'], 't738': ['t738'], 't407': ['t407'], 't879': ['t879', 't879:watdo-63834'], 't647': ['t647'], 't484': ['t484'], 't65': ['t65'], 't487': ['t487'], 't976': ['t976'], 't35': ['t35'], 't32': ['t32'], 't30': ['t30'], 't58': ['t58'], 't899': ['t899'], 't898': ['t898'], 't322': ['t322'], 't896': ['t896', 't896:watdo-49394'], 't326': ['t326'], 't651': ['t651'], 't653': ['t653'], 't559': ['t559'], 't556': ['t556'], 't553': ['t553'], 't550': ['t550'], 't702': ['t702'], 't802': ['t802'], 't281': ['t281'], 't417': ['t417'], 't970': ['t970'], 't121': ['t121'], 't414': ['t414'], 't288': ['t288'], 't720': ['t720'], 't723': ['t723'], 't382': ['t382'], 't337': ['t337'], 't962': ['t962'], 't961': ['t961'], 't215': ['t215'], 't210': ['t210', 't210:watdo-62531'], 't196': ['t196'], 't627': ['t627'], 't219': ['t219'], 't621': ['t621'], 't114': ['t114'], 't623': ['t623'], 't488': ['t488'], 't543': ['t543'], 't545': ['t545'], 't544': ['t544'], 't547': ['t547', 't547:watdo-58348'], 't758': ['t758'], 't429': ['t429'], 't299': ['t299'], 't295': ['t295'], 't292': ['t292'], 't958': ['t958'], 't982': ['t982'], 't118': ['t118'], 't953': ['t953'], 't950': ['t950', 't950:watdo-58692'], 't189': ['t189'], 't838': ['t838'], 't267': ['t267'], 't269': ['t269'], 't183': ['t183'], 't185': ['t185'], 't187': ['t187'], 't186': ['t186'], 't633': ['t633'], 't630': ['t630'], 't637': ['t637'], 't104': ['t104'], 't349': ['t349', 't349:watdo-52376'], 't346': ['t346'], 't344': ['t344'], 't439': ['t439'], 't340': ['t340'], 't944': ['t944'], 't749': ['t749'], 't942': ['t942'], 't743': ['t743'], 't824': ['t824'], 't676': ['t676', 't676:watdo-61333', 't676:watdo-63702'], 't530': ['t530']}\n"
     ]
    },
    {
     "ename": "KeyError",
     "evalue": "'t776'",
     "output_type": "error",
     "traceback": [
      "\u001b[0;31m---------------------------------------------------------------------------\u001b[0m",
      "\u001b[0;31mKeyError\u001b[0m                                  Traceback (most recent call last)",
      "\u001b[0;32m<ipython-input-4-608d8b06a129>\u001b[0m in \u001b[0;36m<module>\u001b[0;34m()\u001b[0m\n\u001b[1;32m     28\u001b[0m \u001b[0;34m\u001b[0m\u001b[0m\n\u001b[1;32m     29\u001b[0m \u001b[0;31m## A Single lineage\u001b[0m\u001b[0;34m\u001b[0m\u001b[0;34m\u001b[0m\u001b[0m\n\u001b[0;32m---> 30\u001b[0;31m \u001b[0;32mprint\u001b[0m\u001b[0;34m(\u001b[0m\u001b[0mclades\u001b[0m\u001b[0;34m[\u001b[0m\u001b[0;34m\"t776\"\u001b[0m\u001b[0;34m]\u001b[0m\u001b[0;34m)\u001b[0m\u001b[0;34m\u001b[0m\u001b[0m\n\u001b[0m\u001b[1;32m     31\u001b[0m \u001b[0;31m## A lineage with speciation\u001b[0m\u001b[0;34m\u001b[0m\u001b[0;34m\u001b[0m\u001b[0m\n\u001b[1;32m     32\u001b[0m \u001b[0;32mprint\u001b[0m\u001b[0;34m(\u001b[0m\u001b[0mclades\u001b[0m\u001b[0;34m[\u001b[0m\u001b[0;34m\"t130\"\u001b[0m\u001b[0;34m]\u001b[0m\u001b[0;34m)\u001b[0m\u001b[0;34m\u001b[0m\u001b[0m\n",
      "\u001b[0;31mKeyError\u001b[0m: 't776'"
     ]
    }
   ],
   "source": [
    "from MESS.species import species, sim_clade\n",
    "import pandas as pd\n",
    "\n",
    "clades = isl1._get_clades()\n",
    "#print(clades)\n",
    "\n",
    "## Ignore SetWithCopyWarning in pandas\n",
    "pd.options.mode.chained_assignment = None\n",
    "\n",
    "## Populate the local_info\n",
    "isl1.local_info.loc[\"meta_abund\"] = [isl1.region.get_abundance(x) for x in isl1.local_info]\n",
    "isl1.local_info.loc[\"local_abund\"] = [isl1.local_community.count(x) for x in isl1.local_info]\n",
    "#isl1.local_info.loc[\"colonization_times\"] = isl1.current_time - isl1.local_info.loc[\"colonization_times\"]\n",
    "\n",
    "for clade, sp in clades.items():\n",
    "    df = isl1.local_info[sp]\n",
    "    wat = [{isl1.current_time - x:y for x, y in isl1.local_info[z][\"abundances_through_time\"].items()} for z in sp]\n",
    "    df.loc[\"abundances_through_time\"] = wat\n",
    "    #print(type(df))\n",
    "    #print(df.columns)\n",
    "    try:\n",
    "        sim_clade(df)\n",
    "    except Exception as inst:\n",
    "        print(inst)\n",
    "        print(df)\n",
    "\n",
    "print(clades)\n",
    "\n",
    "## A Single lineage\n",
    "print(clades[\"t776\"])\n",
    "## A lineage with speciation\n",
    "print(clades[\"t130\"])\n",
    "## Lots of lineages\n",
    "print(clades[\"t177\"])\n",
    "#print(isl1.local_info[clades[\"t19\"]])\n"
   ]
  },
  {
   "cell_type": "code",
   "execution_count": null,
   "metadata": {
    "scrolled": true
   },
   "outputs": [],
   "source": [
    "import msprime\n",
    "from collections import OrderedDict\n",
    "\n",
    "def sim_cl(forward_info):\n",
    "    ## Build the nasty msprime command for species all related\n",
    "    ## by local speciation. Run the msprime, and gather summary\n",
    "    ## statistics\n",
    "\n",
    "    ## Get species objects for each species in this clade\n",
    "    clade_species = [species.from_df(pd.DataFrame(forward_info[x])) for x in forward_info]\n",
    "    print(\"Got clade_species:\\n{}\".format(clade_species))\n",
    "\n",
    "    ## Get msprime PopulationConfigurations per species\n",
    "    ## Not sure why this has to be a dict...\n",
    "    local_configs = OrderedDict({x:y._get_local_configuration() for x,y in enumerate(clade_species)})\n",
    "    print(\"Got local_configs:\\n{}\".format(local_configs))\n",
    "\n",
    "    ## Get msprime Population Configuration for the metacommunity\n",
    "    meta_config = clade_species[0]._get_meta_configuration()\n",
    "    meta_config.initial_size = 10000\n",
    "\n",
    "    ## We need the founder index because we're going to throw all\n",
    "    ## lineages back into this pop prior to the mass migration back\n",
    "    ## to the metacommunity\n",
    "    configs = local_configs.values()\n",
    "    print(configs)\n",
    "    configs = configs[::-1]\n",
    "    founder_idx = len(configs) - 1\n",
    "    configs.append(meta_config)\n",
    "    meta_idx = len(configs) -1\n",
    "\n",
    "    ## Get all size change events for all species\n",
    "    size_changes = []\n",
    "    for idx, spec in enumerate(clade_species):\n",
    "        change_events = spec._get_size_changes_through_time(pop_id = idx)\n",
    "        size_changes.extend(change_events)\n",
    "    #print(\"Filled size_changes:\\n{}\".format(size_changes))\n",
    "    \n",
    "    ## Events must be sorted from most recent to most ancient\n",
    "    size_changes = sorted(size_changes, key=lambda x: x.time)\n",
    "    divtime = size_changes[-1].time\n",
    "\n",
    "    ## Throw all lineages back into the initial founder lineage\n",
    "    ## If there are more than two lineages (local founder and \n",
    "    ## metacommunity) then we need to collapse all lineages back\n",
    "    ## into the founder before we throw them back to the metacommunity\n",
    "    divergence_events = []\n",
    "    if len(configs) > 2:\n",
    "        for idx in range(len(configs[:-2])):\n",
    "            split_event = msprime.MassMigration(time = divtime - 1,\\\n",
    "                                                source = idx,\\\n",
    "                                                destination = founder_idx,\\\n",
    "                                                proportion = 1)\n",
    "            divergence_events.append(split_event)\n",
    "\n",
    "    ## Get the mass migration\n",
    "    local_meta_split = clade_species[::-1][-1]._get_local_meta_split(founder_idx = founder_idx,\\\n",
    "                                                               meta_idx = meta_idx)\n",
    "    size_changes.extend(divergence_events)\n",
    "    size_changes.extend(local_meta_split)\n",
    "    #print(size_changes)\n",
    "    print(\"\\n\".join([\"{}\".format([x]) for x in size_changes]))\n",
    "    \n",
    "    ##TODO: Figure out the migration matrix\n",
    "    try:\n",
    "        debug = msprime.DemographyDebugger(population_configurations = configs,\\\n",
    "                                           #migration_matrix = migmat,\\\n",
    "                                           demographic_events = size_changes)\n",
    "    except Exception as inst:\n",
    "        print(inst)\n",
    "        raise\n",
    "    debug.print_history()\n",
    "    tree_sequence = msprime.simulate(length = clade_species[0].paramsdict[\"sequence_length\"],\\\n",
    "#                                     Ne = clade_species[0].stats[\"Ne_local\"],\\\n",
    "                                     Ne = 1,\\\n",
    "#                                     mutation_rate = clade_species[0].paramsdict[\"mutation_rate\"],\\\n",
    "                                     mutation_rate = 5,\\\n",
    "                                     population_configurations = configs,\\\n",
    "                                     demographic_events = size_changes)\n",
    "    return tree_sequence\n",
    "\n",
    "#df = isl1.local_info[clades[\"t776\"]]\n",
    "#df = isl1.local_info[clades[\"t130\"]]\n",
    "df = isl1.local_info[clades[\"t177\"]]\n",
    "\n",
    "wat = [{isl1.current_time - x:y*1000 for x, y in isl1.local_info[z][\"abundances_through_time\"].items()} for z in df.columns]\n",
    "print(wat)\n",
    "df.loc[\"abundances_through_time\"] = wat\n",
    "tree_sequence = sim_cl(df)"
   ]
  },
  {
   "cell_type": "code",
   "execution_count": 448,
   "metadata": {
    "scrolled": false
   },
   "outputs": [
    {
     "name": "stdout",
     "output_type": "stream",
     "text": [
      "103021.37418\n"
     ]
    },
    {
     "data": {
      "image/svg+xml": [
       "<svg baseProfile=\"full\" height=\"500\" version=\"1.1\" width=\"1000\" xmlns=\"http://www.w3.org/2000/svg\" xmlns:ev=\"http://www.w3.org/2001/xml-events\" xmlns:xlink=\"http://www.w3.org/1999/xlink\"><defs/><g id=\"lines\" stroke=\"black\"><line x1=\"113.839285714\" x2=\"113.839285714\" y1=\"466.819123366\" y2=\"20.0\"/><line x1=\"113.839285714\" x2=\"310.523623512\" y1=\"20.0\" y2=\"20.0\"/><line x1=\"41.6666666667\" x2=\"41.6666666667\" y1=\"479.238702161\" y2=\"466.819123366\"/><line x1=\"41.6666666667\" x2=\"113.839285714\" y1=\"466.819123366\" y2=\"466.819123366\"/><line x1=\"23.8095238095\" x2=\"23.8095238095\" y1=\"480.0\" y2=\"479.238702161\"/><line x1=\"23.8095238095\" x2=\"41.6666666667\" y1=\"479.238702161\" y2=\"479.238702161\"/><line x1=\"59.5238095238\" x2=\"59.5238095238\" y1=\"479.870075383\" y2=\"479.238702161\"/><line x1=\"59.5238095238\" x2=\"41.6666666667\" y1=\"479.238702161\" y2=\"479.238702161\"/><line x1=\"47.619047619\" x2=\"47.619047619\" y1=\"480.0\" y2=\"479.870075383\"/><line x1=\"47.619047619\" x2=\"59.5238095238\" y1=\"479.870075383\" y2=\"479.870075383\"/><line x1=\"71.4285714286\" x2=\"71.4285714286\" y1=\"480.0\" y2=\"479.870075383\"/><line x1=\"71.4285714286\" x2=\"59.5238095238\" y1=\"479.870075383\" y2=\"479.870075383\"/><line x1=\"186.011904762\" x2=\"186.011904762\" y1=\"479.238518159\" y2=\"466.819123366\"/><line x1=\"186.011904762\" x2=\"113.839285714\" y1=\"466.819123366\" y2=\"466.819123366\"/><line x1=\"145.833333333\" x2=\"145.833333333\" y1=\"479.825931192\" y2=\"479.238518159\"/><line x1=\"145.833333333\" x2=\"186.011904762\" y1=\"479.238518159\" y2=\"479.238518159\"/><line x1=\"113.095238095\" x2=\"113.095238095\" y1=\"479.931299661\" y2=\"479.825931192\"/><line x1=\"113.095238095\" x2=\"145.833333333\" y1=\"479.825931192\" y2=\"479.825931192\"/><line x1=\"95.2380952381\" x2=\"95.2380952381\" y1=\"480.0\" y2=\"479.931299661\"/><line x1=\"95.2380952381\" x2=\"113.095238095\" y1=\"479.931299661\" y2=\"479.931299661\"/><line x1=\"130.952380952\" x2=\"130.952380952\" y1=\"479.960627106\" y2=\"479.931299661\"/><line x1=\"130.952380952\" x2=\"113.095238095\" y1=\"479.931299661\" y2=\"479.931299661\"/><line x1=\"119.047619048\" x2=\"119.047619048\" y1=\"480.0\" y2=\"479.960627106\"/><line x1=\"119.047619048\" x2=\"130.952380952\" y1=\"479.960627106\" y2=\"479.960627106\"/><line x1=\"142.857142857\" x2=\"142.857142857\" y1=\"480.0\" y2=\"479.960627106\"/><line x1=\"142.857142857\" x2=\"130.952380952\" y1=\"479.960627106\" y2=\"479.960627106\"/><line x1=\"178.571428571\" x2=\"178.571428571\" y1=\"479.8675262\" y2=\"479.825931192\"/><line x1=\"178.571428571\" x2=\"145.833333333\" y1=\"479.825931192\" y2=\"479.825931192\"/><line x1=\"166.666666667\" x2=\"166.666666667\" y1=\"480.0\" y2=\"479.8675262\"/><line x1=\"166.666666667\" x2=\"178.571428571\" y1=\"479.8675262\" y2=\"479.8675262\"/><line x1=\"190.476190476\" x2=\"190.476190476\" y1=\"480.0\" y2=\"479.8675262\"/><line x1=\"190.476190476\" x2=\"178.571428571\" y1=\"479.8675262\" y2=\"479.8675262\"/><line x1=\"226.19047619\" x2=\"226.19047619\" y1=\"479.266055403\" y2=\"479.238518159\"/><line x1=\"226.19047619\" x2=\"186.011904762\" y1=\"479.238518159\" y2=\"479.238518159\"/><line x1=\"214.285714286\" x2=\"214.285714286\" y1=\"480.0\" y2=\"479.266055403\"/><line x1=\"214.285714286\" x2=\"226.19047619\" y1=\"479.266055403\" y2=\"479.266055403\"/><line x1=\"238.095238095\" x2=\"238.095238095\" y1=\"480.0\" y2=\"479.266055403\"/><line x1=\"238.095238095\" x2=\"226.19047619\" y1=\"479.266055403\" y2=\"479.266055403\"/><line x1=\"507.20796131\" x2=\"507.20796131\" y1=\"149.109211993\" y2=\"20.0\"/><line x1=\"507.20796131\" x2=\"310.523623512\" y1=\"20.0\" y2=\"20.0\"/><line x1=\"338.541666667\" x2=\"338.541666667\" y1=\"416.223520208\" y2=\"149.109211993\"/><line x1=\"338.541666667\" x2=\"507.20796131\" y1=\"149.109211993\" y2=\"149.109211993\"/><line x1=\"273.80952381\" x2=\"273.80952381\" y1=\"473.491810394\" y2=\"416.223520208\"/><line x1=\"273.80952381\" x2=\"338.541666667\" y1=\"416.223520208\" y2=\"416.223520208\"/><line x1=\"261.904761905\" x2=\"261.904761905\" y1=\"480.0\" y2=\"473.491810394\"/><line x1=\"261.904761905\" x2=\"273.80952381\" y1=\"473.491810394\" y2=\"473.491810394\"/><line x1=\"285.714285714\" x2=\"285.714285714\" y1=\"480.0\" y2=\"473.491810394\"/><line x1=\"285.714285714\" x2=\"273.80952381\" y1=\"473.491810394\" y2=\"473.491810394\"/><line x1=\"403.273809524\" x2=\"403.273809524\" y1=\"429.449556157\" y2=\"416.223520208\"/><line x1=\"403.273809524\" x2=\"338.541666667\" y1=\"416.223520208\" y2=\"416.223520208\"/><line x1=\"360.119047619\" x2=\"360.119047619\" y1=\"471.557687421\" y2=\"429.449556157\"/><line x1=\"360.119047619\" x2=\"403.273809524\" y1=\"429.449556157\" y2=\"429.449556157\"/><line x1=\"327.380952381\" x2=\"327.380952381\" y1=\"473.579815412\" y2=\"471.557687421\"/><line x1=\"327.380952381\" x2=\"360.119047619\" y1=\"471.557687421\" y2=\"471.557687421\"/><line x1=\"309.523809524\" x2=\"309.523809524\" y1=\"480.0\" y2=\"473.579815412\"/><line x1=\"309.523809524\" x2=\"327.380952381\" y1=\"473.579815412\" y2=\"473.579815412\"/><line x1=\"345.238095238\" x2=\"345.238095238\" y1=\"475.820309572\" y2=\"473.579815412\"/><line x1=\"345.238095238\" x2=\"327.380952381\" y1=\"473.579815412\" y2=\"473.579815412\"/><line x1=\"333.333333333\" x2=\"333.333333333\" y1=\"480.0\" y2=\"475.820309572\"/><line x1=\"333.333333333\" x2=\"345.238095238\" y1=\"475.820309572\" y2=\"475.820309572\"/><line x1=\"357.142857143\" x2=\"357.142857143\" y1=\"480.0\" y2=\"475.820309572\"/><line x1=\"357.142857143\" x2=\"345.238095238\" y1=\"475.820309572\" y2=\"475.820309572\"/><line x1=\"392.857142857\" x2=\"392.857142857\" y1=\"472.076459809\" y2=\"471.557687421\"/><line x1=\"392.857142857\" x2=\"360.119047619\" y1=\"471.557687421\" y2=\"471.557687421\"/><line x1=\"380.952380952\" x2=\"380.952380952\" y1=\"480.0\" y2=\"472.076459809\"/><line x1=\"380.952380952\" x2=\"392.857142857\" y1=\"472.076459809\" y2=\"472.076459809\"/><line x1=\"404.761904762\" x2=\"404.761904762\" y1=\"480.0\" y2=\"472.076459809\"/><line x1=\"404.761904762\" x2=\"392.857142857\" y1=\"472.076459809\" y2=\"472.076459809\"/><line x1=\"446.428571429\" x2=\"446.428571429\" y1=\"459.065682189\" y2=\"429.449556157\"/><line x1=\"446.428571429\" x2=\"403.273809524\" y1=\"429.449556157\" y2=\"429.449556157\"/><line x1=\"428.571428571\" x2=\"428.571428571\" y1=\"480.0\" y2=\"459.065682189\"/><line x1=\"428.571428571\" x2=\"446.428571429\" y1=\"459.065682189\" y2=\"459.065682189\"/><line x1=\"464.285714286\" x2=\"464.285714286\" y1=\"459.49411415\" y2=\"459.065682189\"/><line x1=\"464.285714286\" x2=\"446.428571429\" y1=\"459.065682189\" y2=\"459.065682189\"/><line x1=\"452.380952381\" x2=\"452.380952381\" y1=\"480.0\" y2=\"459.49411415\"/><line x1=\"452.380952381\" x2=\"464.285714286\" y1=\"459.49411415\" y2=\"459.49411415\"/><line x1=\"476.19047619\" x2=\"476.19047619\" y1=\"480.0\" y2=\"459.49411415\"/><line x1=\"476.19047619\" x2=\"464.285714286\" y1=\"459.49411415\" y2=\"459.49411415\"/><line x1=\"675.874255952\" x2=\"675.874255952\" y1=\"168.744646482\" y2=\"149.109211993\"/><line x1=\"675.874255952\" x2=\"507.20796131\" y1=\"149.109211993\" y2=\"149.109211993\"/><line x1=\"573.660714286\" x2=\"573.660714286\" y1=\"473.074174437\" y2=\"168.744646482\"/><line x1=\"573.660714286\" x2=\"675.874255952\" y1=\"168.744646482\" y2=\"168.744646482\"/><line x1=\"511.904761905\" x2=\"511.904761905\" y1=\"479.950862781\" y2=\"473.074174437\"/><line x1=\"511.904761905\" x2=\"573.660714286\" y1=\"473.074174437\" y2=\"473.074174437\"/><line x1=\"500.0\" x2=\"500.0\" y1=\"480.0\" y2=\"479.950862781\"/><line x1=\"500.0\" x2=\"511.904761905\" y1=\"479.950862781\" y2=\"479.950862781\"/><line x1=\"523.80952381\" x2=\"523.80952381\" y1=\"480.0\" y2=\"479.950862781\"/><line x1=\"523.80952381\" x2=\"511.904761905\" y1=\"479.950862781\" y2=\"479.950862781\"/><line x1=\"635.416666667\" x2=\"635.416666667\" y1=\"478.860939132\" y2=\"473.074174437\"/><line x1=\"635.416666667\" x2=\"573.660714286\" y1=\"473.074174437\" y2=\"473.074174437\"/><line x1=\"586.30952381\" x2=\"586.30952381\" y1=\"479.750786838\" y2=\"478.860939132\"/><line x1=\"586.30952381\" x2=\"635.416666667\" y1=\"478.860939132\" y2=\"478.860939132\"/><line x1=\"559.523809524\" x2=\"559.523809524\" y1=\"479.870387291\" y2=\"479.750786838\"/><line x1=\"559.523809524\" x2=\"586.30952381\" y1=\"479.750786838\" y2=\"479.750786838\"/><line x1=\"547.619047619\" x2=\"547.619047619\" y1=\"480.0\" y2=\"479.870387291\"/><line x1=\"547.619047619\" x2=\"559.523809524\" y1=\"479.870387291\" y2=\"479.870387291\"/><line x1=\"571.428571429\" x2=\"571.428571429\" y1=\"480.0\" y2=\"479.870387291\"/><line x1=\"571.428571429\" x2=\"559.523809524\" y1=\"479.870387291\" y2=\"479.870387291\"/><line x1=\"613.095238095\" x2=\"613.095238095\" y1=\"479.853893906\" y2=\"479.750786838\"/><line x1=\"613.095238095\" x2=\"586.30952381\" y1=\"479.750786838\" y2=\"479.750786838\"/><line x1=\"595.238095238\" x2=\"595.238095238\" y1=\"480.0\" y2=\"479.853893906\"/><line x1=\"595.238095238\" x2=\"613.095238095\" y1=\"479.853893906\" y2=\"479.853893906\"/><line x1=\"630.952380952\" x2=\"630.952380952\" y1=\"479.982476529\" y2=\"479.853893906\"/><line x1=\"630.952380952\" x2=\"613.095238095\" y1=\"479.853893906\" y2=\"479.853893906\"/><line x1=\"619.047619048\" x2=\"619.047619048\" y1=\"480.0\" y2=\"479.982476529\"/><line x1=\"619.047619048\" x2=\"630.952380952\" y1=\"479.982476529\" y2=\"479.982476529\"/><line x1=\"642.857142857\" x2=\"642.857142857\" y1=\"480.0\" y2=\"479.982476529\"/><line x1=\"642.857142857\" x2=\"630.952380952\" y1=\"479.982476529\" y2=\"479.982476529\"/><line x1=\"684.523809524\" x2=\"684.523809524\" y1=\"479.34160728\" y2=\"478.860939132\"/><line x1=\"684.523809524\" x2=\"635.416666667\" y1=\"478.860939132\" y2=\"478.860939132\"/><line x1=\"666.666666667\" x2=\"666.666666667\" y1=\"480.0\" y2=\"479.34160728\"/><line x1=\"666.666666667\" x2=\"684.523809524\" y1=\"479.34160728\" y2=\"479.34160728\"/><line x1=\"702.380952381\" x2=\"702.380952381\" y1=\"479.877389172\" y2=\"479.34160728\"/><line x1=\"702.380952381\" x2=\"684.523809524\" y1=\"479.34160728\" y2=\"479.34160728\"/><line x1=\"690.476190476\" x2=\"690.476190476\" y1=\"480.0\" y2=\"479.877389172\"/><line x1=\"690.476190476\" x2=\"702.380952381\" y1=\"479.877389172\" y2=\"479.877389172\"/><line x1=\"714.285714286\" x2=\"714.285714286\" y1=\"480.0\" y2=\"479.877389172\"/><line x1=\"714.285714286\" x2=\"702.380952381\" y1=\"479.877389172\" y2=\"479.877389172\"/><line x1=\"778.087797619\" x2=\"778.087797619\" y1=\"468.3864017\" y2=\"168.744646482\"/><line x1=\"778.087797619\" x2=\"675.874255952\" y1=\"168.744646482\" y2=\"168.744646482\"/><line x1=\"738.095238095\" x2=\"738.095238095\" y1=\"480.0\" y2=\"468.3864017\"/><line x1=\"738.095238095\" x2=\"778.087797619\" y1=\"468.3864017\" y2=\"468.3864017\"/><line x1=\"818.080357143\" x2=\"818.080357143\" y1=\"470.338040499\" y2=\"468.3864017\"/><line x1=\"818.080357143\" x2=\"778.087797619\" y1=\"468.3864017\" y2=\"468.3864017\"/><line x1=\"779.761904762\" x2=\"779.761904762\" y1=\"478.452789135\" y2=\"470.338040499\"/><line x1=\"779.761904762\" x2=\"818.080357143\" y1=\"470.338040499\" y2=\"470.338040499\"/><line x1=\"761.904761905\" x2=\"761.904761905\" y1=\"480.0\" y2=\"478.452789135\"/><line x1=\"761.904761905\" x2=\"779.761904762\" y1=\"478.452789135\" y2=\"478.452789135\"/><line x1=\"797.619047619\" x2=\"797.619047619\" y1=\"479.399154552\" y2=\"478.452789135\"/><line x1=\"797.619047619\" x2=\"779.761904762\" y1=\"478.452789135\" y2=\"478.452789135\"/><line x1=\"785.714285714\" x2=\"785.714285714\" y1=\"480.0\" y2=\"479.399154552\"/><line x1=\"785.714285714\" x2=\"797.619047619\" y1=\"479.399154552\" y2=\"479.399154552\"/><line x1=\"809.523809524\" x2=\"809.523809524\" y1=\"480.0\" y2=\"479.399154552\"/><line x1=\"809.523809524\" x2=\"797.619047619\" y1=\"479.399154552\" y2=\"479.399154552\"/><line x1=\"856.398809524\" x2=\"856.398809524\" y1=\"474.700940947\" y2=\"470.338040499\"/><line x1=\"856.398809524\" x2=\"818.080357143\" y1=\"470.338040499\" y2=\"470.338040499\"/><line x1=\"833.333333333\" x2=\"833.333333333\" y1=\"480.0\" y2=\"474.700940947\"/><line x1=\"833.333333333\" x2=\"856.398809524\" y1=\"474.700940947\" y2=\"474.700940947\"/><line x1=\"879.464285714\" x2=\"879.464285714\" y1=\"476.468128085\" y2=\"474.700940947\"/><line x1=\"879.464285714\" x2=\"856.398809524\" y1=\"474.700940947\" y2=\"474.700940947\"/><line x1=\"857.142857143\" x2=\"857.142857143\" y1=\"480.0\" y2=\"476.468128085\"/><line x1=\"857.142857143\" x2=\"879.464285714\" y1=\"476.468128085\" y2=\"476.468128085\"/><line x1=\"901.785714286\" x2=\"901.785714286\" y1=\"477.381626098\" y2=\"476.468128085\"/><line x1=\"901.785714286\" x2=\"879.464285714\" y1=\"476.468128085\" y2=\"476.468128085\"/><line x1=\"880.952380952\" x2=\"880.952380952\" y1=\"480.0\" y2=\"477.381626098\"/><line x1=\"880.952380952\" x2=\"901.785714286\" y1=\"477.381626098\" y2=\"477.381626098\"/><line x1=\"922.619047619\" x2=\"922.619047619\" y1=\"478.56463196\" y2=\"477.381626098\"/><line x1=\"922.619047619\" x2=\"901.785714286\" y1=\"477.381626098\" y2=\"477.381626098\"/><line x1=\"904.761904762\" x2=\"904.761904762\" y1=\"480.0\" y2=\"478.56463196\"/><line x1=\"904.761904762\" x2=\"922.619047619\" y1=\"478.56463196\" y2=\"478.56463196\"/><line x1=\"940.476190476\" x2=\"940.476190476\" y1=\"479.708719943\" y2=\"478.56463196\"/><line x1=\"940.476190476\" x2=\"922.619047619\" y1=\"478.56463196\" y2=\"478.56463196\"/><line x1=\"928.571428571\" x2=\"928.571428571\" y1=\"480.0\" y2=\"479.708719943\"/><line x1=\"928.571428571\" x2=\"940.476190476\" y1=\"479.708719943\" y2=\"479.708719943\"/><line x1=\"952.380952381\" x2=\"952.380952381\" y1=\"480.0\" y2=\"479.708719943\"/><line x1=\"952.380952381\" x2=\"940.476190476\" y1=\"479.708719943\" y2=\"479.708719943\"/></g><g font-size=\"14\" text-anchor=\"start\"><text x=\"64.5238095238\" y=\"474.870075383\">46</text><text x=\"191.011904762\" y=\"474.238518159\">56</text><text x=\"135.952380952\" y=\"474.960627106\">41</text><text x=\"183.571428571\" y=\"474.8675262\">47</text><text x=\"231.19047619\" y=\"474.266055403\">54</text><text x=\"512.20796131\" y=\"144.109211993\">77</text><text x=\"408.273809524\" y=\"424.449556157\">74</text><text x=\"350.238095238\" y=\"470.820309572\">62</text><text x=\"397.857142857\" y=\"467.076459809\">67</text><text x=\"451.428571429\" y=\"454.065682189\">73</text><text x=\"469.285714286\" y=\"454.49411415\">72</text><text x=\"680.874255952\" y=\"163.744646482\">76</text><text x=\"640.416666667\" y=\"473.860939132\">57</text><text x=\"618.095238095\" y=\"474.853893906\">48</text><text x=\"635.952380952\" y=\"474.982476529\">40</text><text x=\"689.523809524\" y=\"474.34160728\">53</text><text x=\"707.380952381\" y=\"474.877389172\">44</text><text x=\"783.087797619\" y=\"463.3864017\">70</text><text x=\"823.080357143\" y=\"465.338040499\">69</text><text x=\"802.619047619\" y=\"474.399154552\">52</text><text x=\"861.398809524\" y=\"469.700940947\">63</text><text x=\"884.464285714\" y=\"471.468128085\">61</text><text x=\"906.785714286\" y=\"472.381626098\">60</text><text x=\"927.619047619\" y=\"473.56463196\">58</text><text x=\"945.476190476\" y=\"474.708719943\">51</text></g><g font-size=\"14\" text-anchor=\"end\"><text x=\"108.839285714\" y=\"461.819123366\">71</text><text x=\"36.6666666667\" y=\"474.238702161\">55</text><text x=\"140.833333333\" y=\"474.825931192\">49</text><text x=\"108.095238095\" y=\"474.931299661\">43</text><text x=\"333.541666667\" y=\"411.223520208\">75</text><text x=\"268.80952381\" y=\"468.491810394\">65</text><text x=\"355.119047619\" y=\"466.557687421\">68</text><text x=\"322.380952381\" y=\"468.579815412\">64</text><text x=\"568.660714286\" y=\"468.074174437\">66</text><text x=\"506.904761905\" y=\"474.950862781\">42</text><text x=\"581.30952381\" y=\"474.750786838\">50</text><text x=\"554.523809524\" y=\"474.870387291\">45</text><text x=\"774.761904762\" y=\"473.452789135\">59</text></g><g font-size=\"14\" text-anchor=\"middle\"><text x=\"310.523623512\" y=\"15.0\">78</text><text x=\"23.8095238095\" y=\"500.0\">15</text><text x=\"47.619047619\" y=\"500.0\">13</text><text x=\"71.4285714286\" y=\"500.0\">18</text><text x=\"95.2380952381\" y=\"500.0\">11</text><text x=\"119.047619048\" y=\"500.0\">14</text><text x=\"142.857142857\" y=\"500.0\">19</text><text x=\"166.666666667\" y=\"500.0\">16</text><text x=\"190.476190476\" y=\"500.0\">17</text><text x=\"214.285714286\" y=\"500.0\">10</text><text x=\"238.095238095\" y=\"500.0\">12</text><text x=\"261.904761905\" y=\"500.0\">31</text><text x=\"285.714285714\" y=\"500.0\">33</text><text x=\"309.523809524\" y=\"500.0\">32</text><text x=\"333.333333333\" y=\"500.0\">34</text><text x=\"357.142857143\" y=\"500.0\">39</text><text x=\"380.952380952\" y=\"500.0\">30</text><text x=\"404.761904762\" y=\"500.0\">36</text><text x=\"428.571428571\" y=\"500.0\">35</text><text x=\"452.380952381\" y=\"500.0\">37</text><text x=\"476.19047619\" y=\"500.0\">38</text><text x=\"500.0\" y=\"500.0\">6</text><text x=\"523.80952381\" y=\"500.0\">8</text><text x=\"547.619047619\" y=\"500.0\">2</text><text x=\"571.428571429\" y=\"500.0\">9</text><text x=\"595.238095238\" y=\"500.0\">4</text><text x=\"619.047619048\" y=\"500.0\">0</text><text x=\"642.857142857\" y=\"500.0\">1</text><text x=\"666.666666667\" y=\"500.0\">5</text><text x=\"690.476190476\" y=\"500.0\">3</text><text x=\"714.285714286\" y=\"500.0\">7</text><text x=\"738.095238095\" y=\"500.0\">29</text><text x=\"761.904761905\" y=\"500.0\">22</text><text x=\"785.714285714\" y=\"500.0\">21</text><text x=\"809.523809524\" y=\"500.0\">24</text><text x=\"833.333333333\" y=\"500.0\">25</text><text x=\"857.142857143\" y=\"500.0\">28</text><text x=\"880.952380952\" y=\"500.0\">26</text><text x=\"904.761904762\" y=\"500.0\">20</text><text x=\"928.571428571\" y=\"500.0\">23</text><text x=\"952.380952381\" y=\"500.0\">27</text></g><circle cx=\"310.523623512\" cy=\"20.0\" fill=\"yellow\" r=\"3\"/><circle cx=\"113.839285714\" cy=\"466.819123366\" fill=\"blue\" r=\"3\"/><circle cx=\"41.6666666667\" cy=\"479.238702161\" fill=\"blue\" r=\"3\"/><circle cx=\"23.8095238095\" cy=\"480.0\" fill=\"blue\" r=\"3\"/><circle cx=\"59.5238095238\" cy=\"479.870075383\" fill=\"blue\" r=\"3\"/><circle cx=\"47.619047619\" cy=\"480.0\" fill=\"blue\" r=\"3\"/><circle cx=\"71.4285714286\" cy=\"480.0\" fill=\"blue\" r=\"3\"/><circle cx=\"186.011904762\" cy=\"479.238518159\" fill=\"blue\" r=\"3\"/><circle cx=\"145.833333333\" cy=\"479.825931192\" fill=\"blue\" r=\"3\"/><circle cx=\"113.095238095\" cy=\"479.931299661\" fill=\"blue\" r=\"3\"/><circle cx=\"95.2380952381\" cy=\"480.0\" fill=\"blue\" r=\"3\"/><circle cx=\"130.952380952\" cy=\"479.960627106\" fill=\"blue\" r=\"3\"/><circle cx=\"119.047619048\" cy=\"480.0\" fill=\"blue\" r=\"3\"/><circle cx=\"142.857142857\" cy=\"480.0\" fill=\"blue\" r=\"3\"/><circle cx=\"178.571428571\" cy=\"479.8675262\" fill=\"blue\" r=\"3\"/><circle cx=\"166.666666667\" cy=\"480.0\" fill=\"blue\" r=\"3\"/><circle cx=\"190.476190476\" cy=\"480.0\" fill=\"blue\" r=\"3\"/><circle cx=\"226.19047619\" cy=\"479.266055403\" fill=\"blue\" r=\"3\"/><circle cx=\"214.285714286\" cy=\"480.0\" fill=\"blue\" r=\"3\"/><circle cx=\"238.095238095\" cy=\"480.0\" fill=\"blue\" r=\"3\"/><circle cx=\"507.20796131\" cy=\"149.109211993\" fill=\"yellow\" r=\"3\"/><circle cx=\"338.541666667\" cy=\"416.223520208\" fill=\"yellow\" r=\"3\"/><circle cx=\"273.80952381\" cy=\"473.491810394\" fill=\"yellow\" r=\"3\"/><circle cx=\"261.904761905\" cy=\"480.0\" fill=\"yellow\" r=\"3\"/><circle cx=\"285.714285714\" cy=\"480.0\" fill=\"yellow\" r=\"3\"/><circle cx=\"403.273809524\" cy=\"429.449556157\" fill=\"yellow\" r=\"3\"/><circle cx=\"360.119047619\" cy=\"471.557687421\" fill=\"yellow\" r=\"3\"/><circle cx=\"327.380952381\" cy=\"473.579815412\" fill=\"yellow\" r=\"3\"/><circle cx=\"309.523809524\" cy=\"480.0\" fill=\"yellow\" r=\"3\"/><circle cx=\"345.238095238\" cy=\"475.820309572\" fill=\"yellow\" r=\"3\"/><circle cx=\"333.333333333\" cy=\"480.0\" fill=\"yellow\" r=\"3\"/><circle cx=\"357.142857143\" cy=\"480.0\" fill=\"yellow\" r=\"3\"/><circle cx=\"392.857142857\" cy=\"472.076459809\" fill=\"yellow\" r=\"3\"/><circle cx=\"380.952380952\" cy=\"480.0\" fill=\"yellow\" r=\"3\"/><circle cx=\"404.761904762\" cy=\"480.0\" fill=\"yellow\" r=\"3\"/><circle cx=\"446.428571429\" cy=\"459.065682189\" fill=\"yellow\" r=\"3\"/><circle cx=\"428.571428571\" cy=\"480.0\" fill=\"yellow\" r=\"3\"/><circle cx=\"464.285714286\" cy=\"459.49411415\" fill=\"yellow\" r=\"3\"/><circle cx=\"452.380952381\" cy=\"480.0\" fill=\"yellow\" r=\"3\"/><circle cx=\"476.19047619\" cy=\"480.0\" fill=\"yellow\" r=\"3\"/><circle cx=\"675.874255952\" cy=\"168.744646482\" fill=\"green\" r=\"3\"/><circle cx=\"573.660714286\" cy=\"473.074174437\" fill=\"red\" r=\"3\"/><circle cx=\"511.904761905\" cy=\"479.950862781\" fill=\"red\" r=\"3\"/><circle cx=\"500.0\" cy=\"480.0\" fill=\"red\" r=\"3\"/><circle cx=\"523.80952381\" cy=\"480.0\" fill=\"red\" r=\"3\"/><circle cx=\"635.416666667\" cy=\"478.860939132\" fill=\"red\" r=\"3\"/><circle cx=\"586.30952381\" cy=\"479.750786838\" fill=\"red\" r=\"3\"/><circle cx=\"559.523809524\" cy=\"479.870387291\" fill=\"red\" r=\"3\"/><circle cx=\"547.619047619\" cy=\"480.0\" fill=\"red\" r=\"3\"/><circle cx=\"571.428571429\" cy=\"480.0\" fill=\"red\" r=\"3\"/><circle cx=\"613.095238095\" cy=\"479.853893906\" fill=\"red\" r=\"3\"/><circle cx=\"595.238095238\" cy=\"480.0\" fill=\"red\" r=\"3\"/><circle cx=\"630.952380952\" cy=\"479.982476529\" fill=\"red\" r=\"3\"/><circle cx=\"619.047619048\" cy=\"480.0\" fill=\"red\" r=\"3\"/><circle cx=\"642.857142857\" cy=\"480.0\" fill=\"red\" r=\"3\"/><circle cx=\"684.523809524\" cy=\"479.34160728\" fill=\"red\" r=\"3\"/><circle cx=\"666.666666667\" cy=\"480.0\" fill=\"red\" r=\"3\"/><circle cx=\"702.380952381\" cy=\"479.877389172\" fill=\"red\" r=\"3\"/><circle cx=\"690.476190476\" cy=\"480.0\" fill=\"red\" r=\"3\"/><circle cx=\"714.285714286\" cy=\"480.0\" fill=\"red\" r=\"3\"/><circle cx=\"778.087797619\" cy=\"468.3864017\" fill=\"green\" r=\"3\"/><circle cx=\"738.095238095\" cy=\"480.0\" fill=\"green\" r=\"3\"/><circle cx=\"818.080357143\" cy=\"470.338040499\" fill=\"green\" r=\"3\"/><circle cx=\"779.761904762\" cy=\"478.452789135\" fill=\"green\" r=\"3\"/><circle cx=\"761.904761905\" cy=\"480.0\" fill=\"green\" r=\"3\"/><circle cx=\"797.619047619\" cy=\"479.399154552\" fill=\"green\" r=\"3\"/><circle cx=\"785.714285714\" cy=\"480.0\" fill=\"green\" r=\"3\"/><circle cx=\"809.523809524\" cy=\"480.0\" fill=\"green\" r=\"3\"/><circle cx=\"856.398809524\" cy=\"474.700940947\" fill=\"green\" r=\"3\"/><circle cx=\"833.333333333\" cy=\"480.0\" fill=\"green\" r=\"3\"/><circle cx=\"879.464285714\" cy=\"476.468128085\" fill=\"green\" r=\"3\"/><circle cx=\"857.142857143\" cy=\"480.0\" fill=\"green\" r=\"3\"/><circle cx=\"901.785714286\" cy=\"477.381626098\" fill=\"green\" r=\"3\"/><circle cx=\"880.952380952\" cy=\"480.0\" fill=\"green\" r=\"3\"/><circle cx=\"922.619047619\" cy=\"478.56463196\" fill=\"green\" r=\"3\"/><circle cx=\"904.761904762\" cy=\"480.0\" fill=\"green\" r=\"3\"/><circle cx=\"940.476190476\" cy=\"479.708719943\" fill=\"green\" r=\"3\"/><circle cx=\"928.571428571\" cy=\"480.0\" fill=\"green\" r=\"3\"/><circle cx=\"952.380952381\" cy=\"480.0\" fill=\"green\" r=\"3\"/><g alignment-baseline=\"middle\" font-size=\"14\" font-style=\"italic\" text-anchor=\"start\"/><g alignment-baseline=\"middle\" font-size=\"14\" font-style=\"italic\" text-anchor=\"end\"><text x=\"568.660714286\" y=\"325.40941046\">0</text><text x=\"333.541666667\" y=\"331.68541747\">1</text><text x=\"333.541666667\" y=\"242.647314731\">3</text><text x=\"355.119047619\" y=\"455.003621789\">4</text><text x=\"108.839285714\" y=\"247.909561683\">2</text></g><rect fill=\"red\" height=\"6\" width=\"6\" x=\"570.660714286\" y=\"317.90941046\"/><rect fill=\"red\" height=\"6\" width=\"6\" x=\"335.541666667\" y=\"324.18541747\"/><rect fill=\"red\" height=\"6\" width=\"6\" x=\"335.541666667\" y=\"235.147314731\"/><rect fill=\"red\" height=\"6\" width=\"6\" x=\"357.119047619\" y=\"447.503621789\"/><rect fill=\"red\" height=\"6\" width=\"6\" x=\"110.839285714\" y=\"240.409561683\"/></svg>"
      ],
      "text/plain": [
       "<IPython.core.display.SVG object>"
      ]
     },
     "execution_count": 448,
     "metadata": {},
     "output_type": "execute_result"
    }
   ],
   "source": [
    "from IPython.display import display_svg\n",
    "from IPython.display import SVG\n",
    "\n",
    "#tree_sequence = sim_cl(df)\n",
    "tree = tree_sequence.trees().next()\n",
    "print(tree.time(tree.root))\n",
    "colour_map = {0:\"red\", 1:\"blue\", 2:\"green\", 3:\"yellow\"}\n",
    "node_colours = {u: colour_map[tree.population(u)] for u in tree.nodes()}\n",
    "SVG(tree.draw(height=500, width=1000, node_colours=node_colours))"
   ]
  },
  {
   "cell_type": "code",
   "execution_count": 130,
   "metadata": {},
   "outputs": [],
   "source": [
    "import math\n",
    "def out_of_africa():\n",
    "    # First we set out the maximum likelihood values of the various parameters\n",
    "    # given in Table 1.\n",
    "    N_A = 7300\n",
    "    N_B = 2100\n",
    "    N_AF = 12300\n",
    "    N_EU0 = 1000\n",
    "    N_AS0 = 510\n",
    "    # Times are provided in years, so we convert into generations.\n",
    "    generation_time = 25\n",
    "    T_AF = 220e3 / generation_time\n",
    "    T_B = 140e3 / generation_time\n",
    "    T_EU_AS = 21.2e3 / generation_time\n",
    "    # We need to work out the starting (diploid) population sizes based on\n",
    "    # the growth rates provided for these two populations\n",
    "    r_EU = 0.004\n",
    "    r_AS = 0.0055\n",
    "    N_EU = N_EU0 / math.exp(-r_EU * T_EU_AS)\n",
    "    N_AS = N_AS0 / math.exp(-r_AS * T_EU_AS)\n",
    "    # Migration rates during the various epochs.\n",
    "    m_AF_B = 25e-5\n",
    "    m_AF_EU = 3e-5\n",
    "    m_AF_AS = 1.9e-5\n",
    "    m_EU_AS = 9.6e-5\n",
    "    # Population IDs correspond to their indexes in the population\n",
    "    # configuration array. Therefore, we have 0=YRI, 1=CEU and 2=CHB\n",
    "    # initially.\n",
    "    population_configurations = [\n",
    "        msprime.PopulationConfiguration(\n",
    "            sample_size=0, initial_size=N_AF),\n",
    "        msprime.PopulationConfiguration(\n",
    "            sample_size=5, initial_size=N_EU, growth_rate=r_EU),\n",
    "        msprime.PopulationConfiguration(\n",
    "            sample_size=5, initial_size=N_AS, growth_rate=r_AS)\n",
    "    ]\n",
    "    migration_matrix = [\n",
    "        [      0, m_AF_EU, m_AF_AS],\n",
    "        [m_AF_EU,       0, m_EU_AS],\n",
    "        [m_AF_AS, m_EU_AS,       0],\n",
    "    ]\n",
    "    demographic_events = [\n",
    "        # CEU and CHB merge into B with rate changes at T_EU_AS\n",
    "        msprime.MassMigration(\n",
    "            time=T_EU_AS, source=2, destination=1, proportion=1.0),\n",
    "        msprime.MigrationRateChange(time=T_EU_AS, rate=0),\n",
    "        msprime.MigrationRateChange(\n",
    "            time=T_EU_AS, rate=m_AF_B, matrix_index=(0, 1)),\n",
    "        msprime.MigrationRateChange(\n",
    "            time=T_EU_AS, rate=m_AF_B, matrix_index=(1, 0)),\n",
    "        msprime.PopulationParametersChange(\n",
    "            time=T_EU_AS, initial_size=N_B, growth_rate=0, population_id=1),\n",
    "        # Population B merges into YRI at T_B\n",
    "        msprime.MassMigration(\n",
    "            time=T_B, source=1, destination=0, proportion=1.0),\n",
    "        # Size changes to N_A at T_AF\n",
    "        msprime.PopulationParametersChange(\n",
    "            time=T_AF, initial_size=N_A, population_id=0)\n",
    "    ]\n",
    "    # Use the demography debugger to print out the demographic history\n",
    "    # that we have just described.\n",
    "    dd = msprime.DemographyDebugger(\n",
    "        population_configurations=population_configurations,\n",
    "        migration_matrix=migration_matrix,\n",
    "        demographic_events=demographic_events)\n",
    "    dd.print_history()\n",
    "    tree_sequence = msprime.simulate(length = 500,\\\n",
    "                                     Ne = 0.5,\\\n",
    "                                     mutation_rate = .00000001,\\\n",
    "                                     population_configurations = population_configurations,\\\n",
    "                                     demographic_events = demographic_events)\n",
    "    return tree_sequence\n"
   ]
  },
  {
   "cell_type": "code",
   "execution_count": 131,
   "metadata": {
    "scrolled": true
   },
   "outputs": [
    {
     "name": "stdout",
     "output_type": "stream",
     "text": [
      "=============================\n",
      "Epoch: 0 -- 848.0 generations\n",
      "=============================\n",
      "     start     end      growth_rate |     0        1        2    \n",
      "   -------- --------       -------- | -------- -------- -------- \n",
      "0 |1.23e+04 1.23e+04              0 |     0      3e-05   1.9e-05 \n",
      "1 |2.97e+04   1e+03           0.004 |   3e-05      0     9.6e-05 \n",
      "2 |5.41e+04    510           0.0055 |  1.9e-05  9.6e-05     0    \n",
      "\n",
      "Events @ generation 848.0\n",
      "   - Mass migration: lineages move from 2 to 1 with probability 1.0\n",
      "   - Migration rate change to 0 everywhere\n",
      "   - Migration rate change for (0, 1) to 0.00025\n",
      "   - Migration rate change for (1, 0) to 0.00025\n",
      "   - Population parameter change for 1: initial_size -> 2100 growth_rate -> 0 \n",
      "==================================\n",
      "Epoch: 848.0 -- 5600.0 generations\n",
      "==================================\n",
      "     start     end      growth_rate |     0        1        2    \n",
      "   -------- --------       -------- | -------- -------- -------- \n",
      "0 |1.23e+04 1.23e+04              0 |     0     0.00025     0    \n",
      "1 | 2.1e+03  2.1e+03              0 |  0.00025     0        0    \n",
      "2 |   510   2.27e-09         0.0055 |     0        0        0    \n",
      "\n",
      "Events @ generation 5600.0\n",
      "   - Mass migration: lineages move from 1 to 0 with probability 1.0\n",
      "===================================\n",
      "Epoch: 5600.0 -- 8800.0 generations\n",
      "===================================\n",
      "     start     end      growth_rate |     0        1        2    \n",
      "   -------- --------       -------- | -------- -------- -------- \n",
      "0 |1.23e+04 1.23e+04              0 |     0     0.00025     0    \n",
      "1 | 2.1e+03  2.1e+03              0 |  0.00025     0        0    \n",
      "2 |2.27e-09 5.17e-17         0.0055 |     0        0        0    \n",
      "\n",
      "Events @ generation 8800.0\n",
      "   - Population parameter change for 0: initial_size -> 7300 \n",
      "================================\n",
      "Epoch: 8800.0 -- inf generations\n",
      "================================\n",
      "     start     end      growth_rate |     0        1        2    \n",
      "   -------- --------       -------- | -------- -------- -------- \n",
      "0 | 7.3e+03  7.3e+03              0 |     0     0.00025     0    \n",
      "1 | 2.1e+03  2.1e+03              0 |  0.00025     0        0    \n",
      "2 |5.17e-17     0            0.0055 |     0        0        0    \n",
      "\n"
     ]
    },
    {
     "data": {
      "image/svg+xml": [
       "<svg baseProfile=\"full\" height=\"500\" version=\"1.1\" width=\"500\" xmlns=\"http://www.w3.org/2000/svg\" xmlns:ev=\"http://www.w3.org/2001/xml-events\" xmlns:xlink=\"http://www.w3.org/1999/xlink\"><defs/><g id=\"lines\" stroke=\"black\"><line x1=\"62.5\" x2=\"62.5\" y1=\"464.328847476\" y2=\"20.0\"/><line x1=\"62.5\" x2=\"131.510416667\" y1=\"20.0\" y2=\"20.0\"/><line x1=\"41.6666666667\" x2=\"41.6666666667\" y1=\"480.0\" y2=\"464.328847476\"/><line x1=\"41.6666666667\" x2=\"62.5\" y1=\"464.328847476\" y2=\"464.328847476\"/><line x1=\"83.3333333333\" x2=\"83.3333333333\" y1=\"480.0\" y2=\"464.328847476\"/><line x1=\"83.3333333333\" x2=\"62.5\" y1=\"464.328847476\" y2=\"464.328847476\"/><line x1=\"200.520833333\" x2=\"200.520833333\" y1=\"407.625311582\" y2=\"20.0\"/><line x1=\"200.520833333\" x2=\"131.510416667\" y1=\"20.0\" y2=\"20.0\"/><line x1=\"125.0\" x2=\"125.0\" y1=\"480.0\" y2=\"407.625311582\"/><line x1=\"125.0\" x2=\"200.520833333\" y1=\"407.625311582\" y2=\"407.625311582\"/><line x1=\"276.041666667\" x2=\"276.041666667\" y1=\"435.557832675\" y2=\"407.625311582\"/><line x1=\"276.041666667\" x2=\"200.520833333\" y1=\"407.625311582\" y2=\"407.625311582\"/><line x1=\"197.916666667\" x2=\"197.916666667\" y1=\"469.959330432\" y2=\"435.557832675\"/><line x1=\"197.916666667\" x2=\"276.041666667\" y1=\"435.557832675\" y2=\"435.557832675\"/><line x1=\"166.666666667\" x2=\"166.666666667\" y1=\"480.0\" y2=\"469.959330432\"/><line x1=\"166.666666667\" x2=\"197.916666667\" y1=\"469.959330432\" y2=\"469.959330432\"/><line x1=\"229.166666667\" x2=\"229.166666667\" y1=\"473.910541113\" y2=\"469.959330432\"/><line x1=\"229.166666667\" x2=\"197.916666667\" y1=\"469.959330432\" y2=\"469.959330432\"/><line x1=\"208.333333333\" x2=\"208.333333333\" y1=\"480.0\" y2=\"473.910541113\"/><line x1=\"208.333333333\" x2=\"229.166666667\" y1=\"473.910541113\" y2=\"473.910541113\"/><line x1=\"250.0\" x2=\"250.0\" y1=\"480.0\" y2=\"473.910541113\"/><line x1=\"250.0\" x2=\"229.166666667\" y1=\"473.910541113\" y2=\"473.910541113\"/><line x1=\"354.166666667\" x2=\"354.166666667\" y1=\"465.92922488\" y2=\"435.557832675\"/><line x1=\"354.166666667\" x2=\"276.041666667\" y1=\"435.557832675\" y2=\"435.557832675\"/><line x1=\"312.5\" x2=\"312.5\" y1=\"473.270289707\" y2=\"465.92922488\"/><line x1=\"312.5\" x2=\"354.166666667\" y1=\"465.92922488\" y2=\"465.92922488\"/><line x1=\"291.666666667\" x2=\"291.666666667\" y1=\"480.0\" y2=\"473.270289707\"/><line x1=\"291.666666667\" x2=\"312.5\" y1=\"473.270289707\" y2=\"473.270289707\"/><line x1=\"333.333333333\" x2=\"333.333333333\" y1=\"480.0\" y2=\"473.270289707\"/><line x1=\"333.333333333\" x2=\"312.5\" y1=\"473.270289707\" y2=\"473.270289707\"/><line x1=\"395.833333333\" x2=\"395.833333333\" y1=\"470.898369086\" y2=\"465.92922488\"/><line x1=\"395.833333333\" x2=\"354.166666667\" y1=\"465.92922488\" y2=\"465.92922488\"/><line x1=\"375.0\" x2=\"375.0\" y1=\"480.0\" y2=\"470.898369086\"/><line x1=\"375.0\" x2=\"395.833333333\" y1=\"470.898369086\" y2=\"470.898369086\"/><line x1=\"416.666666667\" x2=\"416.666666667\" y1=\"480.0\" y2=\"470.898369086\"/><line x1=\"416.666666667\" x2=\"395.833333333\" y1=\"470.898369086\" y2=\"470.898369086\"/></g><g font-size=\"14\" text-anchor=\"start\"><text x=\"205.520833333\" y=\"402.625311582\">17</text><text x=\"281.041666667\" y=\"430.557832675\">16</text><text x=\"234.166666667\" y=\"468.910541113\">10</text><text x=\"359.166666667\" y=\"460.92922488\">14</text><text x=\"400.833333333\" y=\"465.898369086\">12</text></g><g font-size=\"14\" text-anchor=\"end\"><text x=\"57.5\" y=\"459.328847476\">15</text><text x=\"192.916666667\" y=\"464.959330432\">13</text><text x=\"307.5\" y=\"468.270289707\">11</text></g><g font-size=\"14\" text-anchor=\"middle\"><text x=\"131.510416667\" y=\"15.0\">18</text><text x=\"41.6666666667\" y=\"500.0\">1</text><text x=\"83.3333333333\" y=\"500.0\">9</text><text x=\"125.0\" y=\"500.0\">0</text><text x=\"166.666666667\" y=\"500.0\">4</text><text x=\"208.333333333\" y=\"500.0\">6</text><text x=\"250.0\" y=\"500.0\">8</text><text x=\"291.666666667\" y=\"500.0\">5</text><text x=\"333.333333333\" y=\"500.0\">7</text><text x=\"375.0\" y=\"500.0\">2</text><text x=\"416.666666667\" y=\"500.0\">3</text></g><circle cx=\"131.510416667\" cy=\"20.0\" fill=\"black\" r=\"3\"/><circle cx=\"62.5\" cy=\"464.328847476\" fill=\"black\" r=\"3\"/><circle cx=\"41.6666666667\" cy=\"480.0\" fill=\"black\" r=\"3\"/><circle cx=\"83.3333333333\" cy=\"480.0\" fill=\"black\" r=\"3\"/><circle cx=\"200.520833333\" cy=\"407.625311582\" fill=\"black\" r=\"3\"/><circle cx=\"125.0\" cy=\"480.0\" fill=\"black\" r=\"3\"/><circle cx=\"276.041666667\" cy=\"435.557832675\" fill=\"black\" r=\"3\"/><circle cx=\"197.916666667\" cy=\"469.959330432\" fill=\"black\" r=\"3\"/><circle cx=\"166.666666667\" cy=\"480.0\" fill=\"black\" r=\"3\"/><circle cx=\"229.166666667\" cy=\"473.910541113\" fill=\"black\" r=\"3\"/><circle cx=\"208.333333333\" cy=\"480.0\" fill=\"black\" r=\"3\"/><circle cx=\"250.0\" cy=\"480.0\" fill=\"black\" r=\"3\"/><circle cx=\"354.166666667\" cy=\"465.92922488\" fill=\"black\" r=\"3\"/><circle cx=\"312.5\" cy=\"473.270289707\" fill=\"black\" r=\"3\"/><circle cx=\"291.666666667\" cy=\"480.0\" fill=\"black\" r=\"3\"/><circle cx=\"333.333333333\" cy=\"480.0\" fill=\"black\" r=\"3\"/><circle cx=\"395.833333333\" cy=\"470.898369086\" fill=\"black\" r=\"3\"/><circle cx=\"375.0\" cy=\"480.0\" fill=\"black\" r=\"3\"/><circle cx=\"416.666666667\" cy=\"480.0\" fill=\"black\" r=\"3\"/><g alignment-baseline=\"middle\" font-size=\"14\" font-style=\"italic\" text-anchor=\"start\"/><g alignment-baseline=\"middle\" font-size=\"14\" font-style=\"italic\" text-anchor=\"end\"><text x=\"57.5\" y=\"246.664423738\">0</text></g><rect fill=\"red\" height=\"6\" width=\"6\" x=\"59.5\" y=\"239.164423738\"/></svg>"
      ],
      "text/plain": [
       "<IPython.core.display.SVG object>"
      ]
     },
     "execution_count": 131,
     "metadata": {},
     "output_type": "execute_result"
    }
   ],
   "source": [
    "tree_sequence = out_of_africa()\n",
    "t = tree_sequence.trees().next()\n",
    "t.draw()\n",
    "SVG(t.draw(height=500, width=500))"
   ]
  },
  {
   "cell_type": "markdown",
   "metadata": {},
   "source": [
    "# msprime testing"
   ]
  },
  {
   "cell_type": "code",
   "execution_count": 6,
   "metadata": {},
   "outputs": [],
   "source": [
    "%matplotlib inline\n",
    "%config InlineBackend.figure_format = 'svg'\n",
    "import msprime\n",
    "import numpy as np\n",
    "import scipy\n",
    "import multiprocessing\n",
    "import matplotlib.pyplot as plt\n",
    "\n",
    "from IPython.display import SVG"
   ]
  },
  {
   "cell_type": "code",
   "execution_count": 10,
   "metadata": {},
   "outputs": [
    {
     "data": {
      "text/plain": [
       "(3.8821563949513407, 4.160382660586996)"
      ]
     },
     "execution_count": 10,
     "metadata": {},
     "output_type": "execute_result"
    }
   ],
   "source": [
    "N = 1000\n",
    "T_mrca = np.zeros(N)\n",
    "for j, ts in enumerate(msprime.simulate(100, num_replicates=N)):\n",
    "    tree = ts.first()\n",
    "    T_mrca[j] = tree.time(tree.root)\n",
    "np.mean(T_mrca), np.var(T_mrca)"
   ]
  },
  {
   "cell_type": "code",
   "execution_count": 3,
   "metadata": {},
   "outputs": [
    {
     "data": {
      "text/plain": [
       "(1.004957000860747, 2.0059037820645753, 19.690823420361905, 202.37780291907373)"
      ]
     },
     "execution_count": 3,
     "metadata": {},
     "output_type": "execute_result"
    }
   ],
   "source": [
    "def pairwise_T_mrca(Ne):\n",
    "    N = 10000\n",
    "    T_mrca = np.zeros(N)\n",
    "    for j, ts in enumerate(msprime.simulate(2, Ne=Ne, num_replicates=N)):\n",
    "        tree = ts.first()\n",
    "        T_mrca[j] = tree.time(tree.root)\n",
    "    return np.mean(T_mrca)\n",
    "\n",
    "pairwise_T_mrca(0.5), pairwise_T_mrca(1), pairwise_T_mrca(10), pairwise_T_mrca(100)"
   ]
  },
  {
   "cell_type": "code",
   "execution_count": 914,
   "metadata": {},
   "outputs": [
    {
     "data": {
      "text/plain": [
       "(2.8496233683482766, 3.14757628439682, 3.608938710612632)"
      ]
     },
     "execution_count": 914,
     "metadata": {},
     "output_type": "execute_result"
    }
   ],
   "source": [
    "## We can show that as the sample size k → ∞, Var(TMRCA)\n",
    "## converges to 4π^2/3 − 12 ≈ 1.16 (in coalescent units).\n",
    "\n",
    "## The rate of genetic drift per time unit in the Moran model is equal to 2/N^2,\n",
    "## therefore we can scale to WF by considering generation time as N time steps.\n",
    "def pairwise_T_mrca(growth_rate):\n",
    "    N = 10000\n",
    "    T_mrca = np.zeros(N)    \n",
    "    replicates = msprime.simulate(\n",
    "        population_configurations=[\n",
    "             msprime.PopulationConfiguration(\n",
    "                sample_size=5, initial_size=1, growth_rate=growth_rate)], \n",
    "        num_replicates=N, random_seed=100)\n",
    "    for j, ts in enumerate(replicates):\n",
    "        tree = ts.first()\n",
    "        T_mrca[j] = tree.time(tree.root)\n",
    "    return np.mean(T_mrca)\n",
    "\n",
    "pairwise_T_mrca(.05), pairwise_T_mrca(0), pairwise_T_mrca(-0.05)"
   ]
  },
  {
   "cell_type": "code",
   "execution_count": 11,
   "metadata": {},
   "outputs": [
    {
     "data": {
      "image/svg+xml": [
       "<svg baseProfile=\"full\" height=\"200\" version=\"1.1\" width=\"200\" xmlns=\"http://www.w3.org/2000/svg\" xmlns:ev=\"http://www.w3.org/2001/xml-events\" xmlns:xlink=\"http://www.w3.org/1999/xlink\"><defs/><g id=\"lines\" stroke=\"black\"><line x1=\"40.0\" x2=\"40.0\" y1=\"180.0\" y2=\"20.0\"/><line x1=\"40.0\" x2=\"70.0\" y1=\"20.0\" y2=\"20.0\"/><line x1=\"100.0\" x2=\"100.0\" y1=\"179.271481354\" y2=\"20.0\"/><line x1=\"100.0\" x2=\"70.0\" y1=\"20.0\" y2=\"20.0\"/><line x1=\"80.0\" x2=\"80.0\" y1=\"180.0\" y2=\"179.271481354\"/><line x1=\"80.0\" x2=\"100.0\" y1=\"179.271481354\" y2=\"179.271481354\"/><line x1=\"120.0\" x2=\"120.0\" y1=\"180.0\" y2=\"179.271481354\"/><line x1=\"120.0\" x2=\"100.0\" y1=\"179.271481354\" y2=\"179.271481354\"/></g><g font-size=\"14\" text-anchor=\"start\"><text x=\"105.0\" y=\"174.271481354\">3</text></g><g font-size=\"14\" text-anchor=\"end\"/><g font-size=\"14\" text-anchor=\"middle\"><text x=\"70.0\" y=\"15.0\">4</text><text x=\"40.0\" y=\"200.0\">1</text><text x=\"80.0\" y=\"200.0\">0</text><text x=\"120.0\" y=\"200.0\">2</text></g><circle cx=\"70.0\" cy=\"20.0\" fill=\"black\" r=\"3\"/><circle cx=\"40.0\" cy=\"180.0\" fill=\"black\" r=\"3\"/><circle cx=\"100.0\" cy=\"179.271481354\" fill=\"black\" r=\"3\"/><circle cx=\"80.0\" cy=\"180.0\" fill=\"black\" r=\"3\"/><circle cx=\"120.0\" cy=\"180.0\" fill=\"black\" r=\"3\"/><g alignment-baseline=\"middle\" font-size=\"14\" font-style=\"italic\" text-anchor=\"start\"><text x=\"105.0\" y=\"130.680987569\">3</text><text x=\"105.0\" y=\"77.5904937845\">6</text></g><g alignment-baseline=\"middle\" font-size=\"14\" font-style=\"italic\" text-anchor=\"end\"><text x=\"35.0\" y=\"161.642857143\">0</text><text x=\"35.0\" y=\"138.785714286\">1</text><text x=\"35.0\" y=\"115.928571429\">2</text><text x=\"35.0\" y=\"93.0714285714\">4</text><text x=\"35.0\" y=\"70.2142857143\">5</text><text x=\"35.0\" y=\"47.3571428571\">7</text></g><rect fill=\"red\" height=\"6\" width=\"6\" x=\"37.0\" y=\"154.142857143\"/><rect fill=\"red\" height=\"6\" width=\"6\" x=\"37.0\" y=\"131.285714286\"/><rect fill=\"red\" height=\"6\" width=\"6\" x=\"37.0\" y=\"108.428571429\"/><rect fill=\"red\" height=\"6\" width=\"6\" x=\"37.0\" y=\"85.5714285714\"/><rect fill=\"red\" height=\"6\" width=\"6\" x=\"37.0\" y=\"62.7142857143\"/><rect fill=\"red\" height=\"6\" width=\"6\" x=\"37.0\" y=\"39.8571428571\"/><rect fill=\"red\" height=\"6\" width=\"6\" x=\"97.0\" y=\"123.180987569\"/><rect fill=\"red\" height=\"6\" width=\"6\" x=\"97.0\" y=\"70.0904937845\"/></svg>"
      ],
      "text/plain": [
       "<IPython.core.display.SVG object>"
      ]
     },
     "execution_count": 11,
     "metadata": {},
     "output_type": "execute_result"
    }
   ],
   "source": [
    "ts = msprime.simulate(3, Ne=1, mutation_rate=1)\n",
    "tree = ts.first()\n",
    "SVG(tree.draw())"
   ]
  },
  {
   "cell_type": "code",
   "execution_count": 41,
   "metadata": {},
   "outputs": [
    {
     "data": {
      "text/plain": [
       "13.657"
      ]
     },
     "execution_count": 41,
     "metadata": {},
     "output_type": "execute_result"
    }
   ],
   "source": [
    "N = 1000\n",
    "theta = 5\n",
    "S = np.zeros(N)\n",
    "replicates = msprime.simulate(10, Ne=.5, mutation_rate=theta/2., num_replicates=N)\n",
    "for j, ts in enumerate(replicates):\n",
    "    S[j] = ts.num_sites  # Number of segregrating sites.\n",
    "np.mean(S)"
   ]
  },
  {
   "cell_type": "code",
   "execution_count": 38,
   "metadata": {},
   "outputs": [
    {
     "ename": "KeyError",
     "evalue": "'t776'",
     "output_type": "error",
     "traceback": [
      "\u001b[0;31m---------------------------------------------------------------------------\u001b[0m",
      "\u001b[0;31mKeyError\u001b[0m                                  Traceback (most recent call last)",
      "\u001b[0;32m<ipython-input-38-03a3ab0f4c6b>\u001b[0m in \u001b[0;36m<module>\u001b[0;34m()\u001b[0m\n\u001b[1;32m     76\u001b[0m     \u001b[0;32mreturn\u001b[0m \u001b[0mtree_sequence\u001b[0m\u001b[0;34m\u001b[0m\u001b[0m\n\u001b[1;32m     77\u001b[0m \u001b[0;34m\u001b[0m\u001b[0m\n\u001b[0;32m---> 78\u001b[0;31m \u001b[0mdf1\u001b[0m \u001b[0;34m=\u001b[0m \u001b[0misl1\u001b[0m\u001b[0;34m.\u001b[0m\u001b[0mlocal_info\u001b[0m\u001b[0;34m[\u001b[0m\u001b[0mclades\u001b[0m\u001b[0;34m[\u001b[0m\u001b[0;34m\"t776\"\u001b[0m\u001b[0;34m]\u001b[0m\u001b[0;34m]\u001b[0m\u001b[0;34m\u001b[0m\u001b[0m\n\u001b[0m\u001b[1;32m     79\u001b[0m \u001b[0mdf2\u001b[0m \u001b[0;34m=\u001b[0m \u001b[0misl1\u001b[0m\u001b[0;34m.\u001b[0m\u001b[0mlocal_info\u001b[0m\u001b[0;34m[\u001b[0m\u001b[0mclades\u001b[0m\u001b[0;34m[\u001b[0m\u001b[0;34m\"t130\"\u001b[0m\u001b[0;34m]\u001b[0m\u001b[0;34m]\u001b[0m\u001b[0;34m\u001b[0m\u001b[0m\n\u001b[1;32m     80\u001b[0m \u001b[0mdf3\u001b[0m \u001b[0;34m=\u001b[0m \u001b[0misl1\u001b[0m\u001b[0;34m.\u001b[0m\u001b[0mlocal_info\u001b[0m\u001b[0;34m[\u001b[0m\u001b[0mclades\u001b[0m\u001b[0;34m[\u001b[0m\u001b[0;34m\"t177\"\u001b[0m\u001b[0;34m]\u001b[0m\u001b[0;34m]\u001b[0m\u001b[0;34m\u001b[0m\u001b[0m\n",
      "\u001b[0;31mKeyError\u001b[0m: 't776'"
     ]
    }
   ],
   "source": [
    "def sim_cl(forward_info):\n",
    "    ## Build the nasty msprime command for species all related\n",
    "    ## by local speciation. Run the msprime, and gather summary\n",
    "    ## statistics\n",
    "\n",
    "    ## Get species objects for each species in this clade\n",
    "    clade_species = [species.from_df(pd.DataFrame(forward_info[x])) for x in forward_info]\n",
    "    print(\"Got clade_species:\\n{}\".format(clade_species))\n",
    "\n",
    "    ## Get msprime PopulationConfigurations per species\n",
    "    ## Not sure why this has to be a dict...\n",
    "    local_configs = [x._get_local_configuration() for x in clade_species]\n",
    "    for idx, x in enumerate(local_configs):\n",
    "        local_configs[idx].sample_size = 5\n",
    "    print(\"Got local_configs:\\n{}\".format(local_configs))\n",
    "\n",
    "    ## Get msprime Population Configuration for the metacommunity\n",
    "    meta_config = clade_species[0]._get_meta_configuration()\n",
    "    meta_config.initial_size = 1000\n",
    "    meta_config.sample_size = 5\n",
    "\n",
    "    ## We need the founder index because we're going to throw all\n",
    "    ## lineages back into this pop prior to the mass migration back\n",
    "    ## to the metacommunity\n",
    "    configs = local_configs\n",
    "    print(configs)\n",
    "    configs = configs[::-1]\n",
    "    founder_idx = len(configs) - 1\n",
    "    configs.append(meta_config)\n",
    "    meta_idx = len(configs) -1\n",
    "\n",
    "    ## Get all size change events for all species\n",
    "    size_changes = []\n",
    "    for idx, spec in enumerate(clade_species):\n",
    "        change_events = spec._get_size_changes_through_time(pop_id = idx)\n",
    "        size_changes.extend(change_events)\n",
    "    #print(\"Filled size_changes:\\n{}\".format(size_changes))\n",
    "    \n",
    "    ## Events must be sorted from most recent to most ancient\n",
    "    size_changes = sorted(size_changes, key=lambda x: x.time)\n",
    "    divtime = size_changes[-1].time\n",
    "\n",
    "    ## Blank the size_changes for now\n",
    "    size_changes = []\n",
    "    ## Throw all lineages back into the initial founder lineage\n",
    "    ## If there are more than two lineages (local founder and \n",
    "    ## metacommunity) then we need to collapse all lineages back\n",
    "    ## into the founder before we throw them back to the metacommunity\n",
    "    divergence_events = []\n",
    "    if len(configs) > 2:\n",
    "        for idx in range(len(configs[:-2])):\n",
    "            split_event = msprime.MassMigration(time = divtime - 1,\\\n",
    "                                                source = idx,\\\n",
    "                                                destination = founder_idx,\\\n",
    "                                                proportion = 1)\n",
    "            divergence_events.append(split_event)\n",
    "\n",
    "    ## Get the mass migration\n",
    "    local_meta_split = clade_species[::-1][-1]._get_local_meta_split(founder_idx = founder_idx,\\\n",
    "                                                               meta_idx = meta_idx)\n",
    "    size_changes.extend(divergence_events)\n",
    "    size_changes.extend(local_meta_split)\n",
    "    #print(size_changes)\n",
    "    print(\"\\n\".join([\"{}\".format([x]) for x in size_changes]))\n",
    "    \n",
    "    ##TODO: Figure out the migration matrix\n",
    "    try:\n",
    "        debug = msprime.DemographyDebugger(population_configurations = configs,\\\n",
    "                                           #migration_matrix = migmat,\\\n",
    "                                           demographic_events = size_changes)\n",
    "    except Exception as inst:\n",
    "        print(inst)\n",
    "        raise\n",
    "    debug.print_history()\n",
    "    tree_sequence = msprime.simulate(length = clade_species[0].paramsdict[\"sequence_length\"],\\\n",
    "#                                     Ne = clade_species[0].stats[\"Ne_local\"],\\\n",
    "                                     Ne = 1,\\\n",
    "#                                     mutation_rate = clade_species[0].paramsdict[\"mutation_rate\"],\\\n",
    "                                     mutation_rate = 0.0000001,\\\n",
    "                                     population_configurations = configs,\\\n",
    "                                     demographic_events = size_changes)\n",
    "    return tree_sequence\n",
    "\n",
    "df1 = isl1.local_info[clades[\"t776\"]]\n",
    "df2 = isl1.local_info[clades[\"t130\"]]\n",
    "df3 = isl1.local_info[clades[\"t177\"]]\n",
    "\n",
    "wat = [{isl1.current_time - x:y*1000 for x, y in isl1.local_info[z][\"abundances_through_time\"].items()} for z in df.columns]\n",
    "print(wat)\n",
    "df.loc[\"abundances_through_time\"] = wat\n",
    "tree_sequence1 = sim_cl(df1)\n",
    "#tree_sequence2 = sim_cl(df2)\n",
    "#tree_sequence3 = sim_cl(df3)"
   ]
  },
  {
   "cell_type": "code",
   "execution_count": 490,
   "metadata": {},
   "outputs": [
    {
     "name": "stdout",
     "output_type": "stream",
     "text": [
      "71169.1306892\n"
     ]
    },
    {
     "data": {
      "image/svg+xml": [
       "<svg baseProfile=\"full\" height=\"500\" version=\"1.1\" width=\"1000\" xmlns=\"http://www.w3.org/2000/svg\" xmlns:ev=\"http://www.w3.org/2001/xml-events\" xmlns:xlink=\"http://www.w3.org/1999/xlink\"><defs/><g id=\"lines\" stroke=\"black\"><line x1=\"88.0681818182\" x2=\"88.0681818182\" y1=\"478.45061218\" y2=\"20.0\"/><line x1=\"88.0681818182\" x2=\"294.389204545\" y1=\"20.0\" y2=\"20.0\"/><line x1=\"45.4545454545\" x2=\"45.4545454545\" y1=\"480.0\" y2=\"478.45061218\"/><line x1=\"45.4545454545\" x2=\"88.0681818182\" y1=\"478.45061218\" y2=\"478.45061218\"/><line x1=\"130.681818182\" x2=\"130.681818182\" y1=\"479.404341023\" y2=\"478.45061218\"/><line x1=\"130.681818182\" x2=\"88.0681818182\" y1=\"478.45061218\" y2=\"478.45061218\"/><line x1=\"90.9090909091\" x2=\"90.9090909091\" y1=\"480.0\" y2=\"479.404341023\"/><line x1=\"90.9090909091\" x2=\"130.681818182\" y1=\"479.404341023\" y2=\"479.404341023\"/><line x1=\"170.454545455\" x2=\"170.454545455\" y1=\"479.463704403\" y2=\"479.404341023\"/><line x1=\"170.454545455\" x2=\"130.681818182\" y1=\"479.404341023\" y2=\"479.404341023\"/><line x1=\"136.363636364\" x2=\"136.363636364\" y1=\"480.0\" y2=\"479.463704403\"/><line x1=\"136.363636364\" x2=\"170.454545455\" y1=\"479.463704403\" y2=\"479.463704403\"/><line x1=\"204.545454545\" x2=\"204.545454545\" y1=\"479.885525757\" y2=\"479.463704403\"/><line x1=\"204.545454545\" x2=\"170.454545455\" y1=\"479.463704403\" y2=\"479.463704403\"/><line x1=\"181.818181818\" x2=\"181.818181818\" y1=\"480.0\" y2=\"479.885525757\"/><line x1=\"181.818181818\" x2=\"204.545454545\" y1=\"479.885525757\" y2=\"479.885525757\"/><line x1=\"227.272727273\" x2=\"227.272727273\" y1=\"480.0\" y2=\"479.885525757\"/><line x1=\"227.272727273\" x2=\"204.545454545\" y1=\"479.885525757\" y2=\"479.885525757\"/><line x1=\"500.710227273\" x2=\"500.710227273\" y1=\"21.8460046333\" y2=\"20.0\"/><line x1=\"500.710227273\" x2=\"294.389204545\" y1=\"20.0\" y2=\"20.0\"/><line x1=\"329.545454545\" x2=\"329.545454545\" y1=\"469.934316475\" y2=\"21.8460046333\"/><line x1=\"329.545454545\" x2=\"500.710227273\" y1=\"21.8460046333\" y2=\"21.8460046333\"/><line x1=\"272.727272727\" x2=\"272.727272727\" y1=\"480.0\" y2=\"469.934316475\"/><line x1=\"272.727272727\" x2=\"329.545454545\" y1=\"469.934316475\" y2=\"469.934316475\"/><line x1=\"386.363636364\" x2=\"386.363636364\" y1=\"471.338383035\" y2=\"469.934316475\"/><line x1=\"386.363636364\" x2=\"329.545454545\" y1=\"469.934316475\" y2=\"469.934316475\"/><line x1=\"340.909090909\" x2=\"340.909090909\" y1=\"476.784398394\" y2=\"471.338383035\"/><line x1=\"340.909090909\" x2=\"386.363636364\" y1=\"471.338383035\" y2=\"471.338383035\"/><line x1=\"318.181818182\" x2=\"318.181818182\" y1=\"480.0\" y2=\"476.784398394\"/><line x1=\"318.181818182\" x2=\"340.909090909\" y1=\"476.784398394\" y2=\"476.784398394\"/><line x1=\"363.636363636\" x2=\"363.636363636\" y1=\"480.0\" y2=\"476.784398394\"/><line x1=\"363.636363636\" x2=\"340.909090909\" y1=\"476.784398394\" y2=\"476.784398394\"/><line x1=\"431.818181818\" x2=\"431.818181818\" y1=\"474.336784875\" y2=\"471.338383035\"/><line x1=\"431.818181818\" x2=\"386.363636364\" y1=\"471.338383035\" y2=\"471.338383035\"/><line x1=\"409.090909091\" x2=\"409.090909091\" y1=\"480.0\" y2=\"474.336784875\"/><line x1=\"409.090909091\" x2=\"431.818181818\" y1=\"474.336784875\" y2=\"474.336784875\"/><line x1=\"454.545454545\" x2=\"454.545454545\" y1=\"480.0\" y2=\"474.336784875\"/><line x1=\"454.545454545\" x2=\"431.818181818\" y1=\"474.336784875\" y2=\"474.336784875\"/><line x1=\"671.875\" x2=\"671.875\" y1=\"29.4391022279\" y2=\"21.8460046333\"/><line x1=\"671.875\" x2=\"500.710227273\" y1=\"21.8460046333\" y2=\"21.8460046333\"/><line x1=\"542.613636364\" x2=\"542.613636364\" y1=\"478.712216602\" y2=\"29.4391022279\"/><line x1=\"542.613636364\" x2=\"671.875\" y1=\"29.4391022279\" y2=\"29.4391022279\"/><line x1=\"500.0\" x2=\"500.0\" y1=\"480.0\" y2=\"478.712216602\"/><line x1=\"500.0\" x2=\"542.613636364\" y1=\"478.712216602\" y2=\"478.712216602\"/><line x1=\"585.227272727\" x2=\"585.227272727\" y1=\"479.353243412\" y2=\"478.712216602\"/><line x1=\"585.227272727\" x2=\"542.613636364\" y1=\"478.712216602\" y2=\"478.712216602\"/><line x1=\"545.454545455\" x2=\"545.454545455\" y1=\"480.0\" y2=\"479.353243412\"/><line x1=\"545.454545455\" x2=\"585.227272727\" y1=\"479.353243412\" y2=\"479.353243412\"/><line x1=\"625.0\" x2=\"625.0\" y1=\"479.523686416\" y2=\"479.353243412\"/><line x1=\"625.0\" x2=\"585.227272727\" y1=\"479.353243412\" y2=\"479.353243412\"/><line x1=\"590.909090909\" x2=\"590.909090909\" y1=\"480.0\" y2=\"479.523686416\"/><line x1=\"590.909090909\" x2=\"625.0\" y1=\"479.523686416\" y2=\"479.523686416\"/><line x1=\"659.090909091\" x2=\"659.090909091\" y1=\"479.582752222\" y2=\"479.523686416\"/><line x1=\"659.090909091\" x2=\"625.0\" y1=\"479.523686416\" y2=\"479.523686416\"/><line x1=\"636.363636364\" x2=\"636.363636364\" y1=\"480.0\" y2=\"479.582752222\"/><line x1=\"636.363636364\" x2=\"659.090909091\" y1=\"479.582752222\" y2=\"479.582752222\"/><line x1=\"681.818181818\" x2=\"681.818181818\" y1=\"480.0\" y2=\"479.582752222\"/><line x1=\"681.818181818\" x2=\"659.090909091\" y1=\"479.582752222\" y2=\"479.582752222\"/><line x1=\"801.136363636\" x2=\"801.136363636\" y1=\"401.338610456\" y2=\"29.4391022279\"/><line x1=\"801.136363636\" x2=\"671.875\" y1=\"29.4391022279\" y2=\"29.4391022279\"/><line x1=\"750.0\" x2=\"750.0\" y1=\"477.073001375\" y2=\"401.338610456\"/><line x1=\"750.0\" x2=\"801.136363636\" y1=\"401.338610456\" y2=\"401.338610456\"/><line x1=\"727.272727273\" x2=\"727.272727273\" y1=\"480.0\" y2=\"477.073001375\"/><line x1=\"727.272727273\" x2=\"750.0\" y1=\"477.073001375\" y2=\"477.073001375\"/><line x1=\"772.727272727\" x2=\"772.727272727\" y1=\"480.0\" y2=\"477.073001375\"/><line x1=\"772.727272727\" x2=\"750.0\" y1=\"477.073001375\" y2=\"477.073001375\"/><line x1=\"852.272727273\" x2=\"852.272727273\" y1=\"455.885191252\" y2=\"401.338610456\"/><line x1=\"852.272727273\" x2=\"801.136363636\" y1=\"401.338610456\" y2=\"401.338610456\"/><line x1=\"818.181818182\" x2=\"818.181818182\" y1=\"480.0\" y2=\"455.885191252\"/><line x1=\"818.181818182\" x2=\"852.272727273\" y1=\"455.885191252\" y2=\"455.885191252\"/><line x1=\"886.363636364\" x2=\"886.363636364\" y1=\"477.811921891\" y2=\"455.885191252\"/><line x1=\"886.363636364\" x2=\"852.272727273\" y1=\"455.885191252\" y2=\"455.885191252\"/><line x1=\"863.636363636\" x2=\"863.636363636\" y1=\"480.0\" y2=\"477.811921891\"/><line x1=\"863.636363636\" x2=\"886.363636364\" y1=\"477.811921891\" y2=\"477.811921891\"/><line x1=\"909.090909091\" x2=\"909.090909091\" y1=\"480.0\" y2=\"477.811921891\"/><line x1=\"909.090909091\" x2=\"886.363636364\" y1=\"477.811921891\" y2=\"477.811921891\"/></g><g font-size=\"14\" text-anchor=\"start\"><text x=\"135.681818182\" y=\"474.404341023\">24 (t=92.16)</text><text x=\"175.454545455\" y=\"474.463704403\">23 (t=82.97)</text><text x=\"209.545454545\" y=\"474.885525757\">20 (t=17.71)</text><text x=\"505.710227273\" y=\"16.8460046333\">37 (t=70883.53)</text><text x=\"391.363636364\" y=\"466.338383035\">32 (t=1340.09)</text><text x=\"436.818181818\" y=\"469.336784875\">31 (t=876.19)</text><text x=\"676.875\" y=\"24.4391022279\">36 (t=69708.76)</text><text x=\"590.227272727\" y=\"474.353243412\">25 (t=100.06)</text><text x=\"630.0\" y=\"474.523686416\">22 (t=73.69)</text><text x=\"664.090909091\" y=\"474.582752222\">21 (t=64.55)</text><text x=\"806.136363636\" y=\"396.338610456\">35 (t=12170.14)</text><text x=\"857.272727273\" y=\"450.885191252\">34 (t=3730.93)</text><text x=\"891.363636364\" y=\"472.811921891\">28 (t=338.53)</text></g><g font-size=\"14\" text-anchor=\"end\"><text x=\"83.0681818182\" y=\"473.45061218\">27 (t=239.71)</text><text x=\"324.545454545\" y=\"464.934316475\">33 (t=1557.32)</text><text x=\"335.909090909\" y=\"471.784398394\">30 (t=497.50)</text><text x=\"537.613636364\" y=\"473.712216602\">26 (t=199.24)</text><text x=\"745.0\" y=\"472.073001375\">29 (t=452.85)</text></g><g font-size=\"14\" text-anchor=\"middle\"><text x=\"294.389204545\" y=\"15.0\">38 (t=71169.13)</text><text x=\"45.4545454545\" y=\"500.0\">1</text><text x=\"90.9090909091\" y=\"500.0\">0</text><text x=\"136.363636364\" y=\"500.0\">2</text><text x=\"181.818181818\" y=\"500.0\">3</text><text x=\"227.272727273\" y=\"500.0\">4</text><text x=\"272.727272727\" y=\"500.0\">16 (t=0.00)</text><text x=\"318.181818182\" y=\"500.0\">15 (t=0.00)</text><text x=\"363.636363636\" y=\"500.0\">19 (t=0.00)</text><text x=\"409.090909091\" y=\"500.0\">17 (t=0.00)</text><text x=\"454.545454545\" y=\"500.0\">18 (t=0.00)</text><text x=\"500.0\" y=\"500.0\">7</text><text x=\"545.454545455\" y=\"500.0\">8 (t=0.00)</text><text x=\"590.909090909\" y=\"500.0\">9 (t=0.00)</text><text x=\"636.363636364\" y=\"500.0\">5</text><text x=\"681.818181818\" y=\"500.0\">6</text><text x=\"727.272727273\" y=\"500.0\">10 (t=0.00)</text><text x=\"772.727272727\" y=\"500.0\">13 (t=0.00)</text><text x=\"818.181818182\" y=\"500.0\">14 (t=0.00)</text><text x=\"863.636363636\" y=\"500.0\">11 (t=0.00)</text><text x=\"909.090909091\" y=\"500.0\">12 (t=0.00)</text></g><circle cx=\"294.389204545\" cy=\"20.0\" fill=\"yellow\" r=\"3\"/><circle cx=\"88.0681818182\" cy=\"478.45061218\" fill=\"red\" r=\"3\"/><circle cx=\"45.4545454545\" cy=\"480.0\" fill=\"red\" r=\"3\"/><circle cx=\"130.681818182\" cy=\"479.404341023\" fill=\"red\" r=\"3\"/><circle cx=\"90.9090909091\" cy=\"480.0\" fill=\"red\" r=\"3\"/><circle cx=\"170.454545455\" cy=\"479.463704403\" fill=\"red\" r=\"3\"/><circle cx=\"136.363636364\" cy=\"480.0\" fill=\"red\" r=\"3\"/><circle cx=\"204.545454545\" cy=\"479.885525757\" fill=\"red\" r=\"3\"/><circle cx=\"181.818181818\" cy=\"480.0\" fill=\"red\" r=\"3\"/><circle cx=\"227.272727273\" cy=\"480.0\" fill=\"red\" r=\"3\"/><circle cx=\"500.710227273\" cy=\"21.8460046333\" fill=\"yellow\" r=\"3\"/><circle cx=\"329.545454545\" cy=\"469.934316475\" fill=\"yellow\" r=\"3\"/><circle cx=\"272.727272727\" cy=\"480.0\" fill=\"yellow\" r=\"3\"/><circle cx=\"386.363636364\" cy=\"471.338383035\" fill=\"yellow\" r=\"3\"/><circle cx=\"340.909090909\" cy=\"476.784398394\" fill=\"yellow\" r=\"3\"/><circle cx=\"318.181818182\" cy=\"480.0\" fill=\"yellow\" r=\"3\"/><circle cx=\"363.636363636\" cy=\"480.0\" fill=\"yellow\" r=\"3\"/><circle cx=\"431.818181818\" cy=\"474.336784875\" fill=\"yellow\" r=\"3\"/><circle cx=\"409.090909091\" cy=\"480.0\" fill=\"yellow\" r=\"3\"/><circle cx=\"454.545454545\" cy=\"480.0\" fill=\"yellow\" r=\"3\"/><circle cx=\"671.875\" cy=\"29.4391022279\" fill=\"green\" r=\"3\"/><circle cx=\"542.613636364\" cy=\"478.712216602\" fill=\"blue\" r=\"3\"/><circle cx=\"500.0\" cy=\"480.0\" fill=\"blue\" r=\"3\"/><circle cx=\"585.227272727\" cy=\"479.353243412\" fill=\"blue\" r=\"3\"/><circle cx=\"545.454545455\" cy=\"480.0\" fill=\"blue\" r=\"3\"/><circle cx=\"625.0\" cy=\"479.523686416\" fill=\"blue\" r=\"3\"/><circle cx=\"590.909090909\" cy=\"480.0\" fill=\"blue\" r=\"3\"/><circle cx=\"659.090909091\" cy=\"479.582752222\" fill=\"blue\" r=\"3\"/><circle cx=\"636.363636364\" cy=\"480.0\" fill=\"blue\" r=\"3\"/><circle cx=\"681.818181818\" cy=\"480.0\" fill=\"blue\" r=\"3\"/><circle cx=\"801.136363636\" cy=\"401.338610456\" fill=\"green\" r=\"3\"/><circle cx=\"750.0\" cy=\"477.073001375\" fill=\"green\" r=\"3\"/><circle cx=\"727.272727273\" cy=\"480.0\" fill=\"green\" r=\"3\"/><circle cx=\"772.727272727\" cy=\"480.0\" fill=\"green\" r=\"3\"/><circle cx=\"852.272727273\" cy=\"455.885191252\" fill=\"green\" r=\"3\"/><circle cx=\"818.181818182\" cy=\"480.0\" fill=\"green\" r=\"3\"/><circle cx=\"886.363636364\" cy=\"477.811921891\" fill=\"green\" r=\"3\"/><circle cx=\"863.636363636\" cy=\"480.0\" fill=\"green\" r=\"3\"/><circle cx=\"909.090909091\" cy=\"480.0\" fill=\"green\" r=\"3\"/><g alignment-baseline=\"middle\" font-size=\"14\" font-style=\"italic\" text-anchor=\"start\"><text x=\"806.136363636\" y=\"312.863733399\">1</text><text x=\"806.136363636\" y=\"219.888856342\">15</text><text x=\"806.136363636\" y=\"126.913979285\">16</text></g><g alignment-baseline=\"middle\" font-size=\"14\" font-style=\"italic\" text-anchor=\"end\"><text x=\"858.636363636\" y=\"483.405960946\">6</text><text x=\"537.613636364\" y=\"427.053077305\">2</text><text x=\"537.613636364\" y=\"370.893938008\">4</text><text x=\"537.613636364\" y=\"314.734798712\">9</text><text x=\"537.613636364\" y=\"258.575659415\">12</text><text x=\"537.613636364\" y=\"202.416520118\">17</text><text x=\"537.613636364\" y=\"146.257380821\">18</text><text x=\"537.613636364\" y=\"90.0982415246\">20</text><text x=\"83.0681818182\" y=\"406.542176816\">0</text><text x=\"83.0681818182\" y=\"330.133741453\">3</text><text x=\"83.0681818182\" y=\"253.72530609\">5</text><text x=\"83.0681818182\" y=\"177.316870727\">8</text><text x=\"83.0681818182\" y=\"100.908435363\">21</text><text x=\"324.545454545\" y=\"424.64672627\">7</text><text x=\"324.545454545\" y=\"374.859136065\">10</text><text x=\"324.545454545\" y=\"325.071545861\">11</text><text x=\"324.545454545\" y=\"275.283955656\">13</text><text x=\"324.545454545\" y=\"225.496365452\">14</text><text x=\"324.545454545\" y=\"175.708775247\">19</text><text x=\"324.545454545\" y=\"125.921185042\">22</text><text x=\"324.545454545\" y=\"76.1335948379\">23</text></g><rect fill=\"red\" height=\"6\" width=\"6\" x=\"860.636363636\" y=\"475.905960946\"/><rect fill=\"red\" height=\"6\" width=\"6\" x=\"798.136363636\" y=\"305.363733399\"/><rect fill=\"red\" height=\"6\" width=\"6\" x=\"798.136363636\" y=\"212.388856342\"/><rect fill=\"red\" height=\"6\" width=\"6\" x=\"798.136363636\" y=\"119.413979285\"/><rect fill=\"red\" height=\"6\" width=\"6\" x=\"539.613636364\" y=\"419.553077305\"/><rect fill=\"red\" height=\"6\" width=\"6\" x=\"539.613636364\" y=\"363.393938008\"/><rect fill=\"red\" height=\"6\" width=\"6\" x=\"539.613636364\" y=\"307.234798712\"/><rect fill=\"red\" height=\"6\" width=\"6\" x=\"539.613636364\" y=\"251.075659415\"/><rect fill=\"red\" height=\"6\" width=\"6\" x=\"539.613636364\" y=\"194.916520118\"/><rect fill=\"red\" height=\"6\" width=\"6\" x=\"539.613636364\" y=\"138.757380821\"/><rect fill=\"red\" height=\"6\" width=\"6\" x=\"539.613636364\" y=\"82.5982415246\"/><rect fill=\"red\" height=\"6\" width=\"6\" x=\"85.0681818182\" y=\"399.042176816\"/><rect fill=\"red\" height=\"6\" width=\"6\" x=\"85.0681818182\" y=\"322.633741453\"/><rect fill=\"red\" height=\"6\" width=\"6\" x=\"85.0681818182\" y=\"246.22530609\"/><rect fill=\"red\" height=\"6\" width=\"6\" x=\"85.0681818182\" y=\"169.816870727\"/><rect fill=\"red\" height=\"6\" width=\"6\" x=\"85.0681818182\" y=\"93.4084353633\"/><rect fill=\"red\" height=\"6\" width=\"6\" x=\"326.545454545\" y=\"417.14672627\"/><rect fill=\"red\" height=\"6\" width=\"6\" x=\"326.545454545\" y=\"367.359136065\"/><rect fill=\"red\" height=\"6\" width=\"6\" x=\"326.545454545\" y=\"317.571545861\"/><rect fill=\"red\" height=\"6\" width=\"6\" x=\"326.545454545\" y=\"267.783955656\"/><rect fill=\"red\" height=\"6\" width=\"6\" x=\"326.545454545\" y=\"217.996365452\"/><rect fill=\"red\" height=\"6\" width=\"6\" x=\"326.545454545\" y=\"168.208775247\"/><rect fill=\"red\" height=\"6\" width=\"6\" x=\"326.545454545\" y=\"118.421185042\"/><rect fill=\"red\" height=\"6\" width=\"6\" x=\"326.545454545\" y=\"68.6335948379\"/></svg>"
      ],
      "text/plain": [
       "<IPython.core.display.SVG object>"
      ]
     },
     "execution_count": 490,
     "metadata": {},
     "output_type": "execute_result"
    }
   ],
   "source": [
    "from IPython.display import display_svg\n",
    "from IPython.display import SVG\n",
    "\n",
    "#tree_sequence = sim_cl(df)\n",
    "tree = tree_sequence3.trees().next()\n",
    "print(tree.time(tree.root))\n",
    "colour_map = {0:\"red\", 1:\"blue\", 2:\"green\", 3:\"yellow\"}\n",
    "node_colours = {u: colour_map[tree.population(u)] for u in tree.nodes()}\n",
    "node_labels = {\n",
    "    u: (str(u) if u < 8 else \"{} (t={:.2f})\".format(u, tree.time(u))) \n",
    "    for u in tree.nodes()}\n",
    "SVG(tree.draw(height=500, width=1000, node_labels=node_labels, node_colours=node_colours))"
   ]
  },
  {
   "cell_type": "markdown",
   "metadata": {},
   "source": [
    "# Trying to construct an unfucked genealogy"
   ]
  },
  {
   "cell_type": "code",
   "execution_count": 49,
   "metadata": {},
   "outputs": [
    {
     "data": {
      "image/svg+xml": [
       "<svg baseProfile=\"full\" height=\"500\" version=\"1.1\" width=\"1000\" xmlns=\"http://www.w3.org/2000/svg\" xmlns:ev=\"http://www.w3.org/2001/xml-events\" xmlns:xlink=\"http://www.w3.org/1999/xlink\"><defs/><g id=\"lines\" stroke=\"black\"><line x1=\"104.166666667\" x2=\"104.166666667\" y1=\"441.102259772\" y2=\"20.0\"/><line x1=\"104.166666667\" x2=\"298.611111111\" y1=\"20.0\" y2=\"20.0\"/><line x1=\"55.5555555556\" x2=\"55.5555555556\" y1=\"480.0\" y2=\"441.102259772\"/><line x1=\"55.5555555556\" x2=\"104.166666667\" y1=\"441.102259772\" y2=\"441.102259772\"/><line x1=\"152.777777778\" x2=\"152.777777778\" y1=\"468.069189678\" y2=\"441.102259772\"/><line x1=\"152.777777778\" x2=\"104.166666667\" y1=\"441.102259772\" y2=\"441.102259772\"/><line x1=\"111.111111111\" x2=\"111.111111111\" y1=\"480.0\" y2=\"468.069189678\"/><line x1=\"111.111111111\" x2=\"152.777777778\" y1=\"468.069189678\" y2=\"468.069189678\"/><line x1=\"194.444444444\" x2=\"194.444444444\" y1=\"475.885778889\" y2=\"468.069189678\"/><line x1=\"194.444444444\" x2=\"152.777777778\" y1=\"468.069189678\" y2=\"468.069189678\"/><line x1=\"166.666666667\" x2=\"166.666666667\" y1=\"480.0\" y2=\"475.885778889\"/><line x1=\"166.666666667\" x2=\"194.444444444\" y1=\"475.885778889\" y2=\"475.885778889\"/><line x1=\"222.222222222\" x2=\"222.222222222\" y1=\"480.0\" y2=\"475.885778889\"/><line x1=\"222.222222222\" x2=\"194.444444444\" y1=\"475.885778889\" y2=\"475.885778889\"/><line x1=\"493.055555556\" x2=\"493.055555556\" y1=\"238.178752225\" y2=\"20.0\"/><line x1=\"493.055555556\" x2=\"298.611111111\" y1=\"20.0\" y2=\"20.0\"/><line x1=\"326.388888889\" x2=\"326.388888889\" y1=\"452.775082895\" y2=\"238.178752225\"/><line x1=\"326.388888889\" x2=\"493.055555556\" y1=\"238.178752225\" y2=\"238.178752225\"/><line x1=\"277.777777778\" x2=\"277.777777778\" y1=\"480.0\" y2=\"452.775082895\"/><line x1=\"277.777777778\" x2=\"326.388888889\" y1=\"452.775082895\" y2=\"452.775082895\"/><line x1=\"375.0\" x2=\"375.0\" y1=\"453.199454319\" y2=\"452.775082895\"/><line x1=\"375.0\" x2=\"326.388888889\" y1=\"452.775082895\" y2=\"452.775082895\"/><line x1=\"333.333333333\" x2=\"333.333333333\" y1=\"480.0\" y2=\"453.199454319\"/><line x1=\"333.333333333\" x2=\"375.0\" y1=\"453.199454319\" y2=\"453.199454319\"/><line x1=\"416.666666667\" x2=\"416.666666667\" y1=\"453.239142012\" y2=\"453.199454319\"/><line x1=\"416.666666667\" x2=\"375.0\" y1=\"453.199454319\" y2=\"453.199454319\"/><line x1=\"388.888888889\" x2=\"388.888888889\" y1=\"480.0\" y2=\"453.239142012\"/><line x1=\"388.888888889\" x2=\"416.666666667\" y1=\"453.239142012\" y2=\"453.239142012\"/><line x1=\"444.444444444\" x2=\"444.444444444\" y1=\"480.0\" y2=\"453.239142012\"/><line x1=\"444.444444444\" x2=\"416.666666667\" y1=\"453.239142012\" y2=\"453.239142012\"/><line x1=\"659.722222222\" x2=\"659.722222222\" y1=\"341.632785007\" y2=\"238.178752225\"/><line x1=\"659.722222222\" x2=\"493.055555556\" y1=\"238.178752225\" y2=\"238.178752225\"/><line x1=\"548.611111111\" x2=\"548.611111111\" y1=\"376.891420047\" y2=\"341.632785007\"/><line x1=\"548.611111111\" x2=\"659.722222222\" y1=\"341.632785007\" y2=\"341.632785007\"/><line x1=\"500.0\" x2=\"500.0\" y1=\"480.0\" y2=\"376.891420047\"/><line x1=\"500.0\" x2=\"548.611111111\" y1=\"376.891420047\" y2=\"376.891420047\"/><line x1=\"597.222222222\" x2=\"597.222222222\" y1=\"381.527085662\" y2=\"376.891420047\"/><line x1=\"597.222222222\" x2=\"548.611111111\" y1=\"376.891420047\" y2=\"376.891420047\"/><line x1=\"555.555555556\" x2=\"555.555555556\" y1=\"480.0\" y2=\"381.527085662\"/><line x1=\"555.555555556\" x2=\"597.222222222\" y1=\"381.527085662\" y2=\"381.527085662\"/><line x1=\"638.888888889\" x2=\"638.888888889\" y1=\"454.246682734\" y2=\"381.527085662\"/><line x1=\"638.888888889\" x2=\"597.222222222\" y1=\"381.527085662\" y2=\"381.527085662\"/><line x1=\"611.111111111\" x2=\"611.111111111\" y1=\"480.0\" y2=\"454.246682734\"/><line x1=\"611.111111111\" x2=\"638.888888889\" y1=\"454.246682734\" y2=\"454.246682734\"/><line x1=\"666.666666667\" x2=\"666.666666667\" y1=\"480.0\" y2=\"454.246682734\"/><line x1=\"666.666666667\" x2=\"638.888888889\" y1=\"454.246682734\" y2=\"454.246682734\"/><line x1=\"770.833333333\" x2=\"770.833333333\" y1=\"362.641503972\" y2=\"341.632785007\"/><line x1=\"770.833333333\" x2=\"659.722222222\" y1=\"341.632785007\" y2=\"341.632785007\"/><line x1=\"722.222222222\" x2=\"722.222222222\" y1=\"480.0\" y2=\"362.641503972\"/><line x1=\"722.222222222\" x2=\"770.833333333\" y1=\"362.641503972\" y2=\"362.641503972\"/><line x1=\"819.444444444\" x2=\"819.444444444\" y1=\"440.244301998\" y2=\"362.641503972\"/><line x1=\"819.444444444\" x2=\"770.833333333\" y1=\"362.641503972\" y2=\"362.641503972\"/><line x1=\"777.777777778\" x2=\"777.777777778\" y1=\"480.0\" y2=\"440.244301998\"/><line x1=\"777.777777778\" x2=\"819.444444444\" y1=\"440.244301998\" y2=\"440.244301998\"/><line x1=\"861.111111111\" x2=\"861.111111111\" y1=\"478.560511455\" y2=\"440.244301998\"/><line x1=\"861.111111111\" x2=\"819.444444444\" y1=\"440.244301998\" y2=\"440.244301998\"/><line x1=\"833.333333333\" x2=\"833.333333333\" y1=\"480.0\" y2=\"478.560511455\"/><line x1=\"833.333333333\" x2=\"861.111111111\" y1=\"478.560511455\" y2=\"478.560511455\"/><line x1=\"888.888888889\" x2=\"888.888888889\" y1=\"480.0\" y2=\"478.560511455\"/><line x1=\"888.888888889\" x2=\"861.111111111\" y1=\"478.560511455\" y2=\"478.560511455\"/></g><g font-size=\"14\" text-anchor=\"start\"><text x=\"157.777777778\" y=\"463.069189678\">18 (t=0.45)</text><text x=\"199.444444444\" y=\"470.885778889\">17 (t=0.15)</text><text x=\"498.055555556\" y=\"233.178752225\">29 (t=9.04)</text><text x=\"380.0\" y=\"448.199454319\">21 (t=1.00)</text><text x=\"421.666666667\" y=\"448.239142012\">20 (t=1.00)</text><text x=\"664.722222222\" y=\"336.632785007\">28 (t=5.17)</text><text x=\"602.222222222\" y=\"376.527085662\">25 (t=3.68)</text><text x=\"643.888888889\" y=\"449.246682734\">19 (t=0.96)</text><text x=\"775.833333333\" y=\"357.641503972\">27 (t=4.39)</text><text x=\"824.444444444\" y=\"435.244301998\">24 (t=1.49)</text><text x=\"866.111111111\" y=\"473.560511455\">16 (t=0.05)</text></g><g font-size=\"14\" text-anchor=\"end\"><text x=\"99.1666666667\" y=\"436.102259772\">23 (t=1.45)</text><text x=\"321.388888889\" y=\"447.775082895\">22 (t=1.02)</text><text x=\"543.611111111\" y=\"371.891420047\">26 (t=3.85)</text></g><g font-size=\"14\" text-anchor=\"middle\"><text x=\"298.611111111\" y=\"15.0\">30 (t=17.19)</text><text x=\"55.5555555556\" y=\"500.0\">13 (t=0.00)</text><text x=\"111.111111111\" y=\"500.0\">12 (t=0.00)</text><text x=\"166.666666667\" y=\"500.0\">14 (t=0.00)</text><text x=\"222.222222222\" y=\"500.0\">15 (t=0.00)</text><text x=\"277.777777778\" y=\"500.0\">8 (t=0.00)</text><text x=\"333.333333333\" y=\"500.0\">9 (t=0.00)</text><text x=\"388.888888889\" y=\"500.0\">10 (t=0.00)</text><text x=\"444.444444444\" y=\"500.0\">11 (t=0.00)</text><text x=\"500.0\" y=\"500.0\">7</text><text x=\"555.555555556\" y=\"500.0\">4</text><text x=\"611.111111111\" y=\"500.0\">5</text><text x=\"666.666666667\" y=\"500.0\">6</text><text x=\"722.222222222\" y=\"500.0\">3</text><text x=\"777.777777778\" y=\"500.0\">1</text><text x=\"833.333333333\" y=\"500.0\">0</text><text x=\"888.888888889\" y=\"500.0\">2</text></g><circle cx=\"298.611111111\" cy=\"20.0\" fill=\"yellow\" r=\"3\"/><circle cx=\"104.166666667\" cy=\"441.102259772\" fill=\"yellow\" r=\"3\"/><circle cx=\"55.5555555556\" cy=\"480.0\" fill=\"yellow\" r=\"3\"/><circle cx=\"152.777777778\" cy=\"468.069189678\" fill=\"yellow\" r=\"3\"/><circle cx=\"111.111111111\" cy=\"480.0\" fill=\"yellow\" r=\"3\"/><circle cx=\"194.444444444\" cy=\"475.885778889\" fill=\"yellow\" r=\"3\"/><circle cx=\"166.666666667\" cy=\"480.0\" fill=\"yellow\" r=\"3\"/><circle cx=\"222.222222222\" cy=\"480.0\" fill=\"yellow\" r=\"3\"/><circle cx=\"493.055555556\" cy=\"238.178752225\" fill=\"red\" r=\"3\"/><circle cx=\"326.388888889\" cy=\"452.775082895\" fill=\"green\" r=\"3\"/><circle cx=\"277.777777778\" cy=\"480.0\" fill=\"green\" r=\"3\"/><circle cx=\"375.0\" cy=\"453.199454319\" fill=\"green\" r=\"3\"/><circle cx=\"333.333333333\" cy=\"480.0\" fill=\"green\" r=\"3\"/><circle cx=\"416.666666667\" cy=\"453.239142012\" fill=\"green\" r=\"3\"/><circle cx=\"388.888888889\" cy=\"480.0\" fill=\"green\" r=\"3\"/><circle cx=\"444.444444444\" cy=\"480.0\" fill=\"green\" r=\"3\"/><circle cx=\"659.722222222\" cy=\"341.632785007\" fill=\"red\" r=\"3\"/><circle cx=\"548.611111111\" cy=\"376.891420047\" fill=\"blue\" r=\"3\"/><circle cx=\"500.0\" cy=\"480.0\" fill=\"blue\" r=\"3\"/><circle cx=\"597.222222222\" cy=\"381.527085662\" fill=\"blue\" r=\"3\"/><circle cx=\"555.555555556\" cy=\"480.0\" fill=\"blue\" r=\"3\"/><circle cx=\"638.888888889\" cy=\"454.246682734\" fill=\"blue\" r=\"3\"/><circle cx=\"611.111111111\" cy=\"480.0\" fill=\"blue\" r=\"3\"/><circle cx=\"666.666666667\" cy=\"480.0\" fill=\"blue\" r=\"3\"/><circle cx=\"770.833333333\" cy=\"362.641503972\" fill=\"red\" r=\"3\"/><circle cx=\"722.222222222\" cy=\"480.0\" fill=\"red\" r=\"3\"/><circle cx=\"819.444444444\" cy=\"440.244301998\" fill=\"red\" r=\"3\"/><circle cx=\"777.777777778\" cy=\"480.0\" fill=\"red\" r=\"3\"/><circle cx=\"861.111111111\" cy=\"478.560511455\" fill=\"red\" r=\"3\"/><circle cx=\"833.333333333\" cy=\"480.0\" fill=\"red\" r=\"3\"/><circle cx=\"888.888888889\" cy=\"480.0\" fill=\"red\" r=\"3\"/><g alignment-baseline=\"middle\" font-size=\"14\" font-style=\"italic\" text-anchor=\"start\"><text x=\"664.722222222\" y=\"294.405768616\">5</text><text x=\"498.055555556\" y=\"169.952501483\">3</text><text x=\"498.055555556\" y=\"97.2262507416\">4</text></g><g alignment-baseline=\"middle\" font-size=\"14\" font-style=\"italic\" text-anchor=\"end\"><text x=\"772.777777778\" y=\"464.622150999\">0</text><text x=\"717.222222222\" y=\"425.820751986\">6</text><text x=\"550.555555556\" y=\"435.263542831\">7</text><text x=\"321.388888889\" y=\"349.97691756\">1</text><text x=\"99.1666666667\" y=\"235.051129886\">2</text></g><rect fill=\"red\" height=\"6\" width=\"6\" x=\"774.777777778\" y=\"457.122150999\"/><rect fill=\"red\" height=\"6\" width=\"6\" x=\"719.222222222\" y=\"418.320751986\"/><rect fill=\"red\" height=\"6\" width=\"6\" x=\"552.555555556\" y=\"427.763542831\"/><rect fill=\"red\" height=\"6\" width=\"6\" x=\"323.388888889\" y=\"342.47691756\"/><rect fill=\"red\" height=\"6\" width=\"6\" x=\"101.166666667\" y=\"227.551129886\"/><rect fill=\"red\" height=\"6\" width=\"6\" x=\"656.722222222\" y=\"286.905768616\"/><rect fill=\"red\" height=\"6\" width=\"6\" x=\"490.055555556\" y=\"162.452501483\"/><rect fill=\"red\" height=\"6\" width=\"6\" x=\"490.055555556\" y=\"89.7262507416\"/></svg>"
      ],
      "text/plain": [
       "<IPython.core.display.SVG object>"
      ]
     },
     "execution_count": 49,
     "metadata": {},
     "output_type": "execute_result"
    }
   ],
   "source": [
    "sample_size = 4\n",
    "pop_configs = [\n",
    "    msprime.PopulationConfiguration(sample_size=sample_size, initial_size = 1),\n",
    "    msprime.PopulationConfiguration(sample_size=sample_size, initial_size = 2),\n",
    "    msprime.PopulationConfiguration(sample_size=sample_size, initial_size = 3),\n",
    "    msprime.PopulationConfiguration(sample_size=sample_size, initial_size = 5)]\n",
    "demographic_events=[\n",
    "    msprime.PopulationParametersChange(time=1, initial_size=.01, population_id=2),\n",
    "    msprime.PopulationParametersChange(time=4, initial_size=.1, population_id=1),\n",
    "    msprime.MassMigration(5, source=1, dest=0, proportion=1),\n",
    "    msprime.MassMigration(8, source=2, dest=0, proportion=1),    \n",
    "    msprime.PopulationParametersChange(time=9, initial_size=.1, population_id=0),\n",
    "    msprime.MassMigration(10, source=0, dest=3, proportion=1)]\n",
    "\n",
    "ts  = msprime.simulate(\n",
    "                    population_configurations=pop_configs,\n",
    "                    record_migrations=True,\n",
    "                    demographic_events=demographic_events,\n",
    "                    mutation_rate=.2)\n",
    "tree = ts.first()\n",
    "colour_map = {0:\"red\", 1:\"blue\", 2: \"green\", 3:\"yellow\"}\n",
    "node_colours = {u: colour_map[tree.population(u)] for u in tree.nodes()}\n",
    "node_labels = {\n",
    "    u: (str(u) if u < 8 else \"{} (t={:.2f})\".format(u, tree.time(u))) \n",
    "    for u in tree.nodes()}\n",
    "SVG(tree.draw(height=500, width=1000, node_labels=node_labels, node_colours=node_colours))"
   ]
  },
  {
   "cell_type": "code",
   "execution_count": 773,
   "metadata": {
    "scrolled": true
   },
   "outputs": [
    {
     "data": {
      "text/plain": [
       "<bound method PopulationConfiguration.get_ll_representation of <msprime.simulations.PopulationConfiguration object at 0x7f96a4cbca90>>"
      ]
     },
     "execution_count": 773,
     "metadata": {},
     "output_type": "execute_result"
    }
   ],
   "source": [
    "p = pop_configs[0]\n",
    "p.get_ll_representation"
   ]
  },
  {
   "cell_type": "code",
   "execution_count": 120,
   "metadata": {},
   "outputs": [
    {
     "data": {
      "image/svg+xml": [
       "<svg baseProfile=\"full\" height=\"500\" version=\"1.1\" width=\"1000\" xmlns=\"http://www.w3.org/2000/svg\" xmlns:ev=\"http://www.w3.org/2001/xml-events\" xmlns:xlink=\"http://www.w3.org/1999/xlink\"><defs/><g id=\"lines\" stroke=\"black\"><line x1=\"79.5454545455\" x2=\"79.5454545455\" y1=\"350.200453423\" y2=\"20.0\"/><line x1=\"79.5454545455\" x2=\"221.324573864\" y1=\"20.0\" y2=\"20.0\"/><line x1=\"45.4545454545\" x2=\"45.4545454545\" y1=\"480.0\" y2=\"350.200453423\"/><line x1=\"45.4545454545\" x2=\"79.5454545455\" y1=\"350.200453423\" y2=\"350.200453423\"/><line x1=\"113.636363636\" x2=\"113.636363636\" y1=\"352.259913059\" y2=\"350.200453423\"/><line x1=\"113.636363636\" x2=\"79.5454545455\" y1=\"350.200453423\" y2=\"350.200453423\"/><line x1=\"90.9090909091\" x2=\"90.9090909091\" y1=\"480.0\" y2=\"352.259913059\"/><line x1=\"90.9090909091\" x2=\"113.636363636\" y1=\"352.259913059\" y2=\"352.259913059\"/><line x1=\"136.363636364\" x2=\"136.363636364\" y1=\"480.0\" y2=\"352.259913059\"/><line x1=\"136.363636364\" x2=\"113.636363636\" y1=\"352.259913059\" y2=\"352.259913059\"/><line x1=\"363.103693182\" x2=\"363.103693182\" y1=\"116.470112341\" y2=\"20.0\"/><line x1=\"363.103693182\" x2=\"221.324573864\" y1=\"20.0\" y2=\"20.0\"/><line x1=\"181.818181818\" x2=\"181.818181818\" y1=\"480.0\" y2=\"116.470112341\"/><line x1=\"181.818181818\" x2=\"363.103693182\" y1=\"116.470112341\" y2=\"116.470112341\"/><line x1=\"544.389204545\" x2=\"544.389204545\" y1=\"267.116192121\" y2=\"116.470112341\"/><line x1=\"544.389204545\" x2=\"363.103693182\" y1=\"116.470112341\" y2=\"116.470112341\"/><line x1=\"316.051136364\" x2=\"316.051136364\" y1=\"395.387222414\" y2=\"267.116192121\"/><line x1=\"316.051136364\" x2=\"544.389204545\" y1=\"267.116192121\" y2=\"267.116192121\"/><line x1=\"227.272727273\" x2=\"227.272727273\" y1=\"480.0\" y2=\"395.387222414\"/><line x1=\"227.272727273\" x2=\"316.051136364\" y1=\"395.387222414\" y2=\"395.387222414\"/><line x1=\"404.829545455\" x2=\"404.829545455\" y1=\"432.991461532\" y2=\"395.387222414\"/><line x1=\"404.829545455\" x2=\"316.051136364\" y1=\"395.387222414\" y2=\"395.387222414\"/><line x1=\"312.5\" x2=\"312.5\" y1=\"466.420563303\" y2=\"432.991461532\"/><line x1=\"312.5\" x2=\"404.829545455\" y1=\"432.991461532\" y2=\"432.991461532\"/><line x1=\"272.727272727\" x2=\"272.727272727\" y1=\"480.0\" y2=\"466.420563303\"/><line x1=\"272.727272727\" x2=\"312.5\" y1=\"466.420563303\" y2=\"466.420563303\"/><line x1=\"352.272727273\" x2=\"352.272727273\" y1=\"470.73814467\" y2=\"466.420563303\"/><line x1=\"352.272727273\" x2=\"312.5\" y1=\"466.420563303\" y2=\"466.420563303\"/><line x1=\"318.181818182\" x2=\"318.181818182\" y1=\"480.0\" y2=\"470.73814467\"/><line x1=\"318.181818182\" x2=\"352.272727273\" y1=\"470.73814467\" y2=\"470.73814467\"/><line x1=\"386.363636364\" x2=\"386.363636364\" y1=\"475.969912699\" y2=\"470.73814467\"/><line x1=\"386.363636364\" x2=\"352.272727273\" y1=\"470.73814467\" y2=\"470.73814467\"/><line x1=\"363.636363636\" x2=\"363.636363636\" y1=\"480.0\" y2=\"475.969912699\"/><line x1=\"363.636363636\" x2=\"386.363636364\" y1=\"475.969912699\" y2=\"475.969912699\"/><line x1=\"409.090909091\" x2=\"409.090909091\" y1=\"480.0\" y2=\"475.969912699\"/><line x1=\"409.090909091\" x2=\"386.363636364\" y1=\"475.969912699\" y2=\"475.969912699\"/><line x1=\"497.159090909\" x2=\"497.159090909\" y1=\"452.233059818\" y2=\"432.991461532\"/><line x1=\"497.159090909\" x2=\"404.829545455\" y1=\"432.991461532\" y2=\"432.991461532\"/><line x1=\"454.545454545\" x2=\"454.545454545\" y1=\"480.0\" y2=\"452.233059818\"/><line x1=\"454.545454545\" x2=\"497.159090909\" y1=\"452.233059818\" y2=\"452.233059818\"/><line x1=\"539.772727273\" x2=\"539.772727273\" y1=\"465.540883773\" y2=\"452.233059818\"/><line x1=\"539.772727273\" x2=\"497.159090909\" y1=\"452.233059818\" y2=\"452.233059818\"/><line x1=\"500.0\" x2=\"500.0\" y1=\"480.0\" y2=\"465.540883773\"/><line x1=\"500.0\" x2=\"539.772727273\" y1=\"465.540883773\" y2=\"465.540883773\"/><line x1=\"579.545454545\" x2=\"579.545454545\" y1=\"466.166436395\" y2=\"465.540883773\"/><line x1=\"579.545454545\" x2=\"539.772727273\" y1=\"465.540883773\" y2=\"465.540883773\"/><line x1=\"545.454545455\" x2=\"545.454545455\" y1=\"480.0\" y2=\"466.166436395\"/><line x1=\"545.454545455\" x2=\"579.545454545\" y1=\"466.166436395\" y2=\"466.166436395\"/><line x1=\"613.636363636\" x2=\"613.636363636\" y1=\"479.807827719\" y2=\"466.166436395\"/><line x1=\"613.636363636\" x2=\"579.545454545\" y1=\"466.166436395\" y2=\"466.166436395\"/><line x1=\"590.909090909\" x2=\"590.909090909\" y1=\"480.0\" y2=\"479.807827719\"/><line x1=\"590.909090909\" x2=\"613.636363636\" y1=\"479.807827719\" y2=\"479.807827719\"/><line x1=\"636.363636364\" x2=\"636.363636364\" y1=\"480.0\" y2=\"479.807827719\"/><line x1=\"636.363636364\" x2=\"613.636363636\" y1=\"479.807827719\" y2=\"479.807827719\"/><line x1=\"772.727272727\" x2=\"772.727272727\" y1=\"267.704297335\" y2=\"267.116192121\"/><line x1=\"772.727272727\" x2=\"544.389204545\" y1=\"267.116192121\" y2=\"267.116192121\"/><line x1=\"704.545454545\" x2=\"704.545454545\" y1=\"448.23909407\" y2=\"267.704297335\"/><line x1=\"704.545454545\" x2=\"772.727272727\" y1=\"267.704297335\" y2=\"267.704297335\"/><line x1=\"681.818181818\" x2=\"681.818181818\" y1=\"480.0\" y2=\"448.23909407\"/><line x1=\"681.818181818\" x2=\"704.545454545\" y1=\"448.23909407\" y2=\"448.23909407\"/><line x1=\"727.272727273\" x2=\"727.272727273\" y1=\"480.0\" y2=\"448.23909407\"/><line x1=\"727.272727273\" x2=\"704.545454545\" y1=\"448.23909407\" y2=\"448.23909407\"/><line x1=\"840.909090909\" x2=\"840.909090909\" y1=\"389.665563225\" y2=\"267.704297335\"/><line x1=\"840.909090909\" x2=\"772.727272727\" y1=\"267.704297335\" y2=\"267.704297335\"/><line x1=\"795.454545455\" x2=\"795.454545455\" y1=\"451.310823339\" y2=\"389.665563225\"/><line x1=\"795.454545455\" x2=\"840.909090909\" y1=\"389.665563225\" y2=\"389.665563225\"/><line x1=\"772.727272727\" x2=\"772.727272727\" y1=\"480.0\" y2=\"451.310823339\"/><line x1=\"772.727272727\" x2=\"795.454545455\" y1=\"451.310823339\" y2=\"451.310823339\"/><line x1=\"818.181818182\" x2=\"818.181818182\" y1=\"480.0\" y2=\"451.310823339\"/><line x1=\"818.181818182\" x2=\"795.454545455\" y1=\"451.310823339\" y2=\"451.310823339\"/><line x1=\"886.363636364\" x2=\"886.363636364\" y1=\"418.149597881\" y2=\"389.665563225\"/><line x1=\"886.363636364\" x2=\"840.909090909\" y1=\"389.665563225\" y2=\"389.665563225\"/><line x1=\"863.636363636\" x2=\"863.636363636\" y1=\"480.0\" y2=\"418.149597881\"/><line x1=\"863.636363636\" x2=\"886.363636364\" y1=\"418.149597881\" y2=\"418.149597881\"/><line x1=\"909.090909091\" x2=\"909.090909091\" y1=\"480.0\" y2=\"418.149597881\"/><line x1=\"909.090909091\" x2=\"886.363636364\" y1=\"418.149597881\" y2=\"418.149597881\"/></g><g font-size=\"14\" text-anchor=\"start\"><text x=\"118.636363636\" y=\"347.259913059\">33 (t=15.47)</text><text x=\"368.103693182\" y=\"111.470112341\">37 (t=44.02)</text><text x=\"549.389204545\" y=\"262.116192121\">36 (t=25.78)</text><text x=\"409.829545455\" y=\"427.991461532\">29 (t=5.69)</text><text x=\"357.272727273\" y=\"465.73814467\">22 (t=1.12)</text><text x=\"391.363636364\" y=\"470.969912699\">21 (t=0.49)</text><text x=\"502.159090909\" y=\"447.233059818\">26 (t=3.36)</text><text x=\"544.772727273\" y=\"460.540883773\">25 (t=1.75)</text><text x=\"584.545454545\" y=\"461.166436395\">24 (t=1.68)</text><text x=\"618.636363636\" y=\"474.807827719\">20 (t=0.02)</text><text x=\"777.727272727\" y=\"262.704297335\">35 (t=25.71)</text><text x=\"845.909090909\" y=\"384.665563225\">32 (t=10.94)</text><text x=\"891.363636364\" y=\"413.149597881\">30 (t=7.49)</text></g><g font-size=\"14\" text-anchor=\"end\"><text x=\"74.5454545455\" y=\"345.200453423\">34 (t=15.72)</text><text x=\"311.051136364\" y=\"390.387222414\">31 (t=10.25)</text><text x=\"307.5\" y=\"461.420563303\">23 (t=1.64)</text><text x=\"699.545454545\" y=\"443.23909407\">28 (t=3.85)</text><text x=\"790.454545455\" y=\"446.310823339\">27 (t=3.47)</text></g><g font-size=\"14\" text-anchor=\"middle\"><text x=\"221.324573864\" y=\"15.0\">38 (t=55.71)</text><text x=\"45.4545454545\" y=\"500.0\">13 (t=0.00)</text><text x=\"90.9090909091\" y=\"500.0\">11 (t=0.00)</text><text x=\"136.363636364\" y=\"500.0\">19 (t=0.00)</text><text x=\"181.818181818\" y=\"500.0\">16 (t=0.00)</text><text x=\"227.272727273\" y=\"500.0\">0</text><text x=\"272.727272727\" y=\"500.0\">1</text><text x=\"318.181818182\" y=\"500.0\">7</text><text x=\"363.636363636\" y=\"500.0\">2</text><text x=\"409.090909091\" y=\"500.0\">5</text><text x=\"454.545454545\" y=\"500.0\">3</text><text x=\"500.0\" y=\"500.0\">4</text><text x=\"545.454545455\" y=\"500.0\">8 (t=0.00)</text><text x=\"590.909090909\" y=\"500.0\">6</text><text x=\"636.363636364\" y=\"500.0\">9 (t=0.00)</text><text x=\"681.818181818\" y=\"500.0\">17 (t=0.00)</text><text x=\"727.272727273\" y=\"500.0\">18 (t=0.00)</text><text x=\"772.727272727\" y=\"500.0\">10 (t=0.00)</text><text x=\"818.181818182\" y=\"500.0\">12 (t=0.00)</text><text x=\"863.636363636\" y=\"500.0\">14 (t=0.00)</text><text x=\"909.090909091\" y=\"500.0\">15 (t=0.00)</text></g><circle cx=\"221.324573864\" cy=\"20.0\" fill=\"blue\" r=\"3\"/><circle cx=\"79.5454545455\" cy=\"350.200453423\" fill=\"blue\" r=\"3\"/><circle cx=\"45.4545454545\" cy=\"480.0\" fill=\"blue\" r=\"3\"/><circle cx=\"113.636363636\" cy=\"352.259913059\" fill=\"blue\" r=\"3\"/><circle cx=\"90.9090909091\" cy=\"480.0\" fill=\"blue\" r=\"3\"/><circle cx=\"136.363636364\" cy=\"480.0\" fill=\"blue\" r=\"3\"/><circle cx=\"363.103693182\" cy=\"116.470112341\" fill=\"blue\" r=\"3\"/><circle cx=\"181.818181818\" cy=\"480.0\" fill=\"blue\" r=\"3\"/><circle cx=\"544.389204545\" cy=\"267.116192121\" fill=\"blue\" r=\"3\"/><circle cx=\"316.051136364\" cy=\"395.387222414\" fill=\"green\" r=\"3\"/><circle cx=\"227.272727273\" cy=\"480.0\" fill=\"green\" r=\"3\"/><circle cx=\"404.829545455\" cy=\"432.991461532\" fill=\"green\" r=\"3\"/><circle cx=\"312.5\" cy=\"466.420563303\" fill=\"green\" r=\"3\"/><circle cx=\"272.727272727\" cy=\"480.0\" fill=\"green\" r=\"3\"/><circle cx=\"352.272727273\" cy=\"470.73814467\" fill=\"green\" r=\"3\"/><circle cx=\"318.181818182\" cy=\"480.0\" fill=\"green\" r=\"3\"/><circle cx=\"386.363636364\" cy=\"475.969912699\" fill=\"green\" r=\"3\"/><circle cx=\"363.636363636\" cy=\"480.0\" fill=\"green\" r=\"3\"/><circle cx=\"409.090909091\" cy=\"480.0\" fill=\"green\" r=\"3\"/><circle cx=\"497.159090909\" cy=\"452.233059818\" fill=\"green\" r=\"3\"/><circle cx=\"454.545454545\" cy=\"480.0\" fill=\"green\" r=\"3\"/><circle cx=\"539.772727273\" cy=\"465.540883773\" fill=\"green\" r=\"3\"/><circle cx=\"500.0\" cy=\"480.0\" fill=\"green\" r=\"3\"/><circle cx=\"579.545454545\" cy=\"466.166436395\" fill=\"green\" r=\"3\"/><circle cx=\"545.454545455\" cy=\"480.0\" fill=\"green\" r=\"3\"/><circle cx=\"613.636363636\" cy=\"479.807827719\" fill=\"green\" r=\"3\"/><circle cx=\"590.909090909\" cy=\"480.0\" fill=\"green\" r=\"3\"/><circle cx=\"636.363636364\" cy=\"480.0\" fill=\"green\" r=\"3\"/><circle cx=\"772.727272727\" cy=\"267.704297335\" fill=\"blue\" r=\"3\"/><circle cx=\"704.545454545\" cy=\"448.23909407\" fill=\"blue\" r=\"3\"/><circle cx=\"681.818181818\" cy=\"480.0\" fill=\"blue\" r=\"3\"/><circle cx=\"727.272727273\" cy=\"480.0\" fill=\"blue\" r=\"3\"/><circle cx=\"840.909090909\" cy=\"389.665563225\" fill=\"blue\" r=\"3\"/><circle cx=\"795.454545455\" cy=\"451.310823339\" fill=\"blue\" r=\"3\"/><circle cx=\"772.727272727\" cy=\"480.0\" fill=\"blue\" r=\"3\"/><circle cx=\"818.181818182\" cy=\"480.0\" fill=\"blue\" r=\"3\"/><circle cx=\"886.363636364\" cy=\"418.149597881\" fill=\"blue\" r=\"3\"/><circle cx=\"863.636363636\" cy=\"480.0\" fill=\"blue\" r=\"3\"/><circle cx=\"909.090909091\" cy=\"480.0\" fill=\"blue\" r=\"3\"/><g alignment-baseline=\"middle\" font-size=\"14\" font-style=\"italic\" text-anchor=\"start\"><text x=\"732.272727273\" y=\"468.619547035\">12</text><text x=\"141.363636364\" y=\"420.629956529\">8</text><text x=\"891.363636364\" y=\"408.407580553\">3</text></g><g alignment-baseline=\"middle\" font-size=\"14\" font-style=\"italic\" text-anchor=\"end\"><text x=\"767.727272727\" y=\"470.15541167\">6</text><text x=\"858.636363636\" y=\"453.574798941\">7</text><text x=\"176.818181818\" y=\"393.617528085\">4</text><text x=\"176.818181818\" y=\"302.73505617\">10</text><text x=\"176.818181818\" y=\"211.852584255\">11</text><text x=\"790.454545455\" y=\"435.262403301\">0</text><text x=\"790.454545455\" y=\"414.713983263\">5</text><text x=\"699.545454545\" y=\"392.560828492\">1</text><text x=\"699.545454545\" y=\"332.382562913\">2</text><text x=\"311.051136364\" y=\"335.751707268\">9</text></g><rect fill=\"red\" height=\"6\" width=\"6\" x=\"769.727272727\" y=\"462.65541167\"/><rect fill=\"red\" height=\"6\" width=\"6\" x=\"860.636363636\" y=\"446.074798941\"/><rect fill=\"red\" height=\"6\" width=\"6\" x=\"178.818181818\" y=\"386.117528085\"/><rect fill=\"red\" height=\"6\" width=\"6\" x=\"178.818181818\" y=\"295.23505617\"/><rect fill=\"red\" height=\"6\" width=\"6\" x=\"178.818181818\" y=\"204.352584255\"/><rect fill=\"red\" height=\"6\" width=\"6\" x=\"724.272727273\" y=\"461.119547035\"/><rect fill=\"red\" height=\"6\" width=\"6\" x=\"133.363636364\" y=\"413.129956529\"/><rect fill=\"red\" height=\"6\" width=\"6\" x=\"792.454545455\" y=\"427.762403301\"/><rect fill=\"red\" height=\"6\" width=\"6\" x=\"792.454545455\" y=\"407.213983263\"/><rect fill=\"red\" height=\"6\" width=\"6\" x=\"701.545454545\" y=\"385.060828492\"/><rect fill=\"red\" height=\"6\" width=\"6\" x=\"701.545454545\" y=\"324.882562913\"/><rect fill=\"red\" height=\"6\" width=\"6\" x=\"883.363636364\" y=\"400.907580553\"/><rect fill=\"red\" height=\"6\" width=\"6\" x=\"313.051136364\" y=\"328.251707268\"/></svg>"
      ],
      "text/plain": [
       "<IPython.core.display.SVG object>"
      ]
     },
     "execution_count": 120,
     "metadata": {},
     "output_type": "execute_result"
    }
   ],
   "source": [
    "tdiv = 23\n",
    "nloc = 45 / 10.\n",
    "nmet = 320 / 10.\n",
    "\n",
    "\n",
    "sample_size = 10\n",
    "pop_configs = [\n",
    "    msprime.PopulationConfiguration(sample_size=sample_size, initial_size = nloc),\n",
    "    msprime.PopulationConfiguration(sample_size=sample_size, initial_size = nmet)]\n",
    "demographic_events=[\n",
    "    msprime.PopulationParametersChange(time=tdiv, initial_size=.1, population_id=0),\n",
    "    msprime.MassMigration(tdiv + 1, source=0, dest=1, proportion=1)]\n",
    "\n",
    "ts  = msprime.simulate(\n",
    "                    population_configurations=pop_configs,\n",
    "                    record_migrations=True,\n",
    "                    demographic_events=demographic_events,\n",
    "                    mutation_rate=.05)\n",
    "tree = ts.first()\n",
    "colour_map = {0:\"green\", 1:\"blue\", 2: \"green\", 3:\"yellow\"}\n",
    "node_colours = {u: colour_map[tree.population(u)] for u in tree.nodes()}\n",
    "node_labels = {\n",
    "    u: (str(u) if u < 8 else \"{} (t={:.2f})\".format(u, tree.time(u))) \n",
    "    for u in tree.nodes()}\n",
    "SVG(tree.draw(height=500, width=1000, node_labels=node_labels, node_colours=node_colours))"
   ]
  },
  {
   "cell_type": "markdown",
   "metadata": {},
   "source": [
    "Annoying\n",
    "asdf\n",
    "asdf\n",
    "dsaf\n",
    "asdf\n",
    "asdf\n",
    "asdf\n",
    "asdf\n",
    "asd\n",
    "fasd\n",
    "fasdf\n",
    "asdf\n",
    "asdf\n",
    "asdf\n",
    "asdf\n",
    "asdf\n",
    "sad\n",
    "fasd\n",
    "fasdf\n",
    "asdf\n",
    "dsaf\n",
    "asdf\n",
    "asdf\n",
    "asdf\n",
    "asdf\n",
    "asd\n",
    "fasd\n",
    "fasdf\n",
    "asdf\n",
    "asdf\n",
    "asdf\n",
    "asdf\n",
    "asdf\n",
    "sad\n",
    "fasd\n",
    "f"
   ]
  }
 ],
 "metadata": {
  "kernelspec": {
   "display_name": "Python 3",
   "language": "python",
   "name": "python3"
  },
  "language_info": {
   "codemirror_mode": {
    "name": "ipython",
    "version": 3
   },
   "file_extension": ".py",
   "mimetype": "text/x-python",
   "name": "python",
   "nbconvert_exporter": "python",
   "pygments_lexer": "ipython3",
   "version": "3.6.6"
  }
 },
 "nbformat": 4,
 "nbformat_minor": 2
}
