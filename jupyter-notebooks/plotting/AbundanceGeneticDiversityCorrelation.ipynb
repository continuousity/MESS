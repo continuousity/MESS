{
 "cells": [
  {
   "cell_type": "code",
   "execution_count": 2,
   "metadata": {},
   "outputs": [],
   "source": [
    "%matplotlib inline\n",
    "import matplotlib.pyplot as plt\n",
    "from scipy.stats import linregress\n",
    "import numpy as np\n",
    "import matplotlib\n",
    "import pandas as pd\n",
    "import glob\n",
    "cmap = matplotlib.cm.get_cmap('magma')"
   ]
  },
  {
   "cell_type": "code",
   "execution_count": 33,
   "metadata": {},
   "outputs": [
    {
     "data": {
      "text/plain": [
       "(0, 0.5)"
      ]
     },
     "execution_count": 33,
     "metadata": {},
     "output_type": "execute_result"
    },
    {
     "data": {
      "image/png": "[encoded data removed]",
      "text/plain": [
       "<Figure size 720x720 with 1 Axes>"
      ]
     },
     "metadata": {
      "needs_background": "light"
     },
     "output_type": "display_data"
    }
   ],
   "source": [
    "#fs = glob.glob(\"/home/isaac/Continuosity/tmp/MESS/MESS/1000_tmp/watdo*/*-megalog.txt\")\n",
    "fs = glob.glob(\"/home/iovercast/Continuosity/MESS/MESS/default_MESS/watdo*/*-megalog.txt\")\n",
    "fig, ax = plt.subplots(figsize=(10, 10))\n",
    "for f in fs[:50]:\n",
    "    _lambda = float(f.split(\"/\")[-1].split(\"-\")[1])\n",
    "    #if _lambda < 0.15:# or _lambda > 0.116:\n",
    "    #    continue\n",
    "    #print(_lambda)\n",
    "    df = pd.read_csv(f, header=0)\n",
    "    x = df[\"pi_local\"]/np.sum(df[\"pi_local\"])\n",
    "    y = df[\"abundance\"]/np.sum(df[\"abundance\"])\n",
    "    slope, intercept, r_value, p_value, std_err = linregress(x,y)\n",
    "    #plt.plot(x,y,'o', x, line, c=cmap(_lambda))\n",
    "    xs = np.linspace(0,1,500)\n",
    "    ys = slope*xs+intercept\n",
    "    ax.plot(xs, ys, c=cmap(_lambda))\n",
    "    ax.scatter(x, y, marker='.', c=cmap(_lambda))\n",
    "ax.set_xlabel(\"Relative pi\")\n",
    "ax.set_ylabel(\"Relative abundance\")\n",
    "ax.set_xlim(0, 0.5)\n",
    "ax.set_ylim(0, 0.5)\n",
    "#fig.colorbar(cax, ticks=[0, 1])\n"
   ]
  },
  {
   "cell_type": "code",
   "execution_count": 35,
   "metadata": {},
   "outputs": [
    {
     "data": {
      "text/plain": [
       "[]"
      ]
     },
     "execution_count": 35,
     "metadata": {},
     "output_type": "execute_result"
    }
   ],
   "source": [
    "fs = glob.glob(\"/home/iovercast/Continuosity/MESS/MESS/default_MESS/\")\n",
    "\n",
    "fs"
   ]
  }
 ],
 "metadata": {
  "kernelspec": {
   "display_name": "Python 2",
   "language": "python",
   "name": "python2"
  },
  "language_info": {
   "codemirror_mode": {
    "name": "ipython",
    "version": 2
   },
   "file_extension": ".py",
   "mimetype": "text/x-python",
   "name": "python",
   "nbconvert_exporter": "python",
   "pygments_lexer": "ipython2",
   "version": "2.7.15"
  }
 },
 "nbformat": 4,
 "nbformat_minor": 2
}
