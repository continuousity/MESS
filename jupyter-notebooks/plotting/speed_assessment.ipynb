{
 "cells": [
  {
   "cell_type": "code",
   "execution_count": 3,
   "metadata": {},
   "outputs": [
    {
     "name": "stdout",
     "output_type": "stream",
     "text": [
      "(49, 1) (48, 1) (49, 1)\n",
      "(61, 1) (49, 1)\n",
      "(49, 1)\n"
     ]
    }
   ],
   "source": [
    "%matplotlib inline\n",
    "import matplotlib.pyplot as plt\n",
    "import numpy as np\n",
    "from scipy import stats\n",
    "import pandas as pd\n",
    "from statsmodels.stats import multitest\n",
    "\n",
    "\n",
    "\n",
    "#200 generations ; 4 models ; alpha 2000 ro 7000 ; m 0.001 or 0.01 ; s 0.001 or 0.01\n",
    "# J 1000; point_mutation; all defaults otherwise\n",
    "# ecological strength 1\n",
    "# Testing array VS non array speed\n",
    "arr_mean = np.array(pd.read_csv(\"../../speed/array_speed_test_competition.txt\", sep=\"\\n\"))\n",
    "arr_pw = np.array(pd.read_csv(\"../../speed/array_speed_test_pairwise_competition.txt\", sep=\"\\n\"))\n",
    "arr_neutral = np.array(pd.read_csv(\"../../speed/array_speed_test_neutral.txt\", sep=\"\\n\"))\n",
    "arr_filtering = np.array(pd.read_csv(\"../../speed/array_speed_test_filtering.txt\", sep=\"\\n\"))\n",
    "noarr_mean = np.array(pd.read_csv(\"../../speed/noarray_speed_test_competition.txt\", sep=\"\\n\"))\n",
    "noarr_pw = np.array(pd.read_csv(\"../../speed/noarray_speed_test_pairwise_competition.txt\", sep=\"\\n\"))\n",
    "noarr_neutral = np.array(pd.read_csv(\"../../speed/noarray_speed_test_neutral.txt\", sep=\"\\n\"))\n",
    "noarr_filtering = np.array(pd.read_csv(\"../../speed/noarray_speed_test_filtering.txt\", sep=\"n\"))\n",
    "matrix_pw = np.array(pd.read_csv(\"../../matrix_time2.txt\", sep=\"\\n\"))\n",
    "\n",
    "print(arr_mean.shape, noarr_mean.shape, arr_neutral.shape)\n",
    "print(arr_pw.shape, noarr_pw.shape)\n",
    "print(matrix_pw.shape)"
   ]
  },
  {
   "cell_type": "code",
   "execution_count": 7,
   "metadata": {},
   "outputs": [],
   "source": [
    "arr_mean_m = np.mean(arr_mean)\n",
    "arr_mean_st = np.std(arr_mean)\n",
    "arr_pw_m = np.mean(arr_pw)\n",
    "arr_pw_st = np.std(arr_pw)\n",
    "arr_filtering_m = np.mean(arr_filtering)\n",
    "arr_filtering_st = np.std(arr_filtering)\n",
    "arr_neutral_m = np.mean(arr_neutral)\n",
    "arr_neutral_st = np.std(arr_neutral)\n",
    "\n",
    "noarr_mean_m = np.mean(noarr_mean)\n",
    "noarr_mean_st = np.std(noarr_mean)\n",
    "noarr_pw_m = np.mean(noarr_pw)\n",
    "noarr_pw_st = np.std(noarr_pw)\n",
    "noarr_filtering_m = np.mean(noarr_filtering)\n",
    "noarr_filtering_st = np.std(noarr_filtering)\n",
    "noarr_neutral_m = np.mean(noarr_neutral)\n",
    "noarr_neutral_st = np.std(noarr_neutral)\n",
    "\n",
    "matrix_m = np.mean(matrix_pw)\n",
    "matrix_st = np.std(matrix_pw)"
   ]
  },
  {
   "cell_type": "code",
   "execution_count": 8,
   "metadata": {},
   "outputs": [
    {
     "name": "stdout",
     "output_type": "stream",
     "text": [
      "mean: 89.03312095817255 10.603822951759494\n",
      "before : 456.40527013937634 114.18060644183466\n",
      "rapport: 5.1262413945232135\n",
      "\n",
      "\n",
      "pw: 323.43372467697645 39.69962753646197\n",
      "before : 1944.4363578728266 258.17651048426626\n",
      "rapport: 6.011854081743631\n",
      "\n",
      "\n",
      "filtering: 70.95846699695198 9.832895052213095\n",
      "before : 80.02453163691929 17.886808763487846\n",
      "rapport: 1.1277657906611305\n",
      "\n",
      "\n",
      "neutral: 23.650075893012843 3.042263465290829\n",
      "before : 9.343438333394577 2.1326189291235282\n",
      "rapport: 0.3950701205214734\n",
      "\n",
      "\n",
      "matrix: 419.46584381375993 54.05710751473194\n"
     ]
    }
   ],
   "source": [
    "print(\"mean:\",arr_mean_m, arr_mean_st)\n",
    "print(\"before :\", noarr_mean_m, noarr_mean_st)\n",
    "print(\"rapport:\",noarr_mean_m/arr_mean_m)\n",
    "\n",
    "print('\\n')\n",
    "print(\"pw:\",arr_pw_m, arr_pw_st)\n",
    "print(\"before :\", noarr_pw_m, noarr_pw_st)\n",
    "print(\"rapport:\",noarr_pw_m/arr_pw_m)\n",
    "\n",
    "print('\\n')\n",
    "print(\"filtering:\",arr_filtering_m, arr_filtering_st)\n",
    "print(\"before :\", noarr_filtering_m, noarr_filtering_st)\n",
    "print(\"rapport:\",noarr_filtering_m/arr_filtering_m)\n",
    "\n",
    "print('\\n')\n",
    "print(\"neutral:\",arr_neutral_m, arr_neutral_st)\n",
    "print(\"before :\", noarr_neutral_m, noarr_neutral_st)\n",
    "print(\"rapport:\",noarr_neutral_m/arr_neutral_m)\n",
    "\n",
    "print('\\n')\n",
    "print(\"matrix:\", matrix_m, matrix_st)"
   ]
  }
 ],
 "metadata": {
  "kernelspec": {
   "display_name": "Python 3",
   "language": "python",
   "name": "python3"
  },
  "language_info": {
   "codemirror_mode": {
    "name": "ipython",
    "version": 3
   },
   "file_extension": ".py",
   "mimetype": "text/x-python",
   "name": "python",
   "nbconvert_exporter": "python",
   "pygments_lexer": "ipython3",
   "version": "3.7.6"
  }
 },
 "nbformat": 4,
 "nbformat_minor": 2
}
