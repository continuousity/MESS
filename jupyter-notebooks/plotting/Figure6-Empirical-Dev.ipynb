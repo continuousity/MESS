{
 "cells": [
  {
   "cell_type": "code",
   "execution_count": 52,
   "metadata": {},
   "outputs": [
    {
     "name": "stdout",
     "output_type": "stream",
     "text": [
      "The autoreload extension is already loaded. To reload it, use:\n",
      "  %reload_ext autoreload\n"
     ]
    }
   ],
   "source": [
    "%load_ext autoreload\n",
    "%autoreload 2\n",
    "%matplotlib inline\n",
    "from IPython.display import display\n",
    "from collections import OrderedDict\n",
    "\n",
    "import ipyparallel as ipp\n",
    "import matplotlib.pyplot as plt\n",
    "import numpy as np\n",
    "import os\n",
    "import pandas as pd\n",
    "\n",
    "import MESS"
   ]
  },
  {
   "cell_type": "markdown",
   "metadata": {},
   "source": [
    "## Generate a suite of synthetic community data that resembles our empirical data"
   ]
  },
  {
   "cell_type": "code",
   "execution_count": 58,
   "metadata": {},
   "outputs": [
    {
     "name": "stdout",
     "output_type": "stream",
     "text": [
      "Mauritius_weevils\n",
      "Trees_1\n",
      "Trees_2\n",
      "Reunion_spiders\n",
      "Reunion_weevils\n"
     ]
    }
   ],
   "source": [
    "emp_coms = OrderedDict({\"Mauritius_weevils\":12, \"Reunion_weevils\":13, \"Reunion_spiders\":50, \"Trees_1\":52, \"Trees_2\":47})\n",
    "for name, n in emp_coms.items():\n",
    "    print(name)\n",
    "    synthetic_df = MESS.util.synthetic_community(nspecies=n)"
   ]
  },
  {
   "cell_type": "markdown",
   "metadata": {},
   "source": [
    "## Load up the trained  RF Classifier and Regressor"
   ]
  },
  {
   "cell_type": "code",
   "execution_count": 6,
   "metadata": {},
   "outputs": [
    {
     "name": "stdout",
     "output_type": "stream",
     "text": [
      "              precision    recall  f1-score   support\n",
      "\n",
      " competition       0.83      0.78      0.81      2657\n",
      "   filtering       0.78      0.74      0.76      2868\n",
      "     neutral       0.80      0.89      0.85      2903\n",
      "\n",
      "   micro avg       0.81      0.81      0.81      8428\n",
      "   macro avg       0.81      0.81      0.80      8428\n",
      "weighted avg       0.81      0.81      0.80      8428\n",
      "\n"
     ]
    }
   ],
   "source": [
    "trained_cla = \"/home/iovercast/Continuosity/MESS/analysis/figure5-sims/cv_classify_results/rf.mdl\"\n",
    "cla = MESS.inference.Ensemble.load(infile=trained_cla)\n",
    "print(cla.classification_report)"
   ]
  },
  {
   "cell_type": "markdown",
   "metadata": {},
   "source": [
    "## Predict community assembly model class for each synthetic dataset"
   ]
  },
  {
   "cell_type": "code",
   "execution_count": 19,
   "metadata": {},
   "outputs": [
    {
     "name": "stdout",
     "output_type": "stream",
     "text": [
      "                   competition  filtering   neutral\n",
      "Mauritius_weevils     0.019583   0.143750  0.836667\n",
      "Trees_1               0.022917   0.184583  0.792500\n",
      "Trees_2               0.040000   0.192500  0.767500\n",
      "Reunion_spiders       0.020000   0.108750  0.871250\n",
      "Reunion_weevils       0.085833   0.144583  0.769583\n"
     ]
    }
   ],
   "source": [
    "cla_preds_df = pd.DataFrame()\n",
    "for name, n in emp_coms.items():\n",
    "    ## Have to include the fake metacommunity_traits here so all the trait\n",
    "    ## stats will be calculated, to take the same form as the simulations.\n",
    "    cla.set_data(empirical_df=synthetic_df, metacommunity_traits=synthetic_df[\"trait\"]*2)\n",
    "    cla_pred = cla.predict()[1]\n",
    "    cla_pred.index = [name]\n",
    "    cla_preds_df = pd.concat([cla_preds_df, cla_pred])\n",
    "print(cla_preds_df)"
   ]
  },
  {
   "cell_type": "markdown",
   "metadata": {},
   "source": [
    "## Plot classification probabilities"
   ]
  },
  {
   "cell_type": "code",
   "execution_count": 25,
   "metadata": {},
   "outputs": [
    {
     "data": {
      "text/plain": [
       "[None, None, None, None, None, None, None, None, None, None]"
      ]
     },
     "execution_count": 25,
     "metadata": {},
     "output_type": "execute_result"
    },
    {
     "data": {
      "image/png": "[encoded data removed]",
      "text/plain": [
       "<Figure size 432x288 with 1 Axes>"
      ]
     },
     "metadata": {
      "needs_background": "light"
     },
     "output_type": "display_data"
    }
   ],
   "source": [
    "ax = cla_preds_df.plot.bar(stacked=True, legend=False, color=['r', 'orange', 'b'])\n",
    "plt.setp(ax.get_xticklabels(), rotation=45, ha=\"right\",\n",
    "        rotation_mode=\"anchor\")"
   ]
  },
  {
   "cell_type": "markdown",
   "metadata": {},
   "source": [
    "## Load the regressor and estimate parameters\n",
    "Using the gb regressor here so we can get prediction intervals. Here we load a regressor trained on very many simulations, so it'll act better."
   ]
  },
  {
   "cell_type": "code",
   "execution_count": 56,
   "metadata": {},
   "outputs": [],
   "source": [
    "trained_rgr = \"/home/iovercast/Continuosity/MESS/analysis/figure5-sims/cv_predict_results/rfq/neutral.mdl\"\n",
    "rgr = MESS.inference.Ensemble.load(infile=trained_rgr)\n"
   ]
  },
  {
   "cell_type": "markdown",
   "metadata": {},
   "source": [
    "## (Optional) Use a dummy rgr trained on toy data for testing\n",
    "If you don't have a model trained up on tons of sims then just get one trained on a subset of the sims."
   ]
  },
  {
   "cell_type": "code",
   "execution_count": 55,
   "metadata": {
    "collapsed": true
   },
   "outputs": [
    {
     "name": "stdout",
     "output_type": "stream",
     "text": [
      "Selecting features:\n",
      "  alpha\t"
     ]
    },
    {
     "ename": "KeyboardInterrupt",
     "evalue": "",
     "output_type": "error",
     "traceback": [
      "\u001b[0;31m\u001b[0m",
      "\u001b[0;31mKeyboardInterrupt\u001b[0mTraceback (most recent call last)",
      "\u001b[0;32m<ipython-input-55-decb35db0321>\u001b[0m in \u001b[0;36m<module>\u001b[0;34m()\u001b[0m\n\u001b[1;32m      5\u001b[0m \u001b[0mrgr\u001b[0m \u001b[0;34m=\u001b[0m \u001b[0mMESS\u001b[0m\u001b[0;34m.\u001b[0m\u001b[0minference\u001b[0m\u001b[0;34m.\u001b[0m\u001b[0mRegressor\u001b[0m\u001b[0;34m(\u001b[0m\u001b[0mempirical_df\u001b[0m\u001b[0;34m=\u001b[0m\u001b[0msynthetic_df\u001b[0m\u001b[0;34m,\u001b[0m \u001b[0msimfile\u001b[0m\u001b[0;34m=\u001b[0m\u001b[0msimfile\u001b[0m\u001b[0;34m,\u001b[0m \u001b[0mtarget_model\u001b[0m\u001b[0;34m=\u001b[0m\u001b[0;34m\"neutral\"\u001b[0m\u001b[0;34m,\u001b[0m                                \u001b[0mmetacommunity_traits\u001b[0m\u001b[0;34m=\u001b[0m\u001b[0msynthetic_df\u001b[0m\u001b[0;34m[\u001b[0m\u001b[0;34m\"trait\"\u001b[0m\u001b[0;34m]\u001b[0m\u001b[0;34m*\u001b[0m\u001b[0;36m2\u001b[0m\u001b[0;34m,\u001b[0m \u001b[0malgorithm\u001b[0m\u001b[0;34m=\u001b[0m\u001b[0;34m\"rfq\"\u001b[0m\u001b[0;34m)\u001b[0m\u001b[0;34m\u001b[0m\u001b[0m\n\u001b[1;32m      6\u001b[0m \u001b[0;31m## Train and predict\u001b[0m\u001b[0;34m\u001b[0m\u001b[0;34m\u001b[0m\u001b[0m\n\u001b[0;32m----> 7\u001b[0;31m \u001b[0mrgr\u001b[0m\u001b[0;34m.\u001b[0m\u001b[0mpredict\u001b[0m\u001b[0;34m(\u001b[0m\u001b[0mselect_features\u001b[0m\u001b[0;34m=\u001b[0m\u001b[0mTrue\u001b[0m\u001b[0;34m,\u001b[0m \u001b[0mparam_search\u001b[0m\u001b[0;34m=\u001b[0m\u001b[0mFalse\u001b[0m\u001b[0;34m,\u001b[0m \u001b[0mquick\u001b[0m\u001b[0;34m=\u001b[0m\u001b[0mTrue\u001b[0m\u001b[0;34m,\u001b[0m \u001b[0mverbose\u001b[0m\u001b[0;34m=\u001b[0m\u001b[0mTrue\u001b[0m\u001b[0;34m)\u001b[0m\u001b[0;34m\u001b[0m\u001b[0m\n\u001b[0m",
      "\u001b[0;32m/home/iovercast/Continuosity/MESS/MESS/inference.pyc\u001b[0m in \u001b[0;36mpredict\u001b[0;34m(self, select_features, param_search, by_target, quick, force, verbose)\u001b[0m\n\u001b[1;32m    871\u001b[0m         \"\"\"\n\u001b[1;32m    872\u001b[0m         super(Regressor, self).predict(select_features=select_features, param_search=param_search,\\\n\u001b[0;32m--> 873\u001b[0;31m                                         by_target=by_target, quick=quick, verbose=verbose)\n\u001b[0m\u001b[1;32m    874\u001b[0m \u001b[0;34m\u001b[0m\u001b[0m\n\u001b[1;32m    875\u001b[0m         \u001b[0mself\u001b[0m\u001b[0;34m.\u001b[0m\u001b[0m_by_target\u001b[0m \u001b[0;34m=\u001b[0m \u001b[0mby_target\u001b[0m\u001b[0;34m\u001b[0m\u001b[0m\n",
      "\u001b[0;32m/home/iovercast/Continuosity/MESS/MESS/inference.pyc\u001b[0m in \u001b[0;36mpredict\u001b[0;34m(self, select_features, param_search, by_target, quick, force, verbose)\u001b[0m\n\u001b[1;32m    349\u001b[0m         \u001b[0;31m## Select relevant features\u001b[0m\u001b[0;34m\u001b[0m\u001b[0;34m\u001b[0m\u001b[0m\n\u001b[1;32m    350\u001b[0m         \u001b[0;32mif\u001b[0m \u001b[0mselect_features\u001b[0m\u001b[0;34m:\u001b[0m\u001b[0;34m\u001b[0m\u001b[0m\n\u001b[0;32m--> 351\u001b[0;31m             \u001b[0mself\u001b[0m\u001b[0;34m.\u001b[0m\u001b[0mfeature_selection\u001b[0m\u001b[0;34m(\u001b[0m\u001b[0mquick\u001b[0m\u001b[0;34m=\u001b[0m\u001b[0mquick\u001b[0m\u001b[0;34m,\u001b[0m \u001b[0mverbose\u001b[0m\u001b[0;34m=\u001b[0m\u001b[0mverbose\u001b[0m\u001b[0;34m)\u001b[0m\u001b[0;34m\u001b[0m\u001b[0m\n\u001b[0m\u001b[1;32m    352\u001b[0m \u001b[0;34m\u001b[0m\u001b[0m\n\u001b[1;32m    353\u001b[0m         \u001b[0;31m## If using AdaBoost, RFQuantileRegressor, or GradientBoosting, then\u001b[0m\u001b[0;34m\u001b[0m\u001b[0;34m\u001b[0m\u001b[0m\n",
      "\u001b[0;32m/home/iovercast/Continuosity/MESS/MESS/inference.pyc\u001b[0m in \u001b[0;36mfeature_selection\u001b[0;34m(self, quick, verbose)\u001b[0m\n\u001b[1;32m    262\u001b[0m             \u001b[0;31m## Turn off np warnings\u001b[0m\u001b[0;34m\u001b[0m\u001b[0;34m\u001b[0m\u001b[0m\n\u001b[1;32m    263\u001b[0m             \u001b[0mnp\u001b[0m\u001b[0;34m.\u001b[0m\u001b[0mwarnings\u001b[0m\u001b[0;34m.\u001b[0m\u001b[0mfilterwarnings\u001b[0m\u001b[0;34m(\u001b[0m\u001b[0;34m'ignore'\u001b[0m\u001b[0;34m)\u001b[0m\u001b[0;34m\u001b[0m\u001b[0m\n\u001b[0;32m--> 264\u001b[0;31m             \u001b[0mfeat_selector\u001b[0m\u001b[0;34m.\u001b[0m\u001b[0mfit\u001b[0m\u001b[0;34m(\u001b[0m\u001b[0mtmpX\u001b[0m\u001b[0;34m,\u001b[0m \u001b[0mtmpy\u001b[0m\u001b[0;34m)\u001b[0m\u001b[0;34m\u001b[0m\u001b[0m\n\u001b[0m\u001b[1;32m    265\u001b[0m \u001b[0;34m\u001b[0m\u001b[0m\n\u001b[1;32m    266\u001b[0m             \u001b[0;31m# check ranking of features\u001b[0m\u001b[0;34m\u001b[0m\u001b[0;34m\u001b[0m\u001b[0m\n",
      "\u001b[0;32m/home/iovercast/miniconda2/lib/python2.7/site-packages/Boruta-0.1.5-py2.7.egg/boruta/boruta_py.pyc\u001b[0m in \u001b[0;36mfit\u001b[0;34m(self, X, y)\u001b[0m\n\u001b[1;32m    199\u001b[0m         \"\"\"\n\u001b[1;32m    200\u001b[0m \u001b[0;34m\u001b[0m\u001b[0m\n\u001b[0;32m--> 201\u001b[0;31m         \u001b[0;32mreturn\u001b[0m \u001b[0mself\u001b[0m\u001b[0;34m.\u001b[0m\u001b[0m_fit\u001b[0m\u001b[0;34m(\u001b[0m\u001b[0mX\u001b[0m\u001b[0;34m,\u001b[0m \u001b[0my\u001b[0m\u001b[0;34m)\u001b[0m\u001b[0;34m\u001b[0m\u001b[0m\n\u001b[0m\u001b[1;32m    202\u001b[0m \u001b[0;34m\u001b[0m\u001b[0m\n\u001b[1;32m    203\u001b[0m     \u001b[0;32mdef\u001b[0m \u001b[0mtransform\u001b[0m\u001b[0;34m(\u001b[0m\u001b[0mself\u001b[0m\u001b[0;34m,\u001b[0m \u001b[0mX\u001b[0m\u001b[0;34m,\u001b[0m \u001b[0mweak\u001b[0m\u001b[0;34m=\u001b[0m\u001b[0mFalse\u001b[0m\u001b[0;34m)\u001b[0m\u001b[0;34m:\u001b[0m\u001b[0;34m\u001b[0m\u001b[0m\n",
      "\u001b[0;32m/home/iovercast/miniconda2/lib/python2.7/site-packages/Boruta-0.1.5-py2.7.egg/boruta/boruta_py.pyc\u001b[0m in \u001b[0;36m_fit\u001b[0;34m(self, X, y)\u001b[0m\n\u001b[1;32m    283\u001b[0m \u001b[0;34m\u001b[0m\u001b[0m\n\u001b[1;32m    284\u001b[0m             \u001b[0;31m# add shadow attributes, shuffle them and train estimator, get imps\u001b[0m\u001b[0;34m\u001b[0m\u001b[0;34m\u001b[0m\u001b[0m\n\u001b[0;32m--> 285\u001b[0;31m             \u001b[0mcur_imp\u001b[0m \u001b[0;34m=\u001b[0m \u001b[0mself\u001b[0m\u001b[0;34m.\u001b[0m\u001b[0m_add_shadows_get_imps\u001b[0m\u001b[0;34m(\u001b[0m\u001b[0mX\u001b[0m\u001b[0;34m,\u001b[0m \u001b[0my\u001b[0m\u001b[0;34m,\u001b[0m \u001b[0mdec_reg\u001b[0m\u001b[0;34m)\u001b[0m\u001b[0;34m\u001b[0m\u001b[0m\n\u001b[0m\u001b[1;32m    286\u001b[0m \u001b[0;34m\u001b[0m\u001b[0m\n\u001b[1;32m    287\u001b[0m             \u001b[0;31m# get the threshold of shadow importances we will use for rejection\u001b[0m\u001b[0;34m\u001b[0m\u001b[0;34m\u001b[0m\u001b[0m\n",
      "\u001b[0;32m/home/iovercast/miniconda2/lib/python2.7/site-packages/Boruta-0.1.5-py2.7.egg/boruta/boruta_py.pyc\u001b[0m in \u001b[0;36m_add_shadows_get_imps\u001b[0;34m(self, X, y, dec_reg)\u001b[0m\n\u001b[1;32m    410\u001b[0m         \u001b[0mx_sha\u001b[0m \u001b[0;34m=\u001b[0m \u001b[0mnp\u001b[0m\u001b[0;34m.\u001b[0m\u001b[0mapply_along_axis\u001b[0m\u001b[0;34m(\u001b[0m\u001b[0mself\u001b[0m\u001b[0;34m.\u001b[0m\u001b[0m_get_shuffle\u001b[0m\u001b[0;34m,\u001b[0m \u001b[0;36m0\u001b[0m\u001b[0;34m,\u001b[0m \u001b[0mx_sha\u001b[0m\u001b[0;34m)\u001b[0m\u001b[0;34m\u001b[0m\u001b[0m\n\u001b[1;32m    411\u001b[0m         \u001b[0;31m# get importance of the merged matrix\u001b[0m\u001b[0;34m\u001b[0m\u001b[0;34m\u001b[0m\u001b[0m\n\u001b[0;32m--> 412\u001b[0;31m         \u001b[0mimp\u001b[0m \u001b[0;34m=\u001b[0m \u001b[0mself\u001b[0m\u001b[0;34m.\u001b[0m\u001b[0m_get_imp\u001b[0m\u001b[0;34m(\u001b[0m\u001b[0mnp\u001b[0m\u001b[0;34m.\u001b[0m\u001b[0mhstack\u001b[0m\u001b[0;34m(\u001b[0m\u001b[0;34m(\u001b[0m\u001b[0mx_cur\u001b[0m\u001b[0;34m,\u001b[0m \u001b[0mx_sha\u001b[0m\u001b[0;34m)\u001b[0m\u001b[0;34m)\u001b[0m\u001b[0;34m,\u001b[0m \u001b[0my\u001b[0m\u001b[0;34m)\u001b[0m\u001b[0;34m\u001b[0m\u001b[0m\n\u001b[0m\u001b[1;32m    413\u001b[0m         \u001b[0;31m# separate importances of real and shadow features\u001b[0m\u001b[0;34m\u001b[0m\u001b[0;34m\u001b[0m\u001b[0m\n\u001b[1;32m    414\u001b[0m         \u001b[0mimp_sha\u001b[0m \u001b[0;34m=\u001b[0m \u001b[0mimp\u001b[0m\u001b[0;34m[\u001b[0m\u001b[0mx_cur_w\u001b[0m\u001b[0;34m:\u001b[0m\u001b[0;34m]\u001b[0m\u001b[0;34m\u001b[0m\u001b[0m\n",
      "\u001b[0;32m/home/iovercast/miniconda2/lib/python2.7/site-packages/Boruta-0.1.5-py2.7.egg/boruta/boruta_py.pyc\u001b[0m in \u001b[0;36m_get_imp\u001b[0;34m(self, X, y)\u001b[0m\n\u001b[1;32m    382\u001b[0m     \u001b[0;32mdef\u001b[0m \u001b[0m_get_imp\u001b[0m\u001b[0;34m(\u001b[0m\u001b[0mself\u001b[0m\u001b[0;34m,\u001b[0m \u001b[0mX\u001b[0m\u001b[0;34m,\u001b[0m \u001b[0my\u001b[0m\u001b[0;34m)\u001b[0m\u001b[0;34m:\u001b[0m\u001b[0;34m\u001b[0m\u001b[0m\n\u001b[1;32m    383\u001b[0m         \u001b[0;32mtry\u001b[0m\u001b[0;34m:\u001b[0m\u001b[0;34m\u001b[0m\u001b[0m\n\u001b[0;32m--> 384\u001b[0;31m             \u001b[0mself\u001b[0m\u001b[0;34m.\u001b[0m\u001b[0mestimator\u001b[0m\u001b[0;34m.\u001b[0m\u001b[0mfit\u001b[0m\u001b[0;34m(\u001b[0m\u001b[0mX\u001b[0m\u001b[0;34m,\u001b[0m \u001b[0my\u001b[0m\u001b[0;34m)\u001b[0m\u001b[0;34m\u001b[0m\u001b[0m\n\u001b[0m\u001b[1;32m    385\u001b[0m         \u001b[0;32mexcept\u001b[0m \u001b[0mException\u001b[0m \u001b[0;32mas\u001b[0m \u001b[0me\u001b[0m\u001b[0;34m:\u001b[0m\u001b[0;34m\u001b[0m\u001b[0m\n\u001b[1;32m    386\u001b[0m             raise ValueError('Please check your X and y variable. The provided'\n",
      "\u001b[0;32m/home/iovercast/miniconda2/lib/python2.7/site-packages/skgarden/quantile/ensemble.pyc\u001b[0m in \u001b[0;36mfit\u001b[0;34m(self, X, y)\u001b[0m\n\u001b[1;32m     78\u001b[0m         X, y = check_X_y(\n\u001b[1;32m     79\u001b[0m             X, y, accept_sparse=\"csc\", dtype=np.float32, multi_output=False)\n\u001b[0;32m---> 80\u001b[0;31m         \u001b[0msuper\u001b[0m\u001b[0;34m(\u001b[0m\u001b[0mBaseForestQuantileRegressor\u001b[0m\u001b[0;34m,\u001b[0m \u001b[0mself\u001b[0m\u001b[0;34m)\u001b[0m\u001b[0;34m.\u001b[0m\u001b[0mfit\u001b[0m\u001b[0;34m(\u001b[0m\u001b[0mX\u001b[0m\u001b[0;34m,\u001b[0m \u001b[0my\u001b[0m\u001b[0;34m)\u001b[0m\u001b[0;34m\u001b[0m\u001b[0m\n\u001b[0m\u001b[1;32m     81\u001b[0m \u001b[0;34m\u001b[0m\u001b[0m\n\u001b[1;32m     82\u001b[0m         \u001b[0mself\u001b[0m\u001b[0;34m.\u001b[0m\u001b[0my_train_\u001b[0m \u001b[0;34m=\u001b[0m \u001b[0my\u001b[0m\u001b[0;34m\u001b[0m\u001b[0m\n",
      "\u001b[0;32m/home/iovercast/miniconda2/lib/python2.7/site-packages/sklearn/ensemble/forest.pyc\u001b[0m in \u001b[0;36mfit\u001b[0;34m(self, X, y, sample_weight)\u001b[0m\n\u001b[1;32m    331\u001b[0m                     \u001b[0mt\u001b[0m\u001b[0;34m,\u001b[0m \u001b[0mself\u001b[0m\u001b[0;34m,\u001b[0m \u001b[0mX\u001b[0m\u001b[0;34m,\u001b[0m \u001b[0my\u001b[0m\u001b[0;34m,\u001b[0m \u001b[0msample_weight\u001b[0m\u001b[0;34m,\u001b[0m \u001b[0mi\u001b[0m\u001b[0;34m,\u001b[0m \u001b[0mlen\u001b[0m\u001b[0;34m(\u001b[0m\u001b[0mtrees\u001b[0m\u001b[0;34m)\u001b[0m\u001b[0;34m,\u001b[0m\u001b[0;34m\u001b[0m\u001b[0m\n\u001b[1;32m    332\u001b[0m                     verbose=self.verbose, class_weight=self.class_weight)\n\u001b[0;32m--> 333\u001b[0;31m                 for i, t in enumerate(trees))\n\u001b[0m\u001b[1;32m    334\u001b[0m \u001b[0;34m\u001b[0m\u001b[0m\n\u001b[1;32m    335\u001b[0m             \u001b[0;31m# Collect newly grown trees\u001b[0m\u001b[0;34m\u001b[0m\u001b[0;34m\u001b[0m\u001b[0m\n",
      "\u001b[0;32m/home/iovercast/miniconda2/lib/python2.7/site-packages/sklearn/externals/joblib/parallel.pyc\u001b[0m in \u001b[0;36m__call__\u001b[0;34m(self, iterable)\u001b[0m\n\u001b[1;32m    918\u001b[0m                 \u001b[0mself\u001b[0m\u001b[0;34m.\u001b[0m\u001b[0m_iterating\u001b[0m \u001b[0;34m=\u001b[0m \u001b[0mself\u001b[0m\u001b[0;34m.\u001b[0m\u001b[0m_original_iterator\u001b[0m \u001b[0;32mis\u001b[0m \u001b[0;32mnot\u001b[0m \u001b[0mNone\u001b[0m\u001b[0;34m\u001b[0m\u001b[0m\n\u001b[1;32m    919\u001b[0m \u001b[0;34m\u001b[0m\u001b[0m\n\u001b[0;32m--> 920\u001b[0;31m             \u001b[0;32mwhile\u001b[0m \u001b[0mself\u001b[0m\u001b[0;34m.\u001b[0m\u001b[0mdispatch_one_batch\u001b[0m\u001b[0;34m(\u001b[0m\u001b[0miterator\u001b[0m\u001b[0;34m)\u001b[0m\u001b[0;34m:\u001b[0m\u001b[0;34m\u001b[0m\u001b[0m\n\u001b[0m\u001b[1;32m    921\u001b[0m                 \u001b[0;32mpass\u001b[0m\u001b[0;34m\u001b[0m\u001b[0m\n\u001b[1;32m    922\u001b[0m \u001b[0;34m\u001b[0m\u001b[0m\n",
      "\u001b[0;32m/home/iovercast/miniconda2/lib/python2.7/site-packages/sklearn/externals/joblib/parallel.pyc\u001b[0m in \u001b[0;36mdispatch_one_batch\u001b[0;34m(self, iterator)\u001b[0m\n\u001b[1;32m    757\u001b[0m                 \u001b[0;32mreturn\u001b[0m \u001b[0mFalse\u001b[0m\u001b[0;34m\u001b[0m\u001b[0m\n\u001b[1;32m    758\u001b[0m             \u001b[0;32melse\u001b[0m\u001b[0;34m:\u001b[0m\u001b[0;34m\u001b[0m\u001b[0m\n\u001b[0;32m--> 759\u001b[0;31m                 \u001b[0mself\u001b[0m\u001b[0;34m.\u001b[0m\u001b[0m_dispatch\u001b[0m\u001b[0;34m(\u001b[0m\u001b[0mtasks\u001b[0m\u001b[0;34m)\u001b[0m\u001b[0;34m\u001b[0m\u001b[0m\n\u001b[0m\u001b[1;32m    760\u001b[0m                 \u001b[0;32mreturn\u001b[0m \u001b[0mTrue\u001b[0m\u001b[0;34m\u001b[0m\u001b[0m\n\u001b[1;32m    761\u001b[0m \u001b[0;34m\u001b[0m\u001b[0m\n",
      "\u001b[0;32m/home/iovercast/miniconda2/lib/python2.7/site-packages/sklearn/externals/joblib/parallel.pyc\u001b[0m in \u001b[0;36m_dispatch\u001b[0;34m(self, batch)\u001b[0m\n\u001b[1;32m    714\u001b[0m         \u001b[0;32mwith\u001b[0m \u001b[0mself\u001b[0m\u001b[0;34m.\u001b[0m\u001b[0m_lock\u001b[0m\u001b[0;34m:\u001b[0m\u001b[0;34m\u001b[0m\u001b[0m\n\u001b[1;32m    715\u001b[0m             \u001b[0mjob_idx\u001b[0m \u001b[0;34m=\u001b[0m \u001b[0mlen\u001b[0m\u001b[0;34m(\u001b[0m\u001b[0mself\u001b[0m\u001b[0;34m.\u001b[0m\u001b[0m_jobs\u001b[0m\u001b[0;34m)\u001b[0m\u001b[0;34m\u001b[0m\u001b[0m\n\u001b[0;32m--> 716\u001b[0;31m             \u001b[0mjob\u001b[0m \u001b[0;34m=\u001b[0m \u001b[0mself\u001b[0m\u001b[0;34m.\u001b[0m\u001b[0m_backend\u001b[0m\u001b[0;34m.\u001b[0m\u001b[0mapply_async\u001b[0m\u001b[0;34m(\u001b[0m\u001b[0mbatch\u001b[0m\u001b[0;34m,\u001b[0m \u001b[0mcallback\u001b[0m\u001b[0;34m=\u001b[0m\u001b[0mcb\u001b[0m\u001b[0;34m)\u001b[0m\u001b[0;34m\u001b[0m\u001b[0m\n\u001b[0m\u001b[1;32m    717\u001b[0m             \u001b[0;31m# A job can complete so quickly than its callback is\u001b[0m\u001b[0;34m\u001b[0m\u001b[0;34m\u001b[0m\u001b[0m\n\u001b[1;32m    718\u001b[0m             \u001b[0;31m# called before we get here, causing self._jobs to\u001b[0m\u001b[0;34m\u001b[0m\u001b[0;34m\u001b[0m\u001b[0m\n",
      "\u001b[0;32m/home/iovercast/miniconda2/lib/python2.7/site-packages/sklearn/externals/joblib/_parallel_backends.pyc\u001b[0m in \u001b[0;36mapply_async\u001b[0;34m(self, func, callback)\u001b[0m\n\u001b[1;32m    180\u001b[0m     \u001b[0;32mdef\u001b[0m \u001b[0mapply_async\u001b[0m\u001b[0;34m(\u001b[0m\u001b[0mself\u001b[0m\u001b[0;34m,\u001b[0m \u001b[0mfunc\u001b[0m\u001b[0;34m,\u001b[0m \u001b[0mcallback\u001b[0m\u001b[0;34m=\u001b[0m\u001b[0mNone\u001b[0m\u001b[0;34m)\u001b[0m\u001b[0;34m:\u001b[0m\u001b[0;34m\u001b[0m\u001b[0m\n\u001b[1;32m    181\u001b[0m         \u001b[0;34m\"\"\"Schedule a func to be run\"\"\"\u001b[0m\u001b[0;34m\u001b[0m\u001b[0m\n\u001b[0;32m--> 182\u001b[0;31m         \u001b[0mresult\u001b[0m \u001b[0;34m=\u001b[0m \u001b[0mImmediateResult\u001b[0m\u001b[0;34m(\u001b[0m\u001b[0mfunc\u001b[0m\u001b[0;34m)\u001b[0m\u001b[0;34m\u001b[0m\u001b[0m\n\u001b[0m\u001b[1;32m    183\u001b[0m         \u001b[0;32mif\u001b[0m \u001b[0mcallback\u001b[0m\u001b[0;34m:\u001b[0m\u001b[0;34m\u001b[0m\u001b[0m\n\u001b[1;32m    184\u001b[0m             \u001b[0mcallback\u001b[0m\u001b[0;34m(\u001b[0m\u001b[0mresult\u001b[0m\u001b[0;34m)\u001b[0m\u001b[0;34m\u001b[0m\u001b[0m\n",
      "\u001b[0;32m/home/iovercast/miniconda2/lib/python2.7/site-packages/sklearn/externals/joblib/_parallel_backends.pyc\u001b[0m in \u001b[0;36m__init__\u001b[0;34m(self, batch)\u001b[0m\n\u001b[1;32m    547\u001b[0m         \u001b[0;31m# Don't delay the application, to avoid keeping the input\u001b[0m\u001b[0;34m\u001b[0m\u001b[0;34m\u001b[0m\u001b[0m\n\u001b[1;32m    548\u001b[0m         \u001b[0;31m# arguments in memory\u001b[0m\u001b[0;34m\u001b[0m\u001b[0;34m\u001b[0m\u001b[0m\n\u001b[0;32m--> 549\u001b[0;31m         \u001b[0mself\u001b[0m\u001b[0;34m.\u001b[0m\u001b[0mresults\u001b[0m \u001b[0;34m=\u001b[0m \u001b[0mbatch\u001b[0m\u001b[0;34m(\u001b[0m\u001b[0;34m)\u001b[0m\u001b[0;34m\u001b[0m\u001b[0m\n\u001b[0m\u001b[1;32m    550\u001b[0m \u001b[0;34m\u001b[0m\u001b[0m\n\u001b[1;32m    551\u001b[0m     \u001b[0;32mdef\u001b[0m \u001b[0mget\u001b[0m\u001b[0;34m(\u001b[0m\u001b[0mself\u001b[0m\u001b[0;34m)\u001b[0m\u001b[0;34m:\u001b[0m\u001b[0;34m\u001b[0m\u001b[0m\n",
      "\u001b[0;32m/home/iovercast/miniconda2/lib/python2.7/site-packages/sklearn/externals/joblib/parallel.pyc\u001b[0m in \u001b[0;36m__call__\u001b[0;34m(self)\u001b[0m\n\u001b[1;32m    223\u001b[0m         \u001b[0;32mwith\u001b[0m \u001b[0mparallel_backend\u001b[0m\u001b[0;34m(\u001b[0m\u001b[0mself\u001b[0m\u001b[0;34m.\u001b[0m\u001b[0m_backend\u001b[0m\u001b[0;34m,\u001b[0m \u001b[0mn_jobs\u001b[0m\u001b[0;34m=\u001b[0m\u001b[0mself\u001b[0m\u001b[0;34m.\u001b[0m\u001b[0m_n_jobs\u001b[0m\u001b[0;34m)\u001b[0m\u001b[0;34m:\u001b[0m\u001b[0;34m\u001b[0m\u001b[0m\n\u001b[1;32m    224\u001b[0m             return [func(*args, **kwargs)\n\u001b[0;32m--> 225\u001b[0;31m                     for func, args, kwargs in self.items]\n\u001b[0m\u001b[1;32m    226\u001b[0m \u001b[0;34m\u001b[0m\u001b[0m\n\u001b[1;32m    227\u001b[0m     \u001b[0;32mdef\u001b[0m \u001b[0m__len__\u001b[0m\u001b[0;34m(\u001b[0m\u001b[0mself\u001b[0m\u001b[0;34m)\u001b[0m\u001b[0;34m:\u001b[0m\u001b[0;34m\u001b[0m\u001b[0m\n",
      "\u001b[0;32m/home/iovercast/miniconda2/lib/python2.7/site-packages/sklearn/ensemble/forest.pyc\u001b[0m in \u001b[0;36m_parallel_build_trees\u001b[0;34m(tree, forest, X, y, sample_weight, tree_idx, n_trees, verbose, class_weight)\u001b[0m\n\u001b[1;32m    117\u001b[0m             \u001b[0mcurr_sample_weight\u001b[0m \u001b[0;34m*=\u001b[0m \u001b[0mcompute_sample_weight\u001b[0m\u001b[0;34m(\u001b[0m\u001b[0;34m'balanced'\u001b[0m\u001b[0;34m,\u001b[0m \u001b[0my\u001b[0m\u001b[0;34m,\u001b[0m \u001b[0mindices\u001b[0m\u001b[0;34m)\u001b[0m\u001b[0;34m\u001b[0m\u001b[0m\n\u001b[1;32m    118\u001b[0m \u001b[0;34m\u001b[0m\u001b[0m\n\u001b[0;32m--> 119\u001b[0;31m         \u001b[0mtree\u001b[0m\u001b[0;34m.\u001b[0m\u001b[0mfit\u001b[0m\u001b[0;34m(\u001b[0m\u001b[0mX\u001b[0m\u001b[0;34m,\u001b[0m \u001b[0my\u001b[0m\u001b[0;34m,\u001b[0m \u001b[0msample_weight\u001b[0m\u001b[0;34m=\u001b[0m\u001b[0mcurr_sample_weight\u001b[0m\u001b[0;34m,\u001b[0m \u001b[0mcheck_input\u001b[0m\u001b[0;34m=\u001b[0m\u001b[0mFalse\u001b[0m\u001b[0;34m)\u001b[0m\u001b[0;34m\u001b[0m\u001b[0m\n\u001b[0m\u001b[1;32m    120\u001b[0m     \u001b[0;32melse\u001b[0m\u001b[0;34m:\u001b[0m\u001b[0;34m\u001b[0m\u001b[0m\n\u001b[1;32m    121\u001b[0m         \u001b[0mtree\u001b[0m\u001b[0;34m.\u001b[0m\u001b[0mfit\u001b[0m\u001b[0;34m(\u001b[0m\u001b[0mX\u001b[0m\u001b[0;34m,\u001b[0m \u001b[0my\u001b[0m\u001b[0;34m,\u001b[0m \u001b[0msample_weight\u001b[0m\u001b[0;34m=\u001b[0m\u001b[0msample_weight\u001b[0m\u001b[0;34m,\u001b[0m \u001b[0mcheck_input\u001b[0m\u001b[0;34m=\u001b[0m\u001b[0mFalse\u001b[0m\u001b[0;34m)\u001b[0m\u001b[0;34m\u001b[0m\u001b[0m\n",
      "\u001b[0;32m/home/iovercast/miniconda2/lib/python2.7/site-packages/sklearn/tree/tree.pyc\u001b[0m in \u001b[0;36mfit\u001b[0;34m(self, X, y, sample_weight, check_input, X_idx_sorted)\u001b[0m\n\u001b[1;32m   1140\u001b[0m             \u001b[0msample_weight\u001b[0m\u001b[0;34m=\u001b[0m\u001b[0msample_weight\u001b[0m\u001b[0;34m,\u001b[0m\u001b[0;34m\u001b[0m\u001b[0m\n\u001b[1;32m   1141\u001b[0m             \u001b[0mcheck_input\u001b[0m\u001b[0;34m=\u001b[0m\u001b[0mcheck_input\u001b[0m\u001b[0;34m,\u001b[0m\u001b[0;34m\u001b[0m\u001b[0m\n\u001b[0;32m-> 1142\u001b[0;31m             X_idx_sorted=X_idx_sorted)\n\u001b[0m\u001b[1;32m   1143\u001b[0m         \u001b[0;32mreturn\u001b[0m \u001b[0mself\u001b[0m\u001b[0;34m\u001b[0m\u001b[0m\n\u001b[1;32m   1144\u001b[0m \u001b[0;34m\u001b[0m\u001b[0m\n",
      "\u001b[0;32m/home/iovercast/miniconda2/lib/python2.7/site-packages/skgarden/quantile/tree.pyc\u001b[0m in \u001b[0;36mfit\u001b[0;34m(self, X, y, sample_weight, check_input, X_idx_sorted)\u001b[0m\n\u001b[1;32m     95\u001b[0m         super(BaseTreeQuantileRegressor, self).fit(\n\u001b[1;32m     96\u001b[0m             \u001b[0mX\u001b[0m\u001b[0;34m,\u001b[0m \u001b[0my\u001b[0m\u001b[0;34m,\u001b[0m \u001b[0msample_weight\u001b[0m\u001b[0;34m=\u001b[0m\u001b[0msample_weight\u001b[0m\u001b[0;34m,\u001b[0m \u001b[0mcheck_input\u001b[0m\u001b[0;34m=\u001b[0m\u001b[0mcheck_input\u001b[0m\u001b[0;34m,\u001b[0m\u001b[0;34m\u001b[0m\u001b[0m\n\u001b[0;32m---> 97\u001b[0;31m             X_idx_sorted=X_idx_sorted)\n\u001b[0m\u001b[1;32m     98\u001b[0m         \u001b[0mself\u001b[0m\u001b[0;34m.\u001b[0m\u001b[0my_train_\u001b[0m \u001b[0;34m=\u001b[0m \u001b[0my\u001b[0m\u001b[0;34m\u001b[0m\u001b[0m\n\u001b[1;32m     99\u001b[0m \u001b[0;34m\u001b[0m\u001b[0m\n",
      "\u001b[0;32m/home/iovercast/miniconda2/lib/python2.7/site-packages/sklearn/tree/tree.pyc\u001b[0m in \u001b[0;36mfit\u001b[0;34m(self, X, y, sample_weight, check_input, X_idx_sorted)\u001b[0m\n\u001b[1;32m    364\u001b[0m                                            min_impurity_split)\n\u001b[1;32m    365\u001b[0m \u001b[0;34m\u001b[0m\u001b[0m\n\u001b[0;32m--> 366\u001b[0;31m         \u001b[0mbuilder\u001b[0m\u001b[0;34m.\u001b[0m\u001b[0mbuild\u001b[0m\u001b[0;34m(\u001b[0m\u001b[0mself\u001b[0m\u001b[0;34m.\u001b[0m\u001b[0mtree_\u001b[0m\u001b[0;34m,\u001b[0m \u001b[0mX\u001b[0m\u001b[0;34m,\u001b[0m \u001b[0my\u001b[0m\u001b[0;34m,\u001b[0m \u001b[0msample_weight\u001b[0m\u001b[0;34m,\u001b[0m \u001b[0mX_idx_sorted\u001b[0m\u001b[0;34m)\u001b[0m\u001b[0;34m\u001b[0m\u001b[0m\n\u001b[0m\u001b[1;32m    367\u001b[0m \u001b[0;34m\u001b[0m\u001b[0m\n\u001b[1;32m    368\u001b[0m         \u001b[0;32mif\u001b[0m \u001b[0mself\u001b[0m\u001b[0;34m.\u001b[0m\u001b[0mn_outputs_\u001b[0m \u001b[0;34m==\u001b[0m \u001b[0;36m1\u001b[0m\u001b[0;34m:\u001b[0m\u001b[0;34m\u001b[0m\u001b[0m\n",
      "\u001b[0;31mKeyboardInterrupt\u001b[0m: "
     ]
    }
   ],
   "source": [
    "\n",
    "## Create a fake toy community df\n",
    "synthetic_df = MESS.util.synthetic_community(nspecies=30)\n",
    "## Make the regressor\n",
    "rgr = MESS.inference.Regressor(empirical_df=synthetic_df, simfile=simfile, target_model=\"neutral\",\\\n",
    "                                metacommunity_traits=synthetic_df[\"trait\"]*2, algorithm=\"rfq\")\n",
    "## Train and predict\n",
    "rgr.predict(select_features=True, param_search=False, quick=True, verbose=True)"
   ]
  },
  {
   "cell_type": "markdown",
   "metadata": {},
   "source": [
    "## Get estimates and prediction intervals for all the synthetic communities"
   ]
  },
  {
   "cell_type": "code",
   "execution_count": 60,
   "metadata": {},
   "outputs": [
    {
     "name": "stdout",
     "output_type": "stream",
     "text": [
      "Mauritius_weevils\n"
     ]
    },
    {
     "data": {
      "text/html": [
       "<div>\n",
       "<style scoped>\n",
       "    .dataframe tbody tr th:only-of-type {\n",
       "        vertical-align: middle;\n",
       "    }\n",
       "\n",
       "    .dataframe tbody tr th {\n",
       "        vertical-align: top;\n",
       "    }\n",
       "\n",
       "    .dataframe thead th {\n",
       "        text-align: right;\n",
       "    }\n",
       "</style>\n",
       "<table border=\"1\" class=\"dataframe\">\n",
       "  <thead>\n",
       "    <tr style=\"text-align: right;\">\n",
       "      <th></th>\n",
       "      <th>alpha</th>\n",
       "      <th>ecological_strength</th>\n",
       "      <th>J</th>\n",
       "      <th>m</th>\n",
       "      <th>generation</th>\n",
       "      <th>speciation_prob</th>\n",
       "      <th>_lambda</th>\n",
       "    </tr>\n",
       "  </thead>\n",
       "  <tbody>\n",
       "    <tr>\n",
       "      <th>estimate</th>\n",
       "      <td>8057.457509</td>\n",
       "      <td>0.203130</td>\n",
       "      <td>1826.479444</td>\n",
       "      <td>0.002049</td>\n",
       "      <td>1596.384340</td>\n",
       "      <td>0.000874</td>\n",
       "      <td>0.897294</td>\n",
       "    </tr>\n",
       "    <tr>\n",
       "      <th>lower 0.025</th>\n",
       "      <td>5240.547007</td>\n",
       "      <td>0.001200</td>\n",
       "      <td>1129.399999</td>\n",
       "      <td>0.001030</td>\n",
       "      <td>916.124935</td>\n",
       "      <td>0.000510</td>\n",
       "      <td>0.844607</td>\n",
       "    </tr>\n",
       "    <tr>\n",
       "      <th>upper 0.975</th>\n",
       "      <td>9903.569179</td>\n",
       "      <td>0.916093</td>\n",
       "      <td>3884.125328</td>\n",
       "      <td>0.005910</td>\n",
       "      <td>2371.304587</td>\n",
       "      <td>0.002260</td>\n",
       "      <td>0.984617</td>\n",
       "    </tr>\n",
       "  </tbody>\n",
       "</table>\n",
       "</div>"
      ],
      "text/plain": [
       "                   alpha  ecological_strength            J         m  \\\n",
       "estimate     8057.457509             0.203130  1826.479444  0.002049   \n",
       "lower 0.025  5240.547007             0.001200  1129.399999  0.001030   \n",
       "upper 0.975  9903.569179             0.916093  3884.125328  0.005910   \n",
       "\n",
       "              generation  speciation_prob   _lambda  \n",
       "estimate     1596.384340         0.000874  0.897294  \n",
       "lower 0.025   916.124935         0.000510  0.844607  \n",
       "upper 0.975  2371.304587         0.002260  0.984617  "
      ]
     },
     "metadata": {},
     "output_type": "display_data"
    },
    {
     "name": "stdout",
     "output_type": "stream",
     "text": [
      "Trees_1\n"
     ]
    },
    {
     "data": {
      "text/html": [
       "<div>\n",
       "<style scoped>\n",
       "    .dataframe tbody tr th:only-of-type {\n",
       "        vertical-align: middle;\n",
       "    }\n",
       "\n",
       "    .dataframe tbody tr th {\n",
       "        vertical-align: top;\n",
       "    }\n",
       "\n",
       "    .dataframe thead th {\n",
       "        text-align: right;\n",
       "    }\n",
       "</style>\n",
       "<table border=\"1\" class=\"dataframe\">\n",
       "  <thead>\n",
       "    <tr style=\"text-align: right;\">\n",
       "      <th></th>\n",
       "      <th>alpha</th>\n",
       "      <th>ecological_strength</th>\n",
       "      <th>J</th>\n",
       "      <th>m</th>\n",
       "      <th>generation</th>\n",
       "      <th>speciation_prob</th>\n",
       "      <th>_lambda</th>\n",
       "    </tr>\n",
       "  </thead>\n",
       "  <tbody>\n",
       "    <tr>\n",
       "      <th>estimate</th>\n",
       "      <td>8206.454473</td>\n",
       "      <td>0.210090</td>\n",
       "      <td>5423.390556</td>\n",
       "      <td>0.006345</td>\n",
       "      <td>831.623032</td>\n",
       "      <td>0.000993</td>\n",
       "      <td>0.969656</td>\n",
       "    </tr>\n",
       "    <tr>\n",
       "      <th>lower 0.025</th>\n",
       "      <td>5576.914355</td>\n",
       "      <td>0.001195</td>\n",
       "      <td>2554.418182</td>\n",
       "      <td>0.002170</td>\n",
       "      <td>427.779662</td>\n",
       "      <td>0.000520</td>\n",
       "      <td>0.931974</td>\n",
       "    </tr>\n",
       "    <tr>\n",
       "      <th>upper 0.975</th>\n",
       "      <td>9949.000000</td>\n",
       "      <td>0.864499</td>\n",
       "      <td>9644.857294</td>\n",
       "      <td>0.009576</td>\n",
       "      <td>1423.812778</td>\n",
       "      <td>0.002749</td>\n",
       "      <td>0.997474</td>\n",
       "    </tr>\n",
       "  </tbody>\n",
       "</table>\n",
       "</div>"
      ],
      "text/plain": [
       "                   alpha  ecological_strength            J         m  \\\n",
       "estimate     8206.454473             0.210090  5423.390556  0.006345   \n",
       "lower 0.025  5576.914355             0.001195  2554.418182  0.002170   \n",
       "upper 0.975  9949.000000             0.864499  9644.857294  0.009576   \n",
       "\n",
       "              generation  speciation_prob   _lambda  \n",
       "estimate      831.623032         0.000993  0.969656  \n",
       "lower 0.025   427.779662         0.000520  0.931974  \n",
       "upper 0.975  1423.812778         0.002749  0.997474  "
      ]
     },
     "metadata": {},
     "output_type": "display_data"
    },
    {
     "name": "stdout",
     "output_type": "stream",
     "text": [
      "Trees_2\n"
     ]
    },
    {
     "data": {
      "text/html": [
       "<div>\n",
       "<style scoped>\n",
       "    .dataframe tbody tr th:only-of-type {\n",
       "        vertical-align: middle;\n",
       "    }\n",
       "\n",
       "    .dataframe tbody tr th {\n",
       "        vertical-align: top;\n",
       "    }\n",
       "\n",
       "    .dataframe thead th {\n",
       "        text-align: right;\n",
       "    }\n",
       "</style>\n",
       "<table border=\"1\" class=\"dataframe\">\n",
       "  <thead>\n",
       "    <tr style=\"text-align: right;\">\n",
       "      <th></th>\n",
       "      <th>alpha</th>\n",
       "      <th>ecological_strength</th>\n",
       "      <th>J</th>\n",
       "      <th>m</th>\n",
       "      <th>generation</th>\n",
       "      <th>speciation_prob</th>\n",
       "      <th>_lambda</th>\n",
       "    </tr>\n",
       "  </thead>\n",
       "  <tbody>\n",
       "    <tr>\n",
       "      <th>estimate</th>\n",
       "      <td>8235.518942</td>\n",
       "      <td>0.215152</td>\n",
       "      <td>5398.436111</td>\n",
       "      <td>0.003639</td>\n",
       "      <td>921.333829</td>\n",
       "      <td>0.001070</td>\n",
       "      <td>0.969148</td>\n",
       "    </tr>\n",
       "    <tr>\n",
       "      <th>lower 0.025</th>\n",
       "      <td>5579.951071</td>\n",
       "      <td>0.001230</td>\n",
       "      <td>2559.105264</td>\n",
       "      <td>0.001050</td>\n",
       "      <td>485.156294</td>\n",
       "      <td>0.000520</td>\n",
       "      <td>0.930088</td>\n",
       "    </tr>\n",
       "    <tr>\n",
       "      <th>upper 0.975</th>\n",
       "      <td>9973.929020</td>\n",
       "      <td>0.840113</td>\n",
       "      <td>9627.034342</td>\n",
       "      <td>0.008226</td>\n",
       "      <td>1527.739108</td>\n",
       "      <td>0.002742</td>\n",
       "      <td>0.997954</td>\n",
       "    </tr>\n",
       "  </tbody>\n",
       "</table>\n",
       "</div>"
      ],
      "text/plain": [
       "                   alpha  ecological_strength            J         m  \\\n",
       "estimate     8235.518942             0.215152  5398.436111  0.003639   \n",
       "lower 0.025  5579.951071             0.001230  2559.105264  0.001050   \n",
       "upper 0.975  9973.929020             0.840113  9627.034342  0.008226   \n",
       "\n",
       "              generation  speciation_prob   _lambda  \n",
       "estimate      921.333829         0.001070  0.969148  \n",
       "lower 0.025   485.156294         0.000520  0.930088  \n",
       "upper 0.975  1527.739108         0.002742  0.997954  "
      ]
     },
     "metadata": {},
     "output_type": "display_data"
    },
    {
     "name": "stdout",
     "output_type": "stream",
     "text": [
      "Reunion_spiders\n"
     ]
    },
    {
     "data": {
      "text/html": [
       "<div>\n",
       "<style scoped>\n",
       "    .dataframe tbody tr th:only-of-type {\n",
       "        vertical-align: middle;\n",
       "    }\n",
       "\n",
       "    .dataframe tbody tr th {\n",
       "        vertical-align: top;\n",
       "    }\n",
       "\n",
       "    .dataframe thead th {\n",
       "        text-align: right;\n",
       "    }\n",
       "</style>\n",
       "<table border=\"1\" class=\"dataframe\">\n",
       "  <thead>\n",
       "    <tr style=\"text-align: right;\">\n",
       "      <th></th>\n",
       "      <th>alpha</th>\n",
       "      <th>ecological_strength</th>\n",
       "      <th>J</th>\n",
       "      <th>m</th>\n",
       "      <th>generation</th>\n",
       "      <th>speciation_prob</th>\n",
       "      <th>_lambda</th>\n",
       "    </tr>\n",
       "  </thead>\n",
       "  <tbody>\n",
       "    <tr>\n",
       "      <th>estimate</th>\n",
       "      <td>8116.346153</td>\n",
       "      <td>0.228356</td>\n",
       "      <td>5223.427222</td>\n",
       "      <td>0.006886</td>\n",
       "      <td>866.538565</td>\n",
       "      <td>0.001480</td>\n",
       "      <td>0.971047</td>\n",
       "    </tr>\n",
       "    <tr>\n",
       "      <th>lower 0.025</th>\n",
       "      <td>4668.560842</td>\n",
       "      <td>0.001260</td>\n",
       "      <td>2554.518518</td>\n",
       "      <td>0.002867</td>\n",
       "      <td>434.000000</td>\n",
       "      <td>0.000530</td>\n",
       "      <td>0.930606</td>\n",
       "    </tr>\n",
       "    <tr>\n",
       "      <th>upper 0.975</th>\n",
       "      <td>9950.568520</td>\n",
       "      <td>0.869417</td>\n",
       "      <td>9626.193394</td>\n",
       "      <td>0.009845</td>\n",
       "      <td>1478.981262</td>\n",
       "      <td>0.003447</td>\n",
       "      <td>0.997732</td>\n",
       "    </tr>\n",
       "  </tbody>\n",
       "</table>\n",
       "</div>"
      ],
      "text/plain": [
       "                   alpha  ecological_strength            J         m  \\\n",
       "estimate     8116.346153             0.228356  5223.427222  0.006886   \n",
       "lower 0.025  4668.560842             0.001260  2554.518518  0.002867   \n",
       "upper 0.975  9950.568520             0.869417  9626.193394  0.009845   \n",
       "\n",
       "              generation  speciation_prob   _lambda  \n",
       "estimate      866.538565         0.001480  0.971047  \n",
       "lower 0.025   434.000000         0.000530  0.930606  \n",
       "upper 0.975  1478.981262         0.003447  0.997732  "
      ]
     },
     "metadata": {},
     "output_type": "display_data"
    },
    {
     "name": "stdout",
     "output_type": "stream",
     "text": [
      "Reunion_weevils\n"
     ]
    },
    {
     "data": {
      "text/html": [
       "<div>\n",
       "<style scoped>\n",
       "    .dataframe tbody tr th:only-of-type {\n",
       "        vertical-align: middle;\n",
       "    }\n",
       "\n",
       "    .dataframe tbody tr th {\n",
       "        vertical-align: top;\n",
       "    }\n",
       "\n",
       "    .dataframe thead th {\n",
       "        text-align: right;\n",
       "    }\n",
       "</style>\n",
       "<table border=\"1\" class=\"dataframe\">\n",
       "  <thead>\n",
       "    <tr style=\"text-align: right;\">\n",
       "      <th></th>\n",
       "      <th>alpha</th>\n",
       "      <th>ecological_strength</th>\n",
       "      <th>J</th>\n",
       "      <th>m</th>\n",
       "      <th>generation</th>\n",
       "      <th>speciation_prob</th>\n",
       "      <th>_lambda</th>\n",
       "    </tr>\n",
       "  </thead>\n",
       "  <tbody>\n",
       "    <tr>\n",
       "      <th>estimate</th>\n",
       "      <td>8242.342967</td>\n",
       "      <td>0.173906</td>\n",
       "      <td>1843.715556</td>\n",
       "      <td>0.001963</td>\n",
       "      <td>1533.258745</td>\n",
       "      <td>0.000792</td>\n",
       "      <td>0.917964</td>\n",
       "    </tr>\n",
       "    <tr>\n",
       "      <th>lower 0.025</th>\n",
       "      <td>5833.558169</td>\n",
       "      <td>0.001200</td>\n",
       "      <td>1109.928565</td>\n",
       "      <td>0.001030</td>\n",
       "      <td>840.199992</td>\n",
       "      <td>0.000510</td>\n",
       "      <td>0.841178</td>\n",
       "    </tr>\n",
       "    <tr>\n",
       "      <th>upper 0.975</th>\n",
       "      <td>9857.847425</td>\n",
       "      <td>0.876852</td>\n",
       "      <td>3904.230272</td>\n",
       "      <td>0.004919</td>\n",
       "      <td>2330.546979</td>\n",
       "      <td>0.001470</td>\n",
       "      <td>0.984821</td>\n",
       "    </tr>\n",
       "  </tbody>\n",
       "</table>\n",
       "</div>"
      ],
      "text/plain": [
       "                   alpha  ecological_strength            J         m  \\\n",
       "estimate     8242.342967             0.173906  1843.715556  0.001963   \n",
       "lower 0.025  5833.558169             0.001200  1109.928565  0.001030   \n",
       "upper 0.975  9857.847425             0.876852  3904.230272  0.004919   \n",
       "\n",
       "              generation  speciation_prob   _lambda  \n",
       "estimate     1533.258745         0.000792  0.917964  \n",
       "lower 0.025   840.199992         0.000510  0.841178  \n",
       "upper 0.975  2330.546979         0.001470  0.984821  "
      ]
     },
     "metadata": {},
     "output_type": "display_data"
    }
   ],
   "source": [
    "rgr_preds = OrderedDict()\n",
    "\n",
    "for name, n in emp_coms.items():\n",
    "    print(name)\n",
    "    synthetic_df = MESS.util.synthetic_community(nspecies=n)\n",
    "    ## Have to include the fake metacommunity_traits here so all the trait\n",
    "    ## stats will be calculated, to take the same form as the simulations.\n",
    "    rgr.set_data(empirical_df=synthetic_df, metacommunity_traits=synthetic_df[\"trait\"]*2)\n",
    "    rgr_pred = rgr.predict()\n",
    "    rgr_preds[name] = rgr_pred\n",
    "    display(rgr_pred)\n"
   ]
  },
  {
   "cell_type": "markdown",
   "metadata": {},
   "source": [
    "## Figure out how to do the gd plot"
   ]
  },
  {
   "cell_type": "code",
   "execution_count": 217,
   "metadata": {},
   "outputs": [
    {
     "data": {
      "image/png": "[encoded data removed]",
      "text/plain": [
       "<Figure size 1080x720 with 16 Axes>"
      ]
     },
     "metadata": {
      "needs_background": "light"
     },
     "output_type": "display_data"
    }
   ],
   "source": [
    "## Minus 1 because we don't do pairwise comparisons within parameters\n",
    "## Real data\n",
    "n_targets = len(rgr_preds[rgr_preds.keys()[0]].columns) - 1\n",
    "targets = rgr.targets\n",
    "\n",
    "## Probably used for the manu\n",
    "targets = [\"alpha\", \"ecological_strength\", \"m\", \"speciation_prob\", \"_lambda\"]\n",
    "n_targets = len(targets) - 1\n",
    "\n",
    "## Small for testing\n",
    "#n_targets=3\n",
    "#targets = [\"alpha\", \"ecological_strength\", \"J\", \"m\"]\n",
    "\n",
    "offset = 1\n",
    "colors = cmap=plt.get_cmap(\"Accent\").colors[offset:len(rgr_preds)+offset]\n",
    "\n",
    "fig, axs = plt.subplots(n_targets, n_targets, figsize=(15, 10))#, sharey=True)\n",
    "for ridx, t1 in enumerate(targets[:-1]):\n",
    "    \n",
    "    axs[ridx][0].set_ylabel(\"{}\".format(t1))\n",
    "\n",
    "    ## Hide the ticks, labels, and spines of the axes we aren't plotting to.\n",
    "    ## There's probably a cleaner way to do this. We could use ax.axis('off'),\n",
    "    ## but the problem is we want to retain the ylabel, so we have to shut off\n",
    "    ## everything but the ylabel by hand.\n",
    "    for cidx, _ in enumerate(targets[:ridx]):\n",
    "        ##print(\"Hide axis: {} {}\".format(ridx, cidx))\n",
    "        axs[ridx][cidx].set_yticklabels([])\n",
    "        axs[ridx][cidx].set_xticklabels([])\n",
    "        axs[ridx][cidx].tick_params(top='off', bottom='off', left='off', right='off')\n",
    "        axs[ridx][cidx].spines['right'].set_visible(False)\n",
    "        axs[ridx][cidx].spines['top'].set_visible(False)\n",
    "        axs[ridx][cidx].spines['bottom'].set_visible(False)\n",
    "        axs[ridx][cidx].spines['left'].set_visible(False)\n",
    "\n",
    "    for cidx, t2 in enumerate(targets[ridx+1:]):\n",
    "        if ridx == 0:\n",
    "            axs[ridx][cidx+ridx].set_title(\"{}\".format(t2))\n",
    "\n",
    "        ## Error bars are not absolute values they are +/- wrt to the xy coord\n",
    "        x = np.array([rgr_preds[v][t2][\"estimate\"] for v in rgr_preds])\n",
    "        y = np.array([rgr_preds[v][t1][\"estimate\"] for v in rgr_preds])\n",
    "        x_low = x - np.array([rgr_preds[v][t2][\"lower 0.025\"] for v in rgr_preds])\n",
    "        x_high = np.array([rgr_preds[v][t2][\"upper 0.975\"] for v in rgr_preds]) - x\n",
    "        y_low = y - np.array([rgr_preds[v][t1][\"lower 0.025\"] for v in rgr_preds])\n",
    "        y_high = np.array([rgr_preds[v][t1][\"upper 0.975\"] for v in rgr_preds]) - y\n",
    "        axs[ridx][cidx+ridx].errorbar(x, y, yerr=[y_low, y_high], xerr=[x_low, x_high], color='black',\\\n",
    "                                      ecolor=colors, fmt='.', linewidth=3, alpha=.75)\n",
    "        axs[ridx][cidx+ridx].scatter(x, y, color=colors, marker='o')\n",
    "\n",
    "import matplotlib.patches as mpatches\n",
    "patches = [mpatches.Patch(color=colors[x], label=rgr_preds.keys()[x]) for x in range(len(rgr_preds))]\n",
    "axs[-1][0].legend(handles=patches, loc='lower left')\n",
    "plt.tight_layout()\n"
   ]
  }
 ],
 "metadata": {
  "kernelspec": {
   "display_name": "Python 2",
   "language": "python",
   "name": "python2"
  },
  "language_info": {
   "codemirror_mode": {
    "name": "ipython",
    "version": 2
   },
   "file_extension": ".py",
   "mimetype": "text/x-python",
   "name": "python",
   "nbconvert_exporter": "python",
   "pygments_lexer": "ipython2",
   "version": "2.7.15"
  }
 },
 "nbformat": 4,
 "nbformat_minor": 2
}
