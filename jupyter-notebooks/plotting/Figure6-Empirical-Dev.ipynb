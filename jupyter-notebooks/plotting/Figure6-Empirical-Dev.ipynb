{
 "cells": [
  {
   "cell_type": "code",
   "execution_count": 2,
   "metadata": {},
   "outputs": [
    {
     "name": "stdout",
     "output_type": "stream",
     "text": [
      "The autoreload extension is already loaded. To reload it, use:\n",
      "  %reload_ext autoreload\n"
     ]
    }
   ],
   "source": [
    "%load_ext autoreload\n",
    "%autoreload 2\n",
    "%matplotlib inline\n",
    "from IPython.display import display\n",
    "from collections import OrderedDict\n",
    "\n",
    "import ipyparallel as ipp\n",
    "import matplotlib.pyplot as plt\n",
    "import numpy as np\n",
    "import os\n",
    "import pandas as pd\n",
    "\n",
    "import MESS"
   ]
  },
  {
   "cell_type": "markdown",
   "metadata": {},
   "source": [
    "## Load up the trained  RF Classifier and Regressor"
   ]
  },
  {
   "cell_type": "code",
   "execution_count": 6,
   "metadata": {},
   "outputs": [
    {
     "name": "stdout",
     "output_type": "stream",
     "text": [
      "              precision    recall  f1-score   support\n",
      "\n",
      " competition       0.83      0.78      0.81      2657\n",
      "   filtering       0.78      0.74      0.76      2868\n",
      "     neutral       0.80      0.89      0.85      2903\n",
      "\n",
      "   micro avg       0.81      0.81      0.81      8428\n",
      "   macro avg       0.81      0.81      0.80      8428\n",
      "weighted avg       0.81      0.81      0.80      8428\n",
      "\n"
     ]
    }
   ],
   "source": [
    "trained_cla = \"/home/iovercast/Continuosity/MESS/analysis/figure5-sims/cv_classify_results/rf.mdl\"\n",
    "cla = MESS.inference.Ensemble.load(infile=trained_cla)\n",
    "print(cla.classification_report)"
   ]
  },
  {
   "cell_type": "markdown",
   "metadata": {},
   "source": [
    "## We're gonna work up the empirical figure using simulated data.\n"
   ]
  },
  {
   "cell_type": "code",
   "execution_count": 19,
   "metadata": {},
   "outputs": [
    {
     "name": "stdout",
     "output_type": "stream",
     "text": [
      "                   competition  filtering   neutral\n",
      "Mauritius_weevils     0.019583   0.143750  0.836667\n",
      "Trees_1               0.022917   0.184583  0.792500\n",
      "Trees_2               0.040000   0.192500  0.767500\n",
      "Reunion_spiders       0.020000   0.108750  0.871250\n",
      "Reunion_weevils       0.085833   0.144583  0.769583\n"
     ]
    }
   ],
   "source": [
    "cla_preds_df = pd.DataFrame()\n",
    "emp_coms = OrderedDict({\"Mauritius_weevils\":12, \"Reunion_weevils\":13, \"Reunion_spiders\":50, \"Trees_1\":52, \"Trees_2\":47})\n",
    "for name, n in emp_coms.items():\n",
    "    synthetic_df = MESS.util.synthetic_community(nspecies=n)\n",
    "    ## Have to include the fake metacommunity_traits here so all the trait\n",
    "    ## stats will be calculated, to take the same form as the simulations.\n",
    "    cla.set_data(empirical_df=synthetic_df, metacommunity_traits=synthetic_df[\"trait\"]*2)\n",
    "    cla_pred = cla.predict()[1]\n",
    "    cla_pred.index = [name]\n",
    "    cla_preds_df = pd.concat([cla_preds_df, cla_pred])\n",
    "print(cla_preds_df)"
   ]
  },
  {
   "cell_type": "markdown",
   "metadata": {},
   "source": [
    "## Plot classification probabilities"
   ]
  },
  {
   "cell_type": "code",
   "execution_count": 25,
   "metadata": {},
   "outputs": [
    {
     "data": {
      "text/plain": [
       "[None, None, None, None, None, None, None, None, None, None]"
      ]
     },
     "execution_count": 25,
     "metadata": {},
     "output_type": "execute_result"
    },
    {
     "data": {
      "image/png": "[encoded data removed]",
      "text/plain": [
       "<Figure size 432x288 with 1 Axes>"
      ]
     },
     "metadata": {
      "needs_background": "light"
     },
     "output_type": "display_data"
    }
   ],
   "source": [
    "ax = cla_preds_df.plot.bar(stacked=True, legend=False, color=['r', 'orange', 'b'])\n",
    "plt.setp(ax.get_xticklabels(), rotation=45, ha=\"right\",\n",
    "        rotation_mode=\"anchor\")"
   ]
  },
  {
   "cell_type": "markdown",
   "metadata": {},
   "source": [
    "## Load the regressor and estimate parameters\n",
    "Using the gb regressor here so we can get prediction intervals."
   ]
  },
  {
   "cell_type": "code",
   "execution_count": 48,
   "metadata": {},
   "outputs": [],
   "source": [
    "## Use the real models trained on tons of sims\n",
    "trained_rgr = \"/home/iovercast/Continuosity/MESS/analysis/figure5-sims/cv_predict_results/rfq/neutral.mdl\"\n",
    "rgr = MESS.inference.Ensemble.load(infile=trained_rgr)\n"
   ]
  },
  {
   "cell_type": "code",
   "execution_count": 146,
   "metadata": {
    "collapsed": true
   },
   "outputs": [
    {
     "name": "stdout",
     "output_type": "stream",
     "text": [
      "Selecting features:\n",
      "  alpha\t['abund_h1', 'abund_h2', 'abund_h3', 'abund_h4', 'mean_pi', 'std_pi', 'median_pi', 'iqr_pi', 'mean_dxys', 'std_dxys', 'skewness_dxys', 'median_dxys', 'iqr_dxys', 'kurtosis_local_traits', 'iqr_local_traits', 'iqr_regional_traits', 'reg_loc_iqr_trait_dif', 'abundance_dxy_cor', 'abundance_pi_cor', 'dxy_pi_cor']\n",
      "  ecological_strength\t[]\n",
      "  NB: No features found relevant for target ecological_strength\n",
      "      Fall back to using all parameters.\n",
      "  J\t['S', 'abund_h1', 'abund_h2', 'abund_h3', 'abund_h4', 'pi_h1', 'pi_h2', 'pi_h3', 'pi_h4', 'mean_dxys', 'std_dxys', 'median_dxys', 'iqr_dxys', 'trait_h1', 'trait_h2', 'trait_h3', 'trait_h4']\n",
      "  m\t['S', 'pi_h1', 'pi_h2', 'pi_h3', 'pi_h4', 'mean_dxys', 'std_dxys', 'skewness_dxys', 'median_dxys', 'iqr_dxys', 'trait_h1', 'iqr_local_traits', 'kurtosis_regional_traits', 'iqr_regional_traits', 'reg_loc_kurtosis_trait_dif', 'dxy_pi_cor', 'SGD_0', 'SGD_1']\n",
      "  generation\t['S', 'abund_h3', 'abund_h4', 'std_dxys', 'skewness_dxys', 'iqr_dxys', 'pi_trait_cor', 'SGD_0']\n",
      "  speciation_prob\t['S', 'abund_h1', 'mean_pi', 'std_pi', 'median_pi', 'iqr_pi', 'mean_dxys', 'std_dxys', 'skewness_dxys', 'kurtosis_dxys', 'median_dxys', 'iqr_dxys', 'trait_h1', 'iqr_local_traits', 'abundance_dxy_cor', 'SGD_0']\n",
      "  _lambda\t['abund_h2', 'abund_h3', 'abund_h4', 'skewness_dxys']\n",
      "All selected features: S abund_h1 abund_h2 abund_h3 abund_h4 pi_h1 pi_h2 pi_h3 pi_h4 mean_pi std_pi skewness_pi kurtosis_pi median_pi iqr_pi mean_dxys std_dxys skewness_dxys kurtosis_dxys median_dxys iqr_dxys trees trait_h1 trait_h2 trait_h3 trait_h4 mean_local_traits std_local_traits skewness_local_traits kurtosis_local_traits median_local_traits iqr_local_traits mean_regional_traits std_regional_traits skewness_regional_traits kurtosis_regional_traits median_regional_traits iqr_regional_traits reg_loc_mean_trait_dif reg_loc_std_trait_dif reg_loc_skewness_trait_dif reg_loc_kurtosis_trait_dif reg_loc_median_trait_dif reg_loc_iqr_trait_dif abundance_dxy_cor abundance_pi_cor abundance_trait_cor dxy_pi_cor dxy_trait_cor pi_trait_cor SGD_0 SGD_1 SGD_2 SGD_3 SGD_4 SGD_5 SGD_6 SGD_7 SGD_8 SGD_9\n",
      "Calculating prediction interval(s)\n"
     ]
    },
    {
     "ename": "AttributeError",
     "evalue": "'Regressor' object has no attribute 'cv_stats'",
     "output_type": "error",
     "traceback": [
      "\u001b[0;31m\u001b[0m",
      "\u001b[0;31mAttributeError\u001b[0mTraceback (most recent call last)",
      "\u001b[0;32m<ipython-input-146-25b9322fa607>\u001b[0m in \u001b[0;36m<module>\u001b[0;34m()\u001b[0m\n\u001b[1;32m      8\u001b[0m \u001b[0mrgr\u001b[0m\u001b[0;34m.\u001b[0m\u001b[0mpredict\u001b[0m\u001b[0;34m(\u001b[0m\u001b[0mselect_features\u001b[0m\u001b[0;34m=\u001b[0m\u001b[0mTrue\u001b[0m\u001b[0;34m,\u001b[0m \u001b[0mparam_search\u001b[0m\u001b[0;34m=\u001b[0m\u001b[0mFalse\u001b[0m\u001b[0;34m,\u001b[0m \u001b[0mquick\u001b[0m\u001b[0;34m=\u001b[0m\u001b[0mTrue\u001b[0m\u001b[0;34m,\u001b[0m \u001b[0mverbose\u001b[0m\u001b[0;34m=\u001b[0m\u001b[0mTrue\u001b[0m\u001b[0;34m)\u001b[0m\u001b[0;34m\u001b[0m\u001b[0m\n\u001b[1;32m      9\u001b[0m \u001b[0;34m\u001b[0m\u001b[0m\n\u001b[0;32m---> 10\u001b[0;31m \u001b[0mdisplay\u001b[0m\u001b[0;34m(\u001b[0m\u001b[0mrgr\u001b[0m\u001b[0;34m.\u001b[0m\u001b[0mcv_stats\u001b[0m\u001b[0;34m)\u001b[0m\u001b[0;34m\u001b[0m\u001b[0m\n\u001b[0m",
      "\u001b[0;31mAttributeError\u001b[0m: 'Regressor' object has no attribute 'cv_stats'"
     ]
    }
   ],
   "source": [
    "## Use a dummy rgr trained on toy data for testing\n",
    "\n",
    "## Create a fake toy community df\n",
    "synthetic_df = MESS.util.synthetic_community(nspecies=n)\n",
    "## Make the regressor\n",
    "rgr = MESS.inference.Regressor(empirical_df=synthetic_df, simfile=simfile, target_model=\"neutral\",\\\n",
    "                                metacommunity_traits=synthetic_df[\"trait\"]*2, algorithm=\"rfq\")\n",
    "## Train and predict\n",
    "rgr.predict(select_features=True, param_search=False, quick=True, verbose=True)"
   ]
  },
  {
   "cell_type": "code",
   "execution_count": 155,
   "metadata": {},
   "outputs": [
    {
     "data": {
      "text/html": [
       "<div>\n",
       "<style scoped>\n",
       "    .dataframe tbody tr th:only-of-type {\n",
       "        vertical-align: middle;\n",
       "    }\n",
       "\n",
       "    .dataframe tbody tr th {\n",
       "        vertical-align: top;\n",
       "    }\n",
       "\n",
       "    .dataframe thead th {\n",
       "        text-align: right;\n",
       "    }\n",
       "</style>\n",
       "<table border=\"1\" class=\"dataframe\">\n",
       "  <thead>\n",
       "    <tr style=\"text-align: right;\">\n",
       "      <th></th>\n",
       "      <th>alpha</th>\n",
       "      <th>ecological_strength</th>\n",
       "      <th>J</th>\n",
       "      <th>m</th>\n",
       "      <th>generation</th>\n",
       "      <th>speciation_prob</th>\n",
       "      <th>_lambda</th>\n",
       "    </tr>\n",
       "  </thead>\n",
       "  <tbody>\n",
       "    <tr>\n",
       "      <th>estimate</th>\n",
       "      <td>8556.1</td>\n",
       "      <td>0.400803</td>\n",
       "      <td>1795.9</td>\n",
       "      <td>0.002589</td>\n",
       "      <td>1529.1</td>\n",
       "      <td>0.000775</td>\n",
       "      <td>0.893966</td>\n",
       "    </tr>\n",
       "    <tr>\n",
       "      <th>lower 0.025</th>\n",
       "      <td>6047.0</td>\n",
       "      <td>0.006050</td>\n",
       "      <td>1476.0</td>\n",
       "      <td>0.001069</td>\n",
       "      <td>845.0</td>\n",
       "      <td>0.000510</td>\n",
       "      <td>0.857180</td>\n",
       "    </tr>\n",
       "    <tr>\n",
       "      <th>upper 0.975</th>\n",
       "      <td>9718.0</td>\n",
       "      <td>0.983400</td>\n",
       "      <td>3773.0</td>\n",
       "      <td>0.005060</td>\n",
       "      <td>1957.0</td>\n",
       "      <td>0.001479</td>\n",
       "      <td>0.984750</td>\n",
       "    </tr>\n",
       "  </tbody>\n",
       "</table>\n",
       "</div>"
      ],
      "text/plain": [
       "              alpha  ecological_strength       J         m  generation  \\\n",
       "estimate     8556.1             0.400803  1795.9  0.002589      1529.1   \n",
       "lower 0.025  6047.0             0.006050  1476.0  0.001069       845.0   \n",
       "upper 0.975  9718.0             0.983400  3773.0  0.005060      1957.0   \n",
       "\n",
       "             speciation_prob   _lambda  \n",
       "estimate            0.000775  0.893966  \n",
       "lower 0.025         0.000510  0.857180  \n",
       "upper 0.975         0.001479  0.984750  "
      ]
     },
     "metadata": {},
     "output_type": "display_data"
    },
    {
     "data": {
      "text/html": [
       "<div>\n",
       "<style scoped>\n",
       "    .dataframe tbody tr th:only-of-type {\n",
       "        vertical-align: middle;\n",
       "    }\n",
       "\n",
       "    .dataframe tbody tr th {\n",
       "        vertical-align: top;\n",
       "    }\n",
       "\n",
       "    .dataframe thead th {\n",
       "        text-align: right;\n",
       "    }\n",
       "</style>\n",
       "<table border=\"1\" class=\"dataframe\">\n",
       "  <thead>\n",
       "    <tr style=\"text-align: right;\">\n",
       "      <th></th>\n",
       "      <th>alpha</th>\n",
       "      <th>ecological_strength</th>\n",
       "      <th>J</th>\n",
       "      <th>m</th>\n",
       "      <th>generation</th>\n",
       "      <th>speciation_prob</th>\n",
       "      <th>_lambda</th>\n",
       "    </tr>\n",
       "  </thead>\n",
       "  <tbody>\n",
       "    <tr>\n",
       "      <th>estimate</th>\n",
       "      <td>7940.0</td>\n",
       "      <td>0.434292</td>\n",
       "      <td>4397.3</td>\n",
       "      <td>0.005241</td>\n",
       "      <td>845.1</td>\n",
       "      <td>0.001628</td>\n",
       "      <td>0.985249</td>\n",
       "    </tr>\n",
       "    <tr>\n",
       "      <th>lower 0.025</th>\n",
       "      <td>5577.0</td>\n",
       "      <td>0.001153</td>\n",
       "      <td>2555.0</td>\n",
       "      <td>0.002450</td>\n",
       "      <td>562.0</td>\n",
       "      <td>0.000640</td>\n",
       "      <td>0.951880</td>\n",
       "    </tr>\n",
       "    <tr>\n",
       "      <th>upper 0.975</th>\n",
       "      <td>9978.0</td>\n",
       "      <td>0.906110</td>\n",
       "      <td>6700.0</td>\n",
       "      <td>0.007020</td>\n",
       "      <td>1109.0</td>\n",
       "      <td>0.003760</td>\n",
       "      <td>0.997790</td>\n",
       "    </tr>\n",
       "  </tbody>\n",
       "</table>\n",
       "</div>"
      ],
      "text/plain": [
       "              alpha  ecological_strength       J         m  generation  \\\n",
       "estimate     7940.0             0.434292  4397.3  0.005241       845.1   \n",
       "lower 0.025  5577.0             0.001153  2555.0  0.002450       562.0   \n",
       "upper 0.975  9978.0             0.906110  6700.0  0.007020      1109.0   \n",
       "\n",
       "             speciation_prob   _lambda  \n",
       "estimate            0.001628  0.985249  \n",
       "lower 0.025         0.000640  0.951880  \n",
       "upper 0.975         0.003760  0.997790  "
      ]
     },
     "metadata": {},
     "output_type": "display_data"
    },
    {
     "data": {
      "text/html": [
       "<div>\n",
       "<style scoped>\n",
       "    .dataframe tbody tr th:only-of-type {\n",
       "        vertical-align: middle;\n",
       "    }\n",
       "\n",
       "    .dataframe tbody tr th {\n",
       "        vertical-align: top;\n",
       "    }\n",
       "\n",
       "    .dataframe thead th {\n",
       "        text-align: right;\n",
       "    }\n",
       "</style>\n",
       "<table border=\"1\" class=\"dataframe\">\n",
       "  <thead>\n",
       "    <tr style=\"text-align: right;\">\n",
       "      <th></th>\n",
       "      <th>alpha</th>\n",
       "      <th>ecological_strength</th>\n",
       "      <th>J</th>\n",
       "      <th>m</th>\n",
       "      <th>generation</th>\n",
       "      <th>speciation_prob</th>\n",
       "      <th>_lambda</th>\n",
       "    </tr>\n",
       "  </thead>\n",
       "  <tbody>\n",
       "    <tr>\n",
       "      <th>estimate</th>\n",
       "      <td>8238.5</td>\n",
       "      <td>0.341416</td>\n",
       "      <td>4792.4</td>\n",
       "      <td>0.005137</td>\n",
       "      <td>888.3</td>\n",
       "      <td>0.001603</td>\n",
       "      <td>0.951415</td>\n",
       "    </tr>\n",
       "    <tr>\n",
       "      <th>lower 0.025</th>\n",
       "      <td>6475.0</td>\n",
       "      <td>0.001290</td>\n",
       "      <td>2358.0</td>\n",
       "      <td>0.002780</td>\n",
       "      <td>562.0</td>\n",
       "      <td>0.000760</td>\n",
       "      <td>0.923010</td>\n",
       "    </tr>\n",
       "    <tr>\n",
       "      <th>upper 0.975</th>\n",
       "      <td>9903.0</td>\n",
       "      <td>0.906110</td>\n",
       "      <td>8832.0</td>\n",
       "      <td>0.006900</td>\n",
       "      <td>1326.0</td>\n",
       "      <td>0.003760</td>\n",
       "      <td>0.970540</td>\n",
       "    </tr>\n",
       "  </tbody>\n",
       "</table>\n",
       "</div>"
      ],
      "text/plain": [
       "              alpha  ecological_strength       J         m  generation  \\\n",
       "estimate     8238.5             0.341416  4792.4  0.005137       888.3   \n",
       "lower 0.025  6475.0             0.001290  2358.0  0.002780       562.0   \n",
       "upper 0.975  9903.0             0.906110  8832.0  0.006900      1326.0   \n",
       "\n",
       "             speciation_prob   _lambda  \n",
       "estimate            0.001603  0.951415  \n",
       "lower 0.025         0.000760  0.923010  \n",
       "upper 0.975         0.003760  0.970540  "
      ]
     },
     "metadata": {},
     "output_type": "display_data"
    },
    {
     "data": {
      "text/html": [
       "<div>\n",
       "<style scoped>\n",
       "    .dataframe tbody tr th:only-of-type {\n",
       "        vertical-align: middle;\n",
       "    }\n",
       "\n",
       "    .dataframe tbody tr th {\n",
       "        vertical-align: top;\n",
       "    }\n",
       "\n",
       "    .dataframe thead th {\n",
       "        text-align: right;\n",
       "    }\n",
       "</style>\n",
       "<table border=\"1\" class=\"dataframe\">\n",
       "  <thead>\n",
       "    <tr style=\"text-align: right;\">\n",
       "      <th></th>\n",
       "      <th>alpha</th>\n",
       "      <th>ecological_strength</th>\n",
       "      <th>J</th>\n",
       "      <th>m</th>\n",
       "      <th>generation</th>\n",
       "      <th>speciation_prob</th>\n",
       "      <th>_lambda</th>\n",
       "    </tr>\n",
       "  </thead>\n",
       "  <tbody>\n",
       "    <tr>\n",
       "      <th>estimate</th>\n",
       "      <td>8747.4</td>\n",
       "      <td>0.266052</td>\n",
       "      <td>4957.9</td>\n",
       "      <td>0.006382</td>\n",
       "      <td>871.9</td>\n",
       "      <td>0.001492</td>\n",
       "      <td>0.984181</td>\n",
       "    </tr>\n",
       "    <tr>\n",
       "      <th>lower 0.025</th>\n",
       "      <td>5577.0</td>\n",
       "      <td>0.004760</td>\n",
       "      <td>2932.0</td>\n",
       "      <td>0.003450</td>\n",
       "      <td>562.0</td>\n",
       "      <td>0.000572</td>\n",
       "      <td>0.951880</td>\n",
       "    </tr>\n",
       "    <tr>\n",
       "      <th>upper 0.975</th>\n",
       "      <td>9978.0</td>\n",
       "      <td>0.944030</td>\n",
       "      <td>8832.0</td>\n",
       "      <td>0.007950</td>\n",
       "      <td>1053.0</td>\n",
       "      <td>0.003760</td>\n",
       "      <td>0.991960</td>\n",
       "    </tr>\n",
       "  </tbody>\n",
       "</table>\n",
       "</div>"
      ],
      "text/plain": [
       "              alpha  ecological_strength       J         m  generation  \\\n",
       "estimate     8747.4             0.266052  4957.9  0.006382       871.9   \n",
       "lower 0.025  5577.0             0.004760  2932.0  0.003450       562.0   \n",
       "upper 0.975  9978.0             0.944030  8832.0  0.007950      1053.0   \n",
       "\n",
       "             speciation_prob   _lambda  \n",
       "estimate            0.001492  0.984181  \n",
       "lower 0.025         0.000572  0.951880  \n",
       "upper 0.975         0.003760  0.991960  "
      ]
     },
     "metadata": {},
     "output_type": "display_data"
    },
    {
     "data": {
      "text/html": [
       "<div>\n",
       "<style scoped>\n",
       "    .dataframe tbody tr th:only-of-type {\n",
       "        vertical-align: middle;\n",
       "    }\n",
       "\n",
       "    .dataframe tbody tr th {\n",
       "        vertical-align: top;\n",
       "    }\n",
       "\n",
       "    .dataframe thead th {\n",
       "        text-align: right;\n",
       "    }\n",
       "</style>\n",
       "<table border=\"1\" class=\"dataframe\">\n",
       "  <thead>\n",
       "    <tr style=\"text-align: right;\">\n",
       "      <th></th>\n",
       "      <th>alpha</th>\n",
       "      <th>ecological_strength</th>\n",
       "      <th>J</th>\n",
       "      <th>m</th>\n",
       "      <th>generation</th>\n",
       "      <th>speciation_prob</th>\n",
       "      <th>_lambda</th>\n",
       "    </tr>\n",
       "  </thead>\n",
       "  <tbody>\n",
       "    <tr>\n",
       "      <th>estimate</th>\n",
       "      <td>8276.7</td>\n",
       "      <td>0.325434</td>\n",
       "      <td>1910.0</td>\n",
       "      <td>0.001705</td>\n",
       "      <td>1433.2</td>\n",
       "      <td>0.00083</td>\n",
       "      <td>0.886596</td>\n",
       "    </tr>\n",
       "    <tr>\n",
       "      <th>lower 0.025</th>\n",
       "      <td>5577.0</td>\n",
       "      <td>0.001290</td>\n",
       "      <td>1409.0</td>\n",
       "      <td>0.001021</td>\n",
       "      <td>839.0</td>\n",
       "      <td>0.00051</td>\n",
       "      <td>0.814390</td>\n",
       "    </tr>\n",
       "    <tr>\n",
       "      <th>upper 0.975</th>\n",
       "      <td>9995.0</td>\n",
       "      <td>0.987380</td>\n",
       "      <td>3773.0</td>\n",
       "      <td>0.002515</td>\n",
       "      <td>1957.0</td>\n",
       "      <td>0.00156</td>\n",
       "      <td>0.930120</td>\n",
       "    </tr>\n",
       "  </tbody>\n",
       "</table>\n",
       "</div>"
      ],
      "text/plain": [
       "              alpha  ecological_strength       J         m  generation  \\\n",
       "estimate     8276.7             0.325434  1910.0  0.001705      1433.2   \n",
       "lower 0.025  5577.0             0.001290  1409.0  0.001021       839.0   \n",
       "upper 0.975  9995.0             0.987380  3773.0  0.002515      1957.0   \n",
       "\n",
       "             speciation_prob   _lambda  \n",
       "estimate             0.00083  0.886596  \n",
       "lower 0.025          0.00051  0.814390  \n",
       "upper 0.975          0.00156  0.930120  "
      ]
     },
     "metadata": {},
     "output_type": "display_data"
    },
    {
     "data": {
      "text/plain": [
       "[None, None, None, None, None]"
      ]
     },
     "execution_count": 155,
     "metadata": {},
     "output_type": "execute_result"
    }
   ],
   "source": [
    "rgr_preds = OrderedDict()\n",
    "\n",
    "for name, n in emp_coms.items():\n",
    "    synthetic_df = MESS.util.synthetic_community(nspecies=n)\n",
    "    ## Have to include the fake metacommunity_traits here so all the trait\n",
    "    ## stats will be calculated, to take the same form as the simulations.\n",
    "    rgr.set_data(empirical_df=synthetic_df, metacommunity_traits=synthetic_df[\"trait\"]*2)\n",
    "    rgr_pred = rgr.predict()\n",
    "    rgr_preds[name] = rgr_pred\n",
    "[display(x) for x in rgr_preds.values()]"
   ]
  },
  {
   "cell_type": "code",
   "execution_count": 144,
   "metadata": {},
   "outputs": [
    {
     "name": "stdout",
     "output_type": "stream",
     "text": [
      "Selecting features:\n",
      "  alpha\t['abund_h1', 'mean_pi', 'std_pi', 'iqr_pi', 'std_dxys', 'skewness_dxys', 'iqr_dxys', 'kurtosis_local_traits', 'reg_loc_kurtosis_trait_dif', 'reg_loc_iqr_trait_dif', 'abundance_dxy_cor', 'abundance_pi_cor']\n",
      "  J\t['S', 'abund_h1', 'abund_h2', 'abund_h3', 'abund_h4', 'pi_h1', 'mean_dxys', 'std_dxys', 'median_dxys', 'iqr_dxys', 'trait_h4']\n",
      "All selected features: S abund_h1 abund_h2 abund_h3 abund_h4 pi_h1 mean_pi std_pi iqr_pi mean_dxys std_dxys skewness_dxys median_dxys iqr_dxys trait_h4 kurtosis_local_traits reg_loc_kurtosis_trait_dif reg_loc_iqr_trait_dif abundance_dxy_cor abundance_pi_cor\n",
      "Calculating prediction interval(s)\n",
      "\talpha\n",
      "\tJ\n"
     ]
    },
    {
     "data": {
      "text/html": [
       "<div>\n",
       "<style scoped>\n",
       "    .dataframe tbody tr th:only-of-type {\n",
       "        vertical-align: middle;\n",
       "    }\n",
       "\n",
       "    .dataframe tbody tr th {\n",
       "        vertical-align: top;\n",
       "    }\n",
       "\n",
       "    .dataframe thead th {\n",
       "        text-align: right;\n",
       "    }\n",
       "</style>\n",
       "<table border=\"1\" class=\"dataframe\">\n",
       "  <thead>\n",
       "    <tr style=\"text-align: right;\">\n",
       "      <th></th>\n",
       "      <th>alpha</th>\n",
       "      <th>J</th>\n",
       "    </tr>\n",
       "  </thead>\n",
       "  <tbody>\n",
       "    <tr>\n",
       "      <th>estimate</th>\n",
       "      <td>8461.499631</td>\n",
       "      <td>2662.793054</td>\n",
       "    </tr>\n",
       "    <tr>\n",
       "      <th>lower 0.025</th>\n",
       "      <td>4266.849320</td>\n",
       "      <td>1218.811856</td>\n",
       "    </tr>\n",
       "    <tr>\n",
       "      <th>upper 0.975</th>\n",
       "      <td>9977.993652</td>\n",
       "      <td>7496.388836</td>\n",
       "    </tr>\n",
       "  </tbody>\n",
       "</table>\n",
       "</div>"
      ],
      "text/plain": [
       "                   alpha            J\n",
       "estimate     8461.499631  2662.793054\n",
       "lower 0.025  4266.849320  1218.811856\n",
       "upper 0.975  9977.993652  7496.388836"
      ]
     },
     "execution_count": 144,
     "metadata": {},
     "output_type": "execute_result"
    }
   ],
   "source": [
    "simfile = \"/home/iovercast/Continuosity/MESS/analysis/figure5-sims/fig5_sims/SIMOUT.txt\"\n",
    "rgrt = MESS.inference.Regressor(empirical_df=synthetic_df, simfile=simfile, target_model=\"neutral\",\\\n",
    "                                metacommunity_traits=synthetic_df[\"trait\"]*2, algorithm=\"gb\")\n",
    "rgrt.predict(select_features=True, param_search=False, quick=True, verbose=True)"
   ]
  }
 ],
 "metadata": {
  "kernelspec": {
   "display_name": "Python 2",
   "language": "python",
   "name": "python2"
  },
  "language_info": {
   "codemirror_mode": {
    "name": "ipython",
    "version": 2
   },
   "file_extension": ".py",
   "mimetype": "text/x-python",
   "name": "python",
   "nbconvert_exporter": "python",
   "pygments_lexer": "ipython2",
   "version": "2.7.15"
  }
 },
 "nbformat": 4,
 "nbformat_minor": 2
}
